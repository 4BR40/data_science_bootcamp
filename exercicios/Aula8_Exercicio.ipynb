{
 "cells": [
  {
   "cell_type": "markdown",
   "metadata": {},
   "source": [
    "# Aula 8 - Exercícios - Webscrapy\n",
    "### Consulta a internet (Google, Stackoverflow e etc) liberada!!"
   ]
  },
  {
   "cell_type": "markdown",
   "metadata": {},
   "source": [
    "### 8.1 Usando uma IDE de desenvolvimento python (como o Pycharm) desenvolva um script de webscrapy para coletar os dados de uma busca no google. \n",
    "#### Busque por \".gov.br\" inurl:play.google.com. \n",
    "#### Colete os dados apenas da 1a página de resultados.\n",
    "#### Colete os dados do nome do aplicativo (que aparece antes da frase Apps no Google Play), a URL do aplicativo, a sua nota e a quantidade de votos.\n",
    "#### Gere uma lista de dicionários como resultado.\n",
    "#### Depois de testar seu script numa IDE, cole-o na célula deste exercício logo abaixo."
   ]
  },
  {
   "cell_type": "code",
   "execution_count": null,
   "metadata": {
    "nbgrader": {
     "grade": true,
     "grade_id": "cell-1020a0ea4e691a14",
     "locked": false,
     "points": 1,
     "schema_version": 3,
     "solution": true,
     "task": false
    }
   },
   "outputs": [],
   "source": [
    "# Responda aqui\n"
   ]
  }
 ],
 "metadata": {
  "celltoolbar": "Create Assignment",
  "kernelspec": {
   "display_name": "Python 3",
   "language": "python",
   "name": "python3"
  },
  "language_info": {
   "codemirror_mode": {
    "name": "ipython",
    "version": 3
   },
   "file_extension": ".py",
   "mimetype": "text/x-python",
   "name": "python",
   "nbconvert_exporter": "python",
   "pygments_lexer": "ipython3",
   "version": "3.8.5"
  },
  "name": "_merged"
 },
 "nbformat": 4,
 "nbformat_minor": 4
}
