{
 "cells": [
  {
   "cell_type": "markdown",
   "metadata": {},
   "source": [
    "# Aula 4 - Exercícios - Pandas, Fontes de dados e Agregação\n",
    "### Consulta a internet (Google, Stackoverflow e etc) liberada!!"
   ]
  },
  {
   "cell_type": "code",
   "execution_count": null,
   "metadata": {},
   "outputs": [],
   "source": [
    "## Fazer o download dos datasets\n",
    "# Se já tiver feito o download, não precisa fazer novamente.\n",
    "# Se aparecer um erro dizendo que a pasta não está vazia é porque o download já foi feito\n",
    "!git clone https://github.com/alexlopespereira/curso_ciencia_dados2020.git ../../curso_ciencia_dados2020"
   ]
  },
  {
   "cell_type": "code",
   "execution_count": null,
   "metadata": {},
   "outputs": [],
   "source": [
    "# Importe as bibliotecas pandas, numpy, glob e sqlalchemy\n",
    "import pandas as pd\n",
    "import numpy as np\n",
    "import glob\n",
    "import sqlalchemy as sqla"
   ]
  },
  {
   "cell_type": "markdown",
   "metadata": {},
   "source": [
    "### 4.1 Carregue o arquivo do IDEB 2017 no formato de um DataFrame.  Crie uma função para calcular a média do IDEB de 2017 de todos os municípios de um determinado Estado. \n",
    "#### Remova os registros cujo valor na coluna REDE sejam Municipal, Estadual ou Federal. Deixe somente os registros cujos valores na coluna REDE sejam Pública.\n",
    "#### Na célula de testes, crie um dataframe com o nome `df_ideb`.  Use os argumentos `skiprows`, `na_values` e  `skipfooter` para carregar a tabela corretamente."
   ]
  },
  {
   "cell_type": "code",
   "execution_count": null,
   "metadata": {
    "nbgrader": {
     "grade": false,
     "grade_id": "cell-c705ab9d11473b9f9",
     "locked": false,
     "schema_version": 3,
     "solution": true,
     "task": false
    }
   },
   "outputs": [],
   "source": [
    "# Dica 1: Antes de calcular, certifique-se de interpretar os valores '-' como NA durante \n",
    "#         o carregamento dos dados ou os substitua por np.nan (NA) com o metodo replace.\n",
    "# Dica 2: Use a função loc para fazer o filtro de registros.\n",
    "# Dica 3: Dentre várias maneiras possíveis, uma maneira bastante concisa é usar o operador & (and) para\n",
    "#         congregar dois critérios de filtro (seleção) de registros.\n",
    "\n",
    "def media_ideb(df, sigla_estado):\n",
    "    \"\"\"retorne o valor da media do IDEB de 2017 contido na coluna col do Estado especificado por sigla_estado.\n",
    "    \"\"\"\n",
    "    ### BEGIN SOLUTION\n",
    "\n",
    "    ### END SOLUTION"
   ]
  },
  {
   "cell_type": "code",
   "execution_count": null,
   "metadata": {},
   "outputs": [],
   "source": [
    "## Faça seus testes aqui\n",
    "\n",
    "# path_ideb='https://github.com/alexlopespereira/curso_ciencia_dados2020/raw/master/data/originais/ideb/ideb_municipios2017.xlsx'\n",
    "path_ideb='../../curso_ciencia_dados2020/data/originais/ideb/ideb_municipios2017.xlsx'\n",
    "\n",
    "## Para que a validação na célula seguinte funcione, é preciso criar o dataframe chamado `df_ideb`\n",
    "df_ideb = \n"
   ]
  },
  {
   "cell_type": "code",
   "execution_count": null,
   "metadata": {
    "nbgrader": {
     "grade": true,
     "grade_id": "cell-9ffdsa88d58e9282a",
     "locked": true,
     "points": 1,
     "schema_version": 3,
     "solution": false,
     "task": false
    },
    "scrolled": false
   },
   "outputs": [],
   "source": [
    "# Validação\n",
    "\n",
    "###################################################\n",
    "###       ATENÇÃO PARA ESTA INSTRUÇÃO           ###\n",
    "# Crie na célula anterior o dataframe df_ideb.    #\n",
    "# Use os argumentos skiprows, na_values e         #\n",
    "# skipfooter para carregar a tabela corretamente. #\n",
    "###################################################\n",
    "\n",
    "assert round(media_ideb(df_ideb, 'DF'),1) == 3.4\n",
    "assert round(media_ideb(df_ideb, 'SP'),1) == 4.0\n",
    "assert round(media_ideb(df_ideb, 'GO'),1) == 4.2"
   ]
  },
  {
   "cell_type": "markdown",
   "metadata": {},
   "source": [
    "### 4.2 Escreva uma função para salvar um DataFrame num banco de dados SQLite  "
   ]
  },
  {
   "cell_type": "code",
   "execution_count": null,
   "metadata": {
    "nbgrader": {
     "grade": false,
     "grade_id": "cell-553qe5248eb14bc30",
     "locked": false,
     "schema_version": 3,
     "solution": true,
     "task": false
    }
   },
   "outputs": [],
   "source": [
    "# Dica 1: A resolução deste exercício é bem semelhante ao código apresentado na Aula\n",
    "# Dica 2: Antes de salvar no banco de dados, defina o nome do índice como index. Conforme exemplo abaixo:\n",
    "#         df_idhm.index.names = ['index']\n",
    "\n",
    "def save_to_sqlite(df, table_name, con_str):\n",
    "    \"\"\"salve o dataframe df num banco de dados sqlite especificado por db_path\n",
    "    \"\"\"\n",
    "    ### BEGIN SOLUTION\n",
    "\n",
    "    ### END SOLUTION"
   ]
  },
  {
   "cell_type": "code",
   "execution_count": null,
   "metadata": {
    "scrolled": false
   },
   "outputs": [],
   "source": [
    "## Faça seus testes aqui\n",
    "\n",
    "# path_idhm = 'https://github.com/alexlopespereira/curso_ciencia_dados2020/raw/master/data/originais/idhm/idhm2013.xlsx'\n",
    "path_idhm='../../curso_ciencia_dados2020/data/originais/idhm/idhm2013.xlsx'\n"
   ]
  },
  {
   "cell_type": "code",
   "execution_count": null,
   "metadata": {
    "nbgrader": {
     "grade": true,
     "grade_id": "cell-0e2bh6cefe06bdc60",
     "locked": true,
     "points": 1,
     "schema_version": 3,
     "solution": false,
     "task": false
    }
   },
   "outputs": [],
   "source": [
    "# Validação\n",
    "def load_table(table, con_str):\n",
    "    con = sqla.create_engine(con_str)\n",
    "    return pd.read_sql_query(\"SELECT * from {0}\".format(table), con, index_col='index')\n",
    "    \n",
    "path_idhm='https://github.com/alexlopespereira/curso_ciencia_dados2020/raw/master/data/originais/idhm/idhm2013.xlsx'\n",
    "con_str='sqlite:///idhm2013.sqlite'\n",
    "table_name='IDHM'\n",
    "df_idhm = pd.read_excel(path_idhm, sheet_name=\"IDHM\")\n",
    "\n",
    "df_idhm.index.names = ['index']\n",
    "save_to_sqlite(df_idhm, table_name, con_str) # Função que deve ser implementada pelo aluno\n",
    "idhm_from_db = load_table(table_name, con_str)\n",
    "\n",
    "assert idhm_from_db.equals(df_idhm)"
   ]
  },
  {
   "cell_type": "markdown",
   "metadata": {},
   "source": [
    "### 4.3 Escreva uma função executar uma query SQL de agregação num banco de dados SQLite que retorne a média dos valores de uma coluna `VALORES` agregados por uma coluna `CATEGORIAS`.\n",
    "#### Dê o apelido `Media` para a métrica `AVG` na sua query. Ou seja: `AVG(CATEGORIA) AS Media`\n",
    "#### Retorne a coluna `CATEGORIA` na tabela de resultados para identificar os valores. Ordene os resultados pelo valor da média em ordem decrescente.\n",
    "#### Exemplo: Calcule média do IDHM (`VALORES='IDHM'`) agregado por Ano da pesquisa (`CATEGORIAS='ANO'`)."
   ]
  },
  {
   "cell_type": "code",
   "execution_count": null,
   "metadata": {
    "nbgrader": {
     "grade": false,
     "grade_id": "cell-553e5248ebs14bc30",
     "locked": false,
     "schema_version": 3,
     "solution": true,
     "task": false
    }
   },
   "outputs": [],
   "source": [
    "# Dica: A resposta deste exercício é bem semelhante ao código mostrado na aula, porém você\n",
    "#       precisa parametrizar a string da query com os argumentos passados na função.\n",
    "def soma_com_agregacao(val, cat, table, con_str):\n",
    "    \"\"\"retorne um dataframe contendo a soma dos valores em val dentro das categorias cat da tabela table\n",
    "    \"\"\"\n",
    "    ### BEGIN SOLUTION\n",
    "\n",
    "    ### END SOLUTION"
   ]
  },
  {
   "cell_type": "code",
   "execution_count": null,
   "metadata": {},
   "outputs": [],
   "source": [
    "## Faça seus testes aqui\n",
    "\n",
    "# path_idhm = 'https://github.com/alexlopespereira/curso_ciencia_dados2020/raw/master/data/originais/idhm/idhm2013.xlsx'\n",
    "path_idhm='../../curso_ciencia_dados2020/data/originais/idhm/idhm2013.xlsx'\n"
   ]
  },
  {
   "cell_type": "code",
   "execution_count": null,
   "metadata": {
    "nbgrader": {
     "grade": true,
     "grade_id": "cell-0e2bt6cefe06bdc60",
     "locked": true,
     "points": 1,
     "schema_version": 3,
     "solution": false,
     "task": false
    },
    "scrolled": true
   },
   "outputs": [],
   "source": [
    "# Validação\n",
    "path_idhm='https://github.com/alexlopespereira/curso_ciencia_dados2020/raw/master/data/originais/idhm/idhm2013.xlsx'\n",
    "con_str='sqlite:///idhm2013.sqlite'\n",
    "con = sqla.create_engine(con_str)\n",
    "table_name='IDHM'\n",
    "df_idhm = pd.read_excel(path_idhm, sheet_name=\"IDHM\")\n",
    "df_idhm.index.names = ['index']\n",
    "df_idhm.to_sql(table_name, con, if_exists=\"replace\")\n",
    "test_data = {'ANO': {0: 2010, 1: 2000, 2: 1991}, 'Media': {0: 0.7, 1: 0.5, 2: 0.4}}\n",
    "df_agg = soma_com_agregacao('IDHM', 'ANO', table_name, con_str)\n",
    "df_agg['Media'] = df_agg['Media'].apply(lambda x: round(x, 1))\n",
    "assert df_agg.to_dict() == test_data"
   ]
  },
  {
   "cell_type": "markdown",
   "metadata": {},
   "source": [
    "### 4.4 Escreva uma função para fazer o merge dos dataframes de população e de PIB de 2017. A função deve receber como parâmetro o caminho para cada um dos dataframes."
   ]
  },
  {
   "cell_type": "code",
   "execution_count": null,
   "metadata": {
    "nbgrader": {
     "grade": false,
     "grade_id": "cell-553em5248eb14bc30",
     "locked": false,
     "schema_version": 3,
     "solution": true,
     "task": false
    }
   },
   "outputs": [],
   "source": [
    "# Dica 1: A coluna que contem o código IBGE do município deve ter o mesmo formato (string) e a mesma\n",
    "#         quantidade de caracteres nas duas tabelas.\n",
    "# Dica 2: Converta o codigo do município para string ao carregar o dataframe de população utilizando\n",
    "#         o mapeamento de tipos dtype={'cod_munic': str, 'cod_uf': str}. Assim o codigo do municipio não perde\n",
    "#         os zeros a esquerda.\n",
    "# Dica 3: Concatene o codigo da UF com o código do município usando o operador + e salve em outra coluna.\n",
    "# Dica 4: Use o código apresentado na aula para carregar o dataframe do PIB de 2017, especifique o dtype da\n",
    "#         coluna que contém o codigo do municipio.\n",
    "# Dica 5: Renomeie as colunas apropriadamente antes de fazer o merge. A coluna com o nome do municipio deve se chamar\n",
    "#         municipio (sem acento) e a coluna com o codigo ibge de 7 caracteres cod_ibge7. Veja o exemplo:\n",
    "#         {'Unnamed: 0': 'nivel', 'Unnamed: 1': 'cod_ibge7', 'Unnamed: 2': 'municipio'}. O pandas transformará essas\n",
    "#         colunas em municipio_x e municipio_y. Mantenha esses dois nomes de coluna, pois eles serão usados no exercício\n",
    "#         3.7.\n",
    "# Dica 6: Depois que os dois dataframes tiverem o codigo ibge (com valores equivalentes\n",
    "#         e mesmo tipo de dados) você pode fazer o merge.\n",
    "\n",
    "def merge_pop_pib(path_pop, path_pib):\n",
    "    \"\"\"retorne um dataframe resultante do merge dos dados do pib e da população\n",
    "    \"\"\"\n",
    "    ### BEGIN SOLUTION\n",
    "\n",
    "    ### END SOLUTION"
   ]
  },
  {
   "cell_type": "code",
   "execution_count": null,
   "metadata": {},
   "outputs": [],
   "source": [
    "## Faça seus testes aqui\n",
    "# path_pib = 'https://github.com/alexlopespereira/curso_ciencia_dados2020/raw/master/data/originais/pib/pib_municipios.xlsx'\n",
    "# path_pop = 'https://github.com/alexlopespereira/curso_ciencia_dados2020/raw/master/data/originais/populacao/estimativa_dou_2017.xlsx'\n",
    "path_pib = '../../curso_ciencia_dados2020/data/originais/pib/pib_municipios.xlsx'\n",
    "path_pop='../../curso_ciencia_dados2020/data/originais/populacao/estimativa_dou_2017.xlsx'\n"
   ]
  },
  {
   "cell_type": "code",
   "execution_count": null,
   "metadata": {
    "nbgrader": {
     "grade": true,
     "grade_id": "cell-0se2b6cefe06bdc60",
     "locked": true,
     "points": 1,
     "schema_version": 3,
     "solution": false,
     "task": false
    }
   },
   "outputs": [],
   "source": [
    "# Validação\n",
    "path_pib = 'https://github.com/alexlopespereira/curso_ciencia_dados2020/raw/master/data/originais/pib/pib_municipios.xlsx'\n",
    "path_pop = 'https://github.com/alexlopespereira/curso_ciencia_dados2020/raw/master/data/originais/populacao/estimativa_dou_2017.xlsx'\n",
    "\n",
    "test_merge = {'pop2017': 25437, '2017': 498864}\n",
    "df_pib_pop = merge_pop_pib(path_pop, path_pib)\n",
    "assert df_pib_pop.loc[0,['pop2017', '2017']].to_dict() == test_merge "
   ]
  },
  {
   "cell_type": "markdown",
   "metadata": {},
   "source": [
    "### 4.5 Escreva uma função para calcular o PIB percapita de cada município do Brasil, considerando o dataframe do exercício anterior.\n",
    "#### Nomeie a coluna do PIB Percapita com `pib_percapita`"
   ]
  },
  {
   "cell_type": "code",
   "execution_count": null,
   "metadata": {
    "nbgrader": {
     "grade": false,
     "grade_id": "cell-553e524r8eb14bc30",
     "locked": false,
     "schema_version": 3,
     "solution": true,
     "task": false
    }
   },
   "outputs": [],
   "source": [
    "def pib_percapita(pib_pop):\n",
    "    \"\"\"retorne retorne um dataframe contendo o codigo ibge de 7 caracteres,\n",
    "       o nome do municipio e seu PIB percapita.\n",
    "    \"\"\"\n",
    "    ### BEGIN SOLUTION\n",
    "\n",
    "    ### END SOLUTION"
   ]
  },
  {
   "cell_type": "code",
   "execution_count": null,
   "metadata": {},
   "outputs": [],
   "source": [
    "## Faça seus testes aqui\n"
   ]
  },
  {
   "cell_type": "code",
   "execution_count": null,
   "metadata": {
    "nbgrader": {
     "grade": true,
     "grade_id": "cell-0e2hb6cefe06bdc60",
     "locked": true,
     "points": 1,
     "schema_version": 3,
     "solution": false,
     "task": false
    },
    "scrolled": true
   },
   "outputs": [],
   "source": [
    "# Validação\n",
    "pib_percapita_2017 = pib_percapita(df_pib_pop)\n",
    "assert round(pib_percapita(df_pib_pop).loc[0,'pib_percapita'],1) == 19.6"
   ]
  },
  {
   "cell_type": "markdown",
   "metadata": {},
   "source": [
    "### 4.6 Escreva uma função para retornar os registros dos 10 maiores PIBs percapita do brasil (de 2017) a partir do dataframe do exercício anterior. \n",
    "#### Escreva uma função genérica que receba como parâmetro um dataframe e o nome da coluna de ordenação.\n"
   ]
  },
  {
   "cell_type": "code",
   "execution_count": null,
   "metadata": {
    "nbgrader": {
     "grade": false,
     "grade_id": "cell-553e5s248eb14bc30",
     "locked": false,
     "schema_version": 3,
     "solution": true,
     "task": false
    }
   },
   "outputs": [],
   "source": [
    "# Dica 1: Use o método sort_values para ordenar o dataframe. Para uma ordenação descendente use ascending=False.\n",
    "# Dica 2: Use o atributo iloc para retornar todas as colunas dos 10 primeiros registros.\n",
    "\n",
    "def top10(df, col):\n",
    "    \"\"\"retorne os top 10 registros do dataframe df ordenados por col\n",
    "    \"\"\"\n",
    "    ### BEGIN SOLUTION\n",
    "\n",
    "    ### END SOLUTION"
   ]
  },
  {
   "cell_type": "code",
   "execution_count": null,
   "metadata": {},
   "outputs": [],
   "source": [
    "## Faça seus testes aqui\n"
   ]
  },
  {
   "cell_type": "code",
   "execution_count": null,
   "metadata": {
    "nbgrader": {
     "grade": true,
     "grade_id": "cell-0e2b6cefe06hbdc60",
     "locked": true,
     "points": 1,
     "schema_version": 3,
     "solution": false,
     "task": false
    }
   },
   "outputs": [],
   "source": [
    "# Validação\n",
    "test_data = {'cod_ibge7': {3677: '3536505', 3547: '3524709'},\n",
    "             'municipio_x': {3677: 'Paulínia', 3547: 'Jaguariúna'},\n",
    "             'uf': {3677: 'SP', 3547: 'SP'},\n",
    "             'pib_percapita': {3677: 344.8, 3547: 209.3}}\n",
    "test_data_y = {'cod_ibge7': {3677: '3536505', 3547: '3524709'},\n",
    "             'municipio_y': {3677: 'Paulínia', 3547: 'Jaguariúna'},\n",
    "             'uf': {3677: 'SP', 3547: 'SP'},\n",
    "             'pib_percapita': {3677: 344.8, 3547: 209.3}}\n",
    "cidades_0_9 = top10(pib_percapita_2017, 'pib_percapita')[['cod_ibge7', 'municipio_x', 'uf', 'pib_percapita']].iloc[[0,9]]\n",
    "cidades_0_9_y = top10(pib_percapita_2017, 'pib_percapita')[['cod_ibge7', 'municipio_y', 'uf', 'pib_percapita']].iloc[[0,9]]\n",
    "\n",
    "cidades_0_9['pib_percapita'] = cidades_0_9['pib_percapita'].apply(lambda x: round(x, 1))\n",
    "cidades_0_9_y['pib_percapita'] = cidades_0_9_y['pib_percapita'].apply(lambda x: round(x, 1))\n",
    "\n",
    "assert cidades_0_9.to_dict() == test_data or cidades_0_9_y.to_dict() == test_data_y"
   ]
  },
  {
   "cell_type": "markdown",
   "metadata": {},
   "source": [
    "### 4.7 Escreva uma função para contar quantos nomes de municípios são diferentes nas bases de dados do PIB e da população. \n",
    "#### A coluna do nome dos municípios no dataset de PIB contém também o nome da UF. Remova o nome da UF, por exemplo, removendo os 5 últimos caracteres da string do nome do município, antes de efetuar a comparação.\n",
    "#### Interprete este resultado. O que você pode extrair de aprendizado deste resultado? "
   ]
  },
  {
   "cell_type": "code",
   "execution_count": null,
   "metadata": {
    "nbgrader": {
     "grade": false,
     "grade_id": "cell-553e5248eb1t4bc30",
     "locked": false,
     "schema_version": 3,
     "solution": true,
     "task": false
    }
   },
   "outputs": [],
   "source": [
    "# Dica 1: use a função map (element-wise) do objeto series, ou seja, sobre a coluna col2 do dataframe df.\n",
    "# Dica 2: passe uma função lambda para o metodo map que executa as instruções do enunciado.\n",
    "# Dica 3: compare o resultado da execução da funcao map com a coluna col1\n",
    "# Dica 4: retorne a quantidade de diferenças resultantes da comparação\n",
    "def compare_df_cols(df, col1, col2):\n",
    "    \"\"\"retorne a quantidade de registros em que o valor do registro na coluna col1 difere do valor em col2\n",
    "    \"\"\"\n",
    "    ### BEGIN SOLUTION\n",
    "\n",
    "    ### END SOLUTION"
   ]
  },
  {
   "cell_type": "code",
   "execution_count": null,
   "metadata": {},
   "outputs": [],
   "source": [
    "## Faça seus testes aqui\n"
   ]
  },
  {
   "cell_type": "code",
   "execution_count": null,
   "metadata": {
    "nbgrader": {
     "grade": true,
     "grade_id": "cell-0e2b6cefet06bdc60",
     "locked": true,
     "points": 1,
     "schema_version": 3,
     "solution": false,
     "task": false
    }
   },
   "outputs": [],
   "source": [
    "# Validação\n",
    "assert compare_df_cols(df_pib_pop, 'municipio_x', 'municipio_y') == 16"
   ]
  },
  {
   "cell_type": "markdown",
   "metadata": {},
   "source": [
    "### 4.8 Considere algumas linhas de uma base de dados de morbidade apresentadas a seguir. Perceba que há dados de vários meses de 2020 para cada Estado da Federação.\n",
    "#### Escreva uma função para pivotar esta base de dados apresentando os meses do ano nas colunas, os municípios nas linhas e a quantidade de óbitos como valores das células. \n",
    "\n",
    "|       | Município               |   cod_ibge6 | mes   |   ano | mes_ano    | Óbitos   |\n",
    "|------:|:------------------------|------------:|:------|------:|:-----------|:---------|\n",
    "|     0 | Alta Floresta D'Oeste   |      110001 | Abr   |  2020 | 2020-04-01 | 8        |\n",
    "|     1 | Alto Alegre dos Parecis |      110037 | Abr   |  2020 | 2020-04-01 | 1        |\n",
    "|     2 | Alto Paraíso            |      110040 | Abr   |  2020 | 2020-04-01 | 2        |\n",
    "| 33347 | Vila Boa                |      522220 | Jan   |  2020 | 2020-01-01 | -        |\n",
    "| 33348 | Vila Propício           |      522230 | Jan   |  2020 | 2020-01-01 | -        |\n",
    "| 33349 | Brasília                |      530010 | Jan   |  2020 | 2020-01-01 | 578      |\n",
    "\n",
    "#### O resultado esperado é semelhante a este:\n",
    "\n",
    "|   cod_ibge6 | 2020-01-01   |   2020-02-01 |   2020-03-01 | 2020-04-01   | 2020-05-01   | 2020-06-01   |\n",
    "|------------:|-------------:|-------------:|-------------:|-------------:|-------------:|-------------:|\n",
    "|      110001 |  5 |            2 |            3 |  8 | 2            | 2            |\n",
    "|      110002 | 12 |           13 |           16 | 10 | 8            | 7            |\n",
    "|      110003 |  - |            1 |            1 |  - | -            | 2            |\n",
    "|      110004 | 23 |            8 |           29 | 11 | 17           | 13           |\n",
    "|      110005 |  1 |            2 |            2 |  3 | 1            | -            |"
   ]
  },
  {
   "cell_type": "code",
   "execution_count": null,
   "metadata": {
    "nbgrader": {
     "grade": false,
     "grade_id": "cell-553e52r48eb14bc30",
     "locked": false,
     "schema_version": 3,
     "solution": true,
     "task": false
    }
   },
   "outputs": [],
   "source": [
    "# Dica 1: Sempre dê preferência para fazer agregação usando códigos como identificador, \n",
    "#         use nomes em ultimo caso quando não houver códigos identificadores. \n",
    "# Dica 2: Se você usar o atributo `mes_ano` para pivotar, o pandas já ordena de forma cronológica as colunas.\n",
    "\n",
    "def pivot_morbidade(file_path):\n",
    "    \"\"\"retorne um dataframe pivotado\n",
    "    \"\"\"\n",
    "    ### BEGIN SOLUTION\n",
    "    \n",
    "    ### END SOLUTION"
   ]
  },
  {
   "cell_type": "code",
   "execution_count": null,
   "metadata": {},
   "outputs": [],
   "source": [
    "## Faça seus testes aqui\n",
    "\n",
    "# path_morbidade = 'https://github.com/alexlopespereira/curso_ciencia_dados2020/raw/master/data/originais/morbidade/consolidado/morbidade_simplificado.csv'\n",
    "path_morbidade = '../../curso_ciencia_dados2020/data/originais/morbidade/consolidado/morbidade_simplificado.csv'\n"
   ]
  },
  {
   "cell_type": "code",
   "execution_count": null,
   "metadata": {
    "nbgrader": {
     "grade": true,
     "grade_id": "cell-0e2b6tcefe06bdc60",
     "locked": true,
     "points": 1,
     "schema_version": 3,
     "solution": false,
     "task": false
    }
   },
   "outputs": [],
   "source": [
    "# Validação\n",
    "path_morbidade = 'https://github.com/alexlopespereira/curso_ciencia_dados2020/raw/master/data/originais/morbidade/consolidado/morbidade_simplificado.csv'\n",
    "test_data = {'2020-01-01': '5', '2020-02-01': '2', '2020-03-01': '3', '2020-04-01': '8', '2020-05-01': '2', \n",
    "             '2020-06-01': '2'}\n",
    "assert pivot_morbidade(path_morbidade).loc[110001].to_dict() == test_data"
   ]
  }
 ],
 "metadata": {
  "celltoolbar": "Create Assignment",
  "kernelspec": {
   "display_name": "Python 3",
   "language": "python",
   "name": "python3"
  },
  "language_info": {
   "codemirror_mode": {
    "name": "ipython",
    "version": 3
   },
   "file_extension": ".py",
   "mimetype": "text/x-python",
   "name": "python",
   "nbconvert_exporter": "python",
   "pygments_lexer": "ipython3",
   "version": "3.8.5"
  },
  "name": "_merged"
 },
 "nbformat": 4,
 "nbformat_minor": 4
}
