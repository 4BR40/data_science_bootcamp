{
 "cells": [
  {
   "cell_type": "markdown",
   "metadata": {},
   "source": [
    "# Aula 5 - Exercícios - Agregação com Pandas e Conceitos de Estatística\n",
    "### Consulta a internet (Google, Stackoverflow e etc) liberada!!"
   ]
  },
  {
   "cell_type": "code",
   "execution_count": null,
   "metadata": {},
   "outputs": [],
   "source": [
    "# Importe a biblioteca pandas\n",
    "import pandas as pd\n",
    "import numpy as np"
   ]
  },
  {
   "cell_type": "markdown",
   "metadata": {},
   "source": [
    "### 5.1 Escreva uma função para ler os dados de PIB e população dos datasets disponibilizados e retornar um dataframe com a agregação por Estados e as métricas soma, média, desvio padrão e mediana do PIB de 2017 e da população de todos os Estados brasileiros.\n",
    "#### Você pode se basear na sua resolução dos exercícios da Aula 3.\n"
   ]
  },
  {
   "cell_type": "code",
   "execution_count": null,
   "metadata": {
    "nbgrader": {
     "grade": false,
     "grade_id": "cell-c705ab9d11473b9f9",
     "locked": false,
     "schema_version": 3,
     "solution": true,
     "task": false
    }
   },
   "outputs": [],
   "source": [
    "# Dica: Baseie seu código na sua solução do exercício da aula 3 que faz o merge dos\n",
    "#       datasets do PIB e da população.\n",
    "\n",
    "def aggregate_pib_pop(path_pop, path_pib):\n",
    "    \"\"\"retorne um dataframe com a agregação por Estados e as métricas soma, média, mediana\n",
    "       e o desvio padrão do PIB de 2017 e da população de todos os Estados brasileiros.\n",
    "    \"\"\"\n",
    "    ### BEGIN SOLUTION\n",
    "\n",
    "    ### END SOLUTION"
   ]
  },
  {
   "cell_type": "code",
   "execution_count": null,
   "metadata": {},
   "outputs": [],
   "source": [
    "## Faça seus testes aqui\n",
    "\n",
    "# path_pib = 'https://github.com/alexlopespereira/curso_ciencia_dados2020/raw/master/data/originais/pib/pib_municipios.xlsx'\n",
    "# path_pop='https://github.com/alexlopespereira/curso_ciencia_dados2020/raw/master/data/originais/populacao/estimativa_dou_2017.xlsx'\n",
    "\n",
    "path_pib = '../../curso_ciencia_dados2020/data/originais/pib/pib_municipios.xlsx'\n",
    "path_pop='../../curso_ciencia_dados2020/data/originais/populacao/estimativa_dou_2017.xlsx'\n"
   ]
  },
  {
   "cell_type": "code",
   "execution_count": null,
   "metadata": {
    "nbgrader": {
     "grade": true,
     "grade_id": "cell-9ffdsa88d58e9282a",
     "locked": true,
     "points": 1,
     "schema_version": 3,
     "solution": false,
     "task": false
    }
   },
   "outputs": [],
   "source": [
    "# Validação\n",
    "path_pib = 'https://github.com/alexlopespereira/curso_ciencia_dados2020/raw/master/data/originais/pib/pib_municipios.xlsx'\n",
    "path_pop='https://github.com/alexlopespereira/curso_ciencia_dados2020/raw/master/data/originais/populacao/estimativa_dou_2017.xlsx'\n",
    "\n",
    "test_data = {('pop2017', 'sum'): 829619.0,\n",
    " ('pop2017', 'mean'): 37710.0,\n",
    " ('pop2017', 'median'): 17903.5,\n",
    " ('pop2017', 'std'): 79036.0,\n",
    " ('2017', 'sum'): 14271061.0,\n",
    " ('2017', 'mean'): 648684.6,\n",
    " ('2017', 'median'): 229775.0,\n",
    " ('2017', 'std'): 1695166.9}\n",
    "results_ac = aggregate_pib_pop(path_pop, path_pib).loc['AC'].apply(lambda x: round(x,1))\n",
    "\n",
    "assert results_ac.to_dict() == test_data"
   ]
  },
  {
   "cell_type": "markdown",
   "metadata": {},
   "source": [
    "### 5.2 Escreva uma função para calcular os percentis [0.25, 0.50, 0.75, 0.9] do dataset do índice de gini dos municípios brasileiros para todos os anos presents no dataset.\n",
    "\n",
    "#### Apenas por curiosidade, plote o gráfico destes percentis num gráfico de linhas\n"
   ]
  },
  {
   "cell_type": "code",
   "execution_count": null,
   "metadata": {
    "nbgrader": {
     "grade": false,
     "grade_id": "cell-553qe5248eb14bc30",
     "locked": false,
     "schema_version": 3,
     "solution": true,
     "task": false
    }
   },
   "outputs": [],
   "source": [
    "# Dica 1: Descubra qual a string representa valores NA neste dataset.\n",
    "# Dica 2: Use o argumento na_values para especificar a string que representa valores NA.\n",
    "# Dica 3: Use o argumento decimal=',' para definir a vírgula como separador de decimal.\n",
    "# Dica 4: Use a função apply e uma função lambda para desmembrar a coluna município no\n",
    "#         respectivo nome e código do município.\n",
    "# Dica 5: Atente para o separador de colunas do dataset.\n",
    "# Dica 6: O encoding do dataset do gini é 'utf8'.\n",
    "# Dica 7: Atente para quantas linhas você deve ignorar antes no inicio e no final do arquivo.\n",
    "# Dica 8: Use a função quantile\n",
    "\n",
    "def plot_gini(path_gini):\n",
    "    \"\"\"retorne o valor de: n+nn+nnn\n",
    "    \"\"\"\n",
    "    ### BEGIN SOLUTION\n",
    "    \n",
    "    ### END SOLUTION"
   ]
  },
  {
   "cell_type": "code",
   "execution_count": null,
   "metadata": {
    "scrolled": false
   },
   "outputs": [],
   "source": [
    "## Faça seus testes aqui\n",
    "\n",
    "# Considere o seguinte dataframe do PIB dos municípios\n",
    "# path_gini = 'https://github.com/alexlopespereira/curso_ciencia_dados2020/raw/master/data/originais/gini/ginibr.csv'\n",
    "path_gini = '../../curso_ciencia_dados2020/data/originais/gini/ginibr.csv'\n"
   ]
  },
  {
   "cell_type": "code",
   "execution_count": null,
   "metadata": {
    "nbgrader": {
     "grade": true,
     "grade_id": "cell-0e2bh6cefe06bdc60",
     "locked": true,
     "points": 1,
     "schema_version": 3,
     "solution": false,
     "task": false
    }
   },
   "outputs": [],
   "source": [
    "# Validação\n",
    "test_data = {'1991': {0.25: 0.49, 0.5: 0.53, 0.75: 0.58, 0.9: 0.62},\n",
    " '2000': {0.25: 0.51, 0.5: 0.55, 0.75: 0.6, 0.9: 0.64},\n",
    " '2010': {0.25: 0.46, 0.5: 0.5, 0.75: 0.55, 0.9: 0.58}}\n",
    "path_gini = 'https://github.com/alexlopespereira/curso_ciencia_dados2020/raw/master/data/originais/gini/ginibr.csv'\n",
    "\n",
    "df = plot_gini(path_gini)\n",
    "assert df.apply(lambda x: round(x, 2)).to_dict() == test_data"
   ]
  },
  {
   "cell_type": "markdown",
   "metadata": {},
   "source": [
    "### 5.3 Escreva uma função para retornar um dataframe com os nomes das colunas, o total e a porcentagem de valores NA (de cada coluna) num dataframe passado como argumento para esta função.\n",
    "#### Arredonde (com o método round) o resultado para duas casas decimais (o assert vai testar com 2 casas decimais)."
   ]
  },
  {
   "cell_type": "code",
   "execution_count": null,
   "metadata": {
    "nbgrader": {
     "grade": false,
     "grade_id": "cell-553e5248ebs14bc30",
     "locked": false,
     "schema_version": 3,
     "solution": true,
     "task": false
    }
   },
   "outputs": [],
   "source": [
    "# Dica 1: Use a função concat para concatenar duas séries. Especifique axis=1 para concatenar\n",
    "#         por colunas. Se quiser dar nome as colunas depois de concatenar, utilize o argumento\n",
    "#         keys=['Total','Porcentagem']\n",
    "# Dica 2: Uma das séries deve conter o total de valores NA, e a outra série a \n",
    "#         porcentagem de valores NA. Depois disso concatena-as usando a função concat.\n",
    "\n",
    "def missing_percentage(df):\n",
    "    \"\"\"Retorna um dataframe com os nomes das colunas, o total e a porcentagem de valores\n",
    "       NA em cada coluna do dataframe passado como argumento.\n",
    "    \"\"\"\n",
    "    ### BEGIN SOLUTION\n",
    "    \n",
    "    ### END SOLUTION"
   ]
  },
  {
   "cell_type": "code",
   "execution_count": null,
   "metadata": {},
   "outputs": [],
   "source": [
    "## Faça seus testes aqui\n",
    "\n",
    "# path_titanic = 'https://github.com/alexlopespereira/curso_ciencia_dados2020/raw/master/data/originais/titanic/titanic.xls'\n",
    "path_titanic = '../../curso_ciencia_dados2020/data/originais/titanic/titanic.xls'\n"
   ]
  },
  {
   "cell_type": "code",
   "execution_count": null,
   "metadata": {
    "nbgrader": {
     "grade": true,
     "grade_id": "cell-0e2bt6cefe06bdc60",
     "locked": true,
     "points": 1,
     "schema_version": 3,
     "solution": false,
     "task": false
    }
   },
   "outputs": [],
   "source": [
    "# Validação\n",
    "path_titanic = 'https://github.com/alexlopespereira/curso_ciencia_dados2020/raw/master/data/originais/titanic/titanic.xls'\n",
    "test_data = {'Total': {'body': 1188,  'cabin': 1014,  'boat': 823,  'home.dest': 564,\n",
    "                       'age': 263,  'embarked': 2,  'fare': 1,  'ticket': 0,  'parch': 0,  \n",
    "                       'sibsp': 0,  'sex': 0,  'name': 0,  'survived': 0,  'pclass': 0},\n",
    "             'Porcentagem': {'body': 90.76,  'cabin': 77.46,  'boat': 62.87,\n",
    "                            'home.dest': 43.09,  'age': 20.09,  'embarked': 0.15, \n",
    "                            'fare': 0.08,  'ticket': 0.0,  'parch': 0.0,  'sibsp': 0.0,\n",
    "                            'sex': 0.0,  'name': 0.0,  'survived': 0.0,  'pclass': 0.0}}\n",
    "\n",
    "df_titanic = pd.read_excel(path_titanic)\n",
    "assert missing_percentage(df_titanic).to_dict() == test_data"
   ]
  },
  {
   "cell_type": "markdown",
   "metadata": {},
   "source": [
    "### 5.4 Escreva uma função para agregar o dataset do Titanic por classe (pclass) e sexo (sex) e calcular a soma da coluna survived (sobrevivente) e a média e mediana da coluna fare (preço do ticket).\n"
   ]
  },
  {
   "cell_type": "code",
   "execution_count": null,
   "metadata": {
    "nbgrader": {
     "grade": false,
     "grade_id": "cell-553em5248eb14bc30",
     "locked": false,
     "schema_version": 3,
     "solution": true,
     "task": false
    }
   },
   "outputs": [],
   "source": [
    "# Dica: Faça a agregação usando um dicionário que mapeia a coluna e a(s) respectiva(s) métrica(s) de\n",
    "#       agregação solicitada(s) no enunciado.\n",
    "def agg_titanic(df_titanic):\n",
    "    \"\"\"retorne aagregação do dataframe df_titanic por pclass e sex e calcular a soma \n",
    "       da coluna survived e a média e mediana da coluna fare.\n",
    "    \"\"\"\n",
    "    ### BEGIN SOLUTION\n",
    "\n",
    "    ### END SOLUTION"
   ]
  },
  {
   "cell_type": "code",
   "execution_count": null,
   "metadata": {},
   "outputs": [],
   "source": [
    "## Faça seus testes aqui\n",
    "\n",
    "# path_titanic = 'https://github.com/alexlopespereira/curso_ciencia_dados2020/raw/master/data/originais/titanic/titanic.xls'\n",
    "path_titanic = '../../curso_ciencia_dados2020/data/originais/titanic/titanic.xls'\n"
   ]
  },
  {
   "cell_type": "code",
   "execution_count": null,
   "metadata": {
    "nbgrader": {
     "grade": true,
     "grade_id": "cell-0se2b6cefe06bdc60",
     "locked": true,
     "points": 1,
     "schema_version": 3,
     "solution": false,
     "task": false
    }
   },
   "outputs": [],
   "source": [
    "# Validação\n",
    "path_titanic = 'https://github.com/alexlopespereira/curso_ciencia_dados2020/raw/master/data/originais/titanic/titanic.xls'\n",
    "test_data = {('survived', 'sum'): {(1, 'female'): 139,  (1, 'male'): 61,\n",
    "  (2, 'female'): 94,  (2, 'male'): 25,  (3, 'female'): 106,  (3, 'male'): 75},\n",
    "  ('fare', 'mean'): {(1, 'female'): 109.4,  (1, 'male'): 69.9,  (2, 'female'): 23.2,\n",
    "  (2, 'male'): 19.9,  (3, 'female'): 15.3,  (3, 'male'): 12.4}, \n",
    "  ('fare', 'median'): {(1, 'female'): 80.9,  (1, 'male'): 49.5,  \n",
    "  (2, 'female'): 23.0,  (2, 'male'): 13.0,  (3, 'female'): 10.5,  (3, 'male'): 7.9}}\n",
    "\n",
    "df_titanic = pd.read_excel(path_titanic)\n",
    "result_agg = agg_titanic(df_titanic).apply(lambda x: round(x, 1))\n",
    "\n",
    "assert result_agg.to_dict() == test_data"
   ]
  },
  {
   "cell_type": "markdown",
   "metadata": {},
   "source": [
    "### 5.5 Escreva uma função para fazer o merge do dataset de morbidade consolidado com o dataset de população\n",
    "#### O dataset da população deve ficar a esquerda e o dataset da morbidade a direita no resultado."
   ]
  },
  {
   "cell_type": "code",
   "execution_count": null,
   "metadata": {
    "nbgrader": {
     "grade": false,
     "grade_id": "cell-553a5248eb14bc30",
     "locked": false,
     "schema_version": 3,
     "solution": true,
     "task": false
    }
   },
   "outputs": [],
   "source": [
    "# Dica 1: No dataset de morbidade existem valores NA representados por caracteres específicos em várias colunas \n",
    "#         do dataframe. Descubra quais são esses caracteres e especifiquei no argumento\n",
    "#         na_values. Passe nesse argumento uma lista como os caracteres que devem ser \n",
    "#         interpretados como NA.\n",
    "# Dica 2: No dataset de morbidade, especifique o separador, o caracter de números decimais e o tipo do dado do \n",
    "#         cod_ibge6 como str. Ou seja, dtype={'cod_ibge6': str}.\n",
    "# Dica 3: No dataset de população, converta o cod_munic e cod_uf para str no momento de carregar o dataset de população,\n",
    "#         usando novamente o argumento dtype. Exatamente como foi feito no exercício da aula 3.\n",
    "\n",
    "def merge_morbidade_pop(path_pop, path_morbidade):\n",
    "    \"\"\"retorne o merge dos datasets de população e morbidade.\n",
    "    \"\"\"\n",
    "    ### BEGIN SOLUTION\n",
    "\n",
    "    ### END SOLUTION"
   ]
  },
  {
   "cell_type": "code",
   "execution_count": null,
   "metadata": {
    "scrolled": false
   },
   "outputs": [],
   "source": [
    "## Faça seus testes aqui\n",
    "\n",
    "# path_morbidade = 'https://github.com/alexlopespereira/curso_ciencia_dados2020/raw/master/data/originais/morbidade/consolidado/morbidade.csv'\n",
    "# path_pop = 'https://github.com/alexlopespereira/curso_ciencia_dados2020/raw/master/data/originais/populacao/estimativa_dou_2017.xlsx'\n",
    "\n",
    "path_morbidade = '../../curso_ciencia_dados2020/data/originais/morbidade/consolidado/morbidade.csv'\n",
    "path_pop = '../../curso_ciencia_dados2020/data/originais/populacao/estimativa_dou_2017.xlsx'\n"
   ]
  },
  {
   "cell_type": "code",
   "execution_count": null,
   "metadata": {
    "nbgrader": {
     "grade": true,
     "grade_id": "cell-0sb2b6cefe06bdc60",
     "locked": true,
     "points": 1,
     "schema_version": 3,
     "solution": false,
     "task": false
    }
   },
   "outputs": [],
   "source": [
    "# Validação\n",
    "path_morbidade = 'https://github.com/alexlopespereira/curso_ciencia_dados2020/raw/master/data/originais/morbidade/consolidado/morbidade.csv'\n",
    "path_pop = 'https://github.com/alexlopespereira/curso_ciencia_dados2020/raw/master/data/originais/populacao/estimativa_dou_2017.xlsx'\n",
    "test_data = {'Internações': 149, 'AIH_aprovadas': 149, 'Valor_total': 101282.26}\n",
    "df_morbidade_pop = merge_morbidade_pop(path_pop, path_morbidade)\n",
    "df_00015 = df_morbidade_pop[(df_morbidade_pop['mes']=='Abr') & (df_morbidade_pop['cod_munic']=='00015')]\n",
    "df_00015 = df_00015.loc[:,['Internações', 'AIH_aprovadas', 'Valor_total']]\n",
    "dict2 = df_00015.to_dict(orient='records')[0]\n",
    "dict1 = df_morbidade_pop.iloc[0, 8:11].to_dict()\n",
    "assert dict1 == test_data or dict2 == test_data"
   ]
  },
  {
   "cell_type": "markdown",
   "metadata": {},
   "source": [
    "### 5.6 Escreva uma função para realizar o agrupamento do dataset de morbidade por UF e por município aplicando a soma sobre as colunas Valor_total, Internações e Dias_permanência. Em seguida calcule, para todos os municípios nesta agregação, o custo médio diário das internações com a seguite fórmula: \n",
    "#### custo_medio_diario_intern = Valor_total/Dias_permanência"
   ]
  },
  {
   "cell_type": "code",
   "execution_count": null,
   "metadata": {
    "nbgrader": {
     "grade": false,
     "grade_id": "cell-5b4dc5640fc839be",
     "locked": false,
     "schema_version": 3,
     "solution": true,
     "task": false
    }
   },
   "outputs": [],
   "source": [
    "# Dica: Faça a agregação usando um dicionário que mapeia a coluna e a respectiva métrica de\n",
    "#       agregação solicitada no enunciado.\n",
    "\n",
    "def custo_medio_internacao_agregado(df_morbidade_pop):\n",
    "    \"\"\"retorne o merge dos datasets de população e morbidade.\n",
    "    \"\"\"\n",
    "    ### BEGIN SOLUTION\n",
    "\n",
    "    ### END SOLUTION"
   ]
  },
  {
   "cell_type": "code",
   "execution_count": null,
   "metadata": {},
   "outputs": [],
   "source": [
    "# Faça seus testes aqui\n"
   ]
  },
  {
   "cell_type": "code",
   "execution_count": null,
   "metadata": {
    "nbgrader": {
     "grade": true,
     "grade_id": "cell-eee2219340bc517c",
     "locked": true,
     "points": 1,
     "schema_version": 3,
     "solution": false,
     "task": false
    }
   },
   "outputs": [],
   "source": [
    "# Validação\n",
    "test_data = {'Valor_total': 583634.7,\n",
    " 'Internações': 447.0,\n",
    " 'Dias_permanência': 2208.0,\n",
    " 'custo_medio_diario_intern': 264.3}\n",
    "\n",
    "df_morbidade_pop = merge_morbidade_pop(path_pop, path_morbidade)\n",
    "data_abadia_go = custo_medio_internacao_agregado(df_morbidade_pop).loc['GO','Abadia de Goiás']\n",
    "data_abadia_go = data_abadia_go.apply(lambda x: round(x, 1))\n",
    "\n",
    "assert data_abadia_go.to_dict() == test_data"
   ]
  },
  {
   "cell_type": "markdown",
   "metadata": {},
   "source": [
    "### 5.7 Escreva uma função para retornar um dataframe cujos valores de uma dada coluna sejam maiores do que um valor passado como argumento (threshold).\n",
    "#### Para a validação, o teste (assert) utiliza o threshold=800. \n",
    "#### Por curiosidade, se já souber plotar um gráfico boxplot,  plote-o com os dados de custo médio de internação agregados. Se não souber, espere até a próxima aula."
   ]
  },
  {
   "cell_type": "code",
   "execution_count": null,
   "metadata": {
    "nbgrader": {
     "grade": false,
     "grade_id": "cell-919c16309d90227d",
     "locked": false,
     "schema_version": 3,
     "solution": true,
     "task": false
    }
   },
   "outputs": [],
   "source": [
    "def get_outliers_morbidade(df_internacoes, col, threshold):\n",
    "    \"\"\"retorne um dataframe cujos valores da coluna col sejam maiores que threshold.\n",
    "    \"\"\"\n",
    "    ### BEGIN SOLUTION\n",
    "\n",
    "    ### END SOLUTION"
   ]
  },
  {
   "cell_type": "code",
   "execution_count": null,
   "metadata": {},
   "outputs": [],
   "source": [
    "# Faça seus testes aqui\n",
    "\n",
    "path_morbidade = 'https://github.com/alexlopespereira/curso_ciencia_dados2020/raw/master/data/originais/morbidade/consolidado/morbidade.csv'\n",
    "path_pop = 'https://github.com/alexlopespereira/curso_ciencia_dados2020/raw/master/data/originais/populacao/estimativa_dou_2017.xlsx'\n"
   ]
  },
  {
   "cell_type": "code",
   "execution_count": null,
   "metadata": {
    "nbgrader": {
     "grade": true,
     "grade_id": "cell-b656ffe7cf513a14",
     "locked": true,
     "points": 1,
     "schema_version": 3,
     "solution": false,
     "task": false
    }
   },
   "outputs": [],
   "source": [
    "# Validação\n",
    "path_morbidade = 'https://github.com/alexlopespereira/curso_ciencia_dados2020/raw/master/data/originais/morbidade/consolidado/morbidade.csv'\n",
    "path_pop = 'https://github.com/alexlopespereira/curso_ciencia_dados2020/raw/master/data/originais/populacao/estimativa_dou_2017.xlsx'\n",
    "\n",
    "col='custo_medio_diario_intern'\n",
    "threshold=800\n",
    "test_data = {'Valor_total': 125334.1, 'Internações': 41.0, 'Dias_permanência': 113.0,\n",
    "             'custo_medio_diario_intern': 1109.2}\n",
    "\n",
    "df_morbidade_pop = merge_morbidade_pop(path_pop, path_morbidade)\n",
    "df_internacoes = custo_medio_internacao_agregado(df_morbidade_pop)\n",
    "data_nova_braslandia = get_outliers_morbidade(df_internacoes, col, threshold).loc['MT','Nova Brasilândia']\n",
    "data_nova_braslandia = data_nova_braslandia.apply(lambda x: round(x, 1))\n",
    "\n",
    "assert data_nova_braslandia.to_dict() == test_data"
   ]
  }
 ],
 "metadata": {
  "celltoolbar": "Create Assignment",
  "kernelspec": {
   "display_name": "Python 3",
   "language": "python",
   "name": "python3"
  },
  "language_info": {
   "codemirror_mode": {
    "name": "ipython",
    "version": 3
   },
   "file_extension": ".py",
   "mimetype": "text/x-python",
   "name": "python",
   "nbconvert_exporter": "python",
   "pygments_lexer": "ipython3",
   "version": "3.8.5"
  },
  "name": "_merged"
 },
 "nbformat": 4,
 "nbformat_minor": 4
}
