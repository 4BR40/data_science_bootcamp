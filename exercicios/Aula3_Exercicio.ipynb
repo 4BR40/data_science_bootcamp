{
 "cells": [
  {
   "cell_type": "markdown",
   "metadata": {},
   "source": [
    "# Aula 3 - Exercícios - Python e Pandas"
   ]
  },
  {
   "cell_type": "code",
   "execution_count": null,
   "metadata": {},
   "outputs": [],
   "source": [
    "# Importe as bibliotecas pandas e numpy\n",
    "import pandas as pd\n",
    "import numpy as np"
   ]
  },
  {
   "cell_type": "markdown",
   "metadata": {},
   "source": [
    "### 3.1 Escreva uma função para retornar os itens de uma determinada série que não estejam presentes em outra série \n",
    "#### Exemplo: Considere uma Serie A com os valores [1, 2, 3, 4, 5, 6, 7, 8], e\n",
    "####          uma Serie B com os valores [2, 4, 6, 8, 10, 12]\n",
    "#### Resultado Esperado: Uma Serie com os valores [1, 3, 5, 7]\n"
   ]
  },
  {
   "cell_type": "code",
   "execution_count": null,
   "metadata": {
    "nbgrader": {
     "grade": false,
     "grade_id": "cell-c705b9d11473b9f9",
     "locked": false,
     "schema_version": 3,
     "solution": true,
     "task": false
    }
   },
   "outputs": [],
   "source": [
    "# Dica 1: a função Series.isin() retorna uma Serie de valores booleanos representando a \n",
    "#      intersecção da de duas series\n",
    "# Dica 2: o operador ~ serve para inverter os valores booleanos de uma Serie.\n",
    "#      Exemplo: \n",
    "#        ~pd.Series([True, False]) \n",
    "#        0    False\n",
    "#        1     True\n",
    "#        dtype: bool\n",
    "\n",
    "def complemento(s1, s2):\n",
    "    \"\"\"retorne os valores do complemento de s1 em relação a s2\n",
    "    \"\"\"\n",
    "    ### BEGIN SOLUTION\n",
    "    \n",
    "    ### END SOLUTION"
   ]
  },
  {
   "cell_type": "code",
   "execution_count": null,
   "metadata": {},
   "outputs": [],
   "source": [
    "## Faça seus testes aqui\n"
   ]
  },
  {
   "cell_type": "code",
   "execution_count": null,
   "metadata": {
    "nbgrader": {
     "grade": true,
     "grade_id": "cell-9ffda88d58e9282a",
     "locked": true,
     "points": 1,
     "schema_version": 3,
     "solution": false,
     "task": false
    }
   },
   "outputs": [],
   "source": [
    "# Validação\n",
    "s1 = pd.Series([1, 2, 3, 4, 5, 6, 7, 8]) \n",
    "s2 = pd.Series([2, 4, 6, 8, 10, 12]) \n",
    "c12 = pd.Series([1, 3, 5, 7]) \n",
    "c21 = pd.Series([10, 12]) \n",
    "\n",
    "assert complemento(s1,s2).reset_index()[0].equals(c12)\n",
    "assert complemento(s2,s1).reset_index()[0].equals(c21)"
   ]
  },
  {
   "cell_type": "markdown",
   "metadata": {},
   "source": [
    "### 3.2 Escreva uma função para obter os itens que não são comuns em duas séries. Ou seja, estão na uniao mas não na intersecção.\n",
    "#### Exemplo: Considere uma Serie A com os valores [1, 2, 3, 4, 5, 6, 7, 8], e\n",
    "####          uma Serie B com os valores [2, 4, 6, 8, 10, 12]\n",
    "#### Resultado Esperado: Uma Serie com os valores [1, 3, 5, 7,10,12]\n"
   ]
  },
  {
   "cell_type": "code",
   "execution_count": null,
   "metadata": {
    "nbgrader": {
     "grade": false,
     "grade_id": "cell-553ee248eb14bc30",
     "locked": false,
     "schema_version": 3,
     "solution": true,
     "task": false
    }
   },
   "outputs": [],
   "source": [
    "# Dica 1: Pense na teoria de conjuntos. Como você faria isso no papel usando um diagrama de Venn.\n",
    "# Dica 2: Use a função criada no exercicio 3.1\n",
    "# Dica 3: Use a função np.union1d para calcular a união de duas Series.\n",
    "#     Exemplo: o código pd.Series(np.union1d(t1, t2)) cria uma Serie resultante da união de t1 e t2\n",
    "\n",
    "def complemento2(s1, s2):\n",
    "    \"\"\"retorne os valores que não são comuns em duas séries\n",
    "    \"\"\"\n",
    "    ### BEGIN SOLUTION\n",
    "\n",
    "    ### END SOLUTION"
   ]
  },
  {
   "cell_type": "code",
   "execution_count": null,
   "metadata": {},
   "outputs": [],
   "source": [
    "## Faça seus testes aqui\n"
   ]
  },
  {
   "cell_type": "code",
   "execution_count": null,
   "metadata": {
    "nbgrader": {
     "grade": true,
     "grade_id": "cell-0e2bt6cefe06bdc60",
     "locked": true,
     "points": 1,
     "schema_version": 3,
     "solution": false,
     "task": false
    }
   },
   "outputs": [],
   "source": [
    "# Validação\n",
    "s1 = pd.Series([1, 2, 3, 4, 5, 6, 7, 8]) \n",
    "s2 = pd.Series([2, 4, 6, 8, 10, 12]) \n",
    "c = pd.Series([1, 3, 5, 7, 10, 12]) \n",
    "\n",
    "assert complemento2(s1,s2).reset_index()[0].equals(c) "
   ]
  },
  {
   "cell_type": "markdown",
   "metadata": {},
   "source": [
    "### 3.3 Escreva uma função para selecionar as linhas de um dataframe onde o valor na coluna especificada seja ausente (NA)\n"
   ]
  },
  {
   "cell_type": "code",
   "execution_count": null,
   "metadata": {
    "nbgrader": {
     "grade": false,
     "grade_id": "cell-553d5248eb14bc30",
     "locked": false,
     "schema_version": 3,
     "solution": true,
     "task": false
    }
   },
   "outputs": [],
   "source": [
    "def seleciona_null(df, col):\n",
    "    \"\"\"retorne as linhas cujo valor na coluna col seja ausente (NA)\n",
    "    \"\"\"\n",
    "    ### BEGIN SOLUTION\n",
    "\n",
    "    ### END SOLUTION"
   ]
  },
  {
   "cell_type": "code",
   "execution_count": null,
   "metadata": {},
   "outputs": [],
   "source": [
    "## Faça seus testes aqui\n"
   ]
  },
  {
   "cell_type": "code",
   "execution_count": null,
   "metadata": {
    "nbgrader": {
     "grade": true,
     "grade_id": "cell-0e2b6aefe06bdc60",
     "locked": true,
     "points": 1,
     "schema_version": 3,
     "solution": false,
     "task": false
    },
    "scrolled": true
   },
   "outputs": [],
   "source": [
    "# Validação\n",
    "exam_data  = {'name': ['Anastasia', 'Dima', 'Katherine', 'James', 'Emily', 'Michael', 'Matthew', 'Laura', 'Kevin', 'Jonas'],\n",
    "        'score': [12.5, 9, 16.5, np.nan, 9, 20, 14.5, np.nan, 8, 19],\n",
    "        'attempts': [1, 3, 2, 3, 2, 3, 1, 1, 2, 1],\n",
    "        'qualify': ['yes', 'no', 'yes', 'no', 'no', 'yes', 'yes', 'no', 'no', 'yes']}\n",
    "labels = ['a', 'b', 'c', 'd', 'e', 'f', 'g', 'h', 'i', 'j']\n",
    "df = pd.DataFrame(exam_data , index=labels)\n",
    "assert seleciona_null(df, 'score').equals(df.loc[['d', 'h']])"
   ]
  },
  {
   "cell_type": "markdown",
   "metadata": {},
   "source": [
    "### 3.4 Escreva uma função para mudar o conteúdo de uma coluna de um dataframe, especificando como parâmetros de entrada o nome da coluna, o valor original e o novo valor.\n",
    "#### Exemplo:\n",
    "|    | name      |   score | qualify   |\n",
    "|:---|:----------|--------:|:----------|\n",
    "| a  | Jose |    12.5 | yes       |\n",
    "| b  | Maria      |     9   | no        |\n",
    "| c  | Joao |    16.5 | yes       |\n",
    "| d  | Pedro     |   nan   | no        |\n",
    "\n",
    "#### Resultado Esperado:\n",
    "|    | name      |   score | qualify   |\n",
    "|:---|:----------|--------:|:----------|\n",
    "| a  | Jose |    12.5 | yes       |\n",
    "| b  | Maria      |     9   | no        |\n",
    "| c  | Joao |    16.5 | yes       |\n",
    "| d  | Rafael    |   nan   | no        |\n"
   ]
  },
  {
   "cell_type": "code",
   "execution_count": null,
   "metadata": {
    "nbgrader": {
     "grade": false,
     "grade_id": "cell-553f5248eb14bc30",
     "locked": false,
     "schema_version": 3,
     "solution": true,
     "task": false
    }
   },
   "outputs": [],
   "source": [
    "# Dica: Use a função Series.replace. A função replace tem um parâmetro inplace \n",
    "#       para modificar o proprio objeto.\n",
    "\n",
    "def change_value(df, col, orig, new):\n",
    "    \"\"\"altere a coluna col do dataframe df substituindo orig por new\n",
    "    \"\"\"\n",
    "    ### BEGIN SOLUTION\n",
    "\n",
    "    ### END SOLUTION"
   ]
  },
  {
   "cell_type": "code",
   "execution_count": null,
   "metadata": {},
   "outputs": [],
   "source": [
    "## Faça seus testes aqui\n"
   ]
  },
  {
   "cell_type": "code",
   "execution_count": null,
   "metadata": {
    "nbgrader": {
     "grade": true,
     "grade_id": "cell-0e2b65cefe06bdc60",
     "locked": true,
     "points": 1,
     "schema_version": 3,
     "solution": false,
     "task": false
    }
   },
   "outputs": [],
   "source": [
    "# Validação\n",
    "exam_data  = {'name': ['Jose', 'Maria', 'Joao', 'Pedro', 'Emilia',\n",
    "                       'Marcos', 'Mateus', 'Laura', 'Carlos', 'Jonas'],\n",
    "        'score': [12.5, 9, 16.5, np.nan, 9, 20, 14.5, np.nan, 8, 19],\n",
    "        'qualify': ['yes', 'no', 'yes', 'no', 'no', 'yes', 'yes', 'no', 'no', 'yes']}\n",
    "labels = ['a', 'b', 'c', 'd', 'e', 'f', 'g', 'h', 'i', 'j']\n",
    "exam_data2 = {'name': ['Jose', 'Maria', 'Joao', 'Rafael', 'Emilia',\n",
    "                       'Marcos', 'Mateus', 'Laura', 'Carlos', 'Jonas'],\n",
    "        'score': [12.5, 9, 16.5, np.nan, 9, 20, 14.5, np.nan, 8, 19],\n",
    "        'qualify': ['yes', 'no', 'yes', 'no', 'no', 'yes', 'yes', 'no', 'no', 'yes']}\n",
    "df = pd.DataFrame(exam_data, index=labels) \n",
    "df2 = pd.DataFrame(exam_data2, index=labels) \n",
    "\n",
    "assert change_value(df, 'name', 'Pedro', 'Rafael').equals(df2)"
   ]
  },
  {
   "cell_type": "markdown",
   "metadata": {},
   "source": [
    "### 3.5 Escreva uma função para mudar o conteúdo de uma coluna de um dataframe de valores do tipo string ('yes' ou 'no') para uma coluna do tipo booleano parametrizando no nome da coluna a ser alterada.\n",
    "#### Exemplo: Considere o dataframe a seguir\n",
    "|    | name      |   score | qualify   |\n",
    "|:---|:----------|--------:|:----------|\n",
    "| a  | Jose |    12.5 | yes       |\n",
    "| b  | Maria      |     9   | no        |\n",
    "| c  | Joao |    16.5 | yes       |\n",
    "\n",
    "#### Resultado Esperado:\n",
    "|    | name      |   score | qualify   |\n",
    "|:---|:----------|--------:|:----------|\n",
    "| a  | Jose |    12.5 | True      |\n",
    "| b  | Maria      |     9   | False     |\n",
    "| c  | Joao |    16.5 | True      |\n"
   ]
  },
  {
   "cell_type": "code",
   "execution_count": null,
   "metadata": {
    "nbgrader": {
     "grade": false,
     "grade_id": "cell-553g5248eb14bc30",
     "locked": false,
     "schema_version": 3,
     "solution": true,
     "task": false
    }
   },
   "outputs": [],
   "source": [
    "# Dica: use a função Series.map\n",
    "def change_yes_no(df, col):\n",
    "    \"\"\"altere o data frame na coluna col substituindo 'yes' por True e 'no' por False\n",
    "    \"\"\"\n",
    "    ### BEGIN SOLUTION\n",
    "\n",
    "    ### END SOLUTION"
   ]
  },
  {
   "cell_type": "code",
   "execution_count": null,
   "metadata": {},
   "outputs": [],
   "source": [
    "## Faça seus testes aqui\n"
   ]
  },
  {
   "cell_type": "code",
   "execution_count": null,
   "metadata": {
    "nbgrader": {
     "grade": true,
     "grade_id": "cell-0e2b6efe06bdc60",
     "locked": true,
     "points": 1,
     "schema_version": 3,
     "solution": false,
     "task": false
    }
   },
   "outputs": [],
   "source": [
    "# Validação\n",
    "exam_data  = {'name': ['Jose', 'Maria', 'Joao', 'Pedro', 'Emilia',\n",
    "                       'Marcos', 'Mateus', 'Laura', 'Carlos', 'Jonas'],\n",
    "        'score': [12.5, 9, 16.5, np.nan, 9, 20, 14.5, np.nan, 8, 19],\n",
    "        'qualify': ['yes', 'no', 'yes', 'no', 'no', 'yes', 'yes', 'no', 'no', 'yes']}\n",
    "labels = ['a', 'b', 'c', 'd', 'e', 'f', 'g', 'h', 'i', 'j']\n",
    "exam_data2 = {'name': ['Jose', 'Maria', 'Joao', 'Pedro', 'Emilia',\n",
    "                       'Marcos', 'Mateus', 'Laura', 'Carlos', 'Jonas'],\n",
    "        'score': [12.5, 9, 16.5, np.nan, 9, 20, 14.5, np.nan, 8, 19],\n",
    "        'qualify': [True, False, True, False, False, True, True, False, False, True]}\n",
    "df = pd.DataFrame(exam_data, index=labels) \n",
    "df2 = pd.DataFrame(exam_data2, index=labels) \n",
    "\n",
    "assert change_yes_no(df, 'qualify').equals(df2) "
   ]
  },
  {
   "cell_type": "markdown",
   "metadata": {},
   "source": [
    "### 3.6 Escreva uma função para ordenar um DataFrame por colunas (Ex.: [col1, col2,...,colK]), de forma descendente, e retornar as top N linhas do DataFrame ordenado \n",
    "#### Use o dataset Diamonds (https://www.kaggle.com/shivam2503/diamonds) \n",
    "#### O código a seguir faz o download do dataset na forma de um dataframe."
   ]
  },
  {
   "cell_type": "code",
   "execution_count": null,
   "metadata": {},
   "outputs": [],
   "source": [
    "diamonds = pd.read_csv('https://raw.githubusercontent.com/mwaskom/seaborn-data/master/diamonds.csv')\n",
    "diamonds"
   ]
  },
  {
   "cell_type": "code",
   "execution_count": null,
   "metadata": {
    "nbgrader": {
     "grade": false,
     "grade_id": "cell-553h5248eb14bc30",
     "locked": false,
     "schema_version": 3,
     "solution": true,
     "task": false
    }
   },
   "outputs": [],
   "source": [
    "# Dica 1: Use a função sort_values do DataFrame. \n",
    "#         Esta função possui os parâmetros inplace e ascending.\n",
    "\n",
    "def topN_sorted(df, cols, n):\n",
    "    \"\"\"retorne as top n linhas ordenadas por cols\n",
    "    \"\"\"\n",
    "    ### BEGIN SOLUTION\n",
    "\n",
    "    ### END SOLUTION"
   ]
  },
  {
   "cell_type": "code",
   "execution_count": null,
   "metadata": {},
   "outputs": [],
   "source": [
    "## Faça seus testes aqui\n"
   ]
  },
  {
   "cell_type": "code",
   "execution_count": null,
   "metadata": {
    "nbgrader": {
     "grade": true,
     "grade_id": "cell-0e2b6cere06bdc60",
     "locked": true,
     "points": 1,
     "schema_version": 3,
     "solution": false,
     "task": false
    }
   },
   "outputs": [],
   "source": [
    "# Validação\n",
    "df = pd.DataFrame({'carat':[2.29, 2.0, 1.51],'cut':['Premium', 'Very Good', 'Ideal'],\n",
    "                   'color':['I', 'G', 'G'],'clarity':['VS2', 'SI1', 'IF'],\n",
    "                   'depth':[60.8, 63.5, 61.7],'table':[60.0, 56.0, 55.0],\n",
    "                   'price':[18823, 18818, 18806],'x':[8.5, 7.9, 7.37],\n",
    "                   'y':[8.47, 7.97, 7.41],'z':[5.16, 5.04, 4.56]},\n",
    "                 index=[27749, 27748, 27747])\n",
    "\n",
    "assert topN_sorted(diamonds,['price', 'clarity'], 3).equals(df)"
   ]
  },
  {
   "cell_type": "markdown",
   "metadata": {},
   "source": [
    "### 3.7 Considerando o dataset Diamonds, escreva uma função para retornar as informações dos diamantes que atendam a especificação x > N e y > N e Z > N\n",
    "#### Use o dataset Diamonds (https://www.kaggle.com/shivam2503/diamonds) "
   ]
  },
  {
   "cell_type": "code",
   "execution_count": null,
   "metadata": {
    "nbgrader": {
     "grade": false,
     "grade_id": "cell-55335248eb14bc30",
     "locked": false,
     "schema_version": 3,
     "solution": true,
     "task": false
    }
   },
   "outputs": [],
   "source": [
    "# Dica 1: Use o operador & (AND) para realizar a conjunção lógica (p ^ q).\n",
    "#         Use a sintaxe com colchete e parênteses df[(S1) & (S2) & (S3)]\n",
    "\n",
    "def filter_xyz(df, n):\n",
    "    \"\"\"retorne as linhas que atendam a especificação x > n e y > n e Z > n\n",
    "    \"\"\"\n",
    "    ### BEGIN SOLUTION\n",
    "\n",
    "    ### END SOLUTION"
   ]
  },
  {
   "cell_type": "code",
   "execution_count": null,
   "metadata": {},
   "outputs": [],
   "source": [
    "## Faça seus testes aqui\n"
   ]
  },
  {
   "cell_type": "code",
   "execution_count": null,
   "metadata": {
    "nbgrader": {
     "grade": true,
     "grade_id": "cell-0e24b6cefe06bdc60",
     "locked": true,
     "points": 1,
     "schema_version": 3,
     "solution": false,
     "task": false
    }
   },
   "outputs": [],
   "source": [
    "# Validação\n",
    "test_data = {'carat': {24067: 2.0}, 'cut': {24067: 'Premium'}, 'color': {24067: 'H'}, 'clarity': {24067: 'SI2'},\n",
    " 'depth': {24067: 58.9}, 'table': {24067: 57.0}, 'price': {24067: 12210}, 'x': {24067: 8.09}, 'y': {24067: 58.9},\n",
    " 'z': {24067: 8.06}}\n",
    "\n",
    "assert filter_xyz(diamonds, 7).to_dict() == test_data"
   ]
  }
 ],
 "metadata": {
  "kernelspec": {
   "display_name": "Python 3",
   "language": "python",
   "name": "python3"
  },
  "language_info": {
   "codemirror_mode": {
    "name": "ipython",
    "version": 3
   },
   "file_extension": ".py",
   "mimetype": "text/x-python",
   "name": "python",
   "nbconvert_exporter": "python",
   "pygments_lexer": "ipython3",
   "version": "3.8.3"
  },
  "name": "_merged"
 },
 "nbformat": 4,
 "nbformat_minor": 4
}
