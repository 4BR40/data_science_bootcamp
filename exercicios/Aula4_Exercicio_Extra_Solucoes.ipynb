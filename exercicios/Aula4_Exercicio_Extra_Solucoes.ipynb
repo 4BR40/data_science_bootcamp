{
 "cells": [
  {
   "cell_type": "markdown",
   "metadata": {
    "id": "e4XMhyoUsSdI"
   },
   "source": [
    "# Aula 4 - Exercícios Extra - Pandas e Fontes de dados\n"
   ]
  },
  {
   "cell_type": "code",
   "execution_count": 1,
   "metadata": {
    "id": "PR67WsfpsSdV"
   },
   "outputs": [],
   "source": [
    "# Importe as bibliotecas pandas, numpy, glob\n",
    "import pandas as pd\n",
    "import numpy as np\n"
   ]
  },
  {
   "cell_type": "markdown",
   "metadata": {
    "id": "kKQJFt4FsSdX"
   },
   "source": [
    "### 4.6 Escreva uma função para gerar uma permutação (aleatória) de uma lista e colocar o resultado num dataframe com os elementos da lista agrupados em grupos de tamanho N (Ex.: N=4). \n",
    "#### A coluna de índices deve conter o nome dos grupos. Os nomes dos grupos devem seguir a seguinte regra: Grupo 1, Grupo 2, Grupo 3,..., Grupo K.\n",
    "#### Veja como ficaria o resultado para o exemplo a seguir com uma lista de 9 elementos e tamanho N=4.\n",
    "\n",
    "|         | 0                  |\n",
    "|:--------|:-------------------|\n",
    "| Grupo 0 | Julie Lewis        |\n",
    "| Grupo 0 | Mary Phinney       |\n",
    "| Grupo 0 | Gilbert Ravenell   |\n",
    "| Grupo 0 | Jillian Brennan    |\n",
    "| Grupo 1 | Michelle Humphreys |\n",
    "| Grupo 1 | Kimberly Ransome   |\n",
    "| Grupo 1 | Lisa Watson        |\n",
    "| Grupo 1 | Jennifer Daniels   |\n",
    "| Grupo 2 | Olga Crocker       |"
   ]
  },
  {
   "cell_type": "code",
   "execution_count": 14,
   "metadata": {
    "id": "_yJpRTBJsSdZ",
    "nbgrader": {
     "grade": false,
     "grade_id": "cell-553qe5248eb14bc30",
     "locked": false,
     "schema_version": 3,
     "solution": true,
     "task": false
    }
   },
   "outputs": [],
   "source": [
    "# Dica 1: A função len calcula o tamanho de uma lista.\n",
    "# Dica 2: Use a função math.ceil(N/n), onde N é o tamanho da lista e n é a quantidade\n",
    "#         de pessoas em cada grupo\n",
    "\n",
    "def create_groups(names_list, n):\n",
    "    \"\"\"Crie um dataframe com os nomes da lista names_list agrupados em grupos de tamanho n.\n",
    "    \"\"\"\n",
    "    ### BEGIN SOLUTION\n",
    "    from random import shuffle\n",
    "    import math\n",
    "    import pandas as pd\n",
    "    N = len(names_list)\n",
    "    result_groups = []\n",
    "    groups = ['Grupo {0}'.format(g) for g in range(math.ceil(N/n))]*group_length \n",
    "    shuffle(names_list)\n",
    "    groups.sort()\n",
    "    return pd.DataFrame(index=groups[:N], data=names_list)\n",
    "    ### END SOLUTION\n"
   ]
  },
  {
   "cell_type": "code",
   "execution_count": 15,
   "metadata": {
    "id": "fTcjMoXRsSdb",
    "scrolled": false
   },
   "outputs": [],
   "source": [
    "## Faça seus testes aqui\n",
    "\n"
   ]
  },
  {
   "cell_type": "code",
   "execution_count": 16,
   "metadata": {
    "id": "481jWtvisSdc",
    "nbgrader": {
     "grade": true,
     "grade_id": "cell-0e2bh6cefe06bdc60",
     "locked": true,
     "points": 1,
     "schema_version": 3,
     "solution": false,
     "task": false
    }
   },
   "outputs": [],
   "source": [
    "# Validação\n",
    "# Instale a biblioteca names, na primeira vez que rodar esta célula\n",
    "#!pip install names\n",
    "import names\n",
    "N = 9\n",
    "group_length = 4\n",
    "test_data = [names.get_full_name() for n in range(N)]\n",
    "result = ['Grupo 0', 'Grupo 0', 'Grupo 0', 'Grupo 0', 'Grupo 1', 'Grupo 1', 'Grupo 1', 'Grupo 1', 'Grupo 2']\n",
    "df = create_groups(test_data, group_length)\n",
    "\n",
    "assert df.index.to_list() == result"
   ]
  },
  {
   "cell_type": "markdown",
   "metadata": {
    "id": "Mq3BZn3GsSde"
   },
   "source": [
    "### 4.7 Escreva uma função para colocar num mesmo dataframe os dados de PIB percapita e índice de gini dos municípios brasieiros. \n",
    "#### Retorne os registros completos pelo menos os atributos 'pib_percapita', 'cod_ibge6', '1991', '2000' e '2010' dos top 10 registros com maiores PIB percapita.\n",
    "\n",
    "#### Sugestão: Analise a diferença entre os quartis (do PIB percapita e do índice de gini) dos top 10 municípios, em termos de PIB percapita,  e os quartis de todo o brasil para estas mesmas duas variáveis. Responda: um PIB percapita significativamente maior, tem ajudado a melhorar o índice de Gini nesses municípios ? Dica: use o método describe(). \n",
    "\n"
   ]
  },
  {
   "cell_type": "code",
   "execution_count": 17,
   "metadata": {
    "colab": {
     "base_uri": "https://localhost:8080/"
    },
    "id": "lz6Xy_FVuSdC",
    "outputId": "590d8487-0ea4-45ea-f5dc-08ae55749472"
   },
   "outputs": [
    {
     "name": "stdout",
     "output_type": "stream",
     "text": [
      "Mounted at /content/drive\n"
     ]
    }
   ],
   "source": [
    "from google.colab import drive\n",
    "drive.mount('/content/drive')"
   ]
  },
  {
   "cell_type": "code",
   "execution_count": 23,
   "metadata": {
    "id": "LglG2yhcsSdf",
    "nbgrader": {
     "grade": false,
     "grade_id": "cell-553e5248ebs14bc30",
     "locked": false,
     "schema_version": 3,
     "solution": true,
     "task": false
    }
   },
   "outputs": [],
   "source": [
    "# Dica 1: Use as funções criadas nos exercícios 4, 5 e 6 desta aula.\n",
    "# Dica 2: Ao ler o arquivo CSV do índice de gini, se preciso, use encoding='utf8' como parâmetro do método read_csv\n",
    "\n",
    "def top10_municipios(path_pib, path_gini, path_pop):\n",
    "    \"\"\"retorne um dataframe contendo os 10 municipios com maiores PIB percapita. O dataframe deve conter também \n",
    "    o valor do índice de gini e nome, UF e código ibge do respectivo município.\n",
    "    \"\"\"\n",
    "    ### BEGIN SOLUTION\n",
    "    pib_pop = merge_pop_pib(path_pop, path_pib)\n",
    "    pib_percapita_2017 = pib_percapita(pib_pop)\n",
    "    pib_percapita_2017.loc[:, 'cod_ibge6'] = pib_percapita_2017.loc[:,'cod_ibge7'].apply(lambda x: x[:-1])\n",
    "\n",
    "    df_gini = pd.read_csv(path_gini, sep=';', skiprows=2, skipfooter=2, encoding='utf8', engine='python', decimal=',', na_values='...')\n",
    "    df_gini.loc[:, 'cod_ibge6'] = df_gini.loc[:,'Município'].apply(lambda x: x.split(' ')[0])\n",
    "    df_gini.loc[:, 'Município'] = df_gini.loc[:,'Município'].apply(lambda x: ' '.join(x.split(' ')[1:]))\n",
    "\n",
    "    pib_gini = pib_percapita_2017.merge(df_gini, on='cod_ibge6', how='outer')\n",
    "    df_top10 = pib_gini.sort_values(by='pib_percapita', ascending=False).iloc[:10,:]\n",
    "\n",
    "    return df_top10\n",
    "    ### END SOLUTION\n"
   ]
  },
  {
   "cell_type": "code",
   "execution_count": 22,
   "metadata": {
    "colab": {
     "base_uri": "https://localhost:8080/"
    },
    "id": "05udguYOsSdf",
    "outputId": "34b4baf5-660e-47dc-bc1c-fa65bf145154"
   },
   "outputs": [
    {
     "name": "stdout",
     "output_type": "stream",
     "text": [
      "/content/drive/MyDrive/Colab Notebooks\n"
     ]
    }
   ],
   "source": [
    "# Importar e carregar as funcoes dos exercicios da aula 4\n",
    "# !pip install ipynb\n",
    "%cd /content/drive/MyDrive/Colab\\ Notebooks\n",
    "%pwd\n",
    "from ipynb.fs.defs.Aula4_Exercicio_Solucoes import merge_pop_pib, pib_percapita"
   ]
  },
  {
   "cell_type": "code",
   "execution_count": null,
   "metadata": {
    "id": "end5nGU7sSdh"
   },
   "outputs": [],
   "source": [
    "## Faça seus testes aqui\n",
    "path_pib = 'https://github.com/alexlopespereira/curso_ciencia_dados2021/raw/master/data/originais/pib/pib_municipios.xlsx'\n",
    "path_gini = 'https://github.com/alexlopespereira/curso_ciencia_dados2021/raw/master/data/originais/gini/ginibr.csv'\n",
    "path_pop= 'https://github.com/alexlopespereira/curso_ciencia_dados2021/raw/master/data/originais/populacao/estimativa_dou_2017.xlsx'\n"
   ]
  },
  {
   "cell_type": "code",
   "execution_count": 26,
   "metadata": {
    "id": "CWR6HkNlsSdi",
    "nbgrader": {
     "grade": true,
     "grade_id": "cell-0e2bt6cefe06bdc60",
     "locked": true,
     "points": 1,
     "schema_version": 3,
     "solution": false,
     "task": false
    },
    "scrolled": false
   },
   "outputs": [],
   "source": [
    "# Validação\n",
    "# Importar e carregar as funcoes dos exercicios da aula 4\n",
    "from ipynb.fs.defs.Aula4_Exercicio_Solucoes import merge_pop_pib, pib_percapita\n",
    "\n",
    "path_pib = 'https://github.com/alexlopespereira/curso_ciencia_dados2021/raw/master/data/originais/pib/pib_municipios.xlsx'\n",
    "path_gini = 'https://github.com/alexlopespereira/curso_ciencia_dados2021/raw/master/data/originais/gini/ginibr.csv'\n",
    "path_pop='https://github.com/alexlopespereira/curso_ciencia_dados2021/raw/master/data/originais/populacao/estimativa_dou_2017.xlsx'\n",
    "\n",
    "test_data = {'pib_percapita': 344.8, 'cod_ibge6': '353650',\n",
    "             '1991': 0.5, '2000': 0.6, '2010': 0.5}\n",
    "top1 = top10_municipios(path_pib, path_gini, path_pop).iloc[0]\n",
    "top1[['pib_percapita', '1991', '2000', '2010']] = \\\n",
    "    top1[['pib_percapita', '1991', '2000', '2010']].apply(lambda x: round(x,1))\n",
    "top1dic = top1.to_dict()\n",
    "dic = {k: top1dic[k] for k in ('pib_percapita', 'cod_ibge6', '1991', '2000', '2010')}\n",
    "assert dic == test_data"
   ]
  },
  {
   "cell_type": "code",
   "execution_count": null,
   "metadata": {
    "id": "N-othNAQvTT8"
   },
   "outputs": [],
   "source": []
  }
 ],
 "metadata": {
  "celltoolbar": "Create Assignment",
  "colab": {
   "name": "Aula4_Exercicio_Extra_Solucoes.ipynb",
   "provenance": [],
   "toc_visible": true
  },
  "kernelspec": {
   "display_name": "Python 3",
   "language": "python",
   "name": "python3"
  },
  "language_info": {
   "codemirror_mode": {
    "name": "ipython",
    "version": 3
   },
   "file_extension": ".py",
   "mimetype": "text/x-python",
   "name": "python",
   "nbconvert_exporter": "python",
   "pygments_lexer": "ipython3",
   "version": "3.8.3"
  },
  "name": "_merged"
 },
 "nbformat": 4,
 "nbformat_minor": 1
}
