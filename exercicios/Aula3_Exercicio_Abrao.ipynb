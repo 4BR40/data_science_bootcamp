{
  "nbformat": 4,
  "nbformat_minor": 0,
  "metadata": {
    "kernelspec": {
      "display_name": "Python 3",
      "language": "python",
      "name": "python3"
    },
    "language_info": {
      "codemirror_mode": {
        "name": "ipython",
        "version": 3
      },
      "file_extension": ".py",
      "mimetype": "text/x-python",
      "name": "python",
      "nbconvert_exporter": "python",
      "pygments_lexer": "ipython3",
      "version": "3.8.3"
    },
    "name": "_merged",
    "colab": {
      "name": "Aula3_Exercicio.ipynb",
      "provenance": []
    }
  },
  "cells": [
    {
      "cell_type": "markdown",
      "metadata": {
        "id": "iMUfHdNKCmb3"
      },
      "source": [
        "# Aula 3 - Exercícios - Python e Pandas"
      ]
    },
    {
      "cell_type": "code",
      "metadata": {
        "id": "f8ylt5FnCmb9"
      },
      "source": [
        "# Importe as bibliotecas pandas e numpy\n",
        "import pandas as pd\n",
        "import numpy as np"
      ],
      "execution_count": 1,
      "outputs": []
    },
    {
      "cell_type": "markdown",
      "metadata": {
        "id": "lvNbzIFRCmb-"
      },
      "source": [
        "### 3.1 Escreva uma função para retornar os itens de uma determinada série que não estejam presentes em outra série \n",
        "#### Exemplo: Considere uma Serie A com os valores [1, 2, 3, 4, 5, 6, 7, 8], e\n",
        "####          uma Serie B com os valores [2, 4, 6, 8, 10, 12]\n",
        "#### Resultado Esperado: Uma Serie com os valores [1, 3, 5, 7]\n"
      ]
    },
    {
      "cell_type": "code",
      "metadata": {
        "nbgrader": {
          "grade": false,
          "grade_id": "cell-c705b9d11473b9f9",
          "locked": false,
          "schema_version": 3,
          "solution": true,
          "task": false
        },
        "id": "xR3RrQVsCmb-"
      },
      "source": [
        "# Dica 1: a função Series.isin() retorna uma Serie de valores booleanos representando a \n",
        "#      intersecção da de duas series\n",
        "# Dica 2: o operador ~ serve para inverter os valores booleanos de uma Serie.\n",
        "#      Exemplo: \n",
        "#        ~pd.Series([True, False]) \n",
        "#        0    False\n",
        "#        1     True\n",
        "#        dtype: bool\n",
        "\n",
        "def complemento(s1, s2):\n",
        "    \"\"\"retorne os valores do complemento de s1 em relação a s2\n",
        "    \"\"\"\n",
        "    ### BEGIN SOLUTION\n",
        "    return s1[~s1.isin(s2)] \n",
        "    ### END SOLUTION"
      ],
      "execution_count": 3,
      "outputs": []
    },
    {
      "cell_type": "code",
      "metadata": {
        "colab": {
          "base_uri": "https://localhost:8080/"
        },
        "id": "pIRbrwgBCmb_",
        "outputId": "33c81aa8-f173-4091-bd3a-f4fc3e699fa2"
      },
      "source": [
        "## Faça seus testes aqui\n",
        "s1 = pd.Series([1, 2, 3, 4, 5, 6, 7, 8]) \n",
        "s2 = pd.Series([2, 4, 6, 8, 10, 12]) \n",
        "c12 = pd.Series([1, 3, 5, 7]) \n",
        "c21 = pd.Series([10, 12]) \n",
        "a = ~s1.isin(s2)\n",
        "print (a)\n",
        "print (complemento (s1,s2))\n"
      ],
      "execution_count": 4,
      "outputs": [
        {
          "output_type": "stream",
          "text": [
            "0     True\n",
            "1    False\n",
            "2     True\n",
            "3    False\n",
            "4     True\n",
            "5    False\n",
            "6     True\n",
            "7    False\n",
            "dtype: bool\n",
            "0    1\n",
            "2    3\n",
            "4    5\n",
            "6    7\n",
            "dtype: int64\n"
          ],
          "name": "stdout"
        }
      ]
    },
    {
      "cell_type": "code",
      "metadata": {
        "nbgrader": {
          "grade": true,
          "grade_id": "cell-9ffda88d58e9282a",
          "locked": true,
          "points": 1,
          "schema_version": 3,
          "solution": false,
          "task": false
        },
        "id": "0wJ466OdCmb_"
      },
      "source": [
        "# Validação\n",
        "s1 = pd.Series([1, 2, 3, 4, 5, 6, 7, 8]) \n",
        "s2 = pd.Series([2, 4, 6, 8, 10, 12]) \n",
        "c12 = pd.Series([1, 3, 5, 7]) \n",
        "c21 = pd.Series([10, 12]) \n",
        "\n",
        "assert complemento(s1,s2).reset_index()[0].equals(c12)\n",
        "assert complemento(s2,s1).reset_index()[0].equals(c21)"
      ],
      "execution_count": 5,
      "outputs": []
    },
    {
      "cell_type": "markdown",
      "metadata": {
        "id": "kbjXoENqCmb_"
      },
      "source": [
        "### 3.2 Escreva uma função para obter os itens que não são comuns em duas séries. Ou seja, estão na uniao mas não na intersecção.\n",
        "#### Exemplo: Considere uma Serie A com os valores [1, 2, 3, 4, 5, 6, 7, 8], e\n",
        "####          uma Serie B com os valores [2, 4, 6, 8, 10, 12]\n",
        "#### Resultado Esperado: Uma Serie com os valores [1, 3, 5, 7,10,12]\n"
      ]
    },
    {
      "cell_type": "code",
      "metadata": {
        "nbgrader": {
          "grade": false,
          "grade_id": "cell-553ee248eb14bc30",
          "locked": false,
          "schema_version": 3,
          "solution": true,
          "task": false
        },
        "id": "rGb0GXkTCmcA"
      },
      "source": [
        "# Dica 1: Pense na teoria de conjuntos. Como você faria isso no papel usando um diagrama de Venn.\n",
        "# Dica 2: Use a função criada no exercicio 3.1\n",
        "# Dica 3: Use a função np.union1d para calcular a união de duas Series.\n",
        "#     Exemplo: o código pd.Series(np.union1d(t1, t2)) cria uma Serie resultante da união de t1 e t2\n",
        "\n",
        "def complemento2(s1, s2):\n",
        "    \"\"\"retorne os valores que não são comuns em duas séries\n",
        "    \"\"\"\n",
        "    ### BEGIN SOLUTION\n",
        "    return complemento(pd.Series(np.union1d(s1, s2)), pd.Series(np.intersect1d(s1, s2)))\n",
        "    ### END SOLUTION"
      ],
      "execution_count": 28,
      "outputs": []
    },
    {
      "cell_type": "code",
      "metadata": {
        "colab": {
          "base_uri": "https://localhost:8080/"
        },
        "id": "LvuXmsO7CmcA",
        "outputId": "faf83125-50e6-434d-cd55-e04b0303307d"
      },
      "source": [
        "## Faça seus testes aqui\n",
        "s1 = pd.Series([1, 2, 3, 4, 5, 6, 7, 8]) \n",
        "s2 = pd.Series([2, 4, 6, 8, 10, 12]) \n",
        "c = pd.Series([1, 3, 5, 7, 10, 12])\n",
        "\n",
        "# pd.Series(list(set(s1).intersection(set(s2))))\n",
        "# s1[s1.isin(s2)]\n",
        "# list(filter(lambda x:x not in set(s1).intersection(s2), np.union1d(s1, s2)))\n",
        "# ~s1.isin(s2)\n",
        "un1  = pd.Series(np.union1d(s1, s2))\n",
        "int1 = pd.Series(np.intersect1d(s1, s2))\n",
        "complemento(un1, int1)\n"
      ],
      "execution_count": 27,
      "outputs": [
        {
          "output_type": "execute_result",
          "data": {
            "text/plain": [
              "array([ 1,  2,  3,  4,  5,  6,  7,  8, 10, 12])"
            ]
          },
          "metadata": {
            "tags": []
          },
          "execution_count": 27
        }
      ]
    },
    {
      "cell_type": "code",
      "metadata": {
        "nbgrader": {
          "grade": true,
          "grade_id": "cell-0e2bt6cefe06bdc60",
          "locked": true,
          "points": 1,
          "schema_version": 3,
          "solution": false,
          "task": false
        },
        "id": "-jIr-MH7CmcA"
      },
      "source": [
        "# Validação\n",
        "s1 = pd.Series([1, 2, 3, 4, 5, 6, 7, 8]) \n",
        "s2 = pd.Series([2, 4, 6, 8, 10, 12]) \n",
        "c = pd.Series([1, 3, 5, 7, 10, 12]) \n",
        "\n",
        "assert complemento2(s1,s2).reset_index()[0].equals(c) "
      ],
      "execution_count": 29,
      "outputs": []
    },
    {
      "cell_type": "markdown",
      "metadata": {
        "id": "6WZJvJ_3CmcB"
      },
      "source": [
        "### 3.3 Escreva uma função para selecionar as linhas de um dataframe onde o valor na coluna especificada seja ausente (NA)\n"
      ]
    },
    {
      "cell_type": "code",
      "metadata": {
        "nbgrader": {
          "grade": false,
          "grade_id": "cell-553d5248eb14bc30",
          "locked": false,
          "schema_version": 3,
          "solution": true,
          "task": false
        },
        "id": "wGQDrDm3CmcB"
      },
      "source": [
        "def seleciona_null(df, col):\n",
        "    \"\"\"retorne as linhas cujo valor na coluna col seja ausente (NA)\n",
        "    \"\"\"\n",
        "    ### BEGIN SOLUTION\n",
        "    return df[df[col].isnull()]\n",
        "    ### END SOLUTION"
      ],
      "execution_count": 34,
      "outputs": []
    },
    {
      "cell_type": "code",
      "metadata": {
        "colab": {
          "base_uri": "https://localhost:8080/",
          "height": 106
        },
        "id": "9DZKFTeyCmcB",
        "outputId": "0f962fe6-63a5-4eca-fe6c-6364f19d80c5"
      },
      "source": [
        "## Faça seus testes aqui\n",
        "exam_data  = {'name': ['Anastasia', 'Dima', 'Katherine', 'James', 'Emily', 'Michael', 'Matthew', 'Laura', 'Kevin', 'Jonas'],\n",
        "        'score': [12.5, 9, 16.5, np.nan, 9, 20, 14.5, np.nan, 8, 19],\n",
        "        'attempts': [1, 3, 2, 3, 2, 3, 1, 1, 2, 1],\n",
        "        'qualify': ['yes', 'no', 'yes', 'no', 'no', 'yes', 'yes', 'no', 'no', 'yes']}\n",
        "labels = ['a', 'b', 'c', 'd', 'e', 'f', 'g', 'h', 'i', 'j']\n",
        "df = pd.DataFrame(exam_data , index=labels)\n",
        "df = df[df['score'].isnull()]\n",
        "df"
      ],
      "execution_count": 33,
      "outputs": [
        {
          "output_type": "execute_result",
          "data": {
            "text/html": [
              "<div>\n",
              "<style scoped>\n",
              "    .dataframe tbody tr th:only-of-type {\n",
              "        vertical-align: middle;\n",
              "    }\n",
              "\n",
              "    .dataframe tbody tr th {\n",
              "        vertical-align: top;\n",
              "    }\n",
              "\n",
              "    .dataframe thead th {\n",
              "        text-align: right;\n",
              "    }\n",
              "</style>\n",
              "<table border=\"1\" class=\"dataframe\">\n",
              "  <thead>\n",
              "    <tr style=\"text-align: right;\">\n",
              "      <th></th>\n",
              "      <th>name</th>\n",
              "      <th>score</th>\n",
              "      <th>attempts</th>\n",
              "      <th>qualify</th>\n",
              "    </tr>\n",
              "  </thead>\n",
              "  <tbody>\n",
              "    <tr>\n",
              "      <th>d</th>\n",
              "      <td>James</td>\n",
              "      <td>NaN</td>\n",
              "      <td>3</td>\n",
              "      <td>no</td>\n",
              "    </tr>\n",
              "    <tr>\n",
              "      <th>h</th>\n",
              "      <td>Laura</td>\n",
              "      <td>NaN</td>\n",
              "      <td>1</td>\n",
              "      <td>no</td>\n",
              "    </tr>\n",
              "  </tbody>\n",
              "</table>\n",
              "</div>"
            ],
            "text/plain": [
              "    name  score  attempts qualify\n",
              "d  James    NaN         3      no\n",
              "h  Laura    NaN         1      no"
            ]
          },
          "metadata": {
            "tags": []
          },
          "execution_count": 33
        }
      ]
    },
    {
      "cell_type": "code",
      "metadata": {
        "nbgrader": {
          "grade": true,
          "grade_id": "cell-0e2b6aefe06bdc60",
          "locked": true,
          "points": 1,
          "schema_version": 3,
          "solution": false,
          "task": false
        },
        "scrolled": true,
        "id": "njIRzwnSCmcB"
      },
      "source": [
        "# Validação\n",
        "exam_data  = {'name': ['Anastasia', 'Dima', 'Katherine', 'James', 'Emily', 'Michael', 'Matthew', 'Laura', 'Kevin', 'Jonas'],\n",
        "        'score': [12.5, 9, 16.5, np.nan, 9, 20, 14.5, np.nan, 8, 19],\n",
        "        'attempts': [1, 3, 2, 3, 2, 3, 1, 1, 2, 1],\n",
        "        'qualify': ['yes', 'no', 'yes', 'no', 'no', 'yes', 'yes', 'no', 'no', 'yes']}\n",
        "labels = ['a', 'b', 'c', 'd', 'e', 'f', 'g', 'h', 'i', 'j']\n",
        "df = pd.DataFrame(exam_data , index=labels)\n",
        "assert seleciona_null(df, 'score').equals(df.loc[['d', 'h']])"
      ],
      "execution_count": 35,
      "outputs": []
    },
    {
      "cell_type": "markdown",
      "metadata": {
        "id": "K1GCqJkpCmcC"
      },
      "source": [
        "### 3.4 Escreva uma função para mudar o conteúdo de uma coluna de um dataframe, especificando como parâmetros de entrada o nome da coluna, o valor original e o novo valor.\n",
        "#### Exemplo:\n",
        "|    | name      |   score | qualify   |\n",
        "|:---|:----------|--------:|:----------|\n",
        "| a  | Jose |    12.5 | yes       |\n",
        "| b  | Maria      |     9   | no        |\n",
        "| c  | Joao |    16.5 | yes       |\n",
        "| d  | Pedro     |   nan   | no        |\n",
        "\n",
        "#### Resultado Esperado:\n",
        "|    | name      |   score | qualify   |\n",
        "|:---|:----------|--------:|:----------|\n",
        "| a  | Jose |    12.5 | yes       |\n",
        "| b  | Maria      |     9   | no        |\n",
        "| c  | Joao |    16.5 | yes       |\n",
        "| d  | Rafael    |   nan   | no        |\n"
      ]
    },
    {
      "cell_type": "code",
      "metadata": {
        "nbgrader": {
          "grade": false,
          "grade_id": "cell-553f5248eb14bc30",
          "locked": false,
          "schema_version": 3,
          "solution": true,
          "task": false
        },
        "id": "L3ZieMTqCmcC"
      },
      "source": [
        "# Dica: Use a função Series.replace. A função replace tem um parâmetro inplace \n",
        "#       para modificar o proprio objeto.\n",
        "\n",
        "def change_value(df, col, orig, new):\n",
        "    \"\"\"altere a coluna col do dataframe df substituindo orig por new\n",
        "    \"\"\"\n",
        "    ### BEGIN SOLUTION\n",
        "    return df.replace({col: orig}, new)\n",
        "    ### END SOLUTION"
      ],
      "execution_count": 43,
      "outputs": []
    },
    {
      "cell_type": "code",
      "metadata": {
        "colab": {
          "base_uri": "https://localhost:8080/",
          "height": 343
        },
        "id": "D_cAV7KSCmcC",
        "outputId": "7e05fde3-5fe6-40c9-bd86-0118a2517498"
      },
      "source": [
        "## Faça seus testes aqui\n",
        "exam_data  = {'name': ['Jose', 'Maria', 'Joao', 'Pedro', 'Emilia',\n",
        "                       'Marcos', 'Mateus', 'Laura', 'Carlos', 'Jonas'],\n",
        "        'score': [12.5, 9, 16.5, np.nan, 9, 20, 14.5, np.nan, 8, 19],\n",
        "        'qualify': ['yes', 'no', 'yes', 'no', 'no', 'yes', 'yes', 'no', 'no', 'yes']}\n",
        "labels = ['a', 'b', 'c', 'd', 'e', 'f', 'g', 'h', 'i', 'j']\n",
        "exam_data2 = {'name': ['Jose', 'Maria', 'Joao', 'Rafael', 'Emilia',\n",
        "                       'Marcos', 'Mateus', 'Laura', 'Carlos', 'Jonas'],\n",
        "        'score': [12.5, 9, 16.5, np.nan, 9, 20, 14.5, np.nan, 8, 19],\n",
        "        'qualify': ['yes', 'no', 'yes', 'no', 'no', 'yes', 'yes', 'no', 'no', 'yes']}\n",
        "df = pd.DataFrame(exam_data, index=labels) \n",
        "df2 = pd.DataFrame(exam_data2, index=labels)\n",
        "\n",
        "df.replace({'name': 'Jose'}, 'Jonas')"
      ],
      "execution_count": 42,
      "outputs": [
        {
          "output_type": "execute_result",
          "data": {
            "text/html": [
              "<div>\n",
              "<style scoped>\n",
              "    .dataframe tbody tr th:only-of-type {\n",
              "        vertical-align: middle;\n",
              "    }\n",
              "\n",
              "    .dataframe tbody tr th {\n",
              "        vertical-align: top;\n",
              "    }\n",
              "\n",
              "    .dataframe thead th {\n",
              "        text-align: right;\n",
              "    }\n",
              "</style>\n",
              "<table border=\"1\" class=\"dataframe\">\n",
              "  <thead>\n",
              "    <tr style=\"text-align: right;\">\n",
              "      <th></th>\n",
              "      <th>name</th>\n",
              "      <th>score</th>\n",
              "      <th>qualify</th>\n",
              "    </tr>\n",
              "  </thead>\n",
              "  <tbody>\n",
              "    <tr>\n",
              "      <th>a</th>\n",
              "      <td>Jonas</td>\n",
              "      <td>12.5</td>\n",
              "      <td>yes</td>\n",
              "    </tr>\n",
              "    <tr>\n",
              "      <th>b</th>\n",
              "      <td>Maria</td>\n",
              "      <td>9.0</td>\n",
              "      <td>no</td>\n",
              "    </tr>\n",
              "    <tr>\n",
              "      <th>c</th>\n",
              "      <td>Joao</td>\n",
              "      <td>16.5</td>\n",
              "      <td>yes</td>\n",
              "    </tr>\n",
              "    <tr>\n",
              "      <th>d</th>\n",
              "      <td>Pedro</td>\n",
              "      <td>NaN</td>\n",
              "      <td>no</td>\n",
              "    </tr>\n",
              "    <tr>\n",
              "      <th>e</th>\n",
              "      <td>Emilia</td>\n",
              "      <td>9.0</td>\n",
              "      <td>no</td>\n",
              "    </tr>\n",
              "    <tr>\n",
              "      <th>f</th>\n",
              "      <td>Marcos</td>\n",
              "      <td>20.0</td>\n",
              "      <td>yes</td>\n",
              "    </tr>\n",
              "    <tr>\n",
              "      <th>g</th>\n",
              "      <td>Mateus</td>\n",
              "      <td>14.5</td>\n",
              "      <td>yes</td>\n",
              "    </tr>\n",
              "    <tr>\n",
              "      <th>h</th>\n",
              "      <td>Laura</td>\n",
              "      <td>NaN</td>\n",
              "      <td>no</td>\n",
              "    </tr>\n",
              "    <tr>\n",
              "      <th>i</th>\n",
              "      <td>Carlos</td>\n",
              "      <td>8.0</td>\n",
              "      <td>no</td>\n",
              "    </tr>\n",
              "    <tr>\n",
              "      <th>j</th>\n",
              "      <td>Jonas</td>\n",
              "      <td>19.0</td>\n",
              "      <td>yes</td>\n",
              "    </tr>\n",
              "  </tbody>\n",
              "</table>\n",
              "</div>"
            ],
            "text/plain": [
              "     name  score qualify\n",
              "a   Jonas   12.5     yes\n",
              "b   Maria    9.0      no\n",
              "c    Joao   16.5     yes\n",
              "d   Pedro    NaN      no\n",
              "e  Emilia    9.0      no\n",
              "f  Marcos   20.0     yes\n",
              "g  Mateus   14.5     yes\n",
              "h   Laura    NaN      no\n",
              "i  Carlos    8.0      no\n",
              "j   Jonas   19.0     yes"
            ]
          },
          "metadata": {
            "tags": []
          },
          "execution_count": 42
        }
      ]
    },
    {
      "cell_type": "code",
      "metadata": {
        "nbgrader": {
          "grade": true,
          "grade_id": "cell-0e2b65cefe06bdc60",
          "locked": true,
          "points": 1,
          "schema_version": 3,
          "solution": false,
          "task": false
        },
        "id": "ixS4wy2OCmcC"
      },
      "source": [
        "# Validação\n",
        "exam_data  = {'name': ['Jose', 'Maria', 'Joao', 'Pedro', 'Emilia',\n",
        "                       'Marcos', 'Mateus', 'Laura', 'Carlos', 'Jonas'],\n",
        "        'score': [12.5, 9, 16.5, np.nan, 9, 20, 14.5, np.nan, 8, 19],\n",
        "        'qualify': ['yes', 'no', 'yes', 'no', 'no', 'yes', 'yes', 'no', 'no', 'yes']}\n",
        "labels = ['a', 'b', 'c', 'd', 'e', 'f', 'g', 'h', 'i', 'j']\n",
        "exam_data2 = {'name': ['Jose', 'Maria', 'Joao', 'Rafael', 'Emilia',\n",
        "                       'Marcos', 'Mateus', 'Laura', 'Carlos', 'Jonas'],\n",
        "        'score': [12.5, 9, 16.5, np.nan, 9, 20, 14.5, np.nan, 8, 19],\n",
        "        'qualify': ['yes', 'no', 'yes', 'no', 'no', 'yes', 'yes', 'no', 'no', 'yes']}\n",
        "df = pd.DataFrame(exam_data, index=labels) \n",
        "df2 = pd.DataFrame(exam_data2, index=labels) \n",
        "\n",
        "assert change_value(df, 'name', 'Pedro', 'Rafael').equals(df2)"
      ],
      "execution_count": 44,
      "outputs": []
    },
    {
      "cell_type": "markdown",
      "metadata": {
        "id": "K4cPpQE6CmcD"
      },
      "source": [
        "### 3.5 Escreva uma função para mudar o conteúdo de uma coluna de um dataframe de valores do tipo string ('yes' ou 'no') para uma coluna do tipo booleano parametrizando no nome da coluna a ser alterada.\n",
        "#### Exemplo: Considere o dataframe a seguir\n",
        "|    | name      |   score | qualify   |\n",
        "|:---|:----------|--------:|:----------|\n",
        "| a  | Jose |    12.5 | yes       |\n",
        "| b  | Maria      |     9   | no        |\n",
        "| c  | Joao |    16.5 | yes       |\n",
        "\n",
        "#### Resultado Esperado:\n",
        "|    | name      |   score | qualify   |\n",
        "|:---|:----------|--------:|:----------|\n",
        "| a  | Jose |    12.5 | True      |\n",
        "| b  | Maria      |     9   | False     |\n",
        "| c  | Joao |    16.5 | True      |\n"
      ]
    },
    {
      "cell_type": "code",
      "metadata": {
        "nbgrader": {
          "grade": false,
          "grade_id": "cell-553g5248eb14bc30",
          "locked": false,
          "schema_version": 3,
          "solution": true,
          "task": false
        },
        "id": "FGJ8VTTkCmcD"
      },
      "source": [
        "# Dica: use a função Series.map\n",
        "def change_yes_no(df, col):\n",
        "    \"\"\"altere o data frame na coluna col substituindo 'yes' por True e 'no' por False\n",
        "    \"\"\"\n",
        "    ### BEGIN SOLUTION\n",
        "    return df.replace({col: 'yes'}, True).replace({col: 'no'}, False)\n",
        "    ### END SOLUTION"
      ],
      "execution_count": 50,
      "outputs": []
    },
    {
      "cell_type": "code",
      "metadata": {
        "colab": {
          "base_uri": "https://localhost:8080/",
          "height": 343
        },
        "id": "eYWjXUM9CmcD",
        "outputId": "ca271556-5a19-4280-c2c7-1dc092af370b"
      },
      "source": [
        "## Faça seus testes aqui\n",
        "exam_data  = {'name': ['Jose', 'Maria', 'Joao', 'Pedro', 'Emilia',\n",
        "                       'Marcos', 'Mateus', 'Laura', 'Carlos', 'Jonas'],\n",
        "        'score': [12.5, 9, 16.5, np.nan, 9, 20, 14.5, np.nan, 8, 19],\n",
        "        'qualify': ['yes', 'no', 'yes', 'no', 'no', 'yes', 'yes', 'no', 'no', 'yes']}\n",
        "labels = ['a', 'b', 'c', 'd', 'e', 'f', 'g', 'h', 'i', 'j']\n",
        "exam_data2 = {'name': ['Jose', 'Maria', 'Joao', 'Pedro', 'Emilia',\n",
        "                       'Marcos', 'Mateus', 'Laura', 'Carlos', 'Jonas'],\n",
        "        'score': [12.5, 9, 16.5, np.nan, 9, 20, 14.5, np.nan, 8, 19],\n",
        "        'qualify': [True, False, True, False, False, True, True, False, False, True]}\n",
        "df = pd.DataFrame(exam_data, index=labels) \n",
        "df2 = pd.DataFrame(exam_data2, index=labels) \n",
        "\n",
        "df.replace({'qualify': 'yes'}, True).replace({'qualify': 'no'}, False)\n"
      ],
      "execution_count": 47,
      "outputs": [
        {
          "output_type": "execute_result",
          "data": {
            "text/html": [
              "<div>\n",
              "<style scoped>\n",
              "    .dataframe tbody tr th:only-of-type {\n",
              "        vertical-align: middle;\n",
              "    }\n",
              "\n",
              "    .dataframe tbody tr th {\n",
              "        vertical-align: top;\n",
              "    }\n",
              "\n",
              "    .dataframe thead th {\n",
              "        text-align: right;\n",
              "    }\n",
              "</style>\n",
              "<table border=\"1\" class=\"dataframe\">\n",
              "  <thead>\n",
              "    <tr style=\"text-align: right;\">\n",
              "      <th></th>\n",
              "      <th>name</th>\n",
              "      <th>score</th>\n",
              "      <th>qualify</th>\n",
              "    </tr>\n",
              "  </thead>\n",
              "  <tbody>\n",
              "    <tr>\n",
              "      <th>a</th>\n",
              "      <td>Jose</td>\n",
              "      <td>12.5</td>\n",
              "      <td>True</td>\n",
              "    </tr>\n",
              "    <tr>\n",
              "      <th>b</th>\n",
              "      <td>Maria</td>\n",
              "      <td>9.0</td>\n",
              "      <td>False</td>\n",
              "    </tr>\n",
              "    <tr>\n",
              "      <th>c</th>\n",
              "      <td>Joao</td>\n",
              "      <td>16.5</td>\n",
              "      <td>True</td>\n",
              "    </tr>\n",
              "    <tr>\n",
              "      <th>d</th>\n",
              "      <td>Pedro</td>\n",
              "      <td>NaN</td>\n",
              "      <td>False</td>\n",
              "    </tr>\n",
              "    <tr>\n",
              "      <th>e</th>\n",
              "      <td>Emilia</td>\n",
              "      <td>9.0</td>\n",
              "      <td>False</td>\n",
              "    </tr>\n",
              "    <tr>\n",
              "      <th>f</th>\n",
              "      <td>Marcos</td>\n",
              "      <td>20.0</td>\n",
              "      <td>True</td>\n",
              "    </tr>\n",
              "    <tr>\n",
              "      <th>g</th>\n",
              "      <td>Mateus</td>\n",
              "      <td>14.5</td>\n",
              "      <td>True</td>\n",
              "    </tr>\n",
              "    <tr>\n",
              "      <th>h</th>\n",
              "      <td>Laura</td>\n",
              "      <td>NaN</td>\n",
              "      <td>False</td>\n",
              "    </tr>\n",
              "    <tr>\n",
              "      <th>i</th>\n",
              "      <td>Carlos</td>\n",
              "      <td>8.0</td>\n",
              "      <td>False</td>\n",
              "    </tr>\n",
              "    <tr>\n",
              "      <th>j</th>\n",
              "      <td>Jonas</td>\n",
              "      <td>19.0</td>\n",
              "      <td>True</td>\n",
              "    </tr>\n",
              "  </tbody>\n",
              "</table>\n",
              "</div>"
            ],
            "text/plain": [
              "     name  score  qualify\n",
              "a    Jose   12.5     True\n",
              "b   Maria    9.0    False\n",
              "c    Joao   16.5     True\n",
              "d   Pedro    NaN    False\n",
              "e  Emilia    9.0    False\n",
              "f  Marcos   20.0     True\n",
              "g  Mateus   14.5     True\n",
              "h   Laura    NaN    False\n",
              "i  Carlos    8.0    False\n",
              "j   Jonas   19.0     True"
            ]
          },
          "metadata": {
            "tags": []
          },
          "execution_count": 47
        }
      ]
    },
    {
      "cell_type": "code",
      "metadata": {
        "nbgrader": {
          "grade": true,
          "grade_id": "cell-0e2b6efe06bdc60",
          "locked": true,
          "points": 1,
          "schema_version": 3,
          "solution": false,
          "task": false
        },
        "id": "_9eF2eS7CmcD"
      },
      "source": [
        "# Validação\n",
        "exam_data  = {'name': ['Jose', 'Maria', 'Joao', 'Pedro', 'Emilia',\n",
        "                       'Marcos', 'Mateus', 'Laura', 'Carlos', 'Jonas'],\n",
        "        'score': [12.5, 9, 16.5, np.nan, 9, 20, 14.5, np.nan, 8, 19],\n",
        "        'qualify': ['yes', 'no', 'yes', 'no', 'no', 'yes', 'yes', 'no', 'no', 'yes']}\n",
        "labels = ['a', 'b', 'c', 'd', 'e', 'f', 'g', 'h', 'i', 'j']\n",
        "exam_data2 = {'name': ['Jose', 'Maria', 'Joao', 'Pedro', 'Emilia',\n",
        "                       'Marcos', 'Mateus', 'Laura', 'Carlos', 'Jonas'],\n",
        "        'score': [12.5, 9, 16.5, np.nan, 9, 20, 14.5, np.nan, 8, 19],\n",
        "        'qualify': [True, False, True, False, False, True, True, False, False, True]}\n",
        "df = pd.DataFrame(exam_data, index=labels) \n",
        "df2 = pd.DataFrame(exam_data2, index=labels) \n",
        "\n",
        "assert change_yes_no(df, 'qualify').equals(df2) "
      ],
      "execution_count": 51,
      "outputs": []
    },
    {
      "cell_type": "markdown",
      "metadata": {
        "id": "pTMQDo4CCmcE"
      },
      "source": [
        "### 3.6 Escreva uma função para ordenar um DataFrame por colunas (Ex.: [col1, col2,...,colK]), de forma descendente, e retornar as top N linhas do DataFrame ordenado \n",
        "#### Use o dataset Diamonds (https://www.kaggle.com/shivam2503/diamonds) \n",
        "#### O código a seguir faz o download do dataset na forma de um dataframe."
      ]
    },
    {
      "cell_type": "code",
      "metadata": {
        "colab": {
          "base_uri": "https://localhost:8080/",
          "height": 402
        },
        "id": "Y_qVfSIgCmcE",
        "outputId": "82211ad0-49cf-4300-a13d-1d198f367c4b"
      },
      "source": [
        "diamonds = pd.read_csv('https://raw.githubusercontent.com/mwaskom/seaborn-data/master/diamonds.csv')\n",
        "diamonds"
      ],
      "execution_count": 53,
      "outputs": [
        {
          "output_type": "execute_result",
          "data": {
            "text/html": [
              "<div>\n",
              "<style scoped>\n",
              "    .dataframe tbody tr th:only-of-type {\n",
              "        vertical-align: middle;\n",
              "    }\n",
              "\n",
              "    .dataframe tbody tr th {\n",
              "        vertical-align: top;\n",
              "    }\n",
              "\n",
              "    .dataframe thead th {\n",
              "        text-align: right;\n",
              "    }\n",
              "</style>\n",
              "<table border=\"1\" class=\"dataframe\">\n",
              "  <thead>\n",
              "    <tr style=\"text-align: right;\">\n",
              "      <th></th>\n",
              "      <th>carat</th>\n",
              "      <th>cut</th>\n",
              "      <th>color</th>\n",
              "      <th>clarity</th>\n",
              "      <th>depth</th>\n",
              "      <th>table</th>\n",
              "      <th>price</th>\n",
              "      <th>x</th>\n",
              "      <th>y</th>\n",
              "      <th>z</th>\n",
              "    </tr>\n",
              "  </thead>\n",
              "  <tbody>\n",
              "    <tr>\n",
              "      <th>0</th>\n",
              "      <td>0.23</td>\n",
              "      <td>Ideal</td>\n",
              "      <td>E</td>\n",
              "      <td>SI2</td>\n",
              "      <td>61.5</td>\n",
              "      <td>55.0</td>\n",
              "      <td>326</td>\n",
              "      <td>3.95</td>\n",
              "      <td>3.98</td>\n",
              "      <td>2.43</td>\n",
              "    </tr>\n",
              "    <tr>\n",
              "      <th>1</th>\n",
              "      <td>0.21</td>\n",
              "      <td>Premium</td>\n",
              "      <td>E</td>\n",
              "      <td>SI1</td>\n",
              "      <td>59.8</td>\n",
              "      <td>61.0</td>\n",
              "      <td>326</td>\n",
              "      <td>3.89</td>\n",
              "      <td>3.84</td>\n",
              "      <td>2.31</td>\n",
              "    </tr>\n",
              "    <tr>\n",
              "      <th>2</th>\n",
              "      <td>0.23</td>\n",
              "      <td>Good</td>\n",
              "      <td>E</td>\n",
              "      <td>VS1</td>\n",
              "      <td>56.9</td>\n",
              "      <td>65.0</td>\n",
              "      <td>327</td>\n",
              "      <td>4.05</td>\n",
              "      <td>4.07</td>\n",
              "      <td>2.31</td>\n",
              "    </tr>\n",
              "    <tr>\n",
              "      <th>3</th>\n",
              "      <td>0.29</td>\n",
              "      <td>Premium</td>\n",
              "      <td>I</td>\n",
              "      <td>VS2</td>\n",
              "      <td>62.4</td>\n",
              "      <td>58.0</td>\n",
              "      <td>334</td>\n",
              "      <td>4.20</td>\n",
              "      <td>4.23</td>\n",
              "      <td>2.63</td>\n",
              "    </tr>\n",
              "    <tr>\n",
              "      <th>4</th>\n",
              "      <td>0.31</td>\n",
              "      <td>Good</td>\n",
              "      <td>J</td>\n",
              "      <td>SI2</td>\n",
              "      <td>63.3</td>\n",
              "      <td>58.0</td>\n",
              "      <td>335</td>\n",
              "      <td>4.34</td>\n",
              "      <td>4.35</td>\n",
              "      <td>2.75</td>\n",
              "    </tr>\n",
              "    <tr>\n",
              "      <th>...</th>\n",
              "      <td>...</td>\n",
              "      <td>...</td>\n",
              "      <td>...</td>\n",
              "      <td>...</td>\n",
              "      <td>...</td>\n",
              "      <td>...</td>\n",
              "      <td>...</td>\n",
              "      <td>...</td>\n",
              "      <td>...</td>\n",
              "      <td>...</td>\n",
              "    </tr>\n",
              "    <tr>\n",
              "      <th>53935</th>\n",
              "      <td>0.72</td>\n",
              "      <td>Ideal</td>\n",
              "      <td>D</td>\n",
              "      <td>SI1</td>\n",
              "      <td>60.8</td>\n",
              "      <td>57.0</td>\n",
              "      <td>2757</td>\n",
              "      <td>5.75</td>\n",
              "      <td>5.76</td>\n",
              "      <td>3.50</td>\n",
              "    </tr>\n",
              "    <tr>\n",
              "      <th>53936</th>\n",
              "      <td>0.72</td>\n",
              "      <td>Good</td>\n",
              "      <td>D</td>\n",
              "      <td>SI1</td>\n",
              "      <td>63.1</td>\n",
              "      <td>55.0</td>\n",
              "      <td>2757</td>\n",
              "      <td>5.69</td>\n",
              "      <td>5.75</td>\n",
              "      <td>3.61</td>\n",
              "    </tr>\n",
              "    <tr>\n",
              "      <th>53937</th>\n",
              "      <td>0.70</td>\n",
              "      <td>Very Good</td>\n",
              "      <td>D</td>\n",
              "      <td>SI1</td>\n",
              "      <td>62.8</td>\n",
              "      <td>60.0</td>\n",
              "      <td>2757</td>\n",
              "      <td>5.66</td>\n",
              "      <td>5.68</td>\n",
              "      <td>3.56</td>\n",
              "    </tr>\n",
              "    <tr>\n",
              "      <th>53938</th>\n",
              "      <td>0.86</td>\n",
              "      <td>Premium</td>\n",
              "      <td>H</td>\n",
              "      <td>SI2</td>\n",
              "      <td>61.0</td>\n",
              "      <td>58.0</td>\n",
              "      <td>2757</td>\n",
              "      <td>6.15</td>\n",
              "      <td>6.12</td>\n",
              "      <td>3.74</td>\n",
              "    </tr>\n",
              "    <tr>\n",
              "      <th>53939</th>\n",
              "      <td>0.75</td>\n",
              "      <td>Ideal</td>\n",
              "      <td>D</td>\n",
              "      <td>SI2</td>\n",
              "      <td>62.2</td>\n",
              "      <td>55.0</td>\n",
              "      <td>2757</td>\n",
              "      <td>5.83</td>\n",
              "      <td>5.87</td>\n",
              "      <td>3.64</td>\n",
              "    </tr>\n",
              "  </tbody>\n",
              "</table>\n",
              "<p>53940 rows × 10 columns</p>\n",
              "</div>"
            ],
            "text/plain": [
              "       carat        cut color clarity  depth  table  price     x     y     z\n",
              "0       0.23      Ideal     E     SI2   61.5   55.0    326  3.95  3.98  2.43\n",
              "1       0.21    Premium     E     SI1   59.8   61.0    326  3.89  3.84  2.31\n",
              "2       0.23       Good     E     VS1   56.9   65.0    327  4.05  4.07  2.31\n",
              "3       0.29    Premium     I     VS2   62.4   58.0    334  4.20  4.23  2.63\n",
              "4       0.31       Good     J     SI2   63.3   58.0    335  4.34  4.35  2.75\n",
              "...      ...        ...   ...     ...    ...    ...    ...   ...   ...   ...\n",
              "53935   0.72      Ideal     D     SI1   60.8   57.0   2757  5.75  5.76  3.50\n",
              "53936   0.72       Good     D     SI1   63.1   55.0   2757  5.69  5.75  3.61\n",
              "53937   0.70  Very Good     D     SI1   62.8   60.0   2757  5.66  5.68  3.56\n",
              "53938   0.86    Premium     H     SI2   61.0   58.0   2757  6.15  6.12  3.74\n",
              "53939   0.75      Ideal     D     SI2   62.2   55.0   2757  5.83  5.87  3.64\n",
              "\n",
              "[53940 rows x 10 columns]"
            ]
          },
          "metadata": {
            "tags": []
          },
          "execution_count": 53
        }
      ]
    },
    {
      "cell_type": "code",
      "metadata": {
        "nbgrader": {
          "grade": false,
          "grade_id": "cell-553h5248eb14bc30",
          "locked": false,
          "schema_version": 3,
          "solution": true,
          "task": false
        },
        "id": "bBdaYD_HCmcE"
      },
      "source": [
        "# Dica 1: Use a função sort_values do DataFrame. \n",
        "#         Esta função possui os parâmetros inplace e ascending.\n",
        "\n",
        "def topN_sorted(df, cols, n):\n",
        "    \"\"\"retorne as top n linhas ordenadas por cols\n",
        "    \"\"\"\n",
        "    ### BEGIN SOLUTION\n",
        "    return df.sort_values(by=cols,ascending=False).head(n)\n",
        "    ### END SOLUTION"
      ],
      "execution_count": 59,
      "outputs": []
    },
    {
      "cell_type": "code",
      "metadata": {
        "colab": {
          "base_uri": "https://localhost:8080/",
          "height": 136
        },
        "id": "OLpBjcN7CmcE",
        "outputId": "0b665ee6-206a-46a9-82ca-2f8ae12006f1"
      },
      "source": [
        "## Faça seus testes aqui\n",
        "df = pd.DataFrame({'carat':[2.29, 2.0, 1.51],'cut':['Premium', 'Very Good', 'Ideal'],\n",
        "                   'color':['I', 'G', 'G'],'clarity':['VS2', 'SI1', 'IF'],\n",
        "                   'depth':[60.8, 63.5, 61.7],'table':[60.0, 56.0, 55.0],\n",
        "                   'price':[18823, 18818, 18806],'x':[8.5, 7.9, 7.37],\n",
        "                   'y':[8.47, 7.97, 7.41],'z':[5.16, 5.04, 4.56]},\n",
        "                 index=[27749, 27748, 27747])\n",
        "diamonds.sort_values( by=['price', 'clarity'] ).head(3)"
      ],
      "execution_count": 58,
      "outputs": [
        {
          "output_type": "execute_result",
          "data": {
            "text/html": [
              "<div>\n",
              "<style scoped>\n",
              "    .dataframe tbody tr th:only-of-type {\n",
              "        vertical-align: middle;\n",
              "    }\n",
              "\n",
              "    .dataframe tbody tr th {\n",
              "        vertical-align: top;\n",
              "    }\n",
              "\n",
              "    .dataframe thead th {\n",
              "        text-align: right;\n",
              "    }\n",
              "</style>\n",
              "<table border=\"1\" class=\"dataframe\">\n",
              "  <thead>\n",
              "    <tr style=\"text-align: right;\">\n",
              "      <th></th>\n",
              "      <th>carat</th>\n",
              "      <th>cut</th>\n",
              "      <th>color</th>\n",
              "      <th>clarity</th>\n",
              "      <th>depth</th>\n",
              "      <th>table</th>\n",
              "      <th>price</th>\n",
              "      <th>x</th>\n",
              "      <th>y</th>\n",
              "      <th>z</th>\n",
              "    </tr>\n",
              "  </thead>\n",
              "  <tbody>\n",
              "    <tr>\n",
              "      <th>1</th>\n",
              "      <td>0.21</td>\n",
              "      <td>Premium</td>\n",
              "      <td>E</td>\n",
              "      <td>SI1</td>\n",
              "      <td>59.8</td>\n",
              "      <td>61.0</td>\n",
              "      <td>326</td>\n",
              "      <td>3.89</td>\n",
              "      <td>3.84</td>\n",
              "      <td>2.31</td>\n",
              "    </tr>\n",
              "    <tr>\n",
              "      <th>0</th>\n",
              "      <td>0.23</td>\n",
              "      <td>Ideal</td>\n",
              "      <td>E</td>\n",
              "      <td>SI2</td>\n",
              "      <td>61.5</td>\n",
              "      <td>55.0</td>\n",
              "      <td>326</td>\n",
              "      <td>3.95</td>\n",
              "      <td>3.98</td>\n",
              "      <td>2.43</td>\n",
              "    </tr>\n",
              "    <tr>\n",
              "      <th>2</th>\n",
              "      <td>0.23</td>\n",
              "      <td>Good</td>\n",
              "      <td>E</td>\n",
              "      <td>VS1</td>\n",
              "      <td>56.9</td>\n",
              "      <td>65.0</td>\n",
              "      <td>327</td>\n",
              "      <td>4.05</td>\n",
              "      <td>4.07</td>\n",
              "      <td>2.31</td>\n",
              "    </tr>\n",
              "  </tbody>\n",
              "</table>\n",
              "</div>"
            ],
            "text/plain": [
              "   carat      cut color clarity  depth  table  price     x     y     z\n",
              "1   0.21  Premium     E     SI1   59.8   61.0    326  3.89  3.84  2.31\n",
              "0   0.23    Ideal     E     SI2   61.5   55.0    326  3.95  3.98  2.43\n",
              "2   0.23     Good     E     VS1   56.9   65.0    327  4.05  4.07  2.31"
            ]
          },
          "metadata": {
            "tags": []
          },
          "execution_count": 58
        }
      ]
    },
    {
      "cell_type": "code",
      "metadata": {
        "nbgrader": {
          "grade": true,
          "grade_id": "cell-0e2b6cere06bdc60",
          "locked": true,
          "points": 1,
          "schema_version": 3,
          "solution": false,
          "task": false
        },
        "id": "Yo_mFiCWCmcE"
      },
      "source": [
        "# Validação\n",
        "df = pd.DataFrame({'carat':[2.29, 2.0, 1.51],'cut':['Premium', 'Very Good', 'Ideal'],\n",
        "                   'color':['I', 'G', 'G'],'clarity':['VS2', 'SI1', 'IF'],\n",
        "                   'depth':[60.8, 63.5, 61.7],'table':[60.0, 56.0, 55.0],\n",
        "                   'price':[18823, 18818, 18806],'x':[8.5, 7.9, 7.37],\n",
        "                   'y':[8.47, 7.97, 7.41],'z':[5.16, 5.04, 4.56]},\n",
        "                 index=[27749, 27748, 27747])\n",
        "\n",
        "assert topN_sorted(diamonds,['price', 'clarity'], 3).equals(df)"
      ],
      "execution_count": 60,
      "outputs": []
    },
    {
      "cell_type": "markdown",
      "metadata": {
        "id": "P-QbSVF-CmcF"
      },
      "source": [
        "### 3.7 Considerando o dataset Diamonds, escreva uma função para retornar as informações dos diamantes que atendam a especificação x > N e y > N e Z > N\n",
        "#### Use o dataset Diamonds (https://www.kaggle.com/shivam2503/diamonds) "
      ]
    },
    {
      "cell_type": "code",
      "metadata": {
        "nbgrader": {
          "grade": false,
          "grade_id": "cell-55335248eb14bc30",
          "locked": false,
          "schema_version": 3,
          "solution": true,
          "task": false
        },
        "id": "K0-JA2eDCmcF"
      },
      "source": [
        "# Dica 1: Use o operador & (AND) para realizar a conjunção lógica (p ^ q).\n",
        "#         Use a sintaxe com colchete e parênteses df[(S1) & (S2) & (S3)]\n",
        "\n",
        "def filter_xyz(df, n):\n",
        "    \"\"\"retorne as linhas que atendam a especificação x > n e y > n e Z > n\n",
        "    \"\"\"\n",
        "    ### BEGIN SOLUTION\n",
        "    return df.loc[(df[\"x\"] > n) & (df['y'] > n) & (df['z'] > n)]\n",
        "    ### END SOLUTION"
      ],
      "execution_count": 65,
      "outputs": []
    },
    {
      "cell_type": "code",
      "metadata": {
        "colab": {
          "base_uri": "https://localhost:8080/",
          "height": 77
        },
        "id": "Yzzvyd_0CmcF",
        "outputId": "5b49328d-b377-4fb3-d6c2-d4bedd043dd7"
      },
      "source": [
        "## Faça seus testes aqui\n",
        "test_data = {'carat': {24067: 2.0}, 'cut': {24067: 'Premium'}, 'color': {24067: 'H'}, 'clarity': {24067: 'SI2'},\n",
        " 'depth': {24067: 58.9}, 'table': {24067: 57.0}, 'price': {24067: 12210}, 'x': {24067: 8.09}, 'y': {24067: 58.9},\n",
        " 'z': {24067: 8.06}}\n",
        "diamonds.loc[(diamonds['x']>7) & (diamonds['y'] > 7) & (diamonds['z'] > 7) ]"
      ],
      "execution_count": 64,
      "outputs": [
        {
          "output_type": "execute_result",
          "data": {
            "text/html": [
              "<div>\n",
              "<style scoped>\n",
              "    .dataframe tbody tr th:only-of-type {\n",
              "        vertical-align: middle;\n",
              "    }\n",
              "\n",
              "    .dataframe tbody tr th {\n",
              "        vertical-align: top;\n",
              "    }\n",
              "\n",
              "    .dataframe thead th {\n",
              "        text-align: right;\n",
              "    }\n",
              "</style>\n",
              "<table border=\"1\" class=\"dataframe\">\n",
              "  <thead>\n",
              "    <tr style=\"text-align: right;\">\n",
              "      <th></th>\n",
              "      <th>carat</th>\n",
              "      <th>cut</th>\n",
              "      <th>color</th>\n",
              "      <th>clarity</th>\n",
              "      <th>depth</th>\n",
              "      <th>table</th>\n",
              "      <th>price</th>\n",
              "      <th>x</th>\n",
              "      <th>y</th>\n",
              "      <th>z</th>\n",
              "    </tr>\n",
              "  </thead>\n",
              "  <tbody>\n",
              "    <tr>\n",
              "      <th>24067</th>\n",
              "      <td>2.0</td>\n",
              "      <td>Premium</td>\n",
              "      <td>H</td>\n",
              "      <td>SI2</td>\n",
              "      <td>58.9</td>\n",
              "      <td>57.0</td>\n",
              "      <td>12210</td>\n",
              "      <td>8.09</td>\n",
              "      <td>58.9</td>\n",
              "      <td>8.06</td>\n",
              "    </tr>\n",
              "  </tbody>\n",
              "</table>\n",
              "</div>"
            ],
            "text/plain": [
              "       carat      cut color clarity  depth  table  price     x     y     z\n",
              "24067    2.0  Premium     H     SI2   58.9   57.0  12210  8.09  58.9  8.06"
            ]
          },
          "metadata": {
            "tags": []
          },
          "execution_count": 64
        }
      ]
    },
    {
      "cell_type": "code",
      "metadata": {
        "nbgrader": {
          "grade": true,
          "grade_id": "cell-0e24b6cefe06bdc60",
          "locked": true,
          "points": 1,
          "schema_version": 3,
          "solution": false,
          "task": false
        },
        "id": "FdE-rSAPCmcG"
      },
      "source": [
        "# Validação\n",
        "test_data = {'carat': {24067: 2.0}, 'cut': {24067: 'Premium'}, 'color': {24067: 'H'}, 'clarity': {24067: 'SI2'},\n",
        " 'depth': {24067: 58.9}, 'table': {24067: 57.0}, 'price': {24067: 12210}, 'x': {24067: 8.09}, 'y': {24067: 58.9},\n",
        " 'z': {24067: 8.06}}\n",
        "\n",
        "assert filter_xyz(diamonds, 7).to_dict() == test_data"
      ],
      "execution_count": 66,
      "outputs": []
    }
  ]
}