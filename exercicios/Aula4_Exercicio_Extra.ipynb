{
 "cells": [
  {
   "cell_type": "markdown",
   "metadata": {},
   "source": [
    "# Aula 4 - Exercícios Extras - Pandas, Fontes de dados e Agregação\n",
    "### Consulta a internet (Google, Stackoverflow e etc) liberada!!"
   ]
  },
  {
   "cell_type": "code",
   "execution_count": null,
   "metadata": {},
   "outputs": [],
   "source": [
    "# Importe as bibliotecas pandas, numpy, glob e sqlalchemy\n",
    "import pandas as pd\n",
    "import numpy as np\n",
    "import glob\n"
   ]
  },
  {
   "cell_type": "markdown",
   "metadata": {},
   "source": [
    "### 4.9 Construa uma função para concatenar (verticalmente) o conteúdo de vários arquivos CSV do dataset de morbidade. Esses arquivos contêm dados com colunas compatíveis.\n",
    "#### Extraia a data do cabeçalho do arquivo. Divida a coluna 'Município' em duas outras contendo o código ibge de 6 caracteres e o nome do município.\n",
    "\n"
   ]
  },
  {
   "cell_type": "code",
   "execution_count": null,
   "metadata": {
    "nbgrader": {
     "grade": false,
     "grade_id": "cell-c705ab9d11473b9f9",
     "locked": false,
     "schema_version": 3,
     "solution": true,
     "task": false
    }
   },
   "outputs": [],
   "source": [
    "# Dica 1: Construa uma lista de arquivos presentes num diretório usando a função glob da biblioteca glob\n",
    "# Dica 2: Num loop, leia os arquivo duas vezes. Na primeira vez, pra carregar somente a parte desejada do cabeçalho,\n",
    "#         onde se encontra o mês/ano do respectivo arquivo, utilize o parâmetro nrows. Preste atenção ao separador \n",
    "#         dos arquivos CSV, é um ponto e vírgula.\n",
    "# Dica 3: O método split pode dividir uma string na posição de um caracter especificado.\n",
    "# Dica 4: Se quiser converter o nome do mês para o seu número, você precisa ajustar a configuração de locale\n",
    "#         do python para 'pt_BR'. Use o código a seguir para fazer esta operação.\n",
    "#            import locale\n",
    "#            locale.setlocale(locale.LC_ALL, 'pt_BR')\n",
    "# Dica 5: O código strptime(nome_mes,'%b').tm_mon converte nome do mês no seu respectivo número de 1 a 12\n",
    "# Dica 6: Para criar uma data a partir dos seus atributos use um código semelhante ao exemplo a seguir\n",
    "#            import datetime\n",
    "#            datetime.date(year=2020, month=1, day=1)\n",
    "# Dica 7: Para construir uma nova coluna aplicando uma regra para cada célula use a função apply e construa uma\n",
    "#         função lambda.\n",
    "# Dica 8: O método join de uma string consegue unir, com um caracter separador, o conteúdo de uma lista de \n",
    "#         elementos numa string. Exemplo: ' '.join(lista_exemplo), produz uma string concatenando com um espaçao\n",
    "#         os elementos da lista_exemplo. Pode ser útil para isolar o nome do município.\n",
    "# Dica 9: Adicione todos os dataframes construídos dentro do loop a uma lista e depois use o método concat para \n",
    "#         concatenar os dataframes verticalmente. Use o parâmetro ignore_index=True para ignorar o índice dos \n",
    "#         dataframes.\n",
    "\n",
    "def concat_morbidade(files_path):\n",
    "    \"\"\"Retorne um dataframe com a concatenação vertical dos dados dos arquivos do diretorio dir_path\n",
    "    \"\"\"\n",
    "    ### BEGIN SOLUTION\n",
    "\n",
    "    ### END SOLUTION"
   ]
  },
  {
   "cell_type": "code",
   "execution_count": null,
   "metadata": {},
   "outputs": [],
   "source": [
    "## Faça seus testes aqui\n"
   ]
  },
  {
   "cell_type": "code",
   "execution_count": null,
   "metadata": {
    "nbgrader": {
     "grade": true,
     "grade_id": "cell-9ffdsa88d58e9282a",
     "locked": true,
     "points": 1,
     "schema_version": 3,
     "solution": false,
     "task": false
    }
   },
   "outputs": [],
   "source": [
    "# Validação\n",
    "files_path = '../../curso_ciencia_dados2020/data/originais/morbidade/2020/*.csv'\n",
    "test_data = set(['10899,59', '16793,57', '6585,96', '7446,97', '19054,46', '11462,34'])\n",
    "morbidade = concat_morbidade(files_path)\n",
    "slice_dict = set(morbidade.loc[morbidade['cod_ibge6']=='522230', 'Valor_total'].to_dict().values())\n",
    "\n",
    "assert slice_dict == test_data"
   ]
  },
  {
   "cell_type": "markdown",
   "metadata": {},
   "source": [
    "### 4.10 Escreva uma função para gerar uma permutação (aleatória) de uma lista e colocar o resultado num dataframe com os elementos da lista agrupados em grupos de tamanho N (Ex.: N=4). \n",
    "#### A coluna de índices deve conter o nome dos grupos. Os nomes dos grupos devem seguir a seguinte regra: Grupo 1, Grupo 2, Grupo 3,..., Grupo K.\n",
    "#### Veja como ficaria o resultado para o exemplo a seguir com uma lista de 9 elementos e tamanho N=4.\n",
    "\n",
    "|         | 0                  |\n",
    "|:--------|:-------------------|\n",
    "| Grupo 0 | Julie Lewis        |\n",
    "| Grupo 0 | Mary Phinney       |\n",
    "| Grupo 0 | Gilbert Ravenell   |\n",
    "| Grupo 0 | Jillian Brennan    |\n",
    "| Grupo 1 | Michelle Humphreys |\n",
    "| Grupo 1 | Kimberly Ransome   |\n",
    "| Grupo 1 | Lisa Watson        |\n",
    "| Grupo 1 | Jennifer Daniels   |\n",
    "| Grupo 2 | Olga Crocker       |"
   ]
  },
  {
   "cell_type": "code",
   "execution_count": null,
   "metadata": {
    "nbgrader": {
     "grade": false,
     "grade_id": "cell-553qe5248eb14bc30",
     "locked": false,
     "schema_version": 3,
     "solution": true,
     "task": false
    }
   },
   "outputs": [],
   "source": [
    "# Dica 1: A função len calcula o tamanho de uma lista.\n",
    "# Dica 2: Use a função math.ceil(N/n), onde N é o tamanho da lista e n é a quantidade\n",
    "#         de pessoas em cada grupo\n",
    "\n",
    "def create_groups(names_list, n):\n",
    "    \"\"\"Crie um dataframe com os nomes da lista names_list agrupados em grupos de tamanho n.\n",
    "    \"\"\"\n",
    "    ### BEGIN SOLUTION\n",
    "\n",
    "    ### END SOLUTION"
   ]
  },
  {
   "cell_type": "code",
   "execution_count": null,
   "metadata": {
    "scrolled": false
   },
   "outputs": [],
   "source": [
    "## Faça seus testes aqui\n"
   ]
  },
  {
   "cell_type": "code",
   "execution_count": null,
   "metadata": {
    "nbgrader": {
     "grade": true,
     "grade_id": "cell-0e2bh6cefe06bdc60",
     "locked": true,
     "points": 1,
     "schema_version": 3,
     "solution": false,
     "task": false
    }
   },
   "outputs": [],
   "source": [
    "# Validação\n",
    "import names\n",
    "N = 9\n",
    "group_length = 4\n",
    "test_data = [names.get_full_name() for n in range(N)]\n",
    "result = ['Grupo 0', 'Grupo 0', 'Grupo 0', 'Grupo 0', 'Grupo 1', 'Grupo 1', 'Grupo 1', 'Grupo 1', 'Grupo 2']\n",
    "df = create_groups(test_data, group_length)\n",
    "\n",
    "assert df.index.to_list() == result"
   ]
  },
  {
   "cell_type": "markdown",
   "metadata": {},
   "source": [
    "### 4.11 Escreva uma função para colocar num mesmo dataframe os dados de PIB percapita e índice de gini dos municípios brasieiros. \n",
    "#### Retorne os registros completos pelo menos os atributos 'pib_percapita', 'cod_ibge6', '1991', '2000' e '2010' dos top 10 registros com maiores PIB percapita.\n",
    "\n",
    "#### Sugestão: Analise a diferença entre os quartis (do PIB percapita e do índice de gini) dos top 10 municípios, em termos de PIB percapita,  e os quartis de todo o brasil para estas mesmas duas variáveis. Responda: um PIB percapita significativamente maior, tem ajudado a melhorar o índice de Gini nesses municípios ? Dica: use o método describe(). \n",
    "\n"
   ]
  },
  {
   "cell_type": "code",
   "execution_count": null,
   "metadata": {
    "nbgrader": {
     "grade": false,
     "grade_id": "cell-553e5248ebs14bc30",
     "locked": false,
     "schema_version": 3,
     "solution": true,
     "task": false
    }
   },
   "outputs": [],
   "source": [
    "# Dica 1: Use as funções criadas nos exercícios 4, 5 e 6 desta aula.\n",
    "# Dica 2: Ao ler o arquivo CSV do índice de gini, se preciso, use encoding='utf8' como parâmetro do método read_csv\n",
    "\n",
    "def top10_municipios(path_pib, path_gini, path_pop):\n",
    "    \"\"\"retorne um dataframe contendo os 10 municipios com maiores PIB percapita. O dataframe deve conter também \n",
    "    o valor do índice de gini e nome, UF e código ibge do respectivo município.\n",
    "    \"\"\"\n",
    "    ### BEGIN SOLUTION\n",
    "    \n",
    "    ### END SOLUTION"
   ]
  },
  {
   "cell_type": "code",
   "execution_count": null,
   "metadata": {},
   "outputs": [],
   "source": [
    "# Importar e carregar as funcoes dos exercicios 5 e 6\n",
    "%run ./Aula4.ipynb"
   ]
  },
  {
   "cell_type": "code",
   "execution_count": null,
   "metadata": {},
   "outputs": [],
   "source": [
    "## Faça seus testes aqui\n",
    "\n",
    "# path_pib = 'https://github.com/alexlopespereira/curso_ciencia_dados2020/raw/master/data/originais/pib/pib_municipios.xlsx'\n",
    "# path_gini = 'https://github.com/alexlopespereira/curso_ciencia_dados2020/raw/master/data/originais/gini/ginibr.csv'\n",
    "# path_pop='https://github.com/alexlopespereira/curso_ciencia_dados2020/raw/master/data/originais/populacao/estimativa_dou_2017.xlsx'\n",
    "path_pib = '../../curso_ciencia_dados2020/data/originais/pib/pib_municipios.xlsx'\n",
    "path_gini='../../curso_ciencia_dados2020/data/originais/gini/ginibr.csv'\n",
    "path_pop='../../curso_ciencia_dados2020/data/originais/populacao/estimativa_dou_2017.xlsx'\n"
   ]
  },
  {
   "cell_type": "code",
   "execution_count": null,
   "metadata": {
    "nbgrader": {
     "grade": true,
     "grade_id": "cell-0e2bt6cefe06bdc60",
     "locked": true,
     "points": 1,
     "schema_version": 3,
     "solution": false,
     "task": false
    },
    "scrolled": false
   },
   "outputs": [],
   "source": [
    "# Validação\n",
    "# Importar e carregar as funcoes dos exercicios 5 e 6\n",
    "# %run ../Aula4_Ex04/Aula3_Ex04.ipynb\n",
    "%run ../Aula4_Ex05/Aula4_Ex05.ipynb\n",
    "%run ../Aula4_Ex06/Aula4_Ex06.ipynb\n",
    "path_pib = 'https://github.com/alexlopespereira/curso_ciencia_dados2020/raw/master/data/originais/pib/pib_municipios.xlsx'\n",
    "path_gini = 'https://github.com/alexlopespereira/curso_ciencia_dados2020/raw/master/data/originais/gini/ginibr.csv'\n",
    "path_pop='https://github.com/alexlopespereira/curso_ciencia_dados2020/raw/master/data/originais/populacao/estimativa_dou_2017.xlsx'\n",
    "\n",
    "test_data = {'pib_percapita': 344.8, 'cod_ibge6': '353650',\n",
    "             '1991': 0.5, '2000': 0.6, '2010': 0.5}\n",
    "top1 = top10_municipios(path_pib, path_gini, path_pop).iloc[0]\n",
    "top1[['pib_percapita', '1991', '2000', '2010']] = \\\n",
    "    top1[['pib_percapita', '1991', '2000', '2010']].apply(lambda x: round(x,1))\n",
    "top1dic = top1.to_dict()\n",
    "dic = {k: top1dic[k] for k in ('pib_percapita', 'cod_ibge6', '1991', '2000', '2010')}\n",
    "assert dic == test_data"
   ]
  }
 ],
 "metadata": {
  "celltoolbar": "Create Assignment",
  "kernelspec": {
   "display_name": "Python 3",
   "language": "python",
   "name": "python3"
  },
  "language_info": {
   "codemirror_mode": {
    "name": "ipython",
    "version": 3
   },
   "file_extension": ".py",
   "mimetype": "text/x-python",
   "name": "python",
   "nbconvert_exporter": "python",
   "pygments_lexer": "ipython3",
   "version": "3.8.5"
  },
  "name": "_merged"
 },
 "nbformat": 4,
 "nbformat_minor": 4
}
