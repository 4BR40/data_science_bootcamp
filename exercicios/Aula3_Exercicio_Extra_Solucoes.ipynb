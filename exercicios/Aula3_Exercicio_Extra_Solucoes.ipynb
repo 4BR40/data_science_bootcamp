{
 "cells": [
  {
   "cell_type": "markdown",
   "metadata": {},
   "source": [
    "# Aula 3 - Exercícios Extra - Python e Pandas\n",
    "### Consulta a internet (Google, Stackoverflow e etc) liberada!!"
   ]
  },
  {
   "cell_type": "code",
   "execution_count": 1,
   "metadata": {},
   "outputs": [],
   "source": [
    "# Importe a biblioteca pandas e numpy\n",
    "import pandas as pd\n",
    "import numpy as np"
   ]
  },
  {
   "cell_type": "markdown",
   "metadata": {},
   "source": [
    "### 3.8 Escreva uma função para ordenar uma lista de dicionários usando uma função Lambda. A função criada deve receber como argumento a chave do dicionário que será usada na ordenação da lista.\n"
   ]
  },
  {
   "cell_type": "code",
   "execution_count": 2,
   "metadata": {
    "nbgrader": {
     "grade": false,
     "grade_id": "cell-c705b9d11473b9f9",
     "locked": false,
     "schema_version": 3,
     "solution": true,
     "task": false
    }
   },
   "outputs": [],
   "source": [
    "# Dica: use a função sorted. Use o argumento key da função sorted.\n",
    "def sort_dict_list(l, chave):\n",
    "    \"\"\"retorne a lista ordenada\n",
    "    \"\"\"\n",
    "    ### BEGIN SOLUTION\n",
    "    return sorted(l, key = lambda x: x[chave])\n",
    "    ### END SOLUTION\n"
   ]
  },
  {
   "cell_type": "code",
   "execution_count": 105,
   "metadata": {},
   "outputs": [],
   "source": [
    "## Faça seus testes aqui\n"
   ]
  },
  {
   "cell_type": "code",
   "execution_count": 6,
   "metadata": {
    "nbgrader": {
     "grade": true,
     "grade_id": "cell-9ffda88d58e9282a",
     "locked": true,
     "points": 1,
     "schema_version": 3,
     "solution": false,
     "task": false
    }
   },
   "outputs": [],
   "source": [
    "# Validação\n",
    "data = [{'nome': ['Pedro'], 'classe': ['V'], 'disciplina': ['portugues', 'matematica', 'ciencia']},\n",
    "        {'nome': ['Jose'], 'classe': ['V'], 'disciplina': ['portugues', 'matematica', 'ciencia']},\n",
    "       {'nome': ['Maria'], 'classe': ['V'], 'disciplina': ['portugues', 'matematica', 'ciencia']}]\n",
    "\n",
    "data_sorted = [{'nome': ['Jose'], 'classe': ['V'], 'disciplina': ['portugues', 'matematica', 'ciencia']},\n",
    "        {'nome': ['Maria'], 'classe': ['V'], 'disciplina': ['portugues', 'matematica', 'ciencia']},\n",
    "       {'nome': ['Pedro'], 'classe': ['V'], 'disciplina': ['portugues', 'matematica', 'ciencia']}]\n",
    "\n",
    "assert sort_dict_list(data, 'nome') == data_sorted"
   ]
  },
  {
   "cell_type": "markdown",
   "metadata": {},
   "source": [
    "### 3.9 Escreva uma função para criar uma nova coluna chamada 'segundo' que tenha o segundo maior valor de cada linha de df.\n"
   ]
  },
  {
   "cell_type": "code",
   "execution_count": 108,
   "metadata": {
    "nbgrader": {
     "grade": false,
     "grade_id": "cell-553ee248eb14bc30",
     "locked": false,
     "schema_version": 3,
     "solution": true,
     "task": false
    }
   },
   "outputs": [],
   "source": [
    "# Dica 1: Use a função apply do Dataframe aplicando uma função lambda.\n",
    "#            e use a função sorted dentro da função lambda. Perceba que você precisa converter o argumento da\n",
    "#            da função lambda para list antes de aplicar o método sorted.\n",
    "# Dica 2: Aplique a função lambda no eixo 1.\n",
    "\n",
    "def segundo_maior(df):\n",
    "    \"\"\"retorne o dataframe df com uma nova coluna 'segundo' que tenha o segundo maior valor de cada linha de df\n",
    "    \"\"\"\n",
    "    ### BEGIN SOLUTION\n",
    "    df[\"segundo\"] = df.apply(lambda x: sorted(list(x))[-2], axis = 1)\n",
    "    return df\n",
    "    ### END SOLUTION\n"
   ]
  },
  {
   "cell_type": "code",
   "execution_count": 109,
   "metadata": {},
   "outputs": [],
   "source": [
    "## Faça seus testes aqui\n"
   ]
  },
  {
   "cell_type": "code",
   "execution_count": 110,
   "metadata": {
    "nbgrader": {
     "grade": true,
     "grade_id": "cell-0e2bt6cefe06bdc60",
     "locked": true,
     "points": 1,
     "schema_version": 3,
     "solution": false,
     "task": false
    }
   },
   "outputs": [],
   "source": [
    "# Validação\n",
    "data = {'d1': [20, 36, 25,  4,  1, 20, 17, 47,  2, 40],\n",
    "        'd2': [33, 25, 48, 39, 49, 37, 45, 36, 37, 31],\n",
    "        'd3': [19, 47,  9, 27, 48, 26, 24, 21,  1,  2]}\n",
    "df = pd.DataFrame(data)\n",
    "assert list(segundo_maior(df)['segundo']) == [20, 36, 25, 27, 48, 26, 24, 36, 2, 31]"
   ]
  }
 ],
 "metadata": {
  "kernelspec": {
   "display_name": "Python 3",
   "language": "python",
   "name": "python3"
  },
  "language_info": {
   "codemirror_mode": {
    "name": "ipython",
    "version": 3
   },
   "file_extension": ".py",
   "mimetype": "text/x-python",
   "name": "python",
   "nbconvert_exporter": "python",
   "pygments_lexer": "ipython3",
   "version": "3.8.3"
  },
  "name": "_merged"
 },
 "nbformat": 4,
 "nbformat_minor": 4
}
