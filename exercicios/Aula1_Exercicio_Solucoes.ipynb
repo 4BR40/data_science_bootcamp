{
 "cells": [
  {
   "cell_type": "markdown",
   "metadata": {},
   "source": [
    "# Aula 1 - Exercícios - Sintaxe de Python e NumPy Array\n",
    "### Consulta a internet (Google, Stackoverflow e etc) liberada!!"
   ]
  },
  {
   "cell_type": "markdown",
   "metadata": {},
   "source": [
    "### 1.1 Escreva uma função em Python que aceite um inteiro (n) de 1 a 9 e computa o valor de: n+nn+nnn\n",
    "#### Valide os valores de entrada. Para isso, use a instrução raise ValueError\n",
    "##### Exemplo: n=5. Então n + nn + nnn = 5 + 55 + 555 = 615"
   ]
  },
  {
   "cell_type": "code",
   "execution_count": 42,
   "metadata": {
    "nbgrader": {
     "grade": false,
     "grade_id": "cell-a2f686fdd79e4f51",
     "locked": false,
     "schema_version": 3,
     "solution": true,
     "task": false
    }
   },
   "outputs": [],
   "source": [
    "def calculo_n(n):\n",
    "    \"\"\"retorne o valor de: n+nn+nnn\n",
    "    \"\"\"\n",
    "    ### BEGIN SOLUTION\n",
    "    if n<1 or n>9:\n",
    "        raise ValueError\n",
    "    return n + int('{0}{0}'.format(n,n)) + int('{0}{0}{0}'.format(n,n,n))\n",
    "    ### END SOLUTION"
   ]
  },
  {
   "cell_type": "code",
   "execution_count": 43,
   "metadata": {},
   "outputs": [
    {
     "data": {
      "text/plain": [
       "1107"
      ]
     },
     "execution_count": 43,
     "metadata": {},
     "output_type": "execute_result"
    }
   ],
   "source": [
    "## Faça seus testes aqui\n",
    "calculo_n(9)"
   ]
  },
  {
   "cell_type": "code",
   "execution_count": 44,
   "metadata": {
    "nbgrader": {
     "grade": true,
     "grade_id": "cell-5412543179b17057",
     "locked": true,
     "points": 1,
     "schema_version": 3,
     "solution": false,
     "task": false
    }
   },
   "outputs": [],
   "source": [
    "# Validação\n",
    "assert calculo_n(1) == 123\n",
    "assert calculo_n(2) == 246\n",
    "assert calculo_n(3) == 369\n",
    "assert calculo_n(9) == 1107"
   ]
  },
  {
   "cell_type": "markdown",
   "metadata": {},
   "source": [
    "### 1.2 Escreva uma função para retornar o maior item de uma lista de inteiros"
   ]
  },
  {
   "cell_type": "code",
   "execution_count": 45,
   "metadata": {
    "nbgrader": {
     "grade": false,
     "grade_id": "cell-2e044a5f0541da37",
     "locked": false,
     "schema_version": 3,
     "solution": true,
     "task": false
    }
   },
   "outputs": [],
   "source": [
    "def maior(lista):\n",
    "    \"\"\"retorne o maior item da lista\n",
    "    \"\"\"\n",
    "    ### BEGIN SOLUTION\n",
    "    result = lista[0]\n",
    "    for n in lista[1:]:\n",
    "        if result < n:\n",
    "            result = n\n",
    "    \n",
    "    return result\n",
    "    ### END SOLUTION"
   ]
  },
  {
   "cell_type": "code",
   "execution_count": 46,
   "metadata": {},
   "outputs": [],
   "source": [
    "## Faça seus testes aqui\n"
   ]
  },
  {
   "cell_type": "code",
   "execution_count": 47,
   "metadata": {
    "nbgrader": {
     "grade": true,
     "grade_id": "cell-5bd4079b37b6a7f3",
     "locked": true,
     "points": 1,
     "schema_version": 3,
     "solution": false,
     "task": false
    }
   },
   "outputs": [],
   "source": [
    "# Validação\n",
    "assert maior([1,0,-1,100,7]) == 100\n",
    "assert maior([-100,-1580,-1,-9100,-77]) == -1"
   ]
  },
  {
   "cell_type": "markdown",
   "metadata": {},
   "source": [
    "### 1.3 Escreva uma função contar a quantidade de strings, presentes numa lista, cujo tamanho é maior que 2 e o primeiro e último caracteres são os mesmos\n",
    "\n",
    "#### Exemplo:  ['abc', 'xyz', 'aba', '1221']\n",
    "#### Resultado esperado : 2\n"
   ]
  },
  {
   "cell_type": "code",
   "execution_count": 48,
   "metadata": {
    "nbgrader": {
     "grade": false,
     "grade_id": "cell-5420c3983940f212",
     "locked": false,
     "schema_version": 3,
     "solution": true,
     "task": false
    }
   },
   "outputs": [],
   "source": [
    "# Dica 1: A função len retorna o tamanho da string. Exemplo: len('abc'), retorna 3\n",
    "# Dica 2: Uma string é uma lista de caracteres\n",
    "def contagem(lista):\n",
    "    \"\"\"retorne o maior item da lista\n",
    "    \"\"\"\n",
    "    ### BEGIN SOLUTION\n",
    "    qtd = 0\n",
    "    for l in lista:\n",
    "        if len(l) > 2 and l[0]==l[-1]:\n",
    "            qtd = qtd + 1\n",
    "    \n",
    "    return qtd\n",
    "    ### END SOLUTION"
   ]
  },
  {
   "cell_type": "code",
   "execution_count": 49,
   "metadata": {},
   "outputs": [
    {
     "data": {
      "text/plain": [
       "2"
      ]
     },
     "execution_count": 49,
     "metadata": {},
     "output_type": "execute_result"
    }
   ],
   "source": [
    "## Faça seus testes aqui\n",
    "contagem(['abc', 'xyz', 'aba', '1221'])"
   ]
  },
  {
   "cell_type": "code",
   "execution_count": 50,
   "metadata": {
    "nbgrader": {
     "grade": true,
     "grade_id": "cell-f86ec02e2bcb84c6",
     "locked": true,
     "points": 1,
     "schema_version": 3,
     "solution": false,
     "task": false
    },
    "scrolled": true
   },
   "outputs": [],
   "source": [
    "# Validação\n",
    "assert contagem(['abc', 'xyz', 'aba', '1221']) == 2\n",
    "assert contagem(['ac', '1111', 'aasdfsdfdda', '12ewwww21']) == 3\n",
    "assert contagem(['', 'xyzaaaaaaaaa', 'aa', 'babababa']) == 0"
   ]
  },
  {
   "cell_type": "markdown",
   "metadata": {},
   "source": [
    "### 1.4 Crie um código python para imprimir o seguinte padrão. \n",
    "#### 1 \n",
    "#### 1 2 \n",
    "#### 1 2 3 \n",
    "#### 1 2 3 4 \n",
    "#### 1 2 3 4 5"
   ]
  },
  {
   "cell_type": "code",
   "execution_count": 51,
   "metadata": {
    "nbgrader": {
     "grade": false,
     "grade_id": "cell-bb9537795a06bd7e",
     "locked": false,
     "schema_version": 3,
     "solution": true,
     "task": false
    }
   },
   "outputs": [
    {
     "name": "stdout",
     "output_type": "stream",
     "text": [
      "Solucao 1\n",
      "1 \n",
      "1 2 \n",
      "1 2 3 \n",
      "1 2 3 4 \n",
      "1 2 3 4 5 \n",
      "\n",
      "Solucao 2\n",
      "1\n",
      "1 2\n",
      "1 2 3\n",
      "1 2 3 4\n",
      "1 2 3 4 5\n"
     ]
    }
   ],
   "source": [
    "### Este exercicio não tem assert\n",
    "## Faça aqui\n",
    "#Solucao 1\n",
    "print(\"Solucao 1\")\n",
    "n=5\n",
    "for i in range(1,n+1):\n",
    "    tmp = \"\"\n",
    "    for j in range(1,i+1):\n",
    "        tmp = tmp + str(j) + \" \" \n",
    "    print(tmp)\n",
    "\n",
    "# Solução 2\n",
    "print(\"\\nSolucao 2\")\n",
    "n=5\n",
    "for i in range(1,n+1):\n",
    "    lista = [str(j) for j in range(1,i+1)] # Esta sintaxe será ensinada na aula 2\n",
    "    print(\" \".join(lista))"
   ]
  },
  {
   "cell_type": "markdown",
   "metadata": {},
   "source": [
    "### 1.5 Escreva uma função Python para percorrer uma lista e retornar os números multiplos de N. Pare a iteração no ponto em que encontrar um número maior do que K. Não retorne o 1o número maior do que N.\n",
    "#### Exemplo:  lista = [120, 115, 12, 32, 56, 200, 715, 152, 130, 155, 183, 300], N=5, K=200\n",
    "#### Resultado Esperado: [120, 115, 200]"
   ]
  },
  {
   "cell_type": "code",
   "execution_count": 52,
   "metadata": {
    "nbgrader": {
     "grade": false,
     "grade_id": "cell-1ff4485b8100a753",
     "locked": false,
     "schema_version": 3,
     "solution": true,
     "task": false
    }
   },
   "outputs": [],
   "source": [
    "def filtra_lista(lista, N, K):\n",
    "    \"\"\"retorne uma lista com todos os números multiplos de N menores do que K, \n",
    "       até o primeiro número maior do que K, não inclua este número na lista de resultado.\n",
    "    \"\"\"\n",
    "    ### BEGIN SOLUTION\n",
    "    result = []\n",
    "    for e in lista:\n",
    "        if e > K:\n",
    "            break\n",
    "        if e % N == 0:\n",
    "            result.append(e)\n",
    "    return result\n",
    "    ### END SOLUTION"
   ]
  },
  {
   "cell_type": "code",
   "execution_count": 53,
   "metadata": {},
   "outputs": [],
   "source": [
    "## Faça seus testes aqui\n",
    "\n"
   ]
  },
  {
   "cell_type": "code",
   "execution_count": 54,
   "metadata": {
    "nbgrader": {
     "grade": true,
     "grade_id": "cell-b6c3a5db7e709b2a",
     "locked": true,
     "points": 1,
     "schema_version": 3,
     "solution": false,
     "task": false
    }
   },
   "outputs": [],
   "source": [
    "# Validação\n",
    "assert filtra_lista([120, 115, 12, 32, 56, 200, 715, 152, 130, 155, 183, 300], 5, 200) == [120, 115, 200]"
   ]
  },
  {
   "cell_type": "markdown",
   "metadata": {},
   "source": [
    "### 1.6 Dado um número inteiro qualquer, escreva uma função python para retornar a quantidade de caracteres (dígitos) contida neste número.\n",
    "##### Exemplo:  qtd_digitos(2345653) deve retornar 7"
   ]
  },
  {
   "cell_type": "code",
   "execution_count": 55,
   "metadata": {
    "nbgrader": {
     "grade": false,
     "grade_id": "cell-e69a127f71184645",
     "locked": false,
     "schema_version": 3,
     "solution": true,
     "task": false
    }
   },
   "outputs": [],
   "source": [
    "def qtd_digitos(N):\n",
    "    \"\"\"retorne a quantidade de dígitos do número N.\n",
    "    \"\"\"\n",
    "    ### BEGIN SOLUTION\n",
    "    return len(str(N))\n",
    "    ### END SOLUTION"
   ]
  },
  {
   "cell_type": "code",
   "execution_count": 56,
   "metadata": {},
   "outputs": [],
   "source": [
    "## Faça seus testes aqui\n"
   ]
  },
  {
   "cell_type": "code",
   "execution_count": 57,
   "metadata": {
    "nbgrader": {
     "grade": true,
     "grade_id": "cell-418c099df61d368b",
     "locked": true,
     "points": 1,
     "schema_version": 3,
     "solution": false,
     "task": false
    }
   },
   "outputs": [],
   "source": [
    "# Validação\n",
    "assert qtd_digitos(2345653) == 7"
   ]
  },
  {
   "cell_type": "markdown",
   "metadata": {},
   "source": [
    "### 1.7 Escreva uma função Python para somar os valores dos numeros presentes numa string de números separados por vírgula.\n",
    "#### Exemplo:  \"1.0,  4.0,  10.0,  8.0,  4.0,  20.0,  23.0\"\n",
    "#### Resultado esperado: 70"
   ]
  },
  {
   "cell_type": "code",
   "execution_count": 58,
   "metadata": {
    "nbgrader": {
     "grade": false,
     "grade_id": "cell-f6c50b3e165db993",
     "locked": false,
     "schema_version": 3,
     "solution": true,
     "task": false
    }
   },
   "outputs": [],
   "source": [
    "def soma_string(texto):\n",
    "    \"\"\"retorne a soma dos numeros presentes na variavel texto\n",
    "    \"\"\"\n",
    "    ### BEGIN SOLUTION\n",
    "    numeros_str = texto.split(',')\n",
    "    numeros_int = [float(i) for i in numeros_str]\n",
    "    return sum(numeros_int)\n",
    "    ### END SOLUTION"
   ]
  },
  {
   "cell_type": "code",
   "execution_count": 59,
   "metadata": {},
   "outputs": [
    {
     "data": {
      "text/plain": [
       "30.0"
      ]
     },
     "execution_count": 59,
     "metadata": {},
     "output_type": "execute_result"
    }
   ],
   "source": [
    "## Faça seus testes aqui\n",
    "var = \"16.0,  4.0,  10.0\"\n",
    "soma_string(var)"
   ]
  },
  {
   "cell_type": "code",
   "execution_count": 60,
   "metadata": {
    "nbgrader": {
     "grade": true,
     "grade_id": "cell-401910203dadc4db",
     "locked": true,
     "points": 1,
     "schema_version": 3,
     "solution": false,
     "task": false
    },
    "scrolled": true
   },
   "outputs": [
    {
     "data": {
      "text/plain": [
       "True"
      ]
     },
     "execution_count": 60,
     "metadata": {},
     "output_type": "execute_result"
    }
   ],
   "source": [
    "# Validação\n",
    "var = \"1.0,  4.0,  10.0,  8.0,  4.0,  20.0,  23.0\"\n",
    "soma_string(var) == 70.0"
   ]
  },
  {
   "cell_type": "markdown",
   "metadata": {},
   "source": [
    "### 1.8 Crie um código python para imprimir o seguinte padrão. \n",
    "#### 5 4 3 2 1 \n",
    "#### 4 3 2 1 \n",
    "#### 3 2 1 \n",
    "#### 2 1 \n",
    "#### 1"
   ]
  },
  {
   "cell_type": "code",
   "execution_count": 61,
   "metadata": {
    "nbgrader": {
     "grade": true,
     "grade_id": "cell-af1b0435b6aacc9b",
     "locked": true,
     "points": 1,
     "schema_version": 3,
     "solution": false,
     "task": false
    }
   },
   "outputs": [
    {
     "name": "stdout",
     "output_type": "stream",
     "text": [
      "Solucao 1\n",
      "5 4 3 2 1 \n",
      "4 3 2 1 \n",
      "3 2 1 \n",
      "2 1 \n",
      "1 \n",
      "\n",
      "Solucao 2\n",
      "5 4 3 2 1 \n",
      "4 3 2 1 \n",
      "3 2 1 \n",
      "2 1 \n",
      "1 \n"
     ]
    }
   ],
   "source": [
    "### Este exercicio não tem assert\n",
    "## Faça aqui\n",
    "n=5\n",
    "#Solucao 1\n",
    "print(\"Solucao 1\")\n",
    "for i in range(n, 0,-1):\n",
    "    tmp = \"\"\n",
    "    for j in range(i, 0, -1):\n",
    "        tmp = tmp + str(j) + \" \" \n",
    "    print(tmp)\n",
    "\n",
    "#Solucao 2\n",
    "print(\"\\nSolucao 2\")\n",
    "for i in reversed(range(1,n+1)):\n",
    "    tmp = \"\"\n",
    "    for j in reversed(range(1,i+1)):\n",
    "        tmp = tmp + str(j) + \" \" \n",
    "    print(tmp)"
   ]
  },
  {
   "cell_type": "markdown",
   "metadata": {},
   "source": [
    "### 1.9 Crie uma função python para inverter uma lista usando um loop do tipo for.\n",
    "#### Exemplo:  inverter([120, 115, 12, 32, 56]) deve retornar [56, 32, 12, 115, 120]"
   ]
  },
  {
   "cell_type": "code",
   "execution_count": 62,
   "metadata": {},
   "outputs": [],
   "source": [
    "def inverter(lista):\n",
    "    \"\"\"retorne uma versão invertida da lista passada como argumento\n",
    "    \"\"\"\n",
    "    ### BEGIN SOLUTION\n",
    "    result = []\n",
    "    for i in reversed(range(0,len(lista))):\n",
    "        result.append(lista[i])\n",
    "    return result\n",
    "    ### END SOLUTION"
   ]
  },
  {
   "cell_type": "code",
   "execution_count": 63,
   "metadata": {
    "nbgrader": {
     "grade": true,
     "grade_id": "cell-73baa7b9cc0314dc",
     "locked": true,
     "points": 1,
     "schema_version": 3,
     "solution": false,
     "task": false
    }
   },
   "outputs": [
    {
     "data": {
      "text/plain": [
       "[56, 32, 12, 115, 120]"
      ]
     },
     "execution_count": 63,
     "metadata": {},
     "output_type": "execute_result"
    }
   ],
   "source": [
    "### Este exercicio não tem asserta\n",
    "## Faça aqui\n",
    "inverter([120, 115, 12, 32, 56])"
   ]
  },
  {
   "cell_type": "markdown",
   "metadata": {},
   "source": [
    "### 1.10 Escreva uma função python para substituir vírgula por ponto numa string e depois converta os números para float. Retorne a lista de números.\n",
    "#### Exemplo:  \"0,20 0,40 0,56 0,99\"\n",
    "#### Resultado esperado: [0.2, 0.4, 0.56, 0.99]"
   ]
  },
  {
   "cell_type": "code",
   "execution_count": 64,
   "metadata": {
    "nbgrader": {
     "grade": false,
     "grade_id": "cell-e0a4e5deea9187c4",
     "locked": false,
     "schema_version": 3,
     "solution": true,
     "task": false
    }
   },
   "outputs": [],
   "source": [
    "def convert_to_float(texto):\n",
    "    \"\"\"retorne uma lista de numeros do tipo float\n",
    "    \"\"\"\n",
    "    ### BEGIN SOLUTION\n",
    "    num_str = texto.replace(',', '.').split(' ')\n",
    "    return [float(i) for i in num_str]\n",
    "    ### END SOLUTION"
   ]
  },
  {
   "cell_type": "code",
   "execution_count": 65,
   "metadata": {},
   "outputs": [
    {
     "data": {
      "text/plain": [
       "[0.2, 0.4, 0.56, 0.99]"
      ]
     },
     "execution_count": 65,
     "metadata": {},
     "output_type": "execute_result"
    }
   ],
   "source": [
    "## Faça seus testes aqui\n",
    "convert_to_float(\"0,20 0,40 0,56 0,99\")"
   ]
  },
  {
   "cell_type": "code",
   "execution_count": 66,
   "metadata": {
    "nbgrader": {
     "grade": true,
     "grade_id": "cell-30d325468b6f6a67",
     "locked": true,
     "points": 1,
     "schema_version": 3,
     "solution": false,
     "task": false
    }
   },
   "outputs": [],
   "source": [
    "# Validação\n",
    "text = \"0,20 0,40 0,56 0,99\"\n",
    "assert convert_to_float(text) == [0.2, 0.4, 0.56, 0.99]"
   ]
  },
  {
   "cell_type": "code",
   "execution_count": null,
   "metadata": {},
   "outputs": [],
   "source": []
  }
 ],
 "metadata": {
  "celltoolbar": "Create Assignment",
  "kernelspec": {
   "display_name": "Python 3",
   "language": "python",
   "name": "python3"
  },
  "language_info": {
   "codemirror_mode": {
    "name": "ipython",
    "version": 3
   },
   "file_extension": ".py",
   "mimetype": "text/x-python",
   "name": "python",
   "nbconvert_exporter": "python",
   "pygments_lexer": "ipython3",
   "version": "3.8.3"
  },
  "name": "_merged"
 },
 "nbformat": 4,
 "nbformat_minor": 4
}
