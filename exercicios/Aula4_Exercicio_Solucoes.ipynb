{
 "cells": [
  {
   "cell_type": "markdown",
   "metadata": {},
   "source": [
    "# Aula 4 - Exercícios - Pandas e Fontes de dados"
   ]
  },
  {
   "cell_type": "code",
   "execution_count": 2,
   "metadata": {},
   "outputs": [],
   "source": [
    "# Importe as bibliotecas pandas, numpy\n",
    "import pandas as pd\n",
    "import numpy as np"
   ]
  },
  {
   "cell_type": "markdown",
   "metadata": {},
   "source": [
    "### 4.1 Carregue o arquivo do IDEB 2017 no formato de um DataFrame.  Crie uma função para calcular a média do IDEB de 2017 de todos os municípios de um determinado Estado. \n",
    "#### Remova os registros cujo valor na coluna REDE sejam Municipal, Estadual ou Federal. Deixe somente os registros cujos valores na coluna REDE sejam Pública.\n"
   ]
  },
  {
   "cell_type": "code",
   "execution_count": 3,
   "metadata": {
    "nbgrader": {
     "grade": false,
     "grade_id": "cell-c705ab9d11473b9f9",
     "locked": false,
     "schema_version": 3,
     "solution": true,
     "task": false
    }
   },
   "outputs": [],
   "source": [
    "# Dica 1: Antes de calcular, certifique-se de interpretar os valores '-' como NA durante \n",
    "#         o carregamento dos dados ou os substitua por np.nan (NA) com o metodo replace.\n",
    "# Dica 2: Use a função loc para fazer o filtro de registros.\n",
    "# Dica 3: Dentre várias maneiras possíveis, uma maneira bastante concisa é usar o operador & (and) para\n",
    "# congregar dois critérios de filtro (seleção) de registros.\n",
    "def media_ideb(df, sigla_estado):\n",
    "    \"\"\"retorne o valor da media do IDEB de 2017 contido na coluna col do Estado especificado por sigla_estado.\n",
    "    \"\"\"\n",
    "    ### BEGIN SOLUTION\n",
    "    df.replace({'-': np.nan}, inplace=True)\n",
    "    bool_estado = df['SG_UF']==sigla_estado\n",
    "    bool_publica = df['REDE']=='Pública'\n",
    "    return df.loc[bool_estado & bool_publica, 'IDEB12_17'].mean()\n",
    "    ### END SOLUTION\n"
   ]
  },
  {
   "cell_type": "code",
   "execution_count": 4,
   "metadata": {},
   "outputs": [],
   "source": [
    "## Faça seus testes aqui\n",
    "path_ideb='https://github.com/alexlopespereira/curso_ciencia_dados2021/raw/master/data/originais/ideb/ideb_municipios2017.xlsx'\n",
    "\n",
    "df_ideb = pd.read_excel(path_ideb, skiprows=9, skipfooter=3, na_values='-')\n"
   ]
  },
  {
   "cell_type": "code",
   "execution_count": 5,
   "metadata": {
    "nbgrader": {
     "grade": true,
     "grade_id": "cell-9ffdsa88d58e9282a",
     "locked": true,
     "points": 1,
     "schema_version": 3,
     "solution": false,
     "task": false
    },
    "scrolled": false
   },
   "outputs": [],
   "source": [
    "# Validação\n",
    "##############################################\n",
    "########## ATENÇÃO PARA ESTA INSTRUÇÃO #######\n",
    "# Crie na célula anterior um dataframe df_ideb. \n",
    "# Use os argumentos skiprows, na_values e skipfooter para carregar a tabela corretamente.\n",
    "##############################################\n",
    "assert round(media_ideb(df_ideb, 'DF'),1) == 3.4\n",
    "assert round(media_ideb(df_ideb, 'SP'),1) == 4.0\n",
    "assert round(media_ideb(df_ideb, 'GO'),1) == 4.2"
   ]
  },
  {
   "cell_type": "markdown",
   "metadata": {},
   "source": [
    "### 4.2 Escreva uma função para fazer o merge dos dataframes de população e de PIB de 2017. A função deve receber como parâmetro o caminho para cada um dos dataframes."
   ]
  },
  {
   "cell_type": "code",
   "execution_count": 6,
   "metadata": {
    "nbgrader": {
     "grade": false,
     "grade_id": "cell-553em5248eb14bc30",
     "locked": false,
     "schema_version": 3,
     "solution": true,
     "task": false
    }
   },
   "outputs": [],
   "source": [
    "# Dica 1: A coluna que contem o código IBGE do município deve ter o mesmo formato (string) e a mesma\n",
    "#         quantidade de caracteres nas duas tabelas.\n",
    "# Dica 2: Converta o codigo do município para string ao carregar o dataframe de população utilizando\n",
    "#         o mapeamento de tipos dtype={'cod_munic': str, 'cod_uf': str}. Assim o codigo do municipio não perde\n",
    "#         os zeros a esquerda.\n",
    "# Dica 3: Concatene o codigo da UF com o código do município usando o operador + e salve em outra coluna.\n",
    "# Dica 4: Use o código apresentado na aula para carregar o dataframe do PIB de 2017, especifique o dtype da\n",
    "#         coluna que contém o codigo do municipio.\n",
    "# Dica 5: Renomeie as colunas apropriadamente antes de fazer o merge. A coluna com o nome do municipio deve se chamar\n",
    "#         municipio (sem acento) e a coluna com o codigo ibge de 7 caracteres cod_ibge7. Veja o exemplo:\n",
    "#         {'Unnamed: 0': 'nivel', 'Unnamed: 1': 'cod_ibge7', 'Unnamed: 2': 'municipio'}. O pandas transformará essas\n",
    "#         colunas em municipio_x e municipio_y. Mantenha esses dois nomes de coluna, pois eles serão usados no exercício\n",
    "#         3.7.\n",
    "# Dica 6: Depois que os dois dataframes tiverem o codigo ibge (com valores equivalentes\n",
    "#         e mesmo tipo de dados) você pode fazer o merge.\n",
    "\n",
    "def merge_pop_pib(path_pop, path_pib):\n",
    "    \"\"\"retorne um dataframe resultante do merge dos dados do pib e da população\n",
    "    \"\"\"\n",
    "    ### BEGIN SOLUTION\n",
    "    df_pop = pd.read_excel(path_pop, sheet_name=\"Municipios\", dtype={'cod_munic': str, 'cod_uf': str})\n",
    "    # Concatena o codigo da UF com o codigo do municipio\n",
    "    df_pop['cod_ibge7'] = df_pop['cod_uf'] + df_pop['cod_munic']\n",
    "    df_pib = pd.read_excel(path_pib, skiprows=3, skipfooter=1, dtype={'Unnamed: 1': str})\n",
    "    df_pib.rename(columns={'Unnamed: 0': 'nivel', 'Unnamed: 1': 'cod_ibge7', \n",
    "                           'Unnamed: 2': 'municipio'}, inplace=True)\n",
    "\n",
    "    return pd.merge(df_pop, df_pib, on='cod_ibge7')\n",
    "    ### END SOLUTION\n"
   ]
  },
  {
   "cell_type": "code",
   "execution_count": 7,
   "metadata": {},
   "outputs": [],
   "source": [
    "## Faça seus testes aqui\n",
    "path_pib = 'https://github.com/alexlopespereira/curso_ciencia_dados2021/raw/master/data/originais/pib/pib_municipios.xlsx'\n",
    "path_pop = 'https://github.com/alexlopespereira/curso_ciencia_dados2021/raw/master/data/originais/populacao/estimativa_dou_2017.xlsx'\n"
   ]
  },
  {
   "cell_type": "code",
   "execution_count": 17,
   "metadata": {
    "nbgrader": {
     "grade": true,
     "grade_id": "cell-0se2b6cefe06bdc60",
     "locked": true,
     "points": 1,
     "schema_version": 3,
     "solution": false,
     "task": false
    }
   },
   "outputs": [],
   "source": [
    "# Validação\n",
    "path_pib = 'https://github.com/alexlopespereira/curso_ciencia_dados2021/raw/master/data/originais/pib/pib_municipios.xlsx'\n",
    "path_pop = 'https://github.com/alexlopespereira/curso_ciencia_dados2021/raw/master/data/originais/populacao/estimativa_dou_2017.xlsx'\n",
    "\n",
    "test_merge = {'pop2017': 25437, '2017': 498864}\n",
    "df_pib_pop = merge_pop_pib(path_pop, path_pib)\n",
    "assert df_pib_pop.loc[0,['pop2017', '2017']].to_dict() == test_merge "
   ]
  },
  {
   "cell_type": "markdown",
   "metadata": {},
   "source": [
    "### 4.3 Escreva uma função para calcular o PIB percapita de cada município do Brasil, considerando o dataframe do exercício anterior.\n",
    "#### Nomeie a coluna do PIB Percapita com 'pib_percapita'"
   ]
  },
  {
   "cell_type": "code",
   "execution_count": 9,
   "metadata": {
    "nbgrader": {
     "grade": false,
     "grade_id": "cell-553e524r8eb14bc30",
     "locked": false,
     "schema_version": 3,
     "solution": true,
     "task": false
    }
   },
   "outputs": [],
   "source": [
    "def pib_percapita(pib_pop):\n",
    "    \"\"\"retorne retorne um dataframe contendo o codigo ibge de 7 caracteres,\n",
    "       o nome do municipio e seu PIB percapita.\n",
    "    \"\"\"\n",
    "    ### BEGIN SOLUTION\n",
    "    pib_pop['pib_percapita'] = pib_pop['2017']/pib_pop['pop2017']\n",
    "    return pib_pop\n",
    "    ### END SOLUTION\n"
   ]
  },
  {
   "cell_type": "code",
   "execution_count": 10,
   "metadata": {},
   "outputs": [],
   "source": [
    "## Faça seus testes aqui\n",
    "\n"
   ]
  },
  {
   "cell_type": "code",
   "execution_count": 11,
   "metadata": {
    "nbgrader": {
     "grade": true,
     "grade_id": "cell-0e2hb6cefe06bdc60",
     "locked": true,
     "points": 1,
     "schema_version": 3,
     "solution": false,
     "task": false
    },
    "scrolled": true
   },
   "outputs": [],
   "source": [
    "# Validação\n",
    "# Considere a função merge_pop_pib do exercicio 4.2\n",
    "df_pib_pop = merge_pop_pib(path_pop, path_pib)\n",
    "\n",
    "pib_percapita_2017 = pib_percapita(df_pib_pop)\n",
    "assert round(pib_percapita(df_pib_pop).loc[0,'pib_percapita'],1) == 19.6"
   ]
  },
  {
   "cell_type": "markdown",
   "metadata": {},
   "source": [
    "### 4.4 Escreva uma função para retornar os registros dos 10 maiores PIBs percapita do brasil (de 2017) a partir do dataframe do exercício anterior. \n",
    "#### Escreva uma função genérica que receba como parâmetro um dataframe e o nome da coluna de ordenação.\n"
   ]
  },
  {
   "cell_type": "code",
   "execution_count": 12,
   "metadata": {
    "nbgrader": {
     "grade": false,
     "grade_id": "cell-553e5s248eb14bc30",
     "locked": false,
     "schema_version": 3,
     "solution": true,
     "task": false
    }
   },
   "outputs": [],
   "source": [
    "# Dica 1: Use o método sort_values para ordenar o dataframe. Para uma ordenação descendente use ascending=False.\n",
    "# Dica 2: Use o atributo iloc para retornar todas as colunas dos 10 primeiros registros.\n",
    "def top10(df, col):\n",
    "    \"\"\"retorne os top 10 registros do dataframe df ordenados por col\n",
    "    \"\"\"\n",
    "    ### BEGIN SOLUTION\n",
    "    return df.sort_values(by=col, ascending=False).iloc[:10,:]\n",
    "    ### END SOLUTION\n"
   ]
  },
  {
   "cell_type": "code",
   "execution_count": 13,
   "metadata": {},
   "outputs": [],
   "source": [
    "## Faça seus testes aqui\n",
    "df_pib_pop = merge_pop_pib(path_pop, path_pib)\n",
    "pib_percapita_2017 = pib_percapita(df_pib_pop)\n"
   ]
  },
  {
   "cell_type": "code",
   "execution_count": 14,
   "metadata": {
    "nbgrader": {
     "grade": true,
     "grade_id": "cell-0e2b6cefe06hbdc60",
     "locked": true,
     "points": 1,
     "schema_version": 3,
     "solution": false,
     "task": false
    }
   },
   "outputs": [],
   "source": [
    "# Validação\n",
    "df_pib_pop = merge_pop_pib(path_pop, path_pib)\n",
    "pib_percapita_2017 = pib_percapita(df_pib_pop)\n",
    "\n",
    "test_data = {'cod_ibge7': {3677: '3536505', 3547: '3524709'},\n",
    "             'municipio_x': {3677: 'Paulínia', 3547: 'Jaguariúna'},\n",
    "             'uf': {3677: 'SP', 3547: 'SP'},\n",
    "             'pib_percapita': {3677: 344.8, 3547: 209.3}}\n",
    "test_data_y = {'cod_ibge7': {3677: '3536505', 3547: '3524709'},\n",
    "             'municipio_y': {3677: 'Paulínia', 3547: 'Jaguariúna'},\n",
    "             'uf': {3677: 'SP', 3547: 'SP'},\n",
    "             'pib_percapita': {3677: 344.8, 3547: 209.3}}\n",
    "cidades_0_9 = top10(pib_percapita_2017, 'pib_percapita')[['cod_ibge7', 'municipio_x', 'uf', 'pib_percapita']].iloc[[0,9]]\n",
    "cidades_0_9_y = top10(pib_percapita_2017, 'pib_percapita')[['cod_ibge7', 'municipio_y', 'uf', 'pib_percapita']].iloc[[0,9]]\n",
    "\n",
    "cidades_0_9['pib_percapita'] = cidades_0_9['pib_percapita'].apply(lambda x: round(x, 1))\n",
    "cidades_0_9_y['pib_percapita'] = cidades_0_9_y['pib_percapita'].apply(lambda x: round(x, 1))\n",
    "\n",
    "assert cidades_0_9.to_dict() == test_data or cidades_0_9_y.to_dict() == test_data_y"
   ]
  },
  {
   "cell_type": "markdown",
   "metadata": {},
   "source": [
    "### 4.5 Escreva uma função para contar quantos nomes de municípios são diferentes nas bases de dados do PIB e da população. \n",
    "#### A coluna do nome dos municípios no dataset de PIB contém também o nome da UF. Remova o nome da UF, por exemplo, removendo os 5 últimos caracteres da string do nome do município, antes de efetuar a comparação.\n",
    "#### Interprete este resultado. O que você pode extrair de aprendizado deste resultado? "
   ]
  },
  {
   "cell_type": "code",
   "execution_count": 19,
   "metadata": {
    "nbgrader": {
     "grade": false,
     "grade_id": "cell-553e5248eb1t4bc30",
     "locked": false,
     "schema_version": 3,
     "solution": true,
     "task": false
    }
   },
   "outputs": [],
   "source": [
    "# Dica 1: use a função map (element-wise) do objeto series, ou seja, sobre a coluna col2 do dataframe df.\n",
    "# Dica 2: passe uma função lambda para o metodo map que executa as instruções do enunciado.\n",
    "# Dica 3: compare o resultado da execução da funcao map com a coluna col1\n",
    "# Dica 4: retorne a quantidade de diferenças resultantes da comparação\n",
    "def compare_df_cols(df, col1, col2):\n",
    "    \"\"\"retorne a quantidade de registros em que o valor do registro na coluna col1 difere do valor em col2\n",
    "    \"\"\"\n",
    "    ### BEGIN SOLUTION\n",
    "    return (df[col2].map(lambda x: str(x)[:-5]) != df[col1]).sum()\n",
    "    ### END SOLUTION\n"
   ]
  },
  {
   "cell_type": "code",
   "execution_count": 20,
   "metadata": {},
   "outputs": [],
   "source": [
    "## Faça seus testes aqui\n",
    "\n"
   ]
  },
  {
   "cell_type": "code",
   "execution_count": 22,
   "metadata": {
    "nbgrader": {
     "grade": true,
     "grade_id": "cell-0e2b6cefet06bdc60",
     "locked": true,
     "points": 1,
     "schema_version": 3,
     "solution": false,
     "task": false
    }
   },
   "outputs": [],
   "source": [
    "# Validação\n",
    "path_pib = 'https://github.com/alexlopespereira/curso_ciencia_dados2021/raw/master/data/originais/pib/pib_municipios.xlsx'\n",
    "path_pop = 'https://github.com/alexlopespereira/curso_ciencia_dados2021/raw/master/data/originais/populacao/estimativa_dou_2017.xlsx'\n",
    "\n",
    "df_pib_pop = merge_pop_pib(path_pop, path_pib)\n",
    "assert compare_df_cols(df_pib_pop, 'municipio_x', 'municipio_y') == 16"
   ]
  }
 ],
 "metadata": {
  "celltoolbar": "Create Assignment",
  "kernelspec": {
   "display_name": "Python 3",
   "language": "python",
   "name": "python3"
  },
  "language_info": {
   "codemirror_mode": {
    "name": "ipython",
    "version": 3
   },
   "file_extension": ".py",
   "mimetype": "text/x-python",
   "name": "python",
   "nbconvert_exporter": "python",
   "pygments_lexer": "ipython3",
   "version": "3.8.3"
  },
  "name": "_merged"
 },
 "nbformat": 4,
 "nbformat_minor": 4
}
