{
 "cells": [
  {
   "cell_type": "markdown",
   "metadata": {},
   "source": [
    "## Aula 7 - Correlação e Regressão Linear"
   ]
  },
  {
   "cell_type": "markdown",
   "metadata": {},
   "source": [
    "### Correlação com Pandas"
   ]
  },
  {
   "cell_type": "code",
   "execution_count": null,
   "metadata": {},
   "outputs": [],
   "source": [
    "import pandas as pd\n",
    "import numpy as np\n",
    "import matplotlib.pyplot as plt \n",
    "import seaborn as sns"
   ]
  },
  {
   "cell_type": "code",
   "execution_count": null,
   "metadata": {},
   "outputs": [],
   "source": [
    "sns.set() # Ajusta valor padrão de tema, escala e paleta de cor\n",
    "# Considere dataset de gorgetas a seguir\n",
    "tips = sns.load_dataset(\"tips\") \n",
    "# Mostre as primeiras linhas do dataframe tips\n",
    "tips.head()"
   ]
  },
  {
   "cell_type": "code",
   "execution_count": null,
   "metadata": {},
   "outputs": [],
   "source": [
    "# Calcule a correlação entre as variáveis do dataset tips\n"
   ]
  },
  {
   "cell_type": "code",
   "execution_count": null,
   "metadata": {},
   "outputs": [],
   "source": [
    "# Plote um mapa de calor (heatmap) da tabela de correlação das variáveis do dataset tips. \n",
    "# Use o argumento annot=True\n",
    "\n"
   ]
  },
  {
   "cell_type": "code",
   "execution_count": null,
   "metadata": {},
   "outputs": [],
   "source": [
    "# Trace um novo heatmap ajustando os valores do intervalo máximo, mínimo e o centro da escala de cores\n",
    "# vmin=-1, vmax=1, center=0\n",
    "\n"
   ]
  },
  {
   "cell_type": "code",
   "execution_count": null,
   "metadata": {},
   "outputs": [],
   "source": [
    "# Ajuste o color map para coolwarm usando o argumento cmpa='coolwarm'\n",
    "\n"
   ]
  },
  {
   "cell_type": "markdown",
   "metadata": {},
   "source": [
    "### Regressão Linear com Statsmodel"
   ]
  },
  {
   "cell_type": "code",
   "execution_count": null,
   "metadata": {},
   "outputs": [],
   "source": [
    "import statsmodels.api as sm\n",
    "import numpy as np\n",
    "import pandas as pd"
   ]
  },
  {
   "cell_type": "code",
   "execution_count": null,
   "metadata": {},
   "outputs": [],
   "source": [
    "from sklearn import datasets ## importa o dataset do scikit-learn\n",
    "data = datasets.load_boston()"
   ]
  },
  {
   "cell_type": "code",
   "execution_count": null,
   "metadata": {},
   "outputs": [],
   "source": [
    "print(data.DESCR) # Imprime a documentação deste dataset (Se existir)"
   ]
  },
  {
   "cell_type": "code",
   "execution_count": null,
   "metadata": {},
   "outputs": [],
   "source": [
    "# Define o dataframe que vai conter as variaveis independentes\n",
    "df = pd.DataFrame(data.data, columns=data.feature_names)\n",
    "\n",
    "# Define o dataframe que vai conter a variavel dependente\n",
    "target = pd.DataFrame(data.target, columns=[\"MEDV\"])"
   ]
  },
  {
   "cell_type": "code",
   "execution_count": null,
   "metadata": {},
   "outputs": [],
   "source": [
    "# Una os dois dataframes acima num dataframe chamado df_join\n",
    "\n"
   ]
  },
  {
   "cell_type": "code",
   "execution_count": null,
   "metadata": {},
   "outputs": [],
   "source": [
    "df_join.head()"
   ]
  },
  {
   "cell_type": "code",
   "execution_count": null,
   "metadata": {},
   "outputs": [],
   "source": [
    "# Plote um heatmap da correlação das variaveis do dataframe df_join\n",
    "# Defina um tamanho de figura (30x30) com o comaando a seguir: fig, axc = plt.subplots(figsize=(30,30)) \n",
    "# Plote o heatmap especificando o eixo ax=axc (passando o exio criado com o comando da linha anterior)\n",
    "\n"
   ]
  },
  {
   "cell_type": "code",
   "execution_count": null,
   "metadata": {},
   "outputs": [],
   "source": [
    "# Duas variáveis interessantes são: RM e LSTAT. Olhe a ultima linha ou ultima coluna do gráfico para ver\n",
    "# a relação das variáveis independentes com a variável dependente MEDV"
   ]
  },
  {
   "cell_type": "code",
   "execution_count": null,
   "metadata": {},
   "outputs": [],
   "source": [
    "import statsmodels.api as sm\n",
    "\n",
    "# Carrege a coluna RM na variavel X\n",
    "\n",
    "# Carrege a coluna RM MEDV variavel X\n",
    "\n",
    "## adicione o valor de interceptação do eixo y, o b da equação y = ax + b\n",
    "\n",
    "\n",
    "# Primeiro a variável dependente, depois a variável indepedente.\n",
    "# O metodo OLS da biblioteca statsmodel não adiciona a constante b da equação y = ax + b\n",
    "# Você precisa explicitamente montar esta equação.\n",
    "# Vamos fazer a regressão inicialmente sem a constante\n",
    "model = sm.OLS(y, X).fit()\n",
    "\n",
    "# Mostra o resumo das estatisticas\n",
    "model.summary()"
   ]
  },
  {
   "cell_type": "code",
   "execution_count": null,
   "metadata": {},
   "outputs": [],
   "source": [
    "# Repita o procedimento acima passando duas variaveis independentes ao modelo RM e LSTAT\n",
    "X = df[['RM', 'LSTAT']]\n",
    "y = target['MEDV']\n",
    "X = sm.add_constant(X)\n",
    "model = sm.OLS(y, X).fit()\n",
    "predictions = model.predict(X)\n",
    "model.summary()"
   ]
  },
  {
   "cell_type": "code",
   "execution_count": null,
   "metadata": {},
   "outputs": [],
   "source": [
    "# Calcule as predições guardando o resultado na variavel predictions\n",
    "predictions = model.predict(X)"
   ]
  },
  {
   "cell_type": "code",
   "execution_count": null,
   "metadata": {},
   "outputs": [],
   "source": [
    "# Imprima as 5 primeiras predições\n",
    "predictions[:5]"
   ]
  },
  {
   "cell_type": "markdown",
   "metadata": {},
   "source": [
    "### Regressão linear com Scikit-learn"
   ]
  },
  {
   "cell_type": "code",
   "execution_count": null,
   "metadata": {},
   "outputs": [],
   "source": [
    "from sklearn import linear_model\n",
    "# Carrega o dataset na variavel dfsk\n",
    "dfsk = pd.DataFrame(data.data, columns=data.feature_names)\n",
    "\n",
    "# Defina as variaveis independentes na variavel Xsk\n",
    "\n",
    "\n",
    "# Defina a variavel dependente na variavel ysk\n",
    "\n",
    "\n",
    "\n",
    "\n",
    "\n",
    "\n",
    "# Realize as predições\n",
    "predictions_sk = lm.predict(Xsk)"
   ]
  },
  {
   "cell_type": "code",
   "execution_count": null,
   "metadata": {},
   "outputs": [],
   "source": [
    "# Imprima as 5 primeiras predições e compare com as predições do Statsmodel\n",
    "print(predictions_sk[0:5])\n",
    "# Confere com a predição do statsmodel até a 5a casa decimal"
   ]
  },
  {
   "cell_type": "markdown",
   "metadata": {},
   "source": [
    "### Visualizando a regressão com o Seaborn"
   ]
  },
  {
   "cell_type": "code",
   "execution_count": null,
   "metadata": {},
   "outputs": [],
   "source": [
    "# Plote um scatterplot juntamente com uma reta de regressão e seu intervalo de confiança de 95%\n",
    "sns.regplot(x=\"RM\", y='MEDV', data=df_join)"
   ]
  },
  {
   "cell_type": "code",
   "execution_count": null,
   "metadata": {},
   "outputs": [],
   "source": []
  },
  {
   "cell_type": "code",
   "execution_count": null,
   "metadata": {},
   "outputs": [],
   "source": []
  }
 ],
 "metadata": {
  "kernelspec": {
   "display_name": "Python 3",
   "language": "python",
   "name": "python3"
  },
  "language_info": {
   "codemirror_mode": {
    "name": "ipython",
    "version": 3
   },
   "file_extension": ".py",
   "mimetype": "text/x-python",
   "name": "python",
   "nbconvert_exporter": "python",
   "pygments_lexer": "ipython3",
   "version": "3.6.10"
  }
 },
 "nbformat": 4,
 "nbformat_minor": 4
}
