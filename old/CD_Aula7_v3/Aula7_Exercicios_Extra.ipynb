{
 "cells": [
  {
   "cell_type": "markdown",
   "metadata": {},
   "source": [
    "# Aula 7 - Exercícios Extra - Correlação e Regressão\n",
    "### Consulta a internet (Google, Stackoverflow e etc) liberada!!"
   ]
  },
  {
   "cell_type": "code",
   "execution_count": null,
   "metadata": {},
   "outputs": [],
   "source": [
    "# Importe a biblioteca pandas\n",
    "import pandas as pd\n",
    "import seaborn as sns\n",
    "import matplotlib.pyplot as plt "
   ]
  },
  {
   "cell_type": "markdown",
   "metadata": {},
   "source": [
    "### 7.5 Desenvolva um código de análise de dados usando o Pandas para analisar uma possível correlação entre os dados de morbidade dos municípios brasileiros (ou outro dataset de sua preferência) com os dados de mobilidade do google também disponibilizado entre os datasets do curso. O objetivo é tentar encontrar alguma correlação entre a mobilidade (ou o isolamento social) e os efeitos negativos da pandemia.\n",
    "\n",
    "#### Leia a documentação para entender este dataset: https://support.google.com/covid19-mobility/answer/9824897?hl=en&ref_topic=9822927\n",
    "#### É possível que você necessite fazer várias operações de merge para conseguir fazer o merge desses dois datasets, pois o dataset de mobilidade não tem o código do ibge do município.\n",
    "#### Não deixe de avaliar também a necessidade de realizar operações de groupby\n",
    "#### Uma questão importante é buscar uma métrica de mobilidade a ser extraída do dataset disponibilizado pelo google. Leia a documentação desse dataset para tentar usar ou desenvolver tal métrica.\n",
    "#### Comente o resultado encontrado. O exercício é de correção manual. Não há uma resposta correta. Será avaliado a sua capacidade de análise do resultado e não necessariamente o fato de você ter encontrado ou não uma correlação."
   ]
  },
  {
   "cell_type": "code",
   "execution_count": null,
   "metadata": {},
   "outputs": [],
   "source": [
    "# Esse comando vai fazer o download do dataset de mobilidade\n",
    "# O arquivo tem 27MB, pode demorar um pouco pra fazer o download.\n",
    "!cd ../../curso_ciencia_dados2020 && git pull"
   ]
  },
  {
   "cell_type": "code",
   "execution_count": null,
   "metadata": {
    "deletable": false,
    "nbgrader": {
     "cell_type": "code",
     "checksum": "b83a10a93e0a6eddf2efdf3f26f6af10",
     "grade": true,
     "grade_id": "cell-f21ba3fc1a04df46",
     "locked": false,
     "points": 10,
     "schema_version": 3,
     "solution": true,
     "task": false
    }
   },
   "outputs": [],
   "source": [
    "# YOUR CODE HERE\n",
    "raise NotImplementedError()"
   ]
  },
  {
   "cell_type": "code",
   "execution_count": null,
   "metadata": {},
   "outputs": [],
   "source": []
  },
  {
   "cell_type": "code",
   "execution_count": null,
   "metadata": {},
   "outputs": [],
   "source": []
  },
  {
   "cell_type": "code",
   "execution_count": null,
   "metadata": {},
   "outputs": [],
   "source": []
  },
  {
   "cell_type": "code",
   "execution_count": null,
   "metadata": {},
   "outputs": [],
   "source": []
  },
  {
   "cell_type": "code",
   "execution_count": null,
   "metadata": {},
   "outputs": [],
   "source": []
  },
  {
   "cell_type": "code",
   "execution_count": null,
   "metadata": {},
   "outputs": [],
   "source": []
  },
  {
   "cell_type": "code",
   "execution_count": null,
   "metadata": {},
   "outputs": [],
   "source": []
  },
  {
   "cell_type": "code",
   "execution_count": null,
   "metadata": {},
   "outputs": [],
   "source": []
  },
  {
   "cell_type": "code",
   "execution_count": null,
   "metadata": {},
   "outputs": [],
   "source": []
  },
  {
   "cell_type": "code",
   "execution_count": null,
   "metadata": {},
   "outputs": [],
   "source": []
  },
  {
   "cell_type": "code",
   "execution_count": null,
   "metadata": {},
   "outputs": [],
   "source": []
  },
  {
   "cell_type": "code",
   "execution_count": null,
   "metadata": {},
   "outputs": [],
   "source": []
  }
 ],
 "metadata": {
  "kernelspec": {
   "display_name": "Python 3",
   "language": "python",
   "name": "python3"
  },
  "language_info": {
   "codemirror_mode": {
    "name": "ipython",
    "version": 3
   },
   "file_extension": ".py",
   "mimetype": "text/x-python",
   "name": "python",
   "nbconvert_exporter": "python",
   "pygments_lexer": "ipython3",
   "version": "3.6.10"
  }
 },
 "nbformat": 4,
 "nbformat_minor": 4
}
