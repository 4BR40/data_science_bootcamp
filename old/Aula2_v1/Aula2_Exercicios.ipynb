{
 "cells": [
  {
   "cell_type": "markdown",
   "metadata": {},
   "source": [
    "# Aula 2 - Exercícios - Python e Pandas\n",
    "### Consulta a internet (Google, Stackoverflow e etc) liberada!!"
   ]
  },
  {
   "cell_type": "markdown",
   "metadata": {},
   "source": [
    "#### Fonte dos exercícios:\n",
    "1 - https://www.w3resource.com/python-exercises/python-basic-exercises.php\n",
    "\n",
    "2 - https://www.kaggle.com/python10pm/pandas-75-exercises-with-solutions\n",
    "\n",
    "3 - https://www.kaggle.com/python10pm/pandas-exercises-with-solutions-3-3\n"
   ]
  },
  {
   "cell_type": "code",
   "execution_count": null,
   "metadata": {},
   "outputs": [],
   "source": [
    "# Importe as bibliotecas pandas e numpy\n",
    "import pandas as pd\n",
    "import numpy as np"
   ]
  },
  {
   "cell_type": "markdown",
   "metadata": {},
   "source": [
    "### 2.1 Escreva uma função para retornar os itens de uma determinada série \n",
    "### que não estejam presentes em outra série \n",
    "#### Exemplo: Considere uma Serie A com os valores [1, 2, 3, 4, 5, 6, 7, 8], e\n",
    "####          uma Serie B com os valores [2, 4, 6, 8, 10, 12]\n",
    "#### Resultado Esperado: Uma Serie com os valores [1, 3, 5, 7]\n"
   ]
  },
  {
   "cell_type": "code",
   "execution_count": null,
   "metadata": {
    "deletable": false,
    "nbgrader": {
     "cell_type": "code",
     "checksum": "a8209d415109fe26f6655928b9cecc88",
     "grade": false,
     "grade_id": "cell-c705b9d11473b9f9",
     "locked": false,
     "schema_version": 3,
     "solution": true,
     "task": false
    }
   },
   "outputs": [],
   "source": [
    "# Dica 1: a função .isin da Serie retorna uma Serie de valores booleanos representando a \n",
    "#      intersecção da de duas series\n",
    "# Dica 2: o operador ~ serve para inverter os valores booleanos de uma Serie.\n",
    "#      Exemplo: \n",
    "#        ~pd.Series([True, False]) \n",
    "#        0    False\n",
    "#        1     True\n",
    "#        dtype: bool\n",
    "\n",
    "def complemento(s1, s2):\n",
    "    \"\"\"retorne os valores do complemento de s1 em relação a s2\n",
    "    \"\"\"\n",
    "    # YOUR CODE HERE\n",
    "    raise NotImplementedError()\n"
   ]
  },
  {
   "cell_type": "code",
   "execution_count": null,
   "metadata": {},
   "outputs": [],
   "source": [
    "## Faça seus testes aqui\n"
   ]
  },
  {
   "cell_type": "code",
   "execution_count": null,
   "metadata": {
    "deletable": false,
    "editable": false,
    "nbgrader": {
     "cell_type": "code",
     "checksum": "3ced76065dc57cdd719c21b09d2336b2",
     "grade": true,
     "grade_id": "cell-9ffda88d58e9282a",
     "locked": true,
     "points": 1,
     "schema_version": 3,
     "solution": false,
     "task": false
    }
   },
   "outputs": [],
   "source": [
    "# Validação para nota\n",
    "s1 = pd.Series([1, 2, 3, 4, 5, 6, 7, 8]) \n",
    "s2 = pd.Series([2, 4, 6, 8, 10, 12]) \n",
    "c12 = pd.Series([1, 3, 5, 7]) \n",
    "c21 = pd.Series([10, 12]) \n",
    "\n",
    "assert complemento(s1,s2).reset_index()[0].equals(c12)\n",
    "assert complemento(s2,s1).reset_index()[0].equals(c21)"
   ]
  },
  {
   "cell_type": "markdown",
   "metadata": {},
   "source": [
    "### 2.2 Escreva uma função para obter os itens que não são comuns em duas séries.\n",
    "### Ou seja, estão na uniao mas não na intersecção.\n",
    "#### Exemplo: Considere uma Serie A com os valores [1, 2, 3, 4, 5, 6, 7, 8], e\n",
    "####          uma Serie B com os valores [2, 4, 6, 8, 10, 12]\n",
    "#### Resultado Esperado: Uma Serie com os valores [1, 3, 5, 7,10,12]\n"
   ]
  },
  {
   "cell_type": "code",
   "execution_count": null,
   "metadata": {
    "deletable": false,
    "nbgrader": {
     "cell_type": "code",
     "checksum": "1391c94cc5b0d0641c6fd45215b15d2c",
     "grade": false,
     "grade_id": "cell-553ee248eb14bc30",
     "locked": false,
     "schema_version": 3,
     "solution": true,
     "task": false
    }
   },
   "outputs": [],
   "source": [
    "# Dica 1: Use a função np.union1d para calcular a união de duas Series.\n",
    "#     Exemplo: o código pd.Series(np.union1d(t1, t2)) crie uma Serie da união de t1 e t2\n",
    "\n",
    "def complemento2(s1, s2):\n",
    "    \"\"\"retorne os valores que não são comuns em duas séries\n",
    "    \"\"\"\n",
    "    # YOUR CODE HERE\n",
    "    raise NotImplementedError()\n"
   ]
  },
  {
   "cell_type": "code",
   "execution_count": null,
   "metadata": {},
   "outputs": [],
   "source": [
    "## Faça seus testes aqui\n"
   ]
  },
  {
   "cell_type": "code",
   "execution_count": null,
   "metadata": {
    "deletable": false,
    "editable": false,
    "nbgrader": {
     "cell_type": "code",
     "checksum": "8991c1f5cb95ed7db6fe4066e6cef97e",
     "grade": true,
     "grade_id": "cell-0e2bt6cefe06bdc60",
     "locked": true,
     "points": 1,
     "schema_version": 3,
     "solution": false,
     "task": false
    }
   },
   "outputs": [],
   "source": [
    "# Validação para nota\n",
    "s1 = pd.Series([1, 2, 3, 4, 5, 6, 7, 8]) \n",
    "s2 = pd.Series([2, 4, 6, 8, 10, 12]) \n",
    "c = pd.Series([1, 3, 5, 7, 10, 12]) \n",
    "\n",
    "assert complemento2(s1,s2).reset_index()[0].equals(c) "
   ]
  },
  {
   "cell_type": "markdown",
   "metadata": {},
   "source": [
    "### 2.3 Escreva uma função para selecionar as linhas de um dataframe onde o valor\n",
    "### na coluna especificada seja ausente (NA)\n"
   ]
  },
  {
   "cell_type": "code",
   "execution_count": null,
   "metadata": {
    "deletable": false,
    "nbgrader": {
     "cell_type": "code",
     "checksum": "a9f0b964254b7d54759a255af0d902d7",
     "grade": false,
     "grade_id": "cell-553d5248eb14bc30",
     "locked": false,
     "schema_version": 3,
     "solution": true,
     "task": false
    }
   },
   "outputs": [],
   "source": [
    "def seleciona_null(df, col):\n",
    "    \"\"\"retorne as linhas cujo valor na coluna col seja ausente (NA)\n",
    "    \"\"\"\n",
    "    # YOUR CODE HERE\n",
    "    raise NotImplementedError()\n"
   ]
  },
  {
   "cell_type": "code",
   "execution_count": null,
   "metadata": {},
   "outputs": [],
   "source": [
    "## Faça seus testes aqui\n"
   ]
  },
  {
   "cell_type": "code",
   "execution_count": null,
   "metadata": {
    "deletable": false,
    "editable": false,
    "nbgrader": {
     "cell_type": "code",
     "checksum": "0c54a28954d064096342435371503dd5",
     "grade": true,
     "grade_id": "cell-0e2b6aefe06bdc60",
     "locked": true,
     "points": 1,
     "schema_version": 3,
     "solution": false,
     "task": false
    }
   },
   "outputs": [],
   "source": [
    "# Validação para nota\n",
    "exam_data  = {'name': ['Anastasia', 'Dima', 'Katherine', 'James', 'Emily', 'Michael', 'Matthew', 'Laura', 'Kevin', 'Jonas'],\n",
    "        'score': [12.5, 9, 16.5, np.nan, 9, 20, 14.5, np.nan, 8, 19],\n",
    "        'attempts': [1, 3, 2, 3, 2, 3, 1, 1, 2, 1],\n",
    "        'qualify': ['yes', 'no', 'yes', 'no', 'no', 'yes', 'yes', 'no', 'no', 'yes']}\n",
    "labels = ['a', 'b', 'c', 'd', 'e', 'f', 'g', 'h', 'i', 'j']\n",
    "df = pd.DataFrame(exam_data , index=labels)\n",
    "assert seleciona_null(df, 'score').equals(df.loc[['d', 'h']])\n",
    "seleciona_null(df, 'score')"
   ]
  },
  {
   "cell_type": "markdown",
   "metadata": {},
   "source": [
    "### 2.4 Escreva uma função para mudar o conteúdo de uma coluna de um dataframe, \n",
    "### especificando como parâmetros de entrada o nome da coluna, o valor original e o \n",
    "### novo valor.\n",
    "#### Exemplo:\n",
    "|    | name      |   score | qualify   |\n",
    "|:---|:----------|--------:|:----------|\n",
    "| a  | Anastasia |    12.5 | yes       |\n",
    "| b  | Dima      |     9   | no        |\n",
    "| c  | Katherine |    16.5 | yes       |\n",
    "| d  | James     |   nan   | no        |\n",
    "\n",
    "#### Resultado Esperado:\n",
    "|    | name      |   score | qualify   |\n",
    "|:---|:----------|--------:|:----------|\n",
    "| a  | Anastasia |    12.5 | yes       |\n",
    "| b  | Dima      |     9   | no        |\n",
    "| c  | Katherine |    16.5 | yes       |\n",
    "| d  | Suresh    |   nan   | no        |\n"
   ]
  },
  {
   "cell_type": "code",
   "execution_count": null,
   "metadata": {
    "deletable": false,
    "nbgrader": {
     "cell_type": "code",
     "checksum": "d9094b0b3367d391a7e41ce3f40c0454",
     "grade": false,
     "grade_id": "cell-553f5248eb14bc30",
     "locked": false,
     "schema_version": 3,
     "solution": true,
     "task": false
    }
   },
   "outputs": [],
   "source": [
    "# Dica: Use a função replace da Serie. A função replace tem um parâmetro inplace \n",
    "#       para modificar o proprio objeto.\n",
    "\n",
    "def change_value(df, col, orig, new):\n",
    "    \"\"\"altere a coluna col do dataframe df substituindo orig por new\n",
    "    \"\"\"\n",
    "    # YOUR CODE HERE\n",
    "    raise NotImplementedError()\n"
   ]
  },
  {
   "cell_type": "code",
   "execution_count": null,
   "metadata": {},
   "outputs": [],
   "source": [
    "## Faça seus testes aqui\n"
   ]
  },
  {
   "cell_type": "code",
   "execution_count": null,
   "metadata": {
    "deletable": false,
    "editable": false,
    "nbgrader": {
     "cell_type": "code",
     "checksum": "923501c008f2966c439d1c65a8a85ac4",
     "grade": true,
     "grade_id": "cell-0e2b65cefe06bdc60",
     "locked": true,
     "points": 1,
     "schema_version": 3,
     "solution": false,
     "task": false
    }
   },
   "outputs": [],
   "source": [
    "# Validação para nota\n",
    "exam_data  = {'name': ['Anastasia', 'Dima', 'Katherine', 'James', 'Emily',\n",
    "                       'Michael', 'Matthew', 'Laura', 'Kevin', 'Jonas'],\n",
    "        'score': [12.5, 9, 16.5, np.nan, 9, 20, 14.5, np.nan, 8, 19],\n",
    "        'qualify': ['yes', 'no', 'yes', 'no', 'no', 'yes', 'yes', 'no', 'no', 'yes']}\n",
    "labels = ['a', 'b', 'c', 'd', 'e', 'f', 'g', 'h', 'i', 'j']\n",
    "exam_data2 = {'name': ['Anastasia', 'Dima', 'Katherine', 'Suresh', 'Emily',\n",
    "                       'Michael', 'Matthew', 'Laura', 'Kevin', 'Jonas'],\n",
    "        'score': [12.5, 9, 16.5, np.nan, 9, 20, 14.5, np.nan, 8, 19],\n",
    "        'qualify': ['yes', 'no', 'yes', 'no', 'no', 'yes', 'yes', 'no', 'no', 'yes']}\n",
    "df = pd.DataFrame(exam_data, index=labels) \n",
    "df2 = pd.DataFrame(exam_data2, index=labels) \n",
    "\n",
    "assert change_value(df, 'name', 'James', 'Suresh').equals(df2)"
   ]
  },
  {
   "cell_type": "markdown",
   "metadata": {},
   "source": [
    "### 2.5 Escreva uma função para mudar o conteúdo de uma coluna de um dataframe \n",
    "### de valores do tipo string ('yes' ou 'no') para uma coluna do tipo booleano \n",
    "### parametrizando no nome da coluna a ser alterada.\n",
    "#### Exemplo: Considere o dataframe a seguir\n",
    "|    | name      |   score | qualify   |\n",
    "|:---|:----------|--------:|:----------|\n",
    "| a  | Anastasia |    12.5 | yes       |\n",
    "| b  | Dima      |     9   | no        |\n",
    "| c  | Katherine |    16.5 | yes       |\n",
    "\n",
    "#### Resultado Esperado:\n",
    "|    | name      |   score | qualify   |\n",
    "|:---|:----------|--------:|:----------|\n",
    "| a  | Anastasia |    12.5 | True      |\n",
    "| b  | Dima      |     9   | False     |\n",
    "| c  | Katherine |    16.5 | True      |\n"
   ]
  },
  {
   "cell_type": "code",
   "execution_count": null,
   "metadata": {
    "deletable": false,
    "nbgrader": {
     "cell_type": "code",
     "checksum": "6c52316c0e928ebc2642a26b22dd76a1",
     "grade": false,
     "grade_id": "cell-553g5248eb14bc30",
     "locked": false,
     "schema_version": 3,
     "solution": true,
     "task": false
    }
   },
   "outputs": [],
   "source": [
    "# Dica: use a função map da Serie\n",
    "\n",
    "def change_yes_no(df, col):\n",
    "    \"\"\"altere o data frame na coluna col substituindo 'yes' por True e 'no' por False\n",
    "    \"\"\"\n",
    "    # YOUR CODE HERE\n",
    "    raise NotImplementedError()\n"
   ]
  },
  {
   "cell_type": "code",
   "execution_count": null,
   "metadata": {},
   "outputs": [],
   "source": [
    "## Faça seus testes aqui\n"
   ]
  },
  {
   "cell_type": "code",
   "execution_count": null,
   "metadata": {
    "deletable": false,
    "editable": false,
    "nbgrader": {
     "cell_type": "code",
     "checksum": "d25820dece5b9232f6efc1e7941bbb21",
     "grade": true,
     "grade_id": "cell-0e2b6efe06bdc60",
     "locked": true,
     "points": 1,
     "schema_version": 3,
     "solution": false,
     "task": false
    }
   },
   "outputs": [],
   "source": [
    "# Validação para nota\n",
    "exam_data  = {'name': ['Anastasia', 'Dima', 'Katherine', 'James', 'Emily',\n",
    "                       'Michael', 'Matthew', 'Laura', 'Kevin', 'Jonas'],\n",
    "        'score': [12.5, 9, 16.5, np.nan, 9, 20, 14.5, np.nan, 8, 19],\n",
    "        'qualify': ['yes', 'no', 'yes', 'no', 'no', 'yes', 'yes', 'no', 'no', 'yes']}\n",
    "labels = ['a', 'b', 'c', 'd', 'e', 'f', 'g', 'h', 'i', 'j']\n",
    "exam_data2 = {'name': ['Anastasia', 'Dima', 'Katherine', 'James', 'Emily',\n",
    "                       'Michael', 'Matthew', 'Laura', 'Kevin', 'Jonas'],\n",
    "        'score': [12.5, 9, 16.5, np.nan, 9, 20, 14.5, np.nan, 8, 19],\n",
    "        'qualify': [True, False, True, False, False, True, True, False, False, True]}\n",
    "df = pd.DataFrame(exam_data, index=labels) \n",
    "df2 = pd.DataFrame(exam_data2, index=labels) \n",
    "\n",
    "assert change_yes_no(df, 'qualify').equals(df2) "
   ]
  },
  {
   "cell_type": "markdown",
   "metadata": {},
   "source": [
    "### 2.6 Escreva uma função para retornar ordenar um DataFrame \n",
    "### por colunas (Ex.: [col1, col2,...,colK] e retornar as top N linhas do DataFrame ordenado \n",
    "#### Use o dataset Diamonds (https://www.kaggle.com/shivam2503/diamonds) \n",
    "#### O código a seguir faz o download deste dataset."
   ]
  },
  {
   "cell_type": "code",
   "execution_count": null,
   "metadata": {},
   "outputs": [],
   "source": [
    "diamonds = pd.read_csv('https://raw.githubusercontent.com/mwaskom/seaborn-data/master/diamonds.csv')\n",
    "diamonds"
   ]
  },
  {
   "cell_type": "code",
   "execution_count": null,
   "metadata": {
    "deletable": false,
    "nbgrader": {
     "cell_type": "code",
     "checksum": "62f655e39f65d9b93d657623d02325e2",
     "grade": false,
     "grade_id": "cell-553h5248eb14bc30",
     "locked": false,
     "schema_version": 3,
     "solution": true,
     "task": false
    }
   },
   "outputs": [],
   "source": [
    "# Dica 1: Use a função sort_values do DataFrame. \n",
    "#         Esta função possui os parâmetros inplace e ascending.\n",
    "\n",
    "def topN_sorted(df, cols, n):\n",
    "    \"\"\"retorne as top n linhas ordenadas por cols\n",
    "    \"\"\"\n",
    "    # YOUR CODE HERE\n",
    "    raise NotImplementedError()\n"
   ]
  },
  {
   "cell_type": "code",
   "execution_count": null,
   "metadata": {},
   "outputs": [],
   "source": [
    "## Faça seus testes aqui\n"
   ]
  },
  {
   "cell_type": "code",
   "execution_count": null,
   "metadata": {
    "deletable": false,
    "editable": false,
    "nbgrader": {
     "cell_type": "code",
     "checksum": "3fae85a15d113ab2e8f91f698cb6dca8",
     "grade": true,
     "grade_id": "cell-0e2b6cere06bdc60",
     "locked": true,
     "points": 1,
     "schema_version": 3,
     "solution": false,
     "task": false
    }
   },
   "outputs": [],
   "source": [
    "# Validação para nota\n",
    "df = pd.DataFrame({'carat':[2.29, 2.0, 1.51],'cut':['Premium', 'Very Good', 'Ideal'],\n",
    "                   'color':['I', 'G', 'G'],'clarity':['VS2', 'SI1', 'IF'],\n",
    "                   'depth':[60.8, 63.5, 61.7],'table':[60.0, 56.0, 55.0],\n",
    "                   'price':[18823, 18818, 18806],'x':[8.5, 7.9, 7.37],\n",
    "                   'y':[8.47, 7.97, 7.41],'z':[5.16, 5.04, 4.56]},\n",
    "                 index=[27749, 27748, 27747])\n",
    "\n",
    "assert topN_sorted(diamonds,['price', 'clarity'], 3).equals(df)"
   ]
  },
  {
   "cell_type": "markdown",
   "metadata": {},
   "source": [
    "### 2.7 Considerando o dataset Diamonds, escreva uma função para retornar as informações\n",
    "### dos diamantes que atendam a especificação x > N e y > N e Z > N\n",
    "#### Use o dataset Diamonds (https://www.kaggle.com/shivam2503/diamonds) \n",
    "#### O código a seguir faz o download deste dataset\n"
   ]
  },
  {
   "cell_type": "code",
   "execution_count": null,
   "metadata": {
    "deletable": false,
    "nbgrader": {
     "cell_type": "code",
     "checksum": "9e7d325d307fda593569b6d6474f4944",
     "grade": false,
     "grade_id": "cell-55335248eb14bc30",
     "locked": false,
     "schema_version": 3,
     "solution": true,
     "task": false
    }
   },
   "outputs": [],
   "source": [
    "# Dica 1: Use o operador & (AND) para realizar a conjunção lógica (p ^ q).\n",
    "#         Use a sintaxe com colchete e parênteses df[(S1) & (S2) & (S3)]\n",
    "\n",
    "def filter_xyz(df, n):\n",
    "    \"\"\"retorne as linhas que atendam a especificação x > n e y > n e Z > n\n",
    "    \"\"\"\n",
    "    # YOUR CODE HERE\n",
    "    raise NotImplementedError()\n"
   ]
  },
  {
   "cell_type": "code",
   "execution_count": null,
   "metadata": {},
   "outputs": [],
   "source": [
    "## Faça seus testes aqui\n"
   ]
  },
  {
   "cell_type": "code",
   "execution_count": null,
   "metadata": {
    "deletable": false,
    "editable": false,
    "nbgrader": {
     "cell_type": "code",
     "checksum": "6a4786e622654944a3819e9132588dfc",
     "grade": true,
     "grade_id": "cell-0e24b6cefe06bdc60",
     "locked": true,
     "points": 1,
     "schema_version": 3,
     "solution": false,
     "task": false
    }
   },
   "outputs": [],
   "source": [
    "# Validação para nota\n",
    "df = pd.DataFrame({'carat':[2.29, 2.0, 1.51],'cut':['Premium', 'Very Good', 'Ideal'],\n",
    "                   'color':['I', 'G', 'G'],'clarity':['VS2', 'SI1', 'IF'],\n",
    "                   'depth':[60.8, 63.5, 61.7],'table':[60.0, 56.0, 55.0],\n",
    "                   'price':[18823, 18818, 18806],'x':[8.5, 7.9, 7.37],\n",
    "                   'y':[8.47, 7.97, 7.41],'z':[5.16, 5.04, 4.56]},\n",
    "                 index=[27749, 27748, 27747])\n",
    "assert filter_xyz(df, 4).equals(df)"
   ]
  }
 ],
 "metadata": {
  "kernelspec": {
   "display_name": "Python 3",
   "language": "python",
   "name": "python3"
  },
  "language_info": {
   "codemirror_mode": {
    "name": "ipython",
    "version": 3
   },
   "file_extension": ".py",
   "mimetype": "text/x-python",
   "name": "python",
   "nbconvert_exporter": "python",
   "pygments_lexer": "ipython3",
   "version": "3.8.4"
  }
 },
 "nbformat": 4,
 "nbformat_minor": 4
}
