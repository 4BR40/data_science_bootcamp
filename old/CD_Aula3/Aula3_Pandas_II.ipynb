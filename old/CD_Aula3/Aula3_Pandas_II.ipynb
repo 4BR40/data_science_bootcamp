{
 "cells": [
  {
   "cell_type": "markdown",
   "metadata": {},
   "source": [
    "## Aula 3 - Pandas e Fontes de dados"
   ]
  },
  {
   "cell_type": "markdown",
   "metadata": {},
   "source": [
    "### Manipulação de Fontes de Dados"
   ]
  },
  {
   "cell_type": "code",
   "execution_count": 2,
   "metadata": {},
   "outputs": [
    {
     "name": "stdout",
     "output_type": "stream",
     "text": [
      "Cloning into '/home/jovyan/work/curso_ciencia_dados2020'...\n",
      "remote: Enumerating objects: 230, done.\u001b[K\n",
      "remote: Counting objects: 100% (230/230), done.\u001b[K\n",
      "remote: Compressing objects: 100% (133/133), done.\u001b[K\n",
      "remote: Total 230 (delta 86), reused 191 (delta 61), pack-reused 0\u001b[K\n",
      "Receiving objects: 100% (230/230), 27.56 MiB | 10.17 MiB/s, done.\n",
      "Resolving deltas: 100% (86/86), done.\n",
      "Updating files: 100% (44/44), done.\n"
     ]
    }
   ],
   "source": [
    "#Fazer o download dos datasets\n",
    "!git clone https://github.com/alexlopespereira/curso_ciencia_dados2020.git ~/work/curso_ciencia_dados2020"
   ]
  },
  {
   "cell_type": "code",
   "execution_count": 5,
   "metadata": {},
   "outputs": [],
   "source": [
    "import pandas as pd\n",
    "import numpy as np"
   ]
  },
  {
   "cell_type": "markdown",
   "metadata": {},
   "source": [
    "#### Carregar dados de um Arquivo XLS"
   ]
  },
  {
   "cell_type": "code",
   "execution_count": 7,
   "metadata": {},
   "outputs": [],
   "source": [
    "### Ler o arquivo com o pib dos municípios brasileiros e guarde numa variável df_pib\n",
    "df_pib = pd.read_excel('../../curso_ciencia_dados2020/data/originais/pib/pib_municipios.xlsx', sheet_name='Tabela') \n",
    "# sheet_name é o argumento para o aba da planilha desejada. \n",
    "# Se você quiser a 1a aba, não precisa especificar.\n",
    "\n",
    "\n"
   ]
  },
  {
   "cell_type": "code",
   "execution_count": 8,
   "metadata": {},
   "outputs": [
    {
     "data": {
      "text/html": [
       "<div>\n",
       "<style scoped>\n",
       "    .dataframe tbody tr th:only-of-type {\n",
       "        vertical-align: middle;\n",
       "    }\n",
       "\n",
       "    .dataframe tbody tr th {\n",
       "        vertical-align: top;\n",
       "    }\n",
       "\n",
       "    .dataframe thead th {\n",
       "        text-align: right;\n",
       "    }\n",
       "</style>\n",
       "<table border=\"1\" class=\"dataframe\">\n",
       "  <thead>\n",
       "    <tr style=\"text-align: right;\">\n",
       "      <th></th>\n",
       "      <th>Tabela 5938 - Produto interno bruto a preços correntes, impostos, líquidos de subsídios, sobre produtos a preços correntes e valor adicionado bruto a preços correntes total e por atividade econômica, e respectivas participações - Referência 2010</th>\n",
       "      <th>Unnamed: 1</th>\n",
       "      <th>Unnamed: 2</th>\n",
       "      <th>Unnamed: 3</th>\n",
       "      <th>Unnamed: 4</th>\n",
       "      <th>Unnamed: 5</th>\n",
       "      <th>Unnamed: 6</th>\n",
       "      <th>Unnamed: 7</th>\n",
       "      <th>Unnamed: 8</th>\n",
       "    </tr>\n",
       "  </thead>\n",
       "  <tbody>\n",
       "    <tr>\n",
       "      <th>0</th>\n",
       "      <td>Variável - Produto Interno Bruto a preços corr...</td>\n",
       "      <td>NaN</td>\n",
       "      <td>NaN</td>\n",
       "      <td>NaN</td>\n",
       "      <td>NaN</td>\n",
       "      <td>NaN</td>\n",
       "      <td>NaN</td>\n",
       "      <td>NaN</td>\n",
       "      <td>NaN</td>\n",
       "    </tr>\n",
       "    <tr>\n",
       "      <th>1</th>\n",
       "      <td>Nível</td>\n",
       "      <td>Cód.</td>\n",
       "      <td>Município</td>\n",
       "      <td>Ano</td>\n",
       "      <td>NaN</td>\n",
       "      <td>NaN</td>\n",
       "      <td>NaN</td>\n",
       "      <td>NaN</td>\n",
       "      <td>NaN</td>\n",
       "    </tr>\n",
       "    <tr>\n",
       "      <th>2</th>\n",
       "      <td>NaN</td>\n",
       "      <td>NaN</td>\n",
       "      <td>NaN</td>\n",
       "      <td>2007</td>\n",
       "      <td>2009</td>\n",
       "      <td>2011</td>\n",
       "      <td>2013.0</td>\n",
       "      <td>2015.0</td>\n",
       "      <td>2017.0</td>\n",
       "    </tr>\n",
       "    <tr>\n",
       "      <th>3</th>\n",
       "      <td>MU</td>\n",
       "      <td>1100015</td>\n",
       "      <td>Alta Floresta D'Oeste (RO)</td>\n",
       "      <td>191364</td>\n",
       "      <td>256986</td>\n",
       "      <td>280510</td>\n",
       "      <td>341325.0</td>\n",
       "      <td>421300.0</td>\n",
       "      <td>498864.0</td>\n",
       "    </tr>\n",
       "  </tbody>\n",
       "</table>\n",
       "</div>"
      ],
      "text/plain": [
       "  Tabela 5938 - Produto interno bruto a preços correntes, impostos, líquidos de subsídios, sobre produtos a preços correntes e valor adicionado bruto a preços correntes total e por atividade econômica, e respectivas participações - Referência 2010  \\\n",
       "0  Variável - Produto Interno Bruto a preços corr...                                                                                                                                                                                                      \n",
       "1                                              Nível                                                                                                                                                                                                      \n",
       "2                                                NaN                                                                                                                                                                                                      \n",
       "3                                                 MU                                                                                                                                                                                                      \n",
       "\n",
       "  Unnamed: 1                  Unnamed: 2 Unnamed: 3 Unnamed: 4 Unnamed: 5  \\\n",
       "0        NaN                         NaN        NaN        NaN        NaN   \n",
       "1       Cód.                   Município        Ano        NaN        NaN   \n",
       "2        NaN                         NaN       2007       2009       2011   \n",
       "3    1100015  Alta Floresta D'Oeste (RO)     191364     256986     280510   \n",
       "\n",
       "   Unnamed: 6  Unnamed: 7  Unnamed: 8  \n",
       "0         NaN         NaN         NaN  \n",
       "1         NaN         NaN         NaN  \n",
       "2      2013.0      2015.0      2017.0  \n",
       "3    341325.0    421300.0    498864.0  "
      ]
     },
     "execution_count": 8,
     "metadata": {},
     "output_type": "execute_result"
    }
   ],
   "source": [
    "# Mostra os primeiros 4 registros da variavel df_pib\n",
    "df_pib.head(4)\n",
    "### As 3 primeiras e a ultima linha são inuteis"
   ]
  },
  {
   "cell_type": "code",
   "execution_count": null,
   "metadata": {},
   "outputs": [],
   "source": [
    "# Mostra os ultimos 4 registros da variavel df_pib\n",
    "df_pib.tail(4)"
   ]
  },
  {
   "cell_type": "code",
   "execution_count": 11,
   "metadata": {},
   "outputs": [
    {
     "data": {
      "text/html": [
       "<div>\n",
       "<style scoped>\n",
       "    .dataframe tbody tr th:only-of-type {\n",
       "        vertical-align: middle;\n",
       "    }\n",
       "\n",
       "    .dataframe tbody tr th {\n",
       "        vertical-align: top;\n",
       "    }\n",
       "\n",
       "    .dataframe thead th {\n",
       "        text-align: right;\n",
       "    }\n",
       "</style>\n",
       "<table border=\"1\" class=\"dataframe\">\n",
       "  <thead>\n",
       "    <tr style=\"text-align: right;\">\n",
       "      <th></th>\n",
       "      <th>Unnamed: 0</th>\n",
       "      <th>Unnamed: 1</th>\n",
       "      <th>Unnamed: 2</th>\n",
       "      <th>2007</th>\n",
       "      <th>2009</th>\n",
       "      <th>2011</th>\n",
       "      <th>2013</th>\n",
       "      <th>2015</th>\n",
       "      <th>2017</th>\n",
       "    </tr>\n",
       "  </thead>\n",
       "  <tbody>\n",
       "    <tr>\n",
       "      <th>0</th>\n",
       "      <td>MU</td>\n",
       "      <td>1100015</td>\n",
       "      <td>Alta Floresta D'Oeste (RO)</td>\n",
       "      <td>191364</td>\n",
       "      <td>256986</td>\n",
       "      <td>280510</td>\n",
       "      <td>341325</td>\n",
       "      <td>421300</td>\n",
       "      <td>498864</td>\n",
       "    </tr>\n",
       "    <tr>\n",
       "      <th>1</th>\n",
       "      <td>MU</td>\n",
       "      <td>1100023</td>\n",
       "      <td>Ariquemes (RO)</td>\n",
       "      <td>905203</td>\n",
       "      <td>1133095</td>\n",
       "      <td>1651885</td>\n",
       "      <td>1799853</td>\n",
       "      <td>2037799</td>\n",
       "      <td>2296074</td>\n",
       "    </tr>\n",
       "    <tr>\n",
       "      <th>2</th>\n",
       "      <td>MU</td>\n",
       "      <td>1100031</td>\n",
       "      <td>Cabixi (RO)</td>\n",
       "      <td>49166</td>\n",
       "      <td>69776</td>\n",
       "      <td>77217</td>\n",
       "      <td>96365</td>\n",
       "      <td>116565</td>\n",
       "      <td>138894</td>\n",
       "    </tr>\n",
       "    <tr>\n",
       "      <th>3</th>\n",
       "      <td>MU</td>\n",
       "      <td>1100049</td>\n",
       "      <td>Cacoal (RO)</td>\n",
       "      <td>814890</td>\n",
       "      <td>985479</td>\n",
       "      <td>1259024</td>\n",
       "      <td>1433254</td>\n",
       "      <td>1794478</td>\n",
       "      <td>2127523</td>\n",
       "    </tr>\n",
       "    <tr>\n",
       "      <th>4</th>\n",
       "      <td>MU</td>\n",
       "      <td>1100056</td>\n",
       "      <td>Cerejeiras (RO)</td>\n",
       "      <td>143270</td>\n",
       "      <td>190902</td>\n",
       "      <td>260142</td>\n",
       "      <td>353270</td>\n",
       "      <td>397736</td>\n",
       "      <td>448524</td>\n",
       "    </tr>\n",
       "  </tbody>\n",
       "</table>\n",
       "</div>"
      ],
      "text/plain": [
       "  Unnamed: 0  Unnamed: 1                  Unnamed: 2    2007     2009  \\\n",
       "0         MU     1100015  Alta Floresta D'Oeste (RO)  191364   256986   \n",
       "1         MU     1100023              Ariquemes (RO)  905203  1133095   \n",
       "2         MU     1100031                 Cabixi (RO)   49166    69776   \n",
       "3         MU     1100049                 Cacoal (RO)  814890   985479   \n",
       "4         MU     1100056             Cerejeiras (RO)  143270   190902   \n",
       "\n",
       "      2011     2013     2015     2017  \n",
       "0   280510   341325   421300   498864  \n",
       "1  1651885  1799853  2037799  2296074  \n",
       "2    77217    96365   116565   138894  \n",
       "3  1259024  1433254  1794478  2127523  \n",
       "4   260142   353270   397736   448524  "
      ]
     },
     "execution_count": 11,
     "metadata": {},
     "output_type": "execute_result"
    }
   ],
   "source": [
    "# Ler o arquivo do pib removendo as 3 primeiras linhas e a última\n",
    "df_pib = pd.read_excel('../../curso_ciencia_dados2020/data/originais/pib/pib_municipios.xlsx', skiprows=3, skipfooter=1)\n",
    "# Mostra os primeiros registros\n",
    "df_pib.head()\n",
    "# O nome das 3 primeiras colunas está incoerente\n",
    "# 'latin_1'\n",
    "# 'utf8'\n",
    "# 'utf_8'"
   ]
  },
  {
   "cell_type": "code",
   "execution_count": 12,
   "metadata": {},
   "outputs": [
    {
     "data": {
      "text/html": [
       "<div>\n",
       "<style scoped>\n",
       "    .dataframe tbody tr th:only-of-type {\n",
       "        vertical-align: middle;\n",
       "    }\n",
       "\n",
       "    .dataframe tbody tr th {\n",
       "        vertical-align: top;\n",
       "    }\n",
       "\n",
       "    .dataframe thead th {\n",
       "        text-align: right;\n",
       "    }\n",
       "</style>\n",
       "<table border=\"1\" class=\"dataframe\">\n",
       "  <thead>\n",
       "    <tr style=\"text-align: right;\">\n",
       "      <th></th>\n",
       "      <th>nivel</th>\n",
       "      <th>cod_ibge7</th>\n",
       "      <th>municipio</th>\n",
       "      <th>2007</th>\n",
       "      <th>2009</th>\n",
       "      <th>2011</th>\n",
       "      <th>2013</th>\n",
       "      <th>2015</th>\n",
       "      <th>2017</th>\n",
       "    </tr>\n",
       "  </thead>\n",
       "  <tbody>\n",
       "    <tr>\n",
       "      <th>0</th>\n",
       "      <td>MU</td>\n",
       "      <td>1100015</td>\n",
       "      <td>Alta Floresta D'Oeste (RO)</td>\n",
       "      <td>191364</td>\n",
       "      <td>256986</td>\n",
       "      <td>280510</td>\n",
       "      <td>341325</td>\n",
       "      <td>421300</td>\n",
       "      <td>498864</td>\n",
       "    </tr>\n",
       "    <tr>\n",
       "      <th>1</th>\n",
       "      <td>MU</td>\n",
       "      <td>1100023</td>\n",
       "      <td>Ariquemes (RO)</td>\n",
       "      <td>905203</td>\n",
       "      <td>1133095</td>\n",
       "      <td>1651885</td>\n",
       "      <td>1799853</td>\n",
       "      <td>2037799</td>\n",
       "      <td>2296074</td>\n",
       "    </tr>\n",
       "    <tr>\n",
       "      <th>2</th>\n",
       "      <td>MU</td>\n",
       "      <td>1100031</td>\n",
       "      <td>Cabixi (RO)</td>\n",
       "      <td>49166</td>\n",
       "      <td>69776</td>\n",
       "      <td>77217</td>\n",
       "      <td>96365</td>\n",
       "      <td>116565</td>\n",
       "      <td>138894</td>\n",
       "    </tr>\n",
       "    <tr>\n",
       "      <th>3</th>\n",
       "      <td>MU</td>\n",
       "      <td>1100049</td>\n",
       "      <td>Cacoal (RO)</td>\n",
       "      <td>814890</td>\n",
       "      <td>985479</td>\n",
       "      <td>1259024</td>\n",
       "      <td>1433254</td>\n",
       "      <td>1794478</td>\n",
       "      <td>2127523</td>\n",
       "    </tr>\n",
       "    <tr>\n",
       "      <th>4</th>\n",
       "      <td>MU</td>\n",
       "      <td>1100056</td>\n",
       "      <td>Cerejeiras (RO)</td>\n",
       "      <td>143270</td>\n",
       "      <td>190902</td>\n",
       "      <td>260142</td>\n",
       "      <td>353270</td>\n",
       "      <td>397736</td>\n",
       "      <td>448524</td>\n",
       "    </tr>\n",
       "  </tbody>\n",
       "</table>\n",
       "</div>"
      ],
      "text/plain": [
       "  nivel  cod_ibge7                   municipio    2007     2009     2011  \\\n",
       "0    MU    1100015  Alta Floresta D'Oeste (RO)  191364   256986   280510   \n",
       "1    MU    1100023              Ariquemes (RO)  905203  1133095  1651885   \n",
       "2    MU    1100031                 Cabixi (RO)   49166    69776    77217   \n",
       "3    MU    1100049                 Cacoal (RO)  814890   985479  1259024   \n",
       "4    MU    1100056             Cerejeiras (RO)  143270   190902   260142   \n",
       "\n",
       "      2013     2015     2017  \n",
       "0   341325   421300   498864  \n",
       "1  1799853  2037799  2296074  \n",
       "2    96365   116565   138894  \n",
       "3  1433254  1794478  2127523  \n",
       "4   353270   397736   448524  "
      ]
     },
     "execution_count": 12,
     "metadata": {},
     "output_type": "execute_result"
    }
   ],
   "source": [
    "# Renomear estas colunas\n",
    "df_pib.rename(columns={'Unnamed: 0': 'nivel', 'Unnamed: 1': 'cod_ibge7', \n",
    "                      'Unnamed: 2': 'municipio'}, inplace=True)\n",
    "# Mostra os primeiros registros\n",
    "df_pib.head()"
   ]
  },
  {
   "cell_type": "markdown",
   "metadata": {},
   "source": [
    "#### Carregar dados de um Arquivo CSV"
   ]
  },
  {
   "cell_type": "code",
   "execution_count": null,
   "metadata": {},
   "outputs": [],
   "source": [
    "# Salvar este dataframe em formato CSV\n",
    "# O separador padrão é vírgula. Use o ; para testar a especificação de um separador\n",
    "# Recomendação para nomes de arquivos: use nomes simples, sem espaço e sem caracteres especiais.\n",
    "df_pib.to_csv('../../../curso_ciencia_dados2020/data/processados/pib/pib_municipios.csv', sep=\";\", index=False)\n",
    "# Para mostrar as primeiras linhas do arquivo no Linux: !head ~/work/curso_ciencia_dados2020/data/pib_municipios.csv"
   ]
  },
  {
   "cell_type": "code",
   "execution_count": null,
   "metadata": {},
   "outputs": [],
   "source": [
    "# Carregue o arquivo pib_municipios.csv. Atente para o separador correto.\n",
    "df_pib_csv = pd.read_csv('../../../curso_ciencia_dados2020/data/processados/pib/pib_municipios.csv', sep=\";\")\n",
    "# Mostra os primeiros registros\n",
    "df_pib_csv.head().to_markdown()"
   ]
  },
  {
   "cell_type": "markdown",
   "metadata": {},
   "source": [
    "#### Carregar dados de uma API REST e Arquivo JSON"
   ]
  },
  {
   "cell_type": "code",
   "execution_count": null,
   "metadata": {},
   "outputs": [],
   "source": [
    "# Ler um arquivo JSON de uma URL para um dataframe df_dolar. \n",
    "# Pode-se carregar de uma pasta local também.\n",
    "url = \"https://api.exchangerate-api.com/v4/latest/USD\"\n",
    "df_dolar = pd.read_json(url)"
   ]
  },
  {
   "cell_type": "code",
   "execution_count": null,
   "metadata": {},
   "outputs": [],
   "source": [
    "# Mostra os primeiros registros deste dataframe df_dolar\n",
    "df_dolar.head()"
   ]
  },
  {
   "cell_type": "code",
   "execution_count": null,
   "metadata": {},
   "outputs": [],
   "source": [
    "# Teste a conversão para DataFrame a partir de um JSON mais complexo \n",
    "# Carregue o dataframe retornado pela chamada \n",
    "#   GET à URL \"https://www.servicos.gov.br/api/v1/servicos/9029\"\n",
    "url_servicos = \"https://www.servicos.gov.br/api/v1/servicos/9029\"\n",
    "df_servicos = pd.read_json(url_servicos)\n",
    "# Mostra os primeiros registros\n",
    "df_servicos.head()\n",
    "# O resultado não foi como esperado"
   ]
  },
  {
   "cell_type": "markdown",
   "metadata": {},
   "source": [
    "#### A função read_json não conseguiu processar e criar o DataFrame esperado a partir do JSON\n",
    "#### A solução alternativa é selecionar os atributos do JSON e colocar num dicionário para construir um DataFrame"
   ]
  },
  {
   "cell_type": "code",
   "execution_count": null,
   "metadata": {},
   "outputs": [],
   "source": [
    "import requests # Biblioteca que realiza requisições HTTP em python\n",
    "\n",
    "def get_servicos(siorg):\n",
    "    '''Retorna os dados da API de serviços para o órgao especificado pelo argumento siorg\n",
    "    '''\n",
    "    url = 'https://servicos.gov.br/api/v1/servicos/orgao/{0}'.format(siorg)\n",
    "    response = requests.get(url) # Realiza uma requisição http\n",
    "    input_json = response.json()\n",
    "    if not input_json or 'resposta' not in input_json:\n",
    "        print(\"Os dados da api de servicos nao estao disponiveis\")\n",
    "        return {}\n",
    "    input_json = input_json['resposta']\n",
    "    result = []\n",
    "    for i in input_json: # iteração para cada serviço do órgão\n",
    "        servico_id = i['id'].split('/')[6]\n",
    "        servico_nome = i['nome']\n",
    "        servico_url = i['url'][36:]\n",
    "        orgao_id = i['orgao']['id'].split('/')[5]\n",
    "        orgao_dbId = i['orgao']['dbId']\n",
    "        orgao_nome = i['orgao']['nomeOrgao']\n",
    "        result.append({'servico_id': servico_id, 'servico_nome': servico_nome, 'servico_url': servico_url, 'orgao_nome': orgao_nome,\n",
    "                              'orgao_id': orgao_id, 'orgao_dbId': orgao_dbId})\n",
    "    return result\n"
   ]
  },
  {
   "cell_type": "code",
   "execution_count": null,
   "metadata": {},
   "outputs": [],
   "source": [
    "# Testa o método com o sirgo da Fio Cruz\n",
    "d = get_servicos(315) \n",
    "# Transforma a lista de dicionários num DataFrame\n",
    "df_servicos = pd.DataFrame(d) \n",
    "# # Mostra os primeiros registros\n",
    "df_servicos.head()"
   ]
  },
  {
   "cell_type": "markdown",
   "metadata": {},
   "source": [
    "#### Carregar dados de Arquivo HTML (Web Scrapy)"
   ]
  },
  {
   "cell_type": "code",
   "execution_count": null,
   "metadata": {},
   "outputs": [],
   "source": [
    "# Ler um arquivo HTML (https://en.wikipedia.org/wiki/Pythonidae) \n",
    "#   carregando as tabelas presentes (Web Scrapy)\n",
    "df_python = pd.read_html('https://en.wikipedia.org/wiki/Pythonidae')\n",
    "# Mostra os primeiros registros da tabela 2 da página analisada\n",
    "df_python[2].head()"
   ]
  },
  {
   "cell_type": "code",
   "execution_count": null,
   "metadata": {},
   "outputs": [],
   "source": [
    "# Renomear as colunas do dataframe retirando colchetes e espaço, usando\n",
    "#     um mapeamento 'antes':'depois' no formato de um dicionário.\n",
    "# Use inplace=True\n",
    "df_python[2].rename(columns={'Taxon author[2]': 'taxon_author', 'Species[2]': 'species', \n",
    "                      'Subsp.[a][2]': 'subspecies', 'Common name': 'common_name', \n",
    "                      'Geographic range[1]': 'geographic_range'}, inplace=True)\n",
    "# Mostra os primeiros registros da tabela 2\n",
    "df_python[2].head()"
   ]
  },
  {
   "cell_type": "markdown",
   "metadata": {},
   "source": [
    "#### Dados em Bancos de Dados"
   ]
  },
  {
   "cell_type": "markdown",
   "metadata": {},
   "source": [
    "##### Converter um dataframe para uma tabela de banco de dados"
   ]
  },
  {
   "cell_type": "code",
   "execution_count": null,
   "metadata": {},
   "outputs": [],
   "source": [
    "# O banco de dados SQLite é um banco bem simples gerenciado em um único arquivo. \n",
    "# É usado, por exemplo, em aplicativos de celular.\n",
    "# A biblioteca sqlalchemy é um mapeamento objeto-relacional para vários SGBDs.\n",
    "# Esta biblioteca consegue executar comandos SQL em todos os SGBDs compatíveis.\n",
    "import sqlalchemy as sqla\n",
    "\n",
    "# Crie uma conexão com o banco de dados\n",
    "con = sqla.create_engine('sqlite:///../../../curso_ciencia_dados2020/data/processados/python/python.sqlite')\n",
    "\n",
    "# Escreva o DataFrame df_python[2] numa tabela de um banco de dados SQLite\n",
    "df_python[2].to_sql(\"python\", con, if_exists=\"replace\")\n"
   ]
  },
  {
   "cell_type": "markdown",
   "metadata": {},
   "source": [
    "#### Você pode visualizar seu banco de dados de forma independente \n",
    "#### em https://inloop.github.io/sqlite-viewer/"
   ]
  },
  {
   "cell_type": "markdown",
   "metadata": {},
   "source": [
    "##### Carregar os dados de uma tabela de banco de dados para um DataFrame"
   ]
  },
  {
   "cell_type": "code",
   "execution_count": null,
   "metadata": {},
   "outputs": [],
   "source": [
    "# Execute uma query SELECT no banco de dados sqlite convertendo toda a tabela python num DataFrame\n",
    "# ajustando o parametro index_col='index'\n",
    "df_sqlite = pd.read_sql_query(\"SELECT * from python WHERE subspecies > 0\", con, index_col='index')\n",
    "\n",
    "# Visualiza os primeiros resultados\n",
    "df_sqlite.head()"
   ]
  },
  {
   "cell_type": "markdown",
   "metadata": {},
   "source": [
    "##### Fazer cálculos envolvendo agregação"
   ]
  },
  {
   "cell_type": "code",
   "execution_count": null,
   "metadata": {},
   "outputs": [],
   "source": [
    "# Calcular a soma quantidade de subespecies de cada especie\n",
    "df_sqlite_agg = pd.read_sql_query(\"SELECT common_name, SUM(subspecies) \\\n",
    "                                    FROM python \\\n",
    "                                    GROUP BY species\", con)\n",
    "# Mostra os primeiros registros da agregação\n",
    "df_sqlite_agg.head()"
   ]
  },
  {
   "cell_type": "code",
   "execution_count": null,
   "metadata": {},
   "outputs": [],
   "source": [
    "# Calcular a quantidade de subspecies de cada região geográfica e ordenar pela \n",
    "# quantidade de subspecies de forma decrescente\n",
    "df_sqlite_agg2 = pd.read_sql_query(\"SELECT geographic_range, SUM(species) AS n_species \\\n",
    "                                       FROM python \\\n",
    "                                       GROUP BY geographic_range \\\n",
    "                                       ORDER BY n_species DESC\", con)\n",
    "# Mostra os primeiros 10 registros da agregação\n",
    "df_sqlite_agg2.head(10)\n"
   ]
  },
  {
   "cell_type": "markdown",
   "metadata": {},
   "source": [
    "### Outras Operacoes no Pandas"
   ]
  },
  {
   "cell_type": "markdown",
   "metadata": {},
   "source": [
    "#### Descartando valores faltantes (NA ou NaN)"
   ]
  },
  {
   "cell_type": "code",
   "execution_count": null,
   "metadata": {},
   "outputs": [],
   "source": [
    "from numpy import nan as NA\n",
    "# Considere a serie a seguir\n",
    "data = pd.Series([1, NA, 3.5, NA, 7])\n",
    "# Remova os valores NA\n",
    "data.dropna()"
   ]
  },
  {
   "cell_type": "code",
   "execution_count": null,
   "metadata": {},
   "outputs": [],
   "source": [
    "# Comando equivalente ao dropna, mas usando o método notnull()\n",
    "data[data.notnull()]"
   ]
  },
  {
   "cell_type": "markdown",
   "metadata": {},
   "source": [
    "#### Preenchendo valores faltantes"
   ]
  },
  {
   "cell_type": "code",
   "execution_count": null,
   "metadata": {},
   "outputs": [],
   "source": [
    "# Considere o seguinte DataFrame\n",
    "# Construir um dataframe a partir de uma matriz de 7 x 3 de números aleatórios \n",
    "# de uma distribuição normal padrão\n",
    "df = pd.DataFrame(np.random.randn(7, 3)) \n",
    "# Preenchendo o DataFrame com alguns valores NA\n",
    "df.iloc[:4, 1] = NA\n",
    "df.iloc[:2, 2] = NA\n",
    "df"
   ]
  },
  {
   "cell_type": "code",
   "execution_count": null,
   "metadata": {},
   "outputs": [],
   "source": [
    "# Preencha os valores NA com zero\n",
    "df.fillna(0)"
   ]
  },
  {
   "cell_type": "code",
   "execution_count": null,
   "metadata": {},
   "outputs": [],
   "source": [
    "# Use um mapeamento (com dicionário) para preencher os valores NA\n",
    "# Na coluna 1 substitua NA por 0.5 e na coluna 2 substitua NA por 0\n",
    "df.fillna({1: 0.5, 2: 0})"
   ]
  },
  {
   "cell_type": "code",
   "execution_count": null,
   "metadata": {},
   "outputs": [],
   "source": [
    "# Preencha com zero alterando o DataFrame df\n",
    "df.fillna(0, inplace=True)\n",
    "df"
   ]
  },
  {
   "cell_type": "code",
   "execution_count": null,
   "metadata": {},
   "outputs": [],
   "source": [
    "# Considere o seguinte dataframe\n",
    "df = pd.DataFrame(np.random.randn(7, 3)) \n",
    "# Preencha o DataFrame com alguns valores NA\n",
    "df.iloc[1:4, 1] = NA\n",
    "df.iloc[1:3, 2] = NA\n",
    "df"
   ]
  },
  {
   "cell_type": "code",
   "execution_count": null,
   "metadata": {},
   "outputs": [],
   "source": [
    "# Preencha os valores NA com o método ffill \n",
    "df.fillna(method='ffill')"
   ]
  },
  {
   "cell_type": "markdown",
   "metadata": {},
   "source": [
    "### Remover duplicatas"
   ]
  },
  {
   "cell_type": "code",
   "execution_count": null,
   "metadata": {},
   "outputs": [],
   "source": [
    "# Considere o seguinte dataframe\n",
    "data = pd.DataFrame({'k1': ['one', 'two'] * 3 + ['two'], 'k2': [1, 1, 2, 3, 3, 4, 4]})\n",
    "data"
   ]
  },
  {
   "cell_type": "code",
   "execution_count": null,
   "metadata": {},
   "outputs": [],
   "source": [
    "# Mostre quais desses itens são duplicados\n",
    "data.duplicated()"
   ]
  },
  {
   "cell_type": "code",
   "execution_count": null,
   "metadata": {},
   "outputs": [],
   "source": [
    "# Remova os itens duplicados\n",
    "data.drop_duplicates()"
   ]
  },
  {
   "cell_type": "markdown",
   "metadata": {},
   "source": [
    "### Indexação Hierárquica"
   ]
  },
  {
   "cell_type": "markdown",
   "metadata": {},
   "source": [
    "#### Possibilita mais de um nível de indexação num eixo"
   ]
  },
  {
   "cell_type": "code",
   "execution_count": 13,
   "metadata": {},
   "outputs": [
    {
     "data": {
      "text/plain": [
       "MultiIndex([('a', 1),\n",
       "            ('a', 2),\n",
       "            ('a', 3),\n",
       "            ('b', 1),\n",
       "            ('b', 3),\n",
       "            ('c', 1),\n",
       "            ('c', 2),\n",
       "            ('d', 2),\n",
       "            ('d', 3)],\n",
       "           )"
      ]
     },
     "execution_count": 13,
     "metadata": {},
     "output_type": "execute_result"
    }
   ],
   "source": [
    "# Considere a seguinte Serie\n",
    "data = pd.Series(np.random.randn(9), index=[['a', 'a', 'a', 'b', 'b', 'c', 'c', 'd', 'd'],\n",
    "                                            [1, 2, 3, 1, 3, 1, 2, 2, 3]])\n",
    "# Mostre o indice hierárquico\n",
    "data.index"
   ]
  },
  {
   "cell_type": "code",
   "execution_count": 14,
   "metadata": {},
   "outputs": [
    {
     "data": {
      "text/plain": [
       "b  1    1.283378\n",
       "   3   -1.636553\n",
       "d  2   -1.393535\n",
       "   3    0.566972\n",
       "dtype: float64"
      ]
     },
     "execution_count": 14,
     "metadata": {},
     "output_type": "execute_result"
    }
   ],
   "source": [
    "# Faça um filtro com uma lista\n",
    "data.loc[['b', 'd']]"
   ]
  },
  {
   "cell_type": "code",
   "execution_count": 15,
   "metadata": {},
   "outputs": [
    {
     "data": {
      "text/plain": [
       "a    0.867047\n",
       "c    0.586219\n",
       "d   -1.393535\n",
       "dtype: float64"
      ]
     },
     "execution_count": 15,
     "metadata": {},
     "output_type": "execute_result"
    }
   ],
   "source": [
    "# Faça um filtro no 2o Nível (mais interno)\n",
    "data.loc[:, 2]"
   ]
  },
  {
   "cell_type": "code",
   "execution_count": null,
   "metadata": {},
   "outputs": [],
   "source": [
    "# Considere o seguinte dataframe\n",
    "frame = pd.DataFrame(np.arange(12).reshape((4, 3)),\n",
    "                     index=[['a', 'a', 'b', 'b'], [1, 2, 1, 2]],\n",
    "                     columns=[['Ohio', 'Ohio', 'Colorado'],['Green', 'Red', 'Green']])\n",
    "frame.index.names = ['key1', 'key2']\n",
    "frame.columns.names = ['state', 'color']\n",
    "frame"
   ]
  },
  {
   "cell_type": "code",
   "execution_count": null,
   "metadata": {},
   "outputs": [],
   "source": [
    "# Resumo estatístico por nível\n",
    "# Extraia a soma da agregação do nível 2 (mais interno)\n",
    "frame.sum(level='key2')"
   ]
  },
  {
   "cell_type": "markdown",
   "metadata": {},
   "source": [
    "### merge (fundir/juntar)\n",
    "#### A chave de junção (identificador único) foi inferida a partir do contexto (procurando nas colunas)\n",
    "#### Também pode ser especificada com o argumento on (Ex.: on='key')"
   ]
  },
  {
   "cell_type": "code",
   "execution_count": null,
   "metadata": {},
   "outputs": [],
   "source": [
    "# Considere os seguintes DataFrames\n",
    "df1 = pd.DataFrame({'key': ['b', 'b', 'a', 'c', 'a', 'a', 'b'], 'data1': range(7)})\n",
    "df2 = pd.DataFrame({'key': ['a', 'b', 'd'], 'data2': range(3)})"
   ]
  },
  {
   "cell_type": "code",
   "execution_count": null,
   "metadata": {},
   "outputs": [],
   "source": [
    "# Mostre o dataframe df1\n",
    "df1"
   ]
  },
  {
   "cell_type": "code",
   "execution_count": null,
   "metadata": {},
   "outputs": [],
   "source": [
    "# Mostre o dataframe df2\n",
    "df2"
   ]
  },
  {
   "cell_type": "code",
   "execution_count": null,
   "metadata": {},
   "outputs": [],
   "source": [
    "# Faça o merge dos dois dataframes usando como chave de junção a coluna 'key'\n",
    "# O parametro on neste caso é redundante. Funcionaria sem ele.\n",
    "pd.merge(df1, df2, on='key')\n",
    "\n",
    "# Por que chamamos esse tipo de merge/join de inner ? R.: Porque ele considera apenas a \n",
    "#     intersecção dos dois conjuntos de chaves.\n",
    "# O argumento how='inner' é o padrão."
   ]
  },
  {
   "cell_type": "code",
   "execution_count": null,
   "metadata": {},
   "outputs": [],
   "source": [
    "# Faça também o merge com o argumento how='outer'\n",
    "pd.merge(df1, df2, how='outer')"
   ]
  },
  {
   "cell_type": "markdown",
   "metadata": {},
   "source": [
    "### join (fundir/juntar)\n",
    "#### Semelhante ao merge, mas a chave de junção é o índice do DataFrame"
   ]
  },
  {
   "cell_type": "code",
   "execution_count": null,
   "metadata": {},
   "outputs": [],
   "source": [
    "# Considere os seguintes DataFrames\n",
    "left2 = pd.DataFrame([[1., 2.], [3., 4.], [5., 6.]], index=['a', 'c', 'e'], \n",
    "                     columns=['Ohio', 'Nevada'])\n",
    "right2 = pd.DataFrame([[7., 8.], [9., 10.], [11., 12.], [13, 14]],index=['b', 'c', 'd', 'e'],\n",
    "                     columns=['Missouri', 'Alabama'])\n"
   ]
  },
  {
   "cell_type": "code",
   "execution_count": null,
   "metadata": {},
   "outputs": [],
   "source": [
    "# Mostre o dataframe left2\n",
    "left2"
   ]
  },
  {
   "cell_type": "code",
   "execution_count": null,
   "metadata": {},
   "outputs": [],
   "source": [
    "# Mostre o dataframe right2\n",
    "right2"
   ]
  },
  {
   "cell_type": "code",
   "execution_count": null,
   "metadata": {},
   "outputs": [],
   "source": [
    "# Faça o join entre os dois DataFrames sem descartar registros que não estejam \n",
    "#      nos dois DataFrames\n",
    "left2.join(right2, how='outer')"
   ]
  },
  {
   "cell_type": "code",
   "execution_count": null,
   "metadata": {},
   "outputs": [],
   "source": [
    "# Considerando os dataframes left2 e right2 definidos acima\n",
    "# Faça o join entre os dois DataFrames sem descartar registros que estejam \n",
    "# apenas no dataframe left2, e descartando registros que estejam apenas no right2\n",
    "left2.join(right2, how='left')"
   ]
  },
  {
   "cell_type": "markdown",
   "metadata": {},
   "source": [
    "### Reshaping / Pivoting (Pivotar)"
   ]
  },
  {
   "cell_type": "code",
   "execution_count": null,
   "metadata": {},
   "outputs": [],
   "source": [
    "# Considere o seguinte DataFrame\n",
    "table = {\n",
    "    'Aluno': ['AlunoA', 'AlunoA', 'AlunoA', 'AlunoA', 'AlunoB', 'AlunoB', 'AlunoB', 'AlunoB'],\n",
    "    'Disciplina': ['Portugues', 'Matematica', 'Geografia', 'História', 'Portugues', 'Matematica', 'Geografia', 'História'],\n",
    "    'Objetiva': [8.5, 7.5, 9, 10, 8.5, 7.5, 9, 10],\n",
    "    'Discursiva': [6, 6.5, 7.5, 7, 8.5, 7.5, 9, 10]}\n",
    "df_provas = pd.DataFrame(table)\n",
    "df_provas"
   ]
  },
  {
   "cell_type": "code",
   "execution_count": null,
   "metadata": {},
   "outputs": [],
   "source": [
    "# Pivote o dataframe df_provas colocando a coluna Aluno como índice, \n",
    "# os valores da coluna Disciplina como colunas, e os valores da coluna Objetiva\n",
    "# como conteúdo do novo dataframe\n",
    "df_pivoted = df_provas.pivot(index='Aluno', columns='Disciplina', values=['Objetiva', 'Discursiva'])\n",
    "df_pivoted"
   ]
  },
  {
   "cell_type": "code",
   "execution_count": null,
   "metadata": {},
   "outputs": [],
   "source": [
    "df_pivoted['Objetiva'].loc['AlunoA',['Geografia', 'História']]"
   ]
  },
  {
   "cell_type": "markdown",
   "metadata": {},
   "source": [
    "### E quando houver valores repetidos ?\n",
    "#### Pivotar com o mesmo método pivot() gera exceção. Neste caso, use o método pivot_table \n",
    "#### mean é a métrica padrão de cálculo sobre a de agregação"
   ]
  },
  {
   "cell_type": "code",
   "execution_count": null,
   "metadata": {},
   "outputs": [],
   "source": [
    "# Considere o seguinte DataFrame\n",
    "table2 = {\n",
    "    'Aluno': ['AlunoA', 'AlunoA', 'AlunoA', 'AlunoA', 'AlunoA', 'AlunoB', 'AlunoB', 'AlunoB', 'AlunoB'],\n",
    "    'Disciplina': ['Portugues', 'Matematica', 'Geografia', 'Geografia', 'História', 'Portugues', 'Matematica', 'Geografia', 'História'],\n",
    "    'Objetiva': [8.5, 7.5, 9, 10, 9, 8.5, 7.5, 9, 10],\n",
    "    'Discursiva': [6, 6.5, 7.5, 7, 8, 8.5, 7.5, 9, 10]}\n",
    "df_provas2 = pd.DataFrame(table2)\n",
    "df_provas2"
   ]
  },
  {
   "cell_type": "code",
   "execution_count": null,
   "metadata": {},
   "outputs": [],
   "source": [
    "# Pivotar com o mesmo comando gera uma exceção\n",
    "# df_pivoted2 = df_provas2.pivot(index='Aluno', columns='Disciplina', values='Objetiva')\n",
    "# Use a funcao pivot_table. O valor padrão do argumento aggfunc é 'mean'\n",
    "df_pivoted2 = df_provas2.pivot_table(index='Aluno', columns='Disciplina', values='Objetiva',\n",
    "                                    aggfunc='max')\n",
    "df_pivoted2\n"
   ]
  },
  {
   "cell_type": "markdown",
   "metadata": {},
   "source": [
    "### Reshaping / Pivoting com Índice Hierárquico\n",
    "#### Método stack/unstack (Pivotar com índice hierárquico)"
   ]
  },
  {
   "cell_type": "code",
   "execution_count": null,
   "metadata": {},
   "outputs": [],
   "source": [
    "# Considere o seguinte dataframe\n",
    "data = pd.DataFrame(np.arange(6).reshape((2, 3)),\n",
    "                    index=pd.Index(['Ohio', 'Colorado'], name='state'),\n",
    "                    columns=pd.Index(['one', 'two', 'three'],\n",
    "                    name='number'))\n",
    "data"
   ]
  },
  {
   "cell_type": "code",
   "execution_count": null,
   "metadata": {},
   "outputs": [],
   "source": [
    "# Faça uma operação de unpivoting (stack) com o dataframe data e guarde na variavel result\n",
    "result = data.stack()\n",
    "result"
   ]
  },
  {
   "cell_type": "code",
   "execution_count": null,
   "metadata": {},
   "outputs": [],
   "source": [
    "# Faça uma operação de pivoting (unstack) com o dataframe result\n",
    "result.unstack()"
   ]
  },
  {
   "cell_type": "code",
   "execution_count": null,
   "metadata": {},
   "outputs": [],
   "source": []
  }
 ],
 "metadata": {
  "kernelspec": {
   "display_name": "Python 3",
   "language": "python",
   "name": "python3"
  },
  "language_info": {
   "codemirror_mode": {
    "name": "ipython",
    "version": 3
   },
   "file_extension": ".py",
   "mimetype": "text/x-python",
   "name": "python",
   "nbconvert_exporter": "python",
   "pygments_lexer": "ipython3",
   "version": "3.8.4"
  }
 },
 "nbformat": 4,
 "nbformat_minor": 4
}
