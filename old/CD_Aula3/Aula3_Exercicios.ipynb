{
 "cells": [
  {
   "cell_type": "markdown",
   "metadata": {},
   "source": [
    "# Aula 3 - Exercícios - Pandas, Fontes de dados e Agregação\n",
    "### Consulta a internet (Google, Stackoverflow e etc) liberada!!"
   ]
  },
  {
   "cell_type": "code",
   "execution_count": 6,
   "metadata": {},
   "outputs": [],
   "source": [
    "# Importe as bibliotecas pandas, numpy, glob e sqlalchemy\n",
    "import pandas as pd\n",
    "import numpy as np\n",
    "import sqlalchemy as sqla\n",
    "import os\n"
   ]
  },
  {
   "cell_type": "markdown",
   "metadata": {},
   "source": [
    "### 3.1 Carregue o arquivo do IDEB 2017 no formato de um DataFrame.  Crie uma função para calcular a média do IDEB de todos os municípios de um determinado Estado. \n",
    "#### Remova os registros cujo valor na coluna REDE sejam Municipal, Estadual ou Federal. Deixe somente os registros cujos valores na coluna REDE sejam Pública.\n"
   ]
  },
  {
   "cell_type": "code",
   "execution_count": 70,
   "metadata": {
    "deletable": false,
    "nbgrader": {
     "cell_type": "code",
     "checksum": "e1d661d4b00b8bcf77db5f284124b190",
     "grade": false,
     "grade_id": "cell-c705ab9d11473b9f9",
     "locked": false,
     "schema_version": 3,
     "solution": true,
     "task": false
    }
   },
   "outputs": [],
   "source": [
    "# Dica 1: Antes de calcular, substitua valores '-' por np.nan (NA) com o metodo replace.\n",
    "# Dica 2: Use a função loc para fazer o filtro de registros.\n",
    "# Dica 3: Dentre várias maneiras possíveis, uma maneira bastante concisa é usar o operador & (and) para\n",
    "# congregar dois critérios de filtro (seleção) de registros.\n",
    "def media_ideb(df, sigla_estado):\n",
    "    \"\"\"retorne o valor da media do IDEB contido na coluna col do Estado especificado por sigla_estado.\n",
    "    \"\"\"\n",
    "    # YOUR CODE HERE\n",
    "    return round(df.loc[(ideb['SG_UF'] == sigla_estado) & (df['REDE'] == 'Pública')][\"IDEB12_17\"].mean(),2)\n",
    "    raise NotImplementedError()\n"
   ]
  },
  {
   "cell_type": "code",
   "execution_count": 78,
   "metadata": {},
   "outputs": [],
   "source": [
    "path_ideb='../../curso_ciencia_dados2020/data/originais/ideb/ideb_municipios2017.xlsx'\n",
    "df_ideb = pd.read_excel(path_ideb,skiprows=9, skipfooter=3).replace(\"-\",np.nan)\n"
   ]
  },
  {
   "cell_type": "code",
   "execution_count": 80,
   "metadata": {},
   "outputs": [
    {
     "name": "stdout",
     "output_type": "stream",
     "text": [
      "4.04\n"
     ]
    }
   ],
   "source": [
    "## Faça seus testes aqui \n",
    "\n",
    "# df_ideb = round(ideb.loc[(ideb['SG_UF'] == 'GO') & (ideb['REDE'] == 'Pública')][\"IDEB12_17\"].mean(),2)\n",
    "# df_ideb = ideb.groupby((ideb['SG_UF'] == 'DF') & (ideb['REDE'] == 'Pública')).mean()\n",
    "\n",
    "\n",
    "print (media_ideb(df_ideb, 'SP'))"
   ]
  },
  {
   "cell_type": "code",
   "execution_count": 76,
   "metadata": {
    "deletable": false,
    "editable": false,
    "nbgrader": {
     "cell_type": "code",
     "checksum": "f7791596abb9f985499d7b0adc8b80c6",
     "grade": true,
     "grade_id": "cell-9ffdsa88d58e9282a",
     "locked": true,
     "points": 1,
     "schema_version": 3,
     "solution": false,
     "task": false
    }
   },
   "outputs": [],
   "source": [
    "# Validação para nota\n",
    "assert media_ideb(df_ideb, 'DF') == 3.4\n",
    "assert round(media_ideb(df_ideb, 'SP'),2) == 4.04\n",
    "assert round(media_ideb(df_ideb, 'GO'),2) == 4.24"
   ]
  },
  {
   "cell_type": "markdown",
   "metadata": {},
   "source": [
    "### 3.2 Escreva uma função para salvar um DataFrame num banco de dados SQLite  "
   ]
  },
  {
   "cell_type": "code",
   "execution_count": 103,
   "metadata": {
    "deletable": false,
    "nbgrader": {
     "cell_type": "code",
     "checksum": "60682ca859af98cb2e20dc1960e3fdfc",
     "grade": false,
     "grade_id": "cell-553qe5248eb14bc30",
     "locked": false,
     "schema_version": 3,
     "solution": true,
     "task": false
    }
   },
   "outputs": [],
   "source": [
    "\n",
    "# Dica: A resolução deste exercício é bem semelhante ao código apresentado na Aula\n",
    "\n",
    "def save_to_sqlite(df, table_name, con_str):\n",
    "    \"\"\"salve o dataframe df num banco de dados sqlite especificado por db_path\n",
    "    \"\"\"\n",
    "    # YOUR CODE HERE\n",
    "    df.index.names = ['index']\n",
    "    df.to_sql(table_name,con_str , if_exists = 'replace')\n",
    "    return\n",
    "    raise NotImplementedError()\n"
   ]
  },
  {
   "cell_type": "code",
   "execution_count": 104,
   "metadata": {},
   "outputs": [],
   "source": [
    "## Faça seus testes aqui\n",
    "table_name = 'idh' # Escolha o nome da tabela\n",
    "path_idhm='../../curso_ciencia_dados2020/data/originais/idhm/idhm2013.xlsx'\n",
    "con_str='sqlite:////home/jovyan/work/curso_ciencia_dados2020/data/processados/idhm/idhm2013.sqlite'\n",
    "df_idhm = pd.read_excel(path_idhm, sheet_name=\"IDHM\")\n",
    "\n",
    "# Antes de salvar no banco de dados, defina o nome do índice como index. Conforme exemplo abaixo\n",
    "#df_idhm.index.names = ['index']\n",
    "# Validação para nota\n",
    "def load_table(table, con_str):\n",
    "    con = sqla.create_engine(con_str)\n",
    "    return pd.read_sql_query(\"SELECT * from {0}\".format(table), con, index_col='index')\n",
    "    \n",
    "\n",
    "\n",
    "df_idhm.index.names = ['index']\n",
    "save_to_sqlite(df_idhm, table_name, con_str) # Função que deve ser implementada pelo aluno\n",
    "idhm_from_db = load_table(table_name, con_str)\n",
    "\n",
    "assert idhm_from_db.equals(df_idhm)\n"
   ]
  },
  {
   "cell_type": "code",
   "execution_count": 98,
   "metadata": {},
   "outputs": [
    {
     "data": {
      "text/html": [
       "<div>\n",
       "<style scoped>\n",
       "    .dataframe tbody tr th:only-of-type {\n",
       "        vertical-align: middle;\n",
       "    }\n",
       "\n",
       "    .dataframe tbody tr th {\n",
       "        vertical-align: top;\n",
       "    }\n",
       "\n",
       "    .dataframe thead th {\n",
       "        text-align: right;\n",
       "    }\n",
       "</style>\n",
       "<table border=\"1\" class=\"dataframe\">\n",
       "  <thead>\n",
       "    <tr style=\"text-align: right;\">\n",
       "      <th></th>\n",
       "      <th>ANO</th>\n",
       "      <th>UF</th>\n",
       "      <th>Codmun6</th>\n",
       "      <th>Codmun7</th>\n",
       "      <th>Município</th>\n",
       "      <th>ESPVIDA</th>\n",
       "      <th>FECTOT</th>\n",
       "      <th>MORT1</th>\n",
       "      <th>MORT5</th>\n",
       "      <th>RAZDEP</th>\n",
       "      <th>...</th>\n",
       "      <th>T_SLUZ</th>\n",
       "      <th>pesourb</th>\n",
       "      <th>POP</th>\n",
       "      <th>POPT</th>\n",
       "      <th>I_ESCOLARIDADE</th>\n",
       "      <th>I_FREQ_PROP</th>\n",
       "      <th>IDHM</th>\n",
       "      <th>IDHM_E</th>\n",
       "      <th>IDHM_L</th>\n",
       "      <th>IDHM_R</th>\n",
       "    </tr>\n",
       "    <tr>\n",
       "      <th>index</th>\n",
       "      <th></th>\n",
       "      <th></th>\n",
       "      <th></th>\n",
       "      <th></th>\n",
       "      <th></th>\n",
       "      <th></th>\n",
       "      <th></th>\n",
       "      <th></th>\n",
       "      <th></th>\n",
       "      <th></th>\n",
       "      <th></th>\n",
       "      <th></th>\n",
       "      <th></th>\n",
       "      <th></th>\n",
       "      <th></th>\n",
       "      <th></th>\n",
       "      <th></th>\n",
       "      <th></th>\n",
       "      <th></th>\n",
       "      <th></th>\n",
       "      <th></th>\n",
       "    </tr>\n",
       "  </thead>\n",
       "  <tbody>\n",
       "    <tr>\n",
       "      <th>0</th>\n",
       "      <td>1991</td>\n",
       "      <td>11</td>\n",
       "      <td>110001</td>\n",
       "      <td>1100015</td>\n",
       "      <td>ALTA FLORESTA D'OESTE</td>\n",
       "      <td>62.01</td>\n",
       "      <td>4.08</td>\n",
       "      <td>45.58</td>\n",
       "      <td>58.05</td>\n",
       "      <td>73.50</td>\n",
       "      <td>...</td>\n",
       "      <td>63.20</td>\n",
       "      <td>9379</td>\n",
       "      <td>23417</td>\n",
       "      <td>22835</td>\n",
       "      <td>0.117</td>\n",
       "      <td>0.109</td>\n",
       "      <td>0.329</td>\n",
       "      <td>0.112</td>\n",
       "      <td>0.617</td>\n",
       "      <td>0.516</td>\n",
       "    </tr>\n",
       "    <tr>\n",
       "      <th>1</th>\n",
       "      <td>1991</td>\n",
       "      <td>11</td>\n",
       "      <td>110002</td>\n",
       "      <td>1100023</td>\n",
       "      <td>ARIQUEMES</td>\n",
       "      <td>66.02</td>\n",
       "      <td>3.72</td>\n",
       "      <td>32.39</td>\n",
       "      <td>41.41</td>\n",
       "      <td>69.97</td>\n",
       "      <td>...</td>\n",
       "      <td>26.72</td>\n",
       "      <td>45283</td>\n",
       "      <td>56061</td>\n",
       "      <td>55018</td>\n",
       "      <td>0.200</td>\n",
       "      <td>0.199</td>\n",
       "      <td>0.432</td>\n",
       "      <td>0.199</td>\n",
       "      <td>0.684</td>\n",
       "      <td>0.593</td>\n",
       "    </tr>\n",
       "    <tr>\n",
       "      <th>2</th>\n",
       "      <td>1991</td>\n",
       "      <td>11</td>\n",
       "      <td>110003</td>\n",
       "      <td>1100031</td>\n",
       "      <td>CABIXI</td>\n",
       "      <td>63.16</td>\n",
       "      <td>3.89</td>\n",
       "      <td>41.52</td>\n",
       "      <td>52.94</td>\n",
       "      <td>77.23</td>\n",
       "      <td>...</td>\n",
       "      <td>74.96</td>\n",
       "      <td>1916</td>\n",
       "      <td>7601</td>\n",
       "      <td>5846</td>\n",
       "      <td>0.111</td>\n",
       "      <td>0.106</td>\n",
       "      <td>0.309</td>\n",
       "      <td>0.108</td>\n",
       "      <td>0.636</td>\n",
       "      <td>0.430</td>\n",
       "    </tr>\n",
       "    <tr>\n",
       "      <th>3</th>\n",
       "      <td>1991</td>\n",
       "      <td>11</td>\n",
       "      <td>110004</td>\n",
       "      <td>1100049</td>\n",
       "      <td>CACOAL</td>\n",
       "      <td>65.03</td>\n",
       "      <td>3.81</td>\n",
       "      <td>35.37</td>\n",
       "      <td>45.19</td>\n",
       "      <td>71.11</td>\n",
       "      <td>...</td>\n",
       "      <td>42.66</td>\n",
       "      <td>42689</td>\n",
       "      <td>69173</td>\n",
       "      <td>66534</td>\n",
       "      <td>0.176</td>\n",
       "      <td>0.169</td>\n",
       "      <td>0.407</td>\n",
       "      <td>0.171</td>\n",
       "      <td>0.667</td>\n",
       "      <td>0.593</td>\n",
       "    </tr>\n",
       "    <tr>\n",
       "      <th>4</th>\n",
       "      <td>1991</td>\n",
       "      <td>11</td>\n",
       "      <td>110005</td>\n",
       "      <td>1100056</td>\n",
       "      <td>CEREJEIRAS</td>\n",
       "      <td>62.73</td>\n",
       "      <td>3.55</td>\n",
       "      <td>43.00</td>\n",
       "      <td>54.82</td>\n",
       "      <td>71.09</td>\n",
       "      <td>...</td>\n",
       "      <td>43.64</td>\n",
       "      <td>14055</td>\n",
       "      <td>19451</td>\n",
       "      <td>19030</td>\n",
       "      <td>0.152</td>\n",
       "      <td>0.175</td>\n",
       "      <td>0.386</td>\n",
       "      <td>0.167</td>\n",
       "      <td>0.629</td>\n",
       "      <td>0.547</td>\n",
       "    </tr>\n",
       "    <tr>\n",
       "      <th>...</th>\n",
       "      <td>...</td>\n",
       "      <td>...</td>\n",
       "      <td>...</td>\n",
       "      <td>...</td>\n",
       "      <td>...</td>\n",
       "      <td>...</td>\n",
       "      <td>...</td>\n",
       "      <td>...</td>\n",
       "      <td>...</td>\n",
       "      <td>...</td>\n",
       "      <td>...</td>\n",
       "      <td>...</td>\n",
       "      <td>...</td>\n",
       "      <td>...</td>\n",
       "      <td>...</td>\n",
       "      <td>...</td>\n",
       "      <td>...</td>\n",
       "      <td>...</td>\n",
       "      <td>...</td>\n",
       "      <td>...</td>\n",
       "      <td>...</td>\n",
       "    </tr>\n",
       "    <tr>\n",
       "      <th>16690</th>\n",
       "      <td>2010</td>\n",
       "      <td>52</td>\n",
       "      <td>522200</td>\n",
       "      <td>5222005</td>\n",
       "      <td>VIANÓPOLIS</td>\n",
       "      <td>74.10</td>\n",
       "      <td>2.10</td>\n",
       "      <td>14.40</td>\n",
       "      <td>17.04</td>\n",
       "      <td>45.11</td>\n",
       "      <td>...</td>\n",
       "      <td>0.17</td>\n",
       "      <td>9170</td>\n",
       "      <td>12501</td>\n",
       "      <td>12445</td>\n",
       "      <td>0.432</td>\n",
       "      <td>0.747</td>\n",
       "      <td>0.712</td>\n",
       "      <td>0.622</td>\n",
       "      <td>0.818</td>\n",
       "      <td>0.710</td>\n",
       "    </tr>\n",
       "    <tr>\n",
       "      <th>16691</th>\n",
       "      <td>2010</td>\n",
       "      <td>52</td>\n",
       "      <td>522205</td>\n",
       "      <td>5222054</td>\n",
       "      <td>VICENTINÓPOLIS</td>\n",
       "      <td>73.25</td>\n",
       "      <td>2.29</td>\n",
       "      <td>15.70</td>\n",
       "      <td>18.51</td>\n",
       "      <td>42.38</td>\n",
       "      <td>...</td>\n",
       "      <td>0.30</td>\n",
       "      <td>6321</td>\n",
       "      <td>7288</td>\n",
       "      <td>7239</td>\n",
       "      <td>0.389</td>\n",
       "      <td>0.676</td>\n",
       "      <td>0.684</td>\n",
       "      <td>0.562</td>\n",
       "      <td>0.804</td>\n",
       "      <td>0.707</td>\n",
       "    </tr>\n",
       "    <tr>\n",
       "      <th>16692</th>\n",
       "      <td>2010</td>\n",
       "      <td>52</td>\n",
       "      <td>522220</td>\n",
       "      <td>5222203</td>\n",
       "      <td>VILA BOA</td>\n",
       "      <td>74.07</td>\n",
       "      <td>2.64</td>\n",
       "      <td>14.50</td>\n",
       "      <td>17.09</td>\n",
       "      <td>50.80</td>\n",
       "      <td>...</td>\n",
       "      <td>0.22</td>\n",
       "      <td>3502</td>\n",
       "      <td>4685</td>\n",
       "      <td>4531</td>\n",
       "      <td>0.431</td>\n",
       "      <td>0.594</td>\n",
       "      <td>0.647</td>\n",
       "      <td>0.534</td>\n",
       "      <td>0.818</td>\n",
       "      <td>0.619</td>\n",
       "    </tr>\n",
       "    <tr>\n",
       "      <th>16693</th>\n",
       "      <td>2010</td>\n",
       "      <td>52</td>\n",
       "      <td>522230</td>\n",
       "      <td>5222302</td>\n",
       "      <td>VILA PROPÍCIO</td>\n",
       "      <td>73.09</td>\n",
       "      <td>2.67</td>\n",
       "      <td>15.90</td>\n",
       "      <td>18.80</td>\n",
       "      <td>50.75</td>\n",
       "      <td>...</td>\n",
       "      <td>2.41</td>\n",
       "      <td>1504</td>\n",
       "      <td>4739</td>\n",
       "      <td>4523</td>\n",
       "      <td>0.330</td>\n",
       "      <td>0.624</td>\n",
       "      <td>0.634</td>\n",
       "      <td>0.505</td>\n",
       "      <td>0.802</td>\n",
       "      <td>0.629</td>\n",
       "    </tr>\n",
       "    <tr>\n",
       "      <th>16694</th>\n",
       "      <td>2010</td>\n",
       "      <td>53</td>\n",
       "      <td>530010</td>\n",
       "      <td>5300108</td>\n",
       "      <td>BRASÍLIA</td>\n",
       "      <td>77.35</td>\n",
       "      <td>1.75</td>\n",
       "      <td>14.01</td>\n",
       "      <td>15.85</td>\n",
       "      <td>40.14</td>\n",
       "      <td>...</td>\n",
       "      <td>0.09</td>\n",
       "      <td>2482210</td>\n",
       "      <td>2543802</td>\n",
       "      <td>2541714</td>\n",
       "      <td>0.723</td>\n",
       "      <td>0.751</td>\n",
       "      <td>0.824</td>\n",
       "      <td>0.742</td>\n",
       "      <td>0.873</td>\n",
       "      <td>0.863</td>\n",
       "    </tr>\n",
       "  </tbody>\n",
       "</table>\n",
       "<p>16695 rows × 46 columns</p>\n",
       "</div>"
      ],
      "text/plain": [
       "        ANO  UF  Codmun6  Codmun7              Município  ESPVIDA  FECTOT  \\\n",
       "index                                                                       \n",
       "0      1991  11   110001  1100015  ALTA FLORESTA D'OESTE    62.01    4.08   \n",
       "1      1991  11   110002  1100023              ARIQUEMES    66.02    3.72   \n",
       "2      1991  11   110003  1100031                 CABIXI    63.16    3.89   \n",
       "3      1991  11   110004  1100049                 CACOAL    65.03    3.81   \n",
       "4      1991  11   110005  1100056             CEREJEIRAS    62.73    3.55   \n",
       "...     ...  ..      ...      ...                    ...      ...     ...   \n",
       "16690  2010  52   522200  5222005             VIANÓPOLIS    74.10    2.10   \n",
       "16691  2010  52   522205  5222054         VICENTINÓPOLIS    73.25    2.29   \n",
       "16692  2010  52   522220  5222203               VILA BOA    74.07    2.64   \n",
       "16693  2010  52   522230  5222302          VILA PROPÍCIO    73.09    2.67   \n",
       "16694  2010  53   530010  5300108               BRASÍLIA    77.35    1.75   \n",
       "\n",
       "       MORT1  MORT5  RAZDEP  ...  T_SLUZ  pesourb      POP     POPT  \\\n",
       "index                        ...                                      \n",
       "0      45.58  58.05   73.50  ...   63.20     9379    23417    22835   \n",
       "1      32.39  41.41   69.97  ...   26.72    45283    56061    55018   \n",
       "2      41.52  52.94   77.23  ...   74.96     1916     7601     5846   \n",
       "3      35.37  45.19   71.11  ...   42.66    42689    69173    66534   \n",
       "4      43.00  54.82   71.09  ...   43.64    14055    19451    19030   \n",
       "...      ...    ...     ...  ...     ...      ...      ...      ...   \n",
       "16690  14.40  17.04   45.11  ...    0.17     9170    12501    12445   \n",
       "16691  15.70  18.51   42.38  ...    0.30     6321     7288     7239   \n",
       "16692  14.50  17.09   50.80  ...    0.22     3502     4685     4531   \n",
       "16693  15.90  18.80   50.75  ...    2.41     1504     4739     4523   \n",
       "16694  14.01  15.85   40.14  ...    0.09  2482210  2543802  2541714   \n",
       "\n",
       "       I_ESCOLARIDADE  I_FREQ_PROP   IDHM  IDHM_E  IDHM_L  IDHM_R  \n",
       "index                                                              \n",
       "0               0.117        0.109  0.329   0.112   0.617   0.516  \n",
       "1               0.200        0.199  0.432   0.199   0.684   0.593  \n",
       "2               0.111        0.106  0.309   0.108   0.636   0.430  \n",
       "3               0.176        0.169  0.407   0.171   0.667   0.593  \n",
       "4               0.152        0.175  0.386   0.167   0.629   0.547  \n",
       "...               ...          ...    ...     ...     ...     ...  \n",
       "16690           0.432        0.747  0.712   0.622   0.818   0.710  \n",
       "16691           0.389        0.676  0.684   0.562   0.804   0.707  \n",
       "16692           0.431        0.594  0.647   0.534   0.818   0.619  \n",
       "16693           0.330        0.624  0.634   0.505   0.802   0.629  \n",
       "16694           0.723        0.751  0.824   0.742   0.873   0.863  \n",
       "\n",
       "[16695 rows x 46 columns]"
      ]
     },
     "execution_count": 98,
     "metadata": {},
     "output_type": "execute_result"
    }
   ],
   "source": [
    "# engine = sqla.create_engine(con_str, echo=True)\n",
    "# sqlite_connection = engine.connect()\n",
    "idhm_from_db = None\n",
    "df_idhm.to_sql(table_name,con_str , if_exists = 'replace')\n",
    "def load_table(table, con_str):\n",
    "    con = sqla.create_engine(con_str)\n",
    "    return pd.read_sql_query(\"SELECT * from {0}\".format(table), con, index_col='index')\n",
    "\n",
    "idhm_from_db = load_table(table_name, con_str)\n",
    "idhm_from_db"
   ]
  },
  {
   "cell_type": "code",
   "execution_count": 100,
   "metadata": {
    "deletable": false,
    "editable": false,
    "nbgrader": {
     "cell_type": "code",
     "checksum": "34df57d07cefe20d12900ff9aa57a5b6",
     "grade": true,
     "grade_id": "cell-0e2bh6cefe06bdc60",
     "locked": true,
     "points": 1,
     "schema_version": 3,
     "solution": false,
     "task": false
    }
   },
   "outputs": [
    {
     "ename": "FileNotFoundError",
     "evalue": "[Errno 2] No such file or directory: '../../../curso_ciencia_dados2020/data/originais/idhm/idhm2013.xlsx'",
     "output_type": "error",
     "traceback": [
      "\u001b[0;31m---------------------------------------------------------------------------\u001b[0m",
      "\u001b[0;31mFileNotFoundError\u001b[0m                         Traceback (most recent call last)",
      "\u001b[0;32m<ipython-input-100-1f32798bf8ee>\u001b[0m in \u001b[0;36m<module>\u001b[0;34m\u001b[0m\n\u001b[1;32m      7\u001b[0m \u001b[0mcon_str\u001b[0m\u001b[0;34m=\u001b[0m\u001b[0;34m'sqlite:////home/jovyan/work/curso_ciencia_dados2020/data/processados/idhm/idhm2013.sqlite'\u001b[0m\u001b[0;34m\u001b[0m\u001b[0;34m\u001b[0m\u001b[0m\n\u001b[1;32m      8\u001b[0m \u001b[0mtable_name\u001b[0m\u001b[0;34m=\u001b[0m\u001b[0;34m'IDHM'\u001b[0m\u001b[0;34m\u001b[0m\u001b[0;34m\u001b[0m\u001b[0m\n\u001b[0;32m----> 9\u001b[0;31m \u001b[0mdf_idhm\u001b[0m \u001b[0;34m=\u001b[0m \u001b[0mpd\u001b[0m\u001b[0;34m.\u001b[0m\u001b[0mread_excel\u001b[0m\u001b[0;34m(\u001b[0m\u001b[0mpath_idhm\u001b[0m\u001b[0;34m,\u001b[0m \u001b[0msheet_name\u001b[0m\u001b[0;34m=\u001b[0m\u001b[0;34m\"IDHM\"\u001b[0m\u001b[0;34m)\u001b[0m\u001b[0;34m\u001b[0m\u001b[0;34m\u001b[0m\u001b[0m\n\u001b[0m\u001b[1;32m     10\u001b[0m \u001b[0;34m\u001b[0m\u001b[0m\n\u001b[1;32m     11\u001b[0m \u001b[0mdf_idhm\u001b[0m\u001b[0;34m.\u001b[0m\u001b[0mindex\u001b[0m\u001b[0;34m.\u001b[0m\u001b[0mnames\u001b[0m \u001b[0;34m=\u001b[0m \u001b[0;34m[\u001b[0m\u001b[0;34m'index'\u001b[0m\u001b[0;34m]\u001b[0m\u001b[0;34m\u001b[0m\u001b[0;34m\u001b[0m\u001b[0m\n",
      "\u001b[0;32m/opt/conda/lib/python3.8/site-packages/pandas/util/_decorators.py\u001b[0m in \u001b[0;36mwrapper\u001b[0;34m(*args, **kwargs)\u001b[0m\n\u001b[1;32m    294\u001b[0m                 )\n\u001b[1;32m    295\u001b[0m                 \u001b[0mwarnings\u001b[0m\u001b[0;34m.\u001b[0m\u001b[0mwarn\u001b[0m\u001b[0;34m(\u001b[0m\u001b[0mmsg\u001b[0m\u001b[0;34m,\u001b[0m \u001b[0mFutureWarning\u001b[0m\u001b[0;34m,\u001b[0m \u001b[0mstacklevel\u001b[0m\u001b[0;34m=\u001b[0m\u001b[0mstacklevel\u001b[0m\u001b[0;34m)\u001b[0m\u001b[0;34m\u001b[0m\u001b[0;34m\u001b[0m\u001b[0m\n\u001b[0;32m--> 296\u001b[0;31m             \u001b[0;32mreturn\u001b[0m \u001b[0mfunc\u001b[0m\u001b[0;34m(\u001b[0m\u001b[0;34m*\u001b[0m\u001b[0margs\u001b[0m\u001b[0;34m,\u001b[0m \u001b[0;34m**\u001b[0m\u001b[0mkwargs\u001b[0m\u001b[0;34m)\u001b[0m\u001b[0;34m\u001b[0m\u001b[0;34m\u001b[0m\u001b[0m\n\u001b[0m\u001b[1;32m    297\u001b[0m \u001b[0;34m\u001b[0m\u001b[0m\n\u001b[1;32m    298\u001b[0m         \u001b[0;32mreturn\u001b[0m \u001b[0mwrapper\u001b[0m\u001b[0;34m\u001b[0m\u001b[0;34m\u001b[0m\u001b[0m\n",
      "\u001b[0;32m/opt/conda/lib/python3.8/site-packages/pandas/io/excel/_base.py\u001b[0m in \u001b[0;36mread_excel\u001b[0;34m(io, sheet_name, header, names, index_col, usecols, squeeze, dtype, engine, converters, true_values, false_values, skiprows, nrows, na_values, keep_default_na, na_filter, verbose, parse_dates, date_parser, thousands, comment, skipfooter, convert_float, mangle_dupe_cols)\u001b[0m\n\u001b[1;32m    302\u001b[0m \u001b[0;34m\u001b[0m\u001b[0m\n\u001b[1;32m    303\u001b[0m     \u001b[0;32mif\u001b[0m \u001b[0;32mnot\u001b[0m \u001b[0misinstance\u001b[0m\u001b[0;34m(\u001b[0m\u001b[0mio\u001b[0m\u001b[0;34m,\u001b[0m \u001b[0mExcelFile\u001b[0m\u001b[0;34m)\u001b[0m\u001b[0;34m:\u001b[0m\u001b[0;34m\u001b[0m\u001b[0;34m\u001b[0m\u001b[0m\n\u001b[0;32m--> 304\u001b[0;31m         \u001b[0mio\u001b[0m \u001b[0;34m=\u001b[0m \u001b[0mExcelFile\u001b[0m\u001b[0;34m(\u001b[0m\u001b[0mio\u001b[0m\u001b[0;34m,\u001b[0m \u001b[0mengine\u001b[0m\u001b[0;34m=\u001b[0m\u001b[0mengine\u001b[0m\u001b[0;34m)\u001b[0m\u001b[0;34m\u001b[0m\u001b[0;34m\u001b[0m\u001b[0m\n\u001b[0m\u001b[1;32m    305\u001b[0m     \u001b[0;32melif\u001b[0m \u001b[0mengine\u001b[0m \u001b[0;32mand\u001b[0m \u001b[0mengine\u001b[0m \u001b[0;34m!=\u001b[0m \u001b[0mio\u001b[0m\u001b[0;34m.\u001b[0m\u001b[0mengine\u001b[0m\u001b[0;34m:\u001b[0m\u001b[0;34m\u001b[0m\u001b[0;34m\u001b[0m\u001b[0m\n\u001b[1;32m    306\u001b[0m         raise ValueError(\n",
      "\u001b[0;32m/opt/conda/lib/python3.8/site-packages/pandas/io/excel/_base.py\u001b[0m in \u001b[0;36m__init__\u001b[0;34m(self, path_or_buffer, engine)\u001b[0m\n\u001b[1;32m    865\u001b[0m         \u001b[0mself\u001b[0m\u001b[0;34m.\u001b[0m\u001b[0m_io\u001b[0m \u001b[0;34m=\u001b[0m \u001b[0mstringify_path\u001b[0m\u001b[0;34m(\u001b[0m\u001b[0mpath_or_buffer\u001b[0m\u001b[0;34m)\u001b[0m\u001b[0;34m\u001b[0m\u001b[0;34m\u001b[0m\u001b[0m\n\u001b[1;32m    866\u001b[0m \u001b[0;34m\u001b[0m\u001b[0m\n\u001b[0;32m--> 867\u001b[0;31m         \u001b[0mself\u001b[0m\u001b[0;34m.\u001b[0m\u001b[0m_reader\u001b[0m \u001b[0;34m=\u001b[0m \u001b[0mself\u001b[0m\u001b[0;34m.\u001b[0m\u001b[0m_engines\u001b[0m\u001b[0;34m[\u001b[0m\u001b[0mengine\u001b[0m\u001b[0;34m]\u001b[0m\u001b[0;34m(\u001b[0m\u001b[0mself\u001b[0m\u001b[0;34m.\u001b[0m\u001b[0m_io\u001b[0m\u001b[0;34m)\u001b[0m\u001b[0;34m\u001b[0m\u001b[0;34m\u001b[0m\u001b[0m\n\u001b[0m\u001b[1;32m    868\u001b[0m \u001b[0;34m\u001b[0m\u001b[0m\n\u001b[1;32m    869\u001b[0m     \u001b[0;32mdef\u001b[0m \u001b[0m__fspath__\u001b[0m\u001b[0;34m(\u001b[0m\u001b[0mself\u001b[0m\u001b[0;34m)\u001b[0m\u001b[0;34m:\u001b[0m\u001b[0;34m\u001b[0m\u001b[0;34m\u001b[0m\u001b[0m\n",
      "\u001b[0;32m/opt/conda/lib/python3.8/site-packages/pandas/io/excel/_xlrd.py\u001b[0m in \u001b[0;36m__init__\u001b[0;34m(self, filepath_or_buffer)\u001b[0m\n\u001b[1;32m     20\u001b[0m         \u001b[0merr_msg\u001b[0m \u001b[0;34m=\u001b[0m \u001b[0;34m\"Install xlrd >= 1.0.0 for Excel support\"\u001b[0m\u001b[0;34m\u001b[0m\u001b[0;34m\u001b[0m\u001b[0m\n\u001b[1;32m     21\u001b[0m         \u001b[0mimport_optional_dependency\u001b[0m\u001b[0;34m(\u001b[0m\u001b[0;34m\"xlrd\"\u001b[0m\u001b[0;34m,\u001b[0m \u001b[0mextra\u001b[0m\u001b[0;34m=\u001b[0m\u001b[0merr_msg\u001b[0m\u001b[0;34m)\u001b[0m\u001b[0;34m\u001b[0m\u001b[0;34m\u001b[0m\u001b[0m\n\u001b[0;32m---> 22\u001b[0;31m         \u001b[0msuper\u001b[0m\u001b[0;34m(\u001b[0m\u001b[0;34m)\u001b[0m\u001b[0;34m.\u001b[0m\u001b[0m__init__\u001b[0m\u001b[0;34m(\u001b[0m\u001b[0mfilepath_or_buffer\u001b[0m\u001b[0;34m)\u001b[0m\u001b[0;34m\u001b[0m\u001b[0;34m\u001b[0m\u001b[0m\n\u001b[0m\u001b[1;32m     23\u001b[0m \u001b[0;34m\u001b[0m\u001b[0m\n\u001b[1;32m     24\u001b[0m     \u001b[0;34m@\u001b[0m\u001b[0mproperty\u001b[0m\u001b[0;34m\u001b[0m\u001b[0;34m\u001b[0m\u001b[0m\n",
      "\u001b[0;32m/opt/conda/lib/python3.8/site-packages/pandas/io/excel/_base.py\u001b[0m in \u001b[0;36m__init__\u001b[0;34m(self, filepath_or_buffer)\u001b[0m\n\u001b[1;32m    351\u001b[0m             \u001b[0mself\u001b[0m\u001b[0;34m.\u001b[0m\u001b[0mbook\u001b[0m \u001b[0;34m=\u001b[0m \u001b[0mself\u001b[0m\u001b[0;34m.\u001b[0m\u001b[0mload_workbook\u001b[0m\u001b[0;34m(\u001b[0m\u001b[0mfilepath_or_buffer\u001b[0m\u001b[0;34m)\u001b[0m\u001b[0;34m\u001b[0m\u001b[0;34m\u001b[0m\u001b[0m\n\u001b[1;32m    352\u001b[0m         \u001b[0;32melif\u001b[0m \u001b[0misinstance\u001b[0m\u001b[0;34m(\u001b[0m\u001b[0mfilepath_or_buffer\u001b[0m\u001b[0;34m,\u001b[0m \u001b[0mstr\u001b[0m\u001b[0;34m)\u001b[0m\u001b[0;34m:\u001b[0m\u001b[0;34m\u001b[0m\u001b[0;34m\u001b[0m\u001b[0m\n\u001b[0;32m--> 353\u001b[0;31m             \u001b[0mself\u001b[0m\u001b[0;34m.\u001b[0m\u001b[0mbook\u001b[0m \u001b[0;34m=\u001b[0m \u001b[0mself\u001b[0m\u001b[0;34m.\u001b[0m\u001b[0mload_workbook\u001b[0m\u001b[0;34m(\u001b[0m\u001b[0mfilepath_or_buffer\u001b[0m\u001b[0;34m)\u001b[0m\u001b[0;34m\u001b[0m\u001b[0;34m\u001b[0m\u001b[0m\n\u001b[0m\u001b[1;32m    354\u001b[0m         \u001b[0;32melif\u001b[0m \u001b[0misinstance\u001b[0m\u001b[0;34m(\u001b[0m\u001b[0mfilepath_or_buffer\u001b[0m\u001b[0;34m,\u001b[0m \u001b[0mbytes\u001b[0m\u001b[0;34m)\u001b[0m\u001b[0;34m:\u001b[0m\u001b[0;34m\u001b[0m\u001b[0;34m\u001b[0m\u001b[0m\n\u001b[1;32m    355\u001b[0m             \u001b[0mself\u001b[0m\u001b[0;34m.\u001b[0m\u001b[0mbook\u001b[0m \u001b[0;34m=\u001b[0m \u001b[0mself\u001b[0m\u001b[0;34m.\u001b[0m\u001b[0mload_workbook\u001b[0m\u001b[0;34m(\u001b[0m\u001b[0mBytesIO\u001b[0m\u001b[0;34m(\u001b[0m\u001b[0mfilepath_or_buffer\u001b[0m\u001b[0;34m)\u001b[0m\u001b[0;34m)\u001b[0m\u001b[0;34m\u001b[0m\u001b[0;34m\u001b[0m\u001b[0m\n",
      "\u001b[0;32m/opt/conda/lib/python3.8/site-packages/pandas/io/excel/_xlrd.py\u001b[0m in \u001b[0;36mload_workbook\u001b[0;34m(self, filepath_or_buffer)\u001b[0m\n\u001b[1;32m     35\u001b[0m             \u001b[0;32mreturn\u001b[0m \u001b[0mopen_workbook\u001b[0m\u001b[0;34m(\u001b[0m\u001b[0mfile_contents\u001b[0m\u001b[0;34m=\u001b[0m\u001b[0mdata\u001b[0m\u001b[0;34m)\u001b[0m\u001b[0;34m\u001b[0m\u001b[0;34m\u001b[0m\u001b[0m\n\u001b[1;32m     36\u001b[0m         \u001b[0;32melse\u001b[0m\u001b[0;34m:\u001b[0m\u001b[0;34m\u001b[0m\u001b[0;34m\u001b[0m\u001b[0m\n\u001b[0;32m---> 37\u001b[0;31m             \u001b[0;32mreturn\u001b[0m \u001b[0mopen_workbook\u001b[0m\u001b[0;34m(\u001b[0m\u001b[0mfilepath_or_buffer\u001b[0m\u001b[0;34m)\u001b[0m\u001b[0;34m\u001b[0m\u001b[0;34m\u001b[0m\u001b[0m\n\u001b[0m\u001b[1;32m     38\u001b[0m \u001b[0;34m\u001b[0m\u001b[0m\n\u001b[1;32m     39\u001b[0m     \u001b[0;34m@\u001b[0m\u001b[0mproperty\u001b[0m\u001b[0;34m\u001b[0m\u001b[0;34m\u001b[0m\u001b[0m\n",
      "\u001b[0;32m/opt/conda/lib/python3.8/site-packages/xlrd/__init__.py\u001b[0m in \u001b[0;36mopen_workbook\u001b[0;34m(filename, logfile, verbosity, use_mmap, file_contents, encoding_override, formatting_info, on_demand, ragged_rows)\u001b[0m\n\u001b[1;32m    109\u001b[0m     \u001b[0;32melse\u001b[0m\u001b[0;34m:\u001b[0m\u001b[0;34m\u001b[0m\u001b[0;34m\u001b[0m\u001b[0m\n\u001b[1;32m    110\u001b[0m         \u001b[0mfilename\u001b[0m \u001b[0;34m=\u001b[0m \u001b[0mos\u001b[0m\u001b[0;34m.\u001b[0m\u001b[0mpath\u001b[0m\u001b[0;34m.\u001b[0m\u001b[0mexpanduser\u001b[0m\u001b[0;34m(\u001b[0m\u001b[0mfilename\u001b[0m\u001b[0;34m)\u001b[0m\u001b[0;34m\u001b[0m\u001b[0;34m\u001b[0m\u001b[0m\n\u001b[0;32m--> 111\u001b[0;31m         \u001b[0;32mwith\u001b[0m \u001b[0mopen\u001b[0m\u001b[0;34m(\u001b[0m\u001b[0mfilename\u001b[0m\u001b[0;34m,\u001b[0m \u001b[0;34m\"rb\"\u001b[0m\u001b[0;34m)\u001b[0m \u001b[0;32mas\u001b[0m \u001b[0mf\u001b[0m\u001b[0;34m:\u001b[0m\u001b[0;34m\u001b[0m\u001b[0;34m\u001b[0m\u001b[0m\n\u001b[0m\u001b[1;32m    112\u001b[0m             \u001b[0mpeek\u001b[0m \u001b[0;34m=\u001b[0m \u001b[0mf\u001b[0m\u001b[0;34m.\u001b[0m\u001b[0mread\u001b[0m\u001b[0;34m(\u001b[0m\u001b[0mpeeksz\u001b[0m\u001b[0;34m)\u001b[0m\u001b[0;34m\u001b[0m\u001b[0;34m\u001b[0m\u001b[0m\n\u001b[1;32m    113\u001b[0m     \u001b[0;32mif\u001b[0m \u001b[0mpeek\u001b[0m \u001b[0;34m==\u001b[0m \u001b[0;34mb\"PK\\x03\\x04\"\u001b[0m\u001b[0;34m:\u001b[0m \u001b[0;31m# a ZIP file\u001b[0m\u001b[0;34m\u001b[0m\u001b[0;34m\u001b[0m\u001b[0m\n",
      "\u001b[0;31mFileNotFoundError\u001b[0m: [Errno 2] No such file or directory: '../../../curso_ciencia_dados2020/data/originais/idhm/idhm2013.xlsx'"
     ]
    }
   ],
   "source": [
    "# Validação para nota\n",
    "def load_table(table, con_str):\n",
    "    con = sqla.create_engine(con_str)\n",
    "    return pd.read_sql_query(\"SELECT * from {0}\".format(table), con, index_col='index')\n",
    "    \n",
    "path_idhm='../../../curso_ciencia_dados2020/data/originais/idhm/idhm2013.xlsx'\n",
    "con_str='sqlite:////home/jovyan/work/curso_ciencia_dados2020/data/processados/idhm/idhm2013.sqlite'\n",
    "table_name='IDHM'\n",
    "df_idhm = pd.read_excel(path_idhm, sheet_name=\"IDHM\")\n",
    "\n",
    "df_idhm.index.names = ['index']\n",
    "save_to_sqlite(df_idhm, table_name, con_str) # Função que deve ser implementada pelo aluno\n",
    "idhm_from_db = load_table(table_name, con_str)\n",
    "\n",
    "assert idhm_from_db.equals(df_idhm)"
   ]
  },
  {
   "cell_type": "markdown",
   "metadata": {},
   "source": [
    "### 3.3 Escreva uma função executar uma query SQL de agregação num banco de dados SQLite que retorne a média dos valores de uma coluna VALORES agregados por uma coluna CATEGORIAS.\n",
    "#### Retorne a coluna CATEGORIA na tabela de resultados para identificar os valores. Ordene os resultados pelo valor da média em ordem decrescente.\n",
    "#### Exemplo: Calcule média do IDHM (coluna VALORES) agregado por Ano da pesquisa (CATEGORIAS)."
   ]
  },
  {
   "cell_type": "code",
   "execution_count": null,
   "metadata": {
    "deletable": false,
    "nbgrader": {
     "cell_type": "code",
     "checksum": "91d40e9b68a338554169bfe82aa5da28",
     "grade": false,
     "grade_id": "cell-553e5248ebs14bc30",
     "locked": false,
     "schema_version": 3,
     "solution": true,
     "task": false
    }
   },
   "outputs": [],
   "source": [
    "# Dica: A resposta deste exercício é bem semelhante ao código mostrado na aula\n",
    "def soma_com_agregacao(val, cat, table, con_str):\n",
    "    \"\"\"retorne um dataframe contendo a soma dos valores em val dentro das categorias cat da tabela table\n",
    "    \"\"\"\n",
    "    # YOUR CODE HERE\n",
    "    raise NotImplementedError()\n"
   ]
  },
  {
   "cell_type": "code",
   "execution_count": null,
   "metadata": {},
   "outputs": [],
   "source": [
    "## Faça seus testes aqui\n",
    "\n"
   ]
  },
  {
   "cell_type": "code",
   "execution_count": null,
   "metadata": {
    "deletable": false,
    "editable": false,
    "nbgrader": {
     "cell_type": "code",
     "checksum": "69d00c5e7181891119edf948e8e4f7a2",
     "grade": true,
     "grade_id": "cell-0e2bt6cefe06bdc60",
     "locked": true,
     "points": 1,
     "schema_version": 3,
     "solution": false,
     "task": false
    }
   },
   "outputs": [],
   "source": [
    "# Validação para nota\n",
    "con_str='sqlite:////home/jovyan/work/curso_ciencia_dados2020/data/processados/idhm/idhm2013.sqlite'\n",
    "idhm_anos = pd.DataFrame({'ANO': {0: 2010, 1: 2000, 2: 1991}, 'Media': {0: 0.6591574123989226, 1: 0.5234808625336926, 2: 0.38137232704402557}})\n",
    "assert soma_com_agregacao('IDHM', 'ANO', 'IDHM', con_str).equals(idhm_anos)"
   ]
  },
  {
   "cell_type": "markdown",
   "metadata": {},
   "source": [
    "### 3.4 Escreva uma função para fazer o merge dos dataframes de população e de PIB de 2017. A função deve receber como parâmetro o caminho para cada um dos dataframes."
   ]
  },
  {
   "cell_type": "code",
   "execution_count": null,
   "metadata": {
    "deletable": false,
    "nbgrader": {
     "cell_type": "code",
     "checksum": "3a04c139c119cdec564fbd3e18136e1a",
     "grade": false,
     "grade_id": "cell-553em5248eb14bc30",
     "locked": false,
     "schema_version": 3,
     "solution": true,
     "task": false
    }
   },
   "outputs": [],
   "source": [
    "# Dica 1: A coluna que contem o código IBGE do município deve ter o mesmo formato (string) e a mesma\n",
    "#         quantidade de caracteres nas duas tabelas.\n",
    "# Dica 2: Converta o codigo do município para string ao carregar o dataframe de população utilizando\n",
    "#         o mapeamento de tipos dtype={'cod_munic': str, 'cod_uf': str}. Assim o codigo do municipio não perde\n",
    "#         os zeros a esquerda.\n",
    "# Dica 3: Concatene o codigo da UF com o código do município usando o operador + e salve em outra coluna.\n",
    "# Dica 4: Use o código apresentado na aula para carregar o dataframe do PIB de 2017, especifique o dtype da\n",
    "#         coluna que contém o codigo do municipio.\n",
    "# Dica 5: Renomeie as colunas apropriadamente.\n",
    "# Dica 6: Depois que os dois dataframes tiverem o codigo ibge (com valores equivalentes\n",
    "#         e mesmo tipo de dados) você pode fazer o merge.\n",
    "\n",
    "def merge_pop_pib(path_pop, path_pib):\n",
    "    \"\"\"retorne um dataframe resultante do merge dos dados do pib e da população\n",
    "    \"\"\"\n",
    "    # YOUR CODE HERE\n",
    "    raise NotImplementedError()\n"
   ]
  },
  {
   "cell_type": "code",
   "execution_count": null,
   "metadata": {},
   "outputs": [],
   "source": [
    "## Faça seus testes aqui\n",
    "path_pib = '../../../curso_ciencia_dados2020/data/originais/pib/pib_municipios.xlsx'\n",
    "path_pop='../../../curso_ciencia_dados2020/data/originais/populacao/estimativa_dou_2017.xlsx'\n",
    "df_pib_pop = merge_pop_pib(path_pop, path_pib)\n",
    "df_pib_pop.head()"
   ]
  },
  {
   "cell_type": "code",
   "execution_count": null,
   "metadata": {
    "deletable": false,
    "editable": false,
    "nbgrader": {
     "cell_type": "code",
     "checksum": "652764c10148f3f252cb0c3ac9497d0b",
     "grade": true,
     "grade_id": "cell-0se2b6cefe06bdc60",
     "locked": true,
     "points": 1,
     "schema_version": 3,
     "solution": false,
     "task": false
    }
   },
   "outputs": [],
   "source": [
    "# Validação para nota\n",
    "test_merge = {'pop2017': 25437, '2017': 498864}\n",
    "df_pib_pop = merge_pop_pib(path_pop, path_pib)\n",
    "assert df_pib_pop.loc[0,['pop2017', '2017']].to_dict() == test_merge "
   ]
  },
  {
   "cell_type": "markdown",
   "metadata": {},
   "source": [
    "### 3.5 Escreva uma função para calcular o PIB percapita de cada município do Brasil, considerando o dataframe do exercício anterior."
   ]
  },
  {
   "cell_type": "code",
   "execution_count": null,
   "metadata": {
    "deletable": false,
    "nbgrader": {
     "cell_type": "code",
     "checksum": "00935e8498a1a0e853dc0df92890e0f9",
     "grade": false,
     "grade_id": "cell-553e524r8eb14bc30",
     "locked": false,
     "schema_version": 3,
     "solution": true,
     "task": false
    }
   },
   "outputs": [],
   "source": [
    "# Dica 1\n",
    "def pib_percapita(pib_pop):\n",
    "    \"\"\"retorne retorne um dataframe contendo o codigo ibge de 7 caracteres,\n",
    "       o nome do municipio e seu PIB percapita.\n",
    "    \"\"\"\n",
    "    # YOUR CODE HERE\n",
    "    raise NotImplementedError()\n"
   ]
  },
  {
   "cell_type": "code",
   "execution_count": null,
   "metadata": {},
   "outputs": [],
   "source": [
    "## Faça seus testes aqui\n",
    "\n"
   ]
  },
  {
   "cell_type": "code",
   "execution_count": null,
   "metadata": {
    "deletable": false,
    "editable": false,
    "nbgrader": {
     "cell_type": "code",
     "checksum": "cfaffe71c5575199d867ad9e120c2da7",
     "grade": true,
     "grade_id": "cell-0e2hb6cefe06bdc60",
     "locked": true,
     "points": 1,
     "schema_version": 3,
     "solution": false,
     "task": false
    }
   },
   "outputs": [],
   "source": [
    "# Validação para nota\n",
    "pib_percapita_2017 = pib_percapita(df_pib_pop)\n",
    "assert round(pib_percapita(df_pib_pop).loc[0,'pib_percapita'],2) == 19.61"
   ]
  },
  {
   "cell_type": "markdown",
   "metadata": {},
   "source": [
    "### 3.6 Escreva uma função para retornar os registros dos 10 maiores PIBs percapita do brasil a partir do dataframe do exercício anterior. \n",
    "#### Escreva uma função genérica que receba como parâmetro um dataframe e o nome da coluna de ordenação\n"
   ]
  },
  {
   "cell_type": "code",
   "execution_count": null,
   "metadata": {
    "deletable": false,
    "nbgrader": {
     "cell_type": "code",
     "checksum": "d87a1732e583e9319f37c3cbc3a4214f",
     "grade": false,
     "grade_id": "cell-553e5s248eb14bc30",
     "locked": false,
     "schema_version": 3,
     "solution": true,
     "task": false
    }
   },
   "outputs": [],
   "source": [
    "# Dica 1: Use o método sort_values para ordenar o dataframe. Para uma ordenação descendente use ascending=False.\n",
    "# Dica 2: Use o atributo iloc para retornar todas as colunas dos 10 primeiros registros.\n",
    "def top10(df, col):\n",
    "    \"\"\"retorne os top 10 registros do dataframe df ordenados por col\n",
    "    \"\"\"\n",
    "    # YOUR CODE HERE\n",
    "    raise NotImplementedError()\n"
   ]
  },
  {
   "cell_type": "code",
   "execution_count": null,
   "metadata": {},
   "outputs": [],
   "source": [
    "## Faça seus testes aqui\n"
   ]
  },
  {
   "cell_type": "code",
   "execution_count": null,
   "metadata": {
    "deletable": false,
    "editable": false,
    "nbgrader": {
     "cell_type": "code",
     "checksum": "100367f9633b7605519cc981307fcda7",
     "grade": true,
     "grade_id": "cell-0e2b6cefe06hbdc60",
     "locked": true,
     "points": 1,
     "schema_version": 3,
     "solution": false,
     "task": false
    }
   },
   "outputs": [],
   "source": [
    "# Validação para nota\n",
    "test_data = {'cod_ibge7': {3677: '3536505', 3547: '3524709'},\n",
    "             'municipio': {3677: 'Paulínia', 3547: 'Jaguariúna'},\n",
    "             'uf': {3677: 'SP', 3547: 'SP'},\n",
    "             'pib_percapita': {3677: 344.8471692406755, 3547: 209.32086192900894}}\n",
    "\n",
    "assert top10(pib_percapita_2017, 'pib_percapita').iloc[[0,9]].to_dict() == test_data "
   ]
  },
  {
   "cell_type": "markdown",
   "metadata": {},
   "source": [
    "### 3.7 Escreva uma função para contar quantos nomes de municípios são diferentes nas bases de dados do PIB e da população"
   ]
  },
  {
   "cell_type": "code",
   "execution_count": null,
   "metadata": {
    "deletable": false,
    "nbgrader": {
     "cell_type": "code",
     "checksum": "aa493e635529cec13dccb7a5a35d84b6",
     "grade": false,
     "grade_id": "cell-553e5248eb1t4bc30",
     "locked": false,
     "schema_version": 3,
     "solution": true,
     "task": false
    }
   },
   "outputs": [],
   "source": [
    "def compare_df_cols(df, col1, col2):\n",
    "    \"\"\"retorne a quantidade de registros em que o valor do registro na coluna col1 difere do valor em col2\n",
    "    \"\"\"\n",
    "    # YOUR CODE HERE\n",
    "    raise NotImplementedError()\n"
   ]
  },
  {
   "cell_type": "code",
   "execution_count": null,
   "metadata": {},
   "outputs": [],
   "source": [
    "## Faça seus testes aqui\n"
   ]
  },
  {
   "cell_type": "code",
   "execution_count": null,
   "metadata": {
    "deletable": false,
    "editable": false,
    "nbgrader": {
     "cell_type": "code",
     "checksum": "dad1d6f4bf00f93faf1154b21ed52d80",
     "grade": true,
     "grade_id": "cell-0e2b6cefet06bdc60",
     "locked": true,
     "points": 1,
     "schema_version": 3,
     "solution": false,
     "task": false
    }
   },
   "outputs": [],
   "source": [
    "# Validação para nota\n",
    "assert compare_df_cols(df_pib_pop, 'municipio', 'municipio_y') == 0"
   ]
  },
  {
   "cell_type": "markdown",
   "metadata": {},
   "source": [
    "### 3.8 Considere algumas linhas de uma base de dados de morbidade apresentadas a seguir. Perceba que há dados de vários meses de 2020 para cada Estado da Federação.\n",
    "#### Escreva uma função para pivotar esta base de dados apresentando os meses do ano nas colunas, os municípios nas linhas e a quantidade de óbitos como valores das células. \n",
    "\n",
    "|       | Município               |   cod_ibge6 | mes   |   ano | mes_ano    | Óbitos   |\n",
    "|------:|:------------------------|------------:|:------|------:|:-----------|:---------|\n",
    "|     0 | Alta Floresta D'Oeste   |      110001 | Abr   |  2020 | 2020-04-01 | 8        |\n",
    "|     1 | Alto Alegre dos Parecis |      110037 | Abr   |  2020 | 2020-04-01 | 1        |\n",
    "|     2 | Alto Paraíso            |      110040 | Abr   |  2020 | 2020-04-01 | 2        |\n",
    "| 33347 | Vila Boa                |      522220 | Jan   |  2020 | 2020-01-01 | -        |\n",
    "| 33348 | Vila Propício           |      522230 | Jan   |  2020 | 2020-01-01 | -        |\n",
    "| 33349 | Brasília                |      530010 | Jan   |  2020 | 2020-01-01 | 578      |"
   ]
  },
  {
   "cell_type": "code",
   "execution_count": null,
   "metadata": {
    "deletable": false,
    "nbgrader": {
     "cell_type": "code",
     "checksum": "e267f3c16039cabac1e9a661f7453cee",
     "grade": false,
     "grade_id": "cell-553e52r48eb14bc30",
     "locked": false,
     "schema_version": 3,
     "solution": true,
     "task": false
    }
   },
   "outputs": [],
   "source": [
    "# Dica 1: Se aparecer um erro (uma exceção) com este texto \"ValueError: Index contains duplicate entries, cannot reshape\"\n",
    "#       é porque o seu índice contém valores duplicados. \n",
    "# Dica 2: Se você usar o atributo 'mes_ano' o pandas já ordena de forma cronológica as colunas.\n",
    "def pivot_morbidade(file_path):\n",
    "    \"\"\"retorne um dataframe pivotado\n",
    "    \"\"\"\n",
    "    # YOUR CODE HERE\n",
    "    raise NotImplementedError()\n"
   ]
  },
  {
   "cell_type": "code",
   "execution_count": null,
   "metadata": {},
   "outputs": [],
   "source": [
    "## Faça seus testes aqui\n",
    "file_path = '../../../curso_ciencia_dados2020/data/originais/morbidade/consolidado/morbidade_simplificado.csv'\n"
   ]
  },
  {
   "cell_type": "code",
   "execution_count": null,
   "metadata": {
    "deletable": false,
    "editable": false,
    "nbgrader": {
     "cell_type": "code",
     "checksum": "889d83043b437fc1bdd85a28ff125f17",
     "grade": true,
     "grade_id": "cell-0e2b6tcefe06bdc60",
     "locked": true,
     "points": 1,
     "schema_version": 3,
     "solution": false,
     "task": false
    }
   },
   "outputs": [],
   "source": [
    "# Validação para nota\n",
    "file_path = '../../../curso_ciencia_dados2020/data/originais/morbidade/consolidado/morbidade_simplificado.csv'\n",
    "test_data = {'2020-01-01': '5', '2020-02-01': '2', '2020-03-01': '3', '2020-04-01': '8', '2020-05-01': '2', \n",
    "             '2020-06-01': '2'}\n",
    "assert pivot_morbidade(file_path).iloc[0].to_dict() == test_data\n"
   ]
  }
 ],
 "metadata": {
  "kernelspec": {
   "display_name": "Python 3",
   "language": "python",
   "name": "python3"
  },
  "language_info": {
   "codemirror_mode": {
    "name": "ipython",
    "version": 3
   },
   "file_extension": ".py",
   "mimetype": "text/x-python",
   "name": "python",
   "nbconvert_exporter": "python",
   "pygments_lexer": "ipython3",
   "version": "3.8.4"
  }
 },
 "nbformat": 4,
 "nbformat_minor": 4
}
