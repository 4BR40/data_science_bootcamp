{
 "cells": [
  {
   "cell_type": "markdown",
   "metadata": {},
   "source": [
    "# Aula 4 - Exercícios - Agregação com Pandas e Conceitos de Estatística\n",
    "### Consulta a internet (Google, Stackoverflow e etc) liberada!!"
   ]
  },
  {
   "cell_type": "code",
   "execution_count": null,
   "metadata": {},
   "outputs": [],
   "source": [
    "# Importe a biblioteca pandas\n",
    "import pandas as pd\n",
    "import numpy as np"
   ]
  },
  {
   "cell_type": "markdown",
   "metadata": {},
   "source": [
    "### 4.1 Escreva uma função para ler os dados de PIB e população dos datasets disponibilizados e retornar um dataframe com a agregação por Estados e as métricas soma, média e mediana do PIB de 2017 e da população de todos os Estados brasileiros.\n",
    "#### Você pode se basear na sua resolução dos exercícios da Aula 3.\n"
   ]
  },
  {
   "cell_type": "code",
   "execution_count": null,
   "metadata": {
    "deletable": false,
    "nbgrader": {
     "cell_type": "code",
     "checksum": "09a1c3a73612084a3041c46b6120e674",
     "grade": false,
     "grade_id": "cell-c705ab9d11473b9f9",
     "locked": false,
     "schema_version": 3,
     "solution": true,
     "task": false
    }
   },
   "outputs": [],
   "source": [
    "# Dica: Baseie seu código na sua solução do exercício da aula 3 que faz o merge dos\n",
    "#       datasets do PIB e da população.\n",
    "\n",
    "def aggregate_pib_pop(path_pop, path_pib):\n",
    "    \"\"\"retorne um dataframe com a agregação por Estados e as métricas soma, média, mediana\n",
    "       e o desvio padrão do PIB de 2017 e da população de todos os Estados brasileiros.\n",
    "    \"\"\"\n",
    "    # YOUR CODE HERE\n",
    "    raise NotImplementedError()\n"
   ]
  },
  {
   "cell_type": "code",
   "execution_count": null,
   "metadata": {},
   "outputs": [],
   "source": [
    "## Faça seus testes aqui\n",
    "path_pib = '../../curso_ciencia_dados2020/data/originais/pib/pib_municipios.xlsx'\n",
    "path_pop='../../curso_ciencia_dados2020/data/originais/populacao/estimativa_dou_2017.xlsx'\n",
    "\n",
    "\n"
   ]
  },
  {
   "cell_type": "code",
   "execution_count": null,
   "metadata": {
    "deletable": false,
    "editable": false,
    "nbgrader": {
     "cell_type": "code",
     "checksum": "4c678029d12d934c31b6bf5bd3257b09",
     "grade": true,
     "grade_id": "cell-9ffdsa88d58e9282a",
     "locked": true,
     "points": 1,
     "schema_version": 3,
     "solution": false,
     "task": false
    }
   },
   "outputs": [],
   "source": [
    "# Validação para nota\n",
    "path_pib = '../../curso_ciencia_dados2020/data/originais/pib/pib_municipios.xlsx'\n",
    "path_pop='../../curso_ciencia_dados2020/data/originais/populacao/estimativa_dou_2017.xlsx'\n",
    "test_data = {('pop2017', 'sum'): 829619.0,  ('pop2017', 'mean'): 37709.954545454544,\n",
    "             ('pop2017', 'median'): 17903.5, ('pop2017', 'std'): 79035.97564911412,\n",
    "             ('2017', 'sum'): 14271061.0, ('2017', 'mean'): 648684.5909090909,\n",
    "             ('2017', 'median'): 229775.0, ('2017', 'std'): 1695166.9475680576}\n",
    "\n",
    "assert aggregate_pib_pop(path_pop, path_pib).loc['AC'].to_dict() == test_data"
   ]
  },
  {
   "cell_type": "markdown",
   "metadata": {},
   "source": [
    "### 4.2 Escreva uma função para calcular os percentis [0.25, 0.50, 0.75, 0.9] do dataset do índice de gini dos municípios brasileiros para todos os anos presents no dataset.\n",
    "\n",
    "#### Apenas por curiosidade, plote o gráfico destes percentis num gráfico de linhas\n"
   ]
  },
  {
   "cell_type": "code",
   "execution_count": null,
   "metadata": {
    "deletable": false,
    "nbgrader": {
     "cell_type": "code",
     "checksum": "c91073f400233eb468530da63a838ec2",
     "grade": false,
     "grade_id": "cell-553qe5248eb14bc30",
     "locked": false,
     "schema_version": 3,
     "solution": true,
     "task": false
    }
   },
   "outputs": [],
   "source": [
    "# Dica 1: Descubra qual a string representa valores NA neste dataset.\n",
    "# Dica 2: Use o argumento na_values para especificar a string que representa valores NA.\n",
    "# Dica 3: Use o argumento decimal=',' para definir a vírgula como separador de decimal.\n",
    "# Dica 4: Use a função apply e uma função lambda para desmembrar a coluna município no\n",
    "#         respectivo nome e código do município.\n",
    "# Dica 5: Atente para o separador de colunas do dataset.\n",
    "# Dica 6: O encoding do dataset do gini é 'utf8'.\n",
    "# Dica 7: Atente para quantas linhas você deve ignorar antes no inicio e no final do arquivo.\n",
    "\n",
    "def plot_gini(path_gini):\n",
    "    \"\"\"retorne o valor de: n+nn+nnn\n",
    "    \"\"\"\n",
    "    # YOUR CODE HERE\n",
    "    raise NotImplementedError()\n"
   ]
  },
  {
   "cell_type": "code",
   "execution_count": null,
   "metadata": {},
   "outputs": [],
   "source": [
    "## Faça seus testes aqui\n",
    "# Considere o seguinte dataframe do PIB dos municípios\n",
    "path_gini = '../../curso_ciencia_dados2020/data/originais/gini/ginibr.csv'\n",
    "\n"
   ]
  },
  {
   "cell_type": "code",
   "execution_count": null,
   "metadata": {
    "deletable": false,
    "editable": false,
    "nbgrader": {
     "cell_type": "code",
     "checksum": "63f405eb3cb3af2acc6aa27f701bfdc0",
     "grade": true,
     "grade_id": "cell-0e2bh6cefe06bdc60",
     "locked": true,
     "points": 1,
     "schema_version": 3,
     "solution": false,
     "task": false
    }
   },
   "outputs": [],
   "source": [
    "# Validação para nota\n",
    "test_data = {'1991': {0.25: 0.48625, 0.5: 0.5314, 0.75: 0.5751, 0.9: 0.617}, \n",
    "             '2000': {0.25: 0.5096, 0.5: 0.5535, 0.75: 0.59715, 0.9: 0.6387}, \n",
    "             '2010': {0.25: 0.4587, 0.5: 0.5025, 0.75: 0.5459, 0.9: 0.5848}}\n",
    "path_gini = '../../curso_ciencia_dados2020/data/originais/gini/ginibr.csv'\n",
    "\n",
    "assert plot_gini(path_gini).to_dict() == test_data"
   ]
  },
  {
   "cell_type": "markdown",
   "metadata": {},
   "source": [
    "### 4.3 Escreva uma função para retornar um dataframe com os nomes das colunas, o total e a porcentagem de valores NA num dataframe passado como argumento para esta função.\n"
   ]
  },
  {
   "cell_type": "code",
   "execution_count": null,
   "metadata": {
    "deletable": false,
    "nbgrader": {
     "cell_type": "code",
     "checksum": "71c9c33bd03c383ee1b4822b5716a708",
     "grade": false,
     "grade_id": "cell-553e5248ebs14bc30",
     "locked": false,
     "schema_version": 3,
     "solution": true,
     "task": false
    }
   },
   "outputs": [],
   "source": [
    "# Dica: Use a função concat para concatenar duas séries. Especifique axis=1 para concatenar\n",
    "#       por colunas. Se quiser dar nome as colunas depois de concatenar, utilize o argumento\n",
    "#       keys=['Total','Porcentage']\n",
    "\n",
    "def missing_percentage(df):\n",
    "    \"\"\"Retorna um dataframe com os nomes das colunas, o total e a porcentagem de valores\n",
    "       NA no dataframe\n",
    "    \"\"\"\n",
    "    # YOUR CODE HERE\n",
    "    raise NotImplementedError()\n"
   ]
  },
  {
   "cell_type": "code",
   "execution_count": null,
   "metadata": {},
   "outputs": [],
   "source": [
    "## Faça seus testes aqui\n",
    "path_titanic = '../../curso_ciencia_dados2020/data/originais/titanic/titanic.xls'\n",
    "\n",
    "\n",
    "def missing_percentage(df):\n",
    "    \"\"\"Retorna um dataframe com os nomes das colunas, o total e a porcentagem de valores\n",
    "       NA no dataframe\n",
    "    \"\"\"\n",
    "    na_count = df.isnull().sum().sort_values(ascending=False)\n",
    "    na_porce = (100 * df.isnull().sum() / len(df)).sort_values(ascending=False).round(2)\n",
    "    na_table = pd.concat([na_count, na_porce], axis=1)\n",
    "    na_table_ren_columns = na_table.rename(columns = {0 : 'Total', 1 : 'Porcentage'})\n",
    "\n",
    "    return (na_table_ren_columns)\n",
    "    \n",
    "    \n",
    "    df_titanic = pd.read_excel(path_titanic )\n",
    "    missing_percentage(df_titanic)"
   ]
  },
  {
   "cell_type": "code",
   "execution_count": null,
   "metadata": {
    "deletable": false,
    "editable": false,
    "nbgrader": {
     "cell_type": "code",
     "checksum": "6d20f168ce349e1dddb6b19c37140790",
     "grade": true,
     "grade_id": "cell-0e2bt6cefe06bdc60",
     "locked": true,
     "points": 1,
     "schema_version": 3,
     "solution": false,
     "task": false
    }
   },
   "outputs": [],
   "source": [
    "# Validação para nota\n",
    "path_titanic = '../../curso_ciencia_dados2020/data/originais/titanic/titanic.xls'\n",
    "test_data = {'Total': {'body': 1188,  'cabin': 1014,  'boat': 823,  'home.dest': 564,\n",
    "                       'age': 263,  'embarked': 2,  'fare': 1,  'ticket': 0,  'parch': 0,  \n",
    "                       'sibsp': 0,  'sex': 0,  'name': 0,  'survived': 0,  'pclass': 0},\n",
    "             'Porcentage': {'body': 90.76,  'cabin': 77.46,  'boat': 62.87,\n",
    "                            'home.dest': 43.09,  'age': 20.09,  'embarked': 0.15, \n",
    "                            'fare': 0.08,  'ticket': 0.0,  'parch': 0.0,  'sibsp': 0.0,\n",
    "                            'sex': 0.0,  'name': 0.0,  'survived': 0.0,  'pclass': 0.0}}\n",
    "\n",
    "df_titanic = pd.read_excel(path_titanic)\n",
    "assert missing_percentage(df_titanic).to_dict() == test_data"
   ]
  },
  {
   "cell_type": "markdown",
   "metadata": {},
   "source": [
    "### 4.4 Escreva uma função para agregar o dataset do Titanic por classe (pclass) e sexo (sex) e calcular a soma da coluna survived (sobrevivente) e a média e mediana da coluna fare (preço do ticket).\n"
   ]
  },
  {
   "cell_type": "code",
   "execution_count": null,
   "metadata": {
    "deletable": false,
    "nbgrader": {
     "cell_type": "code",
     "checksum": "b1903157006030558df809e9eb713a7a",
     "grade": false,
     "grade_id": "cell-553em5248eb14bc30",
     "locked": false,
     "schema_version": 3,
     "solution": true,
     "task": false
    }
   },
   "outputs": [],
   "source": [
    "def agg_titanic(df_titanic):\n",
    "    \"\"\"retorne aagregação do dataframe df_titanic por pclass e sex e calcular a soma \n",
    "       da coluna survived e a média e mediana da coluna fare.\n",
    "    \"\"\"\n",
    "    # YOUR CODE HERE\n",
    "    raise NotImplementedError()\n"
   ]
  },
  {
   "cell_type": "code",
   "execution_count": null,
   "metadata": {},
   "outputs": [],
   "source": [
    "## Faça seus testes aqui\n",
    "path_titanic = '../../curso_ciencia_dados2020/data/originais/titanic/titanic.xls'\n",
    "\n"
   ]
  },
  {
   "cell_type": "code",
   "execution_count": null,
   "metadata": {
    "deletable": false,
    "editable": false,
    "nbgrader": {
     "cell_type": "code",
     "checksum": "d034379e3d6cb08556a522e0cb92de03",
     "grade": true,
     "grade_id": "cell-0se2b6cefe06bdc60",
     "locked": true,
     "points": 1,
     "schema_version": 3,
     "solution": false,
     "task": false
    }
   },
   "outputs": [],
   "source": [
    "# Validação para nota\n",
    "path_titanic = '../../curso_ciencia_dados2020/data/originais/titanic/titanic.xls'\n",
    "test_data = {('survived', 'sum'): {(1, 'female'): 139,  (1, 'male'): 61,  (2, 'female'): 94,\n",
    "  (2, 'male'): 25,  (3, 'female'): 106,  (3, 'male'): 75}, ('fare', 'mean'): {(1, 'female'): 109.41238472222216,\n",
    "  (1, 'male'): 69.88838491620106,  (2, 'female'): 23.234827358490563,  (2, 'male'): 19.90494561403509,\n",
    "  (3, 'female'): 15.32424953703705,  (3, 'male'): 12.415461991869948}, ('fare', 'median'): {(1, 'female'): 80.92914999999999,\n",
    "  (1, 'male'): 49.5042,  (2, 'female'): 23.0,  (2, 'male'): 13.0,  (3, 'female'): 10.4896,\n",
    "  (3, 'male'): 7.8958}}\n",
    "\n",
    "df_titanic = pd.read_excel(path_titanic)\n",
    "assert agg_titanic(df_titanic).to_dict() == test_data"
   ]
  },
  {
   "cell_type": "markdown",
   "metadata": {},
   "source": [
    "### 4.5 Escreva uma função para fazer o merge do dataset de morbidade consolidado com o dataset de população\n",
    "#### O dataset da população deve ficar a esquerda e o dataset da morbidade a direita no resultado."
   ]
  },
  {
   "cell_type": "code",
   "execution_count": null,
   "metadata": {
    "deletable": false,
    "nbgrader": {
     "cell_type": "code",
     "checksum": "14aa1aecd2691c4e2729adabd474311b",
     "grade": false,
     "grade_id": "cell-553a5248eb14bc30",
     "locked": false,
     "schema_version": 3,
     "solution": true,
     "task": false
    }
   },
   "outputs": [],
   "source": [
    "def merge_morbidade_pop(path_pop, path_morbidade):\n",
    "    \"\"\"retorne o merge dos datasets de população e morbidade.\n",
    "    \"\"\"\n",
    "    # YOUR CODE HERE\n",
    "    raise NotImplementedError()\n"
   ]
  },
  {
   "cell_type": "code",
   "execution_count": null,
   "metadata": {},
   "outputs": [],
   "source": [
    "## Faça seus testes aqui\n",
    "path_morbidade = '../../curso_ciencia_dados2020/data/originais/morbidade/consolidado/morbidade.csv'\n",
    "path_pop = '../../curso_ciencia_dados2020/data/originais/populacao/estimativa_dou_2017.xlsx'\n",
    "\n",
    "\n"
   ]
  },
  {
   "cell_type": "code",
   "execution_count": null,
   "metadata": {
    "deletable": false,
    "editable": false,
    "nbgrader": {
     "cell_type": "code",
     "checksum": "50c1da52abb3db11035101a152e3a0bf",
     "grade": true,
     "grade_id": "cell-0sb2b6cefe06bdc60",
     "locked": true,
     "points": 1,
     "schema_version": 3,
     "solution": false,
     "task": false
    }
   },
   "outputs": [],
   "source": [
    "# Validação para nota\n",
    "path_morbidade = '../../curso_ciencia_dados2020/data/originais/morbidade/consolidado/morbidade.csv'\n",
    "path_pop = '../../curso_ciencia_dados2020/data/originais/populacao/estimativa_dou_2017.xlsx'\n",
    "test_data = {'uf': 'RO', 'cod_uf': '11', 'cod_munic': '00015', 'municipio': \"Alta Floresta D'Oeste\",\n",
    "             'pop2017': 25437, 'cod_ibge6': '110001', 'Município': \"Alta Floresta D'Oeste\",\n",
    "             'Internações': 149.0, 'AIH_aprovadas': 149, 'Valor_total': 101282.26,\n",
    "             'Valor_serviços_hospitalares': 77693.11}\n",
    "df_morbidade_pop = merge_morbidade_pop(path_pop, path_morbidade)\n",
    "assert df_morbidade_pop.iloc[0, 0:11].to_dict() == test_data\n"
   ]
  },
  {
   "cell_type": "markdown",
   "metadata": {},
   "source": [
    "### 4.6 Escreva uma função para realizar o agrupamento do dataset de morbidade por UF e por município aplicando a soma sobre as colunas Valor_total, Internações e Dias_permanência. Em seguida calcule, para todos os municípios nesta agregação, o custo médio diário das internações com a seguite fórmula: \n",
    "#### custo_medio_diario_intern = Valor_total/Dias_permanência"
   ]
  },
  {
   "cell_type": "code",
   "execution_count": null,
   "metadata": {
    "deletable": false,
    "nbgrader": {
     "cell_type": "code",
     "checksum": "c3ae0d0f11aff7cd05c4bbb6fc1cf032",
     "grade": false,
     "grade_id": "cell-5b4dc5640fc839be",
     "locked": false,
     "schema_version": 3,
     "solution": true,
     "task": false
    }
   },
   "outputs": [],
   "source": [
    "def custo_medio_internacao_agregado(df_morbidade_pop):\n",
    "    \"\"\"retorne o merge dos datasets de população e morbidade.\n",
    "    \"\"\"\n",
    "    # YOUR CODE HERE\n",
    "    raise NotImplementedError()"
   ]
  },
  {
   "cell_type": "code",
   "execution_count": null,
   "metadata": {},
   "outputs": [],
   "source": [
    "# Faça seus testes aqui\n"
   ]
  },
  {
   "cell_type": "code",
   "execution_count": null,
   "metadata": {
    "deletable": false,
    "editable": false,
    "nbgrader": {
     "cell_type": "code",
     "checksum": "d45d871b3d20bc6b336feaf59504413d",
     "grade": true,
     "grade_id": "cell-eee2219340bc517c",
     "locked": true,
     "points": 1,
     "schema_version": 3,
     "solution": false,
     "task": false
    }
   },
   "outputs": [],
   "source": [
    "# Validação para nota\n",
    "test_data = {'Valor_total': 200333.41999999998, 'Internações': 233.0, 'Dias_permanência': 989.0,\n",
    "             'custo_medio_diario_intern': 202.56159757330636}\n",
    "assert custo_medio_internacao_agregado(df_morbidade_pop).iloc[0].to_dict() == test_data"
   ]
  },
  {
   "cell_type": "markdown",
   "metadata": {},
   "source": [
    "### 4.7 Escreva uma função para retornar um dataframe cujos valores de uma dada coluna sejam maiores do que um valor passado como argumento (threshold).\n",
    "#### Para a validação, utilize o threshold=800. Por curiosidade, plote um boxplot dos dados de custo médio de internação agregados."
   ]
  },
  {
   "cell_type": "code",
   "execution_count": null,
   "metadata": {
    "deletable": false,
    "nbgrader": {
     "cell_type": "code",
     "checksum": "68ba21234b6ea4779e9b643d5fd0796e",
     "grade": false,
     "grade_id": "cell-919c16309d90227d",
     "locked": false,
     "schema_version": 3,
     "solution": true,
     "task": false
    }
   },
   "outputs": [],
   "source": [
    "def get_outliers_morbidade(df_internacoes, col, threshold):\n",
    "    \"\"\"retorne um dataframe cujos valores da coluna col sejam maiores que threshold.\n",
    "    \"\"\"\n",
    "    # YOUR CODE HERE\n",
    "    raise NotImplementedError()"
   ]
  },
  {
   "cell_type": "code",
   "execution_count": null,
   "metadata": {},
   "outputs": [],
   "source": [
    "# Faça seus testes aqui\n",
    "\n"
   ]
  },
  {
   "cell_type": "code",
   "execution_count": null,
   "metadata": {
    "deletable": false,
    "editable": false,
    "nbgrader": {
     "cell_type": "code",
     "checksum": "dfc0bcdf34091161f82c7f0c37fc209c",
     "grade": true,
     "grade_id": "cell-b656ffe7cf513a14",
     "locked": true,
     "points": 1,
     "schema_version": 3,
     "solution": false,
     "task": false
    }
   },
   "outputs": [],
   "source": [
    "# Validação para nota\n",
    "path_morbidade = '../../curso_ciencia_dados2020/data/originais/morbidade/consolidado/morbidade.csv'\n",
    "path_pop = '../../curso_ciencia_dados2020/data/originais/populacao/estimativa_dou_2017.xlsx'\n",
    "col='custo_medio_diario_intern'\n",
    "threshold=800\n",
    "test_data = {'Valor_total': 125334.12, 'Internações': 41.0, 'Dias_permanência': 113.0,\n",
    "             'custo_medio_diario_intern': 1109.1515044247788}\n",
    "\n",
    "df_morbidade_pop = merge_morbidade_pop(path_pop, path_morbidade)\n",
    "df_internacoes = custo_medio_internacao_agregado(df_morbidade_pop)\n",
    "\n",
    "assert get_outliers_morbidade(df_internacoes, col, threshold).iloc[0].to_dict() == test_data"
   ]
  }
 ],
 "metadata": {
  "kernelspec": {
   "display_name": "Python 3",
   "language": "python",
   "name": "python3"
  },
  "language_info": {
   "codemirror_mode": {
    "name": "ipython",
    "version": 3
   },
   "file_extension": ".py",
   "mimetype": "text/x-python",
   "name": "python",
   "nbconvert_exporter": "python",
   "pygments_lexer": "ipython3",
   "version": "3.8.4"
  }
 },
 "nbformat": 4,
 "nbformat_minor": 4
}
