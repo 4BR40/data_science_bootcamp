{
 "cells": [
  {
   "cell_type": "markdown",
   "metadata": {},
   "source": [
    "# Aula 3 - Exercícios - Pandas, Fontes de dados e Agregação\n",
    "### Consulta a internet (Google, Stackoverflow e etc) liberada!!"
   ]
  },
  {
   "cell_type": "code",
   "execution_count": null,
   "metadata": {},
   "outputs": [],
   "source": [
    "#Fazer o download dos datasets\n",
    "# Se já tiver feito o download, não precisa fazer novamente.\n",
    "# Se aparecer um erro dizendo que a pasta não está vazia é porque o download já foi feito\n",
    "!git clone https://github.com/alexlopespereira/curso_ciencia_dados2020.git ~/work/curso_ciencia_dados2020"
   ]
  },
  {
   "cell_type": "code",
   "execution_count": null,
   "metadata": {},
   "outputs": [],
   "source": [
    "# Importe as bibliotecas pandas, numpy, glob e sqlalchemy\n",
    "import pandas as pd\n",
    "import numpy as np\n",
    "import sqlalchemy as sqla\n"
   ]
  },
  {
   "cell_type": "markdown",
   "metadata": {},
   "source": [
    "### 3.1 Carregue o arquivo do IDEB 2017 no formato de um DataFrame.  Crie uma função para calcular a média do IDEB de todos os municípios de um determinado Estado. \n",
    "#### Remova os registros cujo valor na coluna REDE sejam Municipal, Estadual ou Federal. Deixe somente os registros cujos valores na coluna REDE sejam Pública.\n"
   ]
  },
  {
   "cell_type": "code",
   "execution_count": null,
   "metadata": {
    "deletable": false,
    "nbgrader": {
     "cell_type": "code",
     "checksum": "e1d661d4b00b8bcf77db5f284124b190",
     "grade": false,
     "grade_id": "cell-c705ab9d11473b9f9",
     "locked": false,
     "schema_version": 3,
     "solution": true,
     "task": false
    }
   },
   "outputs": [],
   "source": [
    "# Dica 1: Antes de calcular, substitua valores '-' por np.nan (NA) com o metodo replace.\n",
    "# Dica 2: Use a função loc para fazer o filtro de registros.\n",
    "# Dica 3: Dentre várias maneiras possíveis, uma maneira bastante concisa é usar o operador & (and) para\n",
    "# congregar dois critérios de filtro (seleção) de registros.\n",
    "def media_ideb(df, sigla_estado):\n",
    "    \"\"\"retorne o valor da media do IDEB contido na coluna col do Estado especificado por sigla_estado.\n",
    "    \"\"\"\n",
    "    # YOUR CODE HERE\n",
    "    raise NotImplementedError()\n"
   ]
  },
  {
   "cell_type": "code",
   "execution_count": null,
   "metadata": {},
   "outputs": [],
   "source": [
    "## Faça seus testes aqui\n",
    "path_ideb='../../curso_ciencia_dados2020/data/originais/ideb/ideb_municipios2017.xlsx'\n",
    "df_ideb = None\n",
    "\n"
   ]
  },
  {
   "cell_type": "code",
   "execution_count": null,
   "metadata": {
    "deletable": false,
    "editable": false,
    "nbgrader": {
     "cell_type": "code",
     "checksum": "f7791596abb9f985499d7b0adc8b80c6",
     "grade": true,
     "grade_id": "cell-9ffdsa88d58e9282a",
     "locked": true,
     "points": 1,
     "schema_version": 3,
     "solution": false,
     "task": false
    }
   },
   "outputs": [],
   "source": [
    "# Validação para nota\n",
    "assert media_ideb(df_ideb, 'DF') == 3.4\n",
    "assert round(media_ideb(df_ideb, 'SP'),2) == 4.04\n",
    "assert round(media_ideb(df_ideb, 'GO'),2) == 4.24"
   ]
  },
  {
   "cell_type": "markdown",
   "metadata": {},
   "source": [
    "### 3.2 Escreva uma função para salvar um DataFrame num banco de dados SQLite  "
   ]
  },
  {
   "cell_type": "code",
   "execution_count": null,
   "metadata": {
    "deletable": false,
    "nbgrader": {
     "cell_type": "code",
     "checksum": "60682ca859af98cb2e20dc1960e3fdfc",
     "grade": false,
     "grade_id": "cell-553qe5248eb14bc30",
     "locked": false,
     "schema_version": 3,
     "solution": true,
     "task": false
    }
   },
   "outputs": [],
   "source": [
    "\n",
    "# Dica: A resolução deste exercício é bem semelhante ao código apresentado na Aula\n",
    "\n",
    "def save_to_sqlite(df, table_name, con_str):\n",
    "    \"\"\"salve o dataframe df num banco de dados sqlite especificado por db_path\n",
    "    \"\"\"\n",
    "    # YOUR CODE HERE\n",
    "    raise NotImplementedError()\n"
   ]
  },
  {
   "cell_type": "code",
   "execution_count": null,
   "metadata": {},
   "outputs": [],
   "source": [
    "## Faça seus testes aqui\n",
    "table_name = None # Escolha o nome da tabela\n",
    "path_idhm='../../curso_ciencia_dados2020/data/originais/idhm/idhm2013.xlsx'\n",
    "con_str='sqlite:////home/jovyan/work/curso_ciencia_dados2020/data/processados/idhm/idhm2013.sqlite'\n",
    "df_idhm = pd.read_excel(path_idhm, sheet_name=\"IDHM\")\n",
    "\n",
    "# Antes de salvar no banco de dados, defina o nome do índice como index. Conforme exemplo abaixo\n",
    "df_idhm.index.names = ['index']\n",
    "\n"
   ]
  },
  {
   "cell_type": "code",
   "execution_count": null,
   "metadata": {
    "deletable": false,
    "editable": false,
    "nbgrader": {
     "cell_type": "code",
     "checksum": "a177b6f1457a7ca14dc3cce85668c9e1",
     "grade": true,
     "grade_id": "cell-0e2bh6cefe06bdc60",
     "locked": true,
     "points": 1,
     "schema_version": 3,
     "solution": false,
     "task": false
    }
   },
   "outputs": [],
   "source": [
    "# Validação para nota\n",
    "def load_table(table, con_str):\n",
    "    con = sqla.create_engine(con_str)\n",
    "    return pd.read_sql_query(\"SELECT * from {0}\".format(table), con, index_col='index')\n",
    "    \n",
    "path_idhm='../../curso_ciencia_dados2020/data/originais/idhm/idhm2013.xlsx'\n",
    "con_str='sqlite:////home/jovyan/work/curso_ciencia_dados2020/data/processados/idhm/idhm2013.sqlite'\n",
    "table_name='IDHM'\n",
    "df_idhm = pd.read_excel(path_idhm, sheet_name=\"IDHM\")\n",
    "\n",
    "df_idhm.index.names = ['index']\n",
    "save_to_sqlite(df_idhm, table_name, con_str) # Função que deve ser implementada pelo aluno\n",
    "idhm_from_db = load_table(table_name, con_str)\n",
    "\n",
    "assert idhm_from_db.equals(df_idhm)"
   ]
  },
  {
   "cell_type": "markdown",
   "metadata": {},
   "source": [
    "### 3.3 Escreva uma função executar uma query SQL de agregação num banco de dados SQLite que retorne a média dos valores de uma coluna VALORES agregados por uma coluna CATEGORIAS.\n",
    "#### Retorne a coluna CATEGORIA na tabela de resultados para identificar os valores. Ordene os resultados pelo valor da média em ordem decrescente.\n",
    "#### Exemplo: Calcule média do IDHM (coluna VALORES) agregado por Ano da pesquisa (CATEGORIAS)."
   ]
  },
  {
   "cell_type": "code",
   "execution_count": null,
   "metadata": {
    "deletable": false,
    "nbgrader": {
     "cell_type": "code",
     "checksum": "91d40e9b68a338554169bfe82aa5da28",
     "grade": false,
     "grade_id": "cell-553e5248ebs14bc30",
     "locked": false,
     "schema_version": 3,
     "solution": true,
     "task": false
    }
   },
   "outputs": [],
   "source": [
    "# Dica: A resposta deste exercício é bem semelhante ao código mostrado na aula\n",
    "def soma_com_agregacao(val, cat, table, con_str):\n",
    "    \"\"\"retorne um dataframe contendo a soma dos valores em val dentro das categorias cat da tabela table\n",
    "    \"\"\"\n",
    "    # YOUR CODE HERE\n",
    "    raise NotImplementedError()\n"
   ]
  },
  {
   "cell_type": "code",
   "execution_count": null,
   "metadata": {},
   "outputs": [],
   "source": [
    "## Faça seus testes aqui\n",
    "\n"
   ]
  },
  {
   "cell_type": "code",
   "execution_count": null,
   "metadata": {
    "deletable": false,
    "editable": false,
    "nbgrader": {
     "cell_type": "code",
     "checksum": "69d00c5e7181891119edf948e8e4f7a2",
     "grade": true,
     "grade_id": "cell-0e2bt6cefe06bdc60",
     "locked": true,
     "points": 1,
     "schema_version": 3,
     "solution": false,
     "task": false
    }
   },
   "outputs": [],
   "source": [
    "# Validação para nota\n",
    "con_str='sqlite:////home/jovyan/work/curso_ciencia_dados2020/data/processados/idhm/idhm2013.sqlite'\n",
    "idhm_anos = pd.DataFrame({'ANO': {0: 2010, 1: 2000, 2: 1991}, 'Media': {0: 0.6591574123989226, 1: 0.5234808625336926, 2: 0.38137232704402557}})\n",
    "assert soma_com_agregacao('IDHM', 'ANO', 'IDHM', con_str).equals(idhm_anos)"
   ]
  },
  {
   "cell_type": "markdown",
   "metadata": {},
   "source": [
    "### 3.4 Escreva uma função para fazer o merge dos dataframes de população e de PIB de 2017. A função deve receber como parâmetro o caminho para cada um dos dataframes."
   ]
  },
  {
   "cell_type": "code",
   "execution_count": null,
   "metadata": {
    "deletable": false,
    "nbgrader": {
     "cell_type": "code",
     "checksum": "3a04c139c119cdec564fbd3e18136e1a",
     "grade": false,
     "grade_id": "cell-553em5248eb14bc30",
     "locked": false,
     "schema_version": 3,
     "solution": true,
     "task": false
    }
   },
   "outputs": [],
   "source": [
    "# Dica 1: A coluna que contem o código IBGE do município deve ter o mesmo formato (string) e a mesma\n",
    "#         quantidade de caracteres nas duas tabelas.\n",
    "# Dica 2: Converta o codigo do município para string ao carregar o dataframe de população utilizando\n",
    "#         o mapeamento de tipos dtype={'cod_munic': str, 'cod_uf': str}. Assim o codigo do municipio não perde\n",
    "#         os zeros a esquerda.\n",
    "# Dica 3: Concatene o codigo da UF com o código do município usando o operador + e salve em outra coluna.\n",
    "# Dica 4: Use o código apresentado na aula para carregar o dataframe do PIB de 2017, especifique o dtype da\n",
    "#         coluna que contém o codigo do municipio.\n",
    "# Dica 5: Renomeie as colunas apropriadamente.\n",
    "# Dica 6: Depois que os dois dataframes tiverem o codigo ibge (com valores equivalentes\n",
    "#         e mesmo tipo de dados) você pode fazer o merge.\n",
    "\n",
    "def merge_pop_pib(path_pop, path_pib):\n",
    "    \"\"\"retorne um dataframe resultante do merge dos dados do pib e da população\n",
    "    \"\"\"\n",
    "    # YOUR CODE HERE\n",
    "    raise NotImplementedError()\n"
   ]
  },
  {
   "cell_type": "code",
   "execution_count": null,
   "metadata": {},
   "outputs": [],
   "source": [
    "## Faça seus testes aqui\n",
    "path_pib = '../../curso_ciencia_dados2020/data/originais/pib/pib_municipios.xlsx'\n",
    "path_pop='../../curso_ciencia_dados2020/data/originais/populacao/estimativa_dou_2017.xlsx'\n",
    "df_pib_pop = merge_pop_pib(path_pop, path_pib)\n",
    "df_pib_pop.head()"
   ]
  },
  {
   "cell_type": "code",
   "execution_count": null,
   "metadata": {
    "deletable": false,
    "editable": false,
    "nbgrader": {
     "cell_type": "code",
     "checksum": "652764c10148f3f252cb0c3ac9497d0b",
     "grade": true,
     "grade_id": "cell-0se2b6cefe06bdc60",
     "locked": true,
     "points": 1,
     "schema_version": 3,
     "solution": false,
     "task": false
    }
   },
   "outputs": [],
   "source": [
    "# Validação para nota\n",
    "test_merge = {'pop2017': 25437, '2017': 498864}\n",
    "df_pib_pop = merge_pop_pib(path_pop, path_pib)\n",
    "assert df_pib_pop.loc[0,['pop2017', '2017']].to_dict() == test_merge "
   ]
  },
  {
   "cell_type": "markdown",
   "metadata": {},
   "source": [
    "### 3.5 Escreva uma função para calcular o PIB percapita de cada município do Brasil, considerando o dataframe do exercício anterior."
   ]
  },
  {
   "cell_type": "code",
   "execution_count": null,
   "metadata": {
    "deletable": false,
    "nbgrader": {
     "cell_type": "code",
     "checksum": "00935e8498a1a0e853dc0df92890e0f9",
     "grade": false,
     "grade_id": "cell-553e524r8eb14bc30",
     "locked": false,
     "schema_version": 3,
     "solution": true,
     "task": false
    }
   },
   "outputs": [],
   "source": [
    "# Dica 1\n",
    "def pib_percapita(pib_pop):\n",
    "    \"\"\"retorne retorne um dataframe contendo o codigo ibge de 7 caracteres,\n",
    "       o nome do municipio e seu PIB percapita.\n",
    "    \"\"\"\n",
    "    # YOUR CODE HERE\n",
    "    raise NotImplementedError()\n"
   ]
  },
  {
   "cell_type": "code",
   "execution_count": null,
   "metadata": {},
   "outputs": [],
   "source": [
    "## Faça seus testes aqui\n",
    "\n"
   ]
  },
  {
   "cell_type": "code",
   "execution_count": null,
   "metadata": {
    "deletable": false,
    "editable": false,
    "nbgrader": {
     "cell_type": "code",
     "checksum": "cfaffe71c5575199d867ad9e120c2da7",
     "grade": true,
     "grade_id": "cell-0e2hb6cefe06bdc60",
     "locked": true,
     "points": 1,
     "schema_version": 3,
     "solution": false,
     "task": false
    }
   },
   "outputs": [],
   "source": [
    "# Validação para nota\n",
    "pib_percapita_2017 = pib_percapita(df_pib_pop)\n",
    "assert round(pib_percapita(df_pib_pop).loc[0,'pib_percapita'],2) == 19.61"
   ]
  },
  {
   "cell_type": "markdown",
   "metadata": {},
   "source": [
    "### 3.6 Escreva uma função para retornar os registros dos 10 maiores PIBs percapita do brasil a partir do dataframe do exercício anterior. \n",
    "#### Escreva uma função genérica que receba como parâmetro um dataframe e o nome da coluna de ordenação\n"
   ]
  },
  {
   "cell_type": "code",
   "execution_count": null,
   "metadata": {
    "deletable": false,
    "nbgrader": {
     "cell_type": "code",
     "checksum": "d87a1732e583e9319f37c3cbc3a4214f",
     "grade": false,
     "grade_id": "cell-553e5s248eb14bc30",
     "locked": false,
     "schema_version": 3,
     "solution": true,
     "task": false
    }
   },
   "outputs": [],
   "source": [
    "# Dica 1: Use o método sort_values para ordenar o dataframe. Para uma ordenação descendente use ascending=False.\n",
    "# Dica 2: Use o atributo iloc para retornar todas as colunas dos 10 primeiros registros.\n",
    "def top10(df, col):\n",
    "    \"\"\"retorne os top 10 registros do dataframe df ordenados por col\n",
    "    \"\"\"\n",
    "    # YOUR CODE HERE\n",
    "    raise NotImplementedError()\n"
   ]
  },
  {
   "cell_type": "code",
   "execution_count": null,
   "metadata": {},
   "outputs": [],
   "source": [
    "## Faça seus testes aqui\n"
   ]
  },
  {
   "cell_type": "code",
   "execution_count": null,
   "metadata": {
    "deletable": false,
    "editable": false,
    "nbgrader": {
     "cell_type": "code",
     "checksum": "100367f9633b7605519cc981307fcda7",
     "grade": true,
     "grade_id": "cell-0e2b6cefe06hbdc60",
     "locked": true,
     "points": 1,
     "schema_version": 3,
     "solution": false,
     "task": false
    }
   },
   "outputs": [],
   "source": [
    "# Validação para nota\n",
    "test_data = {'cod_ibge7': {3677: '3536505', 3547: '3524709'},\n",
    "             'municipio': {3677: 'Paulínia', 3547: 'Jaguariúna'},\n",
    "             'uf': {3677: 'SP', 3547: 'SP'},\n",
    "             'pib_percapita': {3677: 344.8471692406755, 3547: 209.32086192900894}}\n",
    "\n",
    "assert top10(pib_percapita_2017, 'pib_percapita').iloc[[0,9]].to_dict() == test_data "
   ]
  },
  {
   "cell_type": "markdown",
   "metadata": {},
   "source": [
    "### 3.7 Escreva uma função para contar quantos nomes de municípios são diferentes nas bases de dados do PIB e da população"
   ]
  },
  {
   "cell_type": "code",
   "execution_count": null,
   "metadata": {
    "deletable": false,
    "nbgrader": {
     "cell_type": "code",
     "checksum": "aa493e635529cec13dccb7a5a35d84b6",
     "grade": false,
     "grade_id": "cell-553e5248eb1t4bc30",
     "locked": false,
     "schema_version": 3,
     "solution": true,
     "task": false
    }
   },
   "outputs": [],
   "source": [
    "def compare_df_cols(df, col1, col2):\n",
    "    \"\"\"retorne a quantidade de registros em que o valor do registro na coluna col1 difere do valor em col2\n",
    "    \"\"\"\n",
    "    # YOUR CODE HERE\n",
    "    raise NotImplementedError()\n"
   ]
  },
  {
   "cell_type": "code",
   "execution_count": null,
   "metadata": {},
   "outputs": [],
   "source": [
    "## Faça seus testes aqui\n"
   ]
  },
  {
   "cell_type": "code",
   "execution_count": null,
   "metadata": {
    "deletable": false,
    "editable": false,
    "nbgrader": {
     "cell_type": "code",
     "checksum": "dad1d6f4bf00f93faf1154b21ed52d80",
     "grade": true,
     "grade_id": "cell-0e2b6cefet06bdc60",
     "locked": true,
     "points": 1,
     "schema_version": 3,
     "solution": false,
     "task": false
    }
   },
   "outputs": [],
   "source": [
    "# Validação para nota\n",
    "assert compare_df_cols(df_pib_pop, 'municipio', 'municipio_y') == 0"
   ]
  },
  {
   "cell_type": "markdown",
   "metadata": {},
   "source": [
    "### 3.8 Considere algumas linhas de uma base de dados de morbidade apresentadas a seguir. Perceba que há dados de vários meses de 2020 para cada Estado da Federação.\n",
    "#### Escreva uma função para pivotar esta base de dados apresentando os meses do ano nas colunas, os municípios nas linhas e a quantidade de óbitos como valores das células. \n",
    "\n",
    "|       | Município               |   cod_ibge6 | mes   |   ano | mes_ano    | Óbitos   |\n",
    "|------:|:------------------------|------------:|:------|------:|:-----------|:---------|\n",
    "|     0 | Alta Floresta D'Oeste   |      110001 | Abr   |  2020 | 2020-04-01 | 8        |\n",
    "|     1 | Alto Alegre dos Parecis |      110037 | Abr   |  2020 | 2020-04-01 | 1        |\n",
    "|     2 | Alto Paraíso            |      110040 | Abr   |  2020 | 2020-04-01 | 2        |\n",
    "| 33347 | Vila Boa                |      522220 | Jan   |  2020 | 2020-01-01 | -        |\n",
    "| 33348 | Vila Propício           |      522230 | Jan   |  2020 | 2020-01-01 | -        |\n",
    "| 33349 | Brasília                |      530010 | Jan   |  2020 | 2020-01-01 | 578      |"
   ]
  },
  {
   "cell_type": "code",
   "execution_count": null,
   "metadata": {
    "deletable": false,
    "nbgrader": {
     "cell_type": "code",
     "checksum": "e267f3c16039cabac1e9a661f7453cee",
     "grade": false,
     "grade_id": "cell-553e52r48eb14bc30",
     "locked": false,
     "schema_version": 3,
     "solution": true,
     "task": false
    }
   },
   "outputs": [],
   "source": [
    "# Dica 1: Se aparecer um erro (uma exceção) com este texto \"ValueError: Index contains duplicate entries, cannot reshape\"\n",
    "#       é porque o seu índice contém valores duplicados. \n",
    "# Dica 2: Se você usar o atributo 'mes_ano' o pandas já ordena de forma cronológica as colunas.\n",
    "def pivot_morbidade(file_path):\n",
    "    \"\"\"retorne um dataframe pivotado\n",
    "    \"\"\"\n",
    "    # YOUR CODE HERE\n",
    "    raise NotImplementedError()\n"
   ]
  },
  {
   "cell_type": "code",
   "execution_count": null,
   "metadata": {},
   "outputs": [],
   "source": [
    "## Faça seus testes aqui\n",
    "file_path = '../../curso_ciencia_dados2020/data/originais/morbidade/consolidado/morbidade_simplificado.csv'\n"
   ]
  },
  {
   "cell_type": "code",
   "execution_count": null,
   "metadata": {
    "deletable": false,
    "editable": false,
    "nbgrader": {
     "cell_type": "code",
     "checksum": "047d5c23238fcbf6d01f97b442a0f078",
     "grade": true,
     "grade_id": "cell-0e2b6tcefe06bdc60",
     "locked": true,
     "points": 1,
     "schema_version": 3,
     "solution": false,
     "task": false
    }
   },
   "outputs": [],
   "source": [
    "# Validação para nota\n",
    "file_path = '../../curso_ciencia_dados2020/data/originais/morbidade/consolidado/morbidade_simplificado.csv'\n",
    "test_data = {'2020-01-01': '5', '2020-02-01': '2', '2020-03-01': '3', '2020-04-01': '8', '2020-05-01': '2', \n",
    "             '2020-06-01': '2'}\n",
    "assert pivot_morbidade(file_path).iloc[0].to_dict() == test_data\n"
   ]
  }
 ],
 "metadata": {
  "kernelspec": {
   "display_name": "Python 3",
   "language": "python",
   "name": "python3"
  },
  "language_info": {
   "codemirror_mode": {
    "name": "ipython",
    "version": 3
   },
   "file_extension": ".py",
   "mimetype": "text/x-python",
   "name": "python",
   "nbconvert_exporter": "python",
   "pygments_lexer": "ipython3",
   "version": "3.6.10"
  }
 },
 "nbformat": 4,
 "nbformat_minor": 4
}
