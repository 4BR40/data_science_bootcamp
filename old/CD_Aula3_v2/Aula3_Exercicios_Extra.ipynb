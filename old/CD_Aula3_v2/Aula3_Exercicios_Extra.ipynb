{
 "cells": [
  {
   "cell_type": "markdown",
   "metadata": {},
   "source": [
    "# Aula 3 - Exercícios Extra - Pandas, Fontes de dados e Agregação\n",
    "### Consulta a internet (Google, Stackoverflow e etc) liberada!!"
   ]
  },
  {
   "cell_type": "code",
   "execution_count": null,
   "metadata": {},
   "outputs": [],
   "source": [
    "# Importe as bibliotecas pandas, numpy, glob e sqlalchemy\n",
    "import pandas as pd\n",
    "import numpy as np\n"
   ]
  },
  {
   "cell_type": "markdown",
   "metadata": {},
   "source": [
    "### 3.9 Construa uma função para concatenar (verticalmente) o conteúdo de vários arquivos CSV do dataset de morbidade. Esses arquivos contêm dados com colunas compatíveis.\n",
    "#### Extraia a data do cabeçalho do arquivo. Divida a coluna 'Município' em duas outras contendo o código ibge de 6 caracteres e o nome do município.\n",
    "\n"
   ]
  },
  {
   "cell_type": "code",
   "execution_count": null,
   "metadata": {
    "deletable": false,
    "nbgrader": {
     "cell_type": "code",
     "checksum": "ed763f9213fcbbf7d06a5bdbb3ad9487",
     "grade": false,
     "grade_id": "cell-c705ab9d11473b9f9",
     "locked": false,
     "schema_version": 3,
     "solution": true,
     "task": false
    }
   },
   "outputs": [],
   "source": [
    "# Dica 1: Construa uma lista de arquivos presentes num diretório usando a função glob da biblioteca glob\n",
    "# Dica 2: Num loop, leia os arquivo duas vezes. Na primeira vez, pra carregar somente a parte desejada do cabeçalho,\n",
    "#         onde se encontra o mês/ano do respectivo arquivo, utilize o parâmetro nrows. Preste atenção ao separador \n",
    "#         dos arquivos CSV, é um ponto e vírgula.\n",
    "# Dica 3: O método split pode dividir uma string na posição de um caracter especificado.\n",
    "# Dica 4: Se quiser converter o nome do mês para o seu número, você precisa ajustar a configuração de locale\n",
    "#         do python para 'pt_BR'. Use o código a seguir para fazer esta operação.\n",
    "#            import locale\n",
    "#            locale.setlocale(locale.LC_ALL, 'pt_BR')\n",
    "# Dica 5: O código strptime(nome_mes,'%b').tm_mon converte nome do mês no seu respectivo número de 1 a 12\n",
    "# Dica 6: Para criar uma data a partir dos seus atributos use um código semelhante ao exemplo a seguir\n",
    "#            import datetime\n",
    "#            datetime.date(year=2020, month=1, day=1)\n",
    "# Dica 7: Para construir uma nova coluna aplicando uma regra para cada célula use a função apply e construa uma\n",
    "#         função lambda.\n",
    "# Dica 8: O método join de uma string consegue unir, com um caracter separador, o conteúdo de uma lista de \n",
    "#         elementos numa string. Exemplo: ' '.join(lista_exemplo), produz uma string concatenando com um espaçao\n",
    "#         os elementos da lista_exemplo. Pode ser útil para isolar o nome do município.\n",
    "# Dica 9: Adicione todos os dataframes construídos dentro do loop a uma lista e depois use o método concat para \n",
    "#         concatenar os dataframes verticalmente. Use o parâmetro ignore_index=True para ignorar o índice dos \n",
    "#         dataframes.\n",
    "\n",
    "def concat_morbidade(files_path):\n",
    "    \"\"\"Retorne um dataframe com a concatenação vertical dos dados dos arquivos do diretorio dir_path\n",
    "    \"\"\"\n",
    "    # YOUR CODE HERE\n",
    "    raise NotImplementedError()\n"
   ]
  },
  {
   "cell_type": "code",
   "execution_count": null,
   "metadata": {},
   "outputs": [],
   "source": [
    "## Faça seus testes aqui\n",
    "files_path = '../../curso_ciencia_dados2020/data/originais/morbidade/2020/*.csv'\n",
    "\n"
   ]
  },
  {
   "cell_type": "code",
   "execution_count": null,
   "metadata": {
    "deletable": false,
    "editable": false,
    "nbgrader": {
     "cell_type": "code",
     "checksum": "018e6f921b0471d4db5d5f941cf1b3d9",
     "grade": true,
     "grade_id": "cell-9ffdsa88d58e9282a",
     "locked": true,
     "points": 1,
     "schema_version": 3,
     "solution": false,
     "task": false
    }
   },
   "outputs": [],
   "source": [
    "# Validação para nota\n",
    "files_path = '../../curso_ciencia_dados2020/data/originais/morbidade/2020/*.csv'\n",
    "test_data = {5566: '10899,59', 11082: '16793,57', 16644: '6585,96', 22213: '7446,97', 27779: '19054,46', 33348: '11462,34'}\n",
    "morbidade = concat_morbidade(files_path)\n",
    "\n",
    "assert morbidade.loc[morbidade['cod_ibge6']=='522230', 'Valor_total'].to_dict() == test_data"
   ]
  },
  {
   "cell_type": "markdown",
   "metadata": {},
   "source": [
    "### 3.10 Escreva uma função para gerar uma permutação de uma lista e colocar o resultado num dataframe com os elementos da lista agrupados em grupos de tamanho N (Ex.: N=4). \n",
    "#### A coluna de índices deve conter o nome dos grupos. Os nomes dos grupos devem seguir a seguinte regra: Grupo 1, Grupo 2, Grupo 3,..., Grupo K."
   ]
  },
  {
   "cell_type": "code",
   "execution_count": null,
   "metadata": {
    "deletable": false,
    "nbgrader": {
     "cell_type": "code",
     "checksum": "9585b23a4cbaa7e0e49c9b9ee05d8e1e",
     "grade": false,
     "grade_id": "cell-553qe5248eb14bc30",
     "locked": false,
     "schema_version": 3,
     "solution": true,
     "task": false
    }
   },
   "outputs": [],
   "source": [
    "# Dica: A função len calcula o tamanho de uma lista.\n",
    "\n",
    "def create_groups(names_list, n):\n",
    "    \"\"\"Crie um dataframe com os nomes da lista names_list agrupados em grupos de tamanho n.\n",
    "    \"\"\"\n",
    "    # YOUR CODE HERE\n",
    "    raise NotImplementedError()\n"
   ]
  },
  {
   "cell_type": "code",
   "execution_count": null,
   "metadata": {},
   "outputs": [],
   "source": [
    "## Faça seus testes aqui\n",
    "\n"
   ]
  },
  {
   "cell_type": "code",
   "execution_count": null,
   "metadata": {
    "deletable": false,
    "editable": false,
    "nbgrader": {
     "cell_type": "code",
     "checksum": "e25e2d5c34dae55eb28bb9ad6ef3c19d",
     "grade": true,
     "grade_id": "cell-0e2bh6cefe06bdc60",
     "locked": true,
     "points": 1,
     "schema_version": 3,
     "solution": false,
     "task": false
    }
   },
   "outputs": [],
   "source": [
    "# Validação para nota\n",
    "import names\n",
    "N = 9\n",
    "group_length = 4\n",
    "test_data = [names.get_full_name() for n in range(N)]\n",
    "result = ['Grupo 0', 'Grupo 0', 'Grupo 0', 'Grupo 0', 'Grupo 1', 'Grupo 1', 'Grupo 1', 'Grupo 1', 'Grupo 2']\n",
    "df = create_groups(test_data, group_length)\n",
    "\n",
    "assert df.index.to_list() == result"
   ]
  },
  {
   "cell_type": "markdown",
   "metadata": {},
   "source": [
    "### 3.11 Escreva uma função para colocar num mesmo dataframe os dados de PIB percapita e índice de gini dos municípios brasieiros. \n",
    "#### Retorne os registros completos (PIB percaita, gini, UF, cod_ibge, Municipio) dos top 10 registros com maiores PIB percapita.\n",
    "#### Analise a diferença entre os quartis (do PIB percapita e do índice de gini) dos top 10 municípios, em termos de PIB percapita,  e os quartis de todo o brasil para estas mesmas duas variáveis. Responda: um PIB percapita significativamente maior, tem ajudado a melhorar o índice de Gini nesses municípios ? Dica: use o método describe(). \n",
    "#### Esta análise não vale nota. Será avaliada a nota somente da função que retorna os top 10 registros."
   ]
  },
  {
   "cell_type": "code",
   "execution_count": null,
   "metadata": {
    "deletable": false,
    "nbgrader": {
     "cell_type": "code",
     "checksum": "1a3c4c5695153941e1850fa399766685",
     "grade": false,
     "grade_id": "cell-553e5248ebs14bc30",
     "locked": false,
     "schema_version": 3,
     "solution": true,
     "task": false
    }
   },
   "outputs": [],
   "source": [
    "# Dica 1: Use as funções criadas no cader de Exercícios desta aula.\n",
    "# Dica 2: Ao ler o arquivo CSV do índice de gini, se preciso, use encoding='utf8' como parâmetro do método read_csv\n",
    "def merge_pop_pib(path_pop, path_pib):\n",
    "    \"\"\"retorne um dataframe resultante do merge dos dados do pib e da população\n",
    "    \"\"\"\n",
    "    # YOUR CODE HERE\n",
    "    raise NotImplementedError()\n",
    "\n",
    "def pib_percapita(pib_pop):\n",
    "    \"\"\"retorne retorne um dataframe contendo o codigo ibge de 7 caracteres,\n",
    "       o nome do municipio e seu PIB percapita.\n",
    "    \"\"\"\n",
    "    # YOUR CODE HERE\n",
    "    raise NotImplementedError()\n",
    "\n",
    "def top10(df, col):\n",
    "    \"\"\"retorne os top 10 registros do dataframe df ordenados por col\n",
    "    \"\"\"\n",
    "    # YOUR CODE HERE\n",
    "    raise NotImplementedError()\n",
    "\n",
    "def top10_municipios(path_pib, path_gini):\n",
    "    \"\"\"retorne um dataframe contendo os 10 municipios com maiores PIB percapita. O dataframe deve conter também \n",
    "    o valor do índice de gini e nome, UF e código ibge do respectivo município.\n",
    "    \"\"\"\n",
    "    # YOUR CODE HERE\n",
    "    raise NotImplementedError()\n"
   ]
  },
  {
   "cell_type": "code",
   "execution_count": null,
   "metadata": {},
   "outputs": [],
   "source": [
    "## Faça seus testes aqui\n",
    "## Faça seus testes aqui\n",
    "path_pib = '../../curso_ciencia_dados2020/data/originais/pib/pib_municipios.xlsx'\n",
    "path_pop='../../curso_ciencia_dados2020/data/originais/populacao/estimativa_dou_2017.xlsx'\n",
    "path_gini='../../curso_ciencia_dados2020/data/originais/gini/ginibr.csv'\n",
    "\n",
    "\n",
    "# print(df_top10.describe())\n",
    "# print(pib_gini.describe())\n"
   ]
  },
  {
   "cell_type": "code",
   "execution_count": null,
   "metadata": {
    "deletable": false,
    "editable": false,
    "nbgrader": {
     "cell_type": "code",
     "checksum": "a917a3038dfb34272184925ec9c1ce96",
     "grade": true,
     "grade_id": "cell-0e2bt6cefe06bdc60",
     "locked": true,
     "points": 1,
     "schema_version": 3,
     "solution": false,
     "task": false
    }
   },
   "outputs": [],
   "source": [
    "# Validação para nota\n",
    "test_data = {'cod_ibge7': {3677: '3536505', 3547: '3524709'},\n",
    " 'municipio': {3677: 'Paulínia', 3547: 'Jaguariúna'},\n",
    " 'uf': {3677: 'SP', 3547: 'SP'},\n",
    " 'pib_percapita': {3677: 344.8471692406755, 3547: 209.32086192900894},\n",
    " 'cod_ibge6': {3677: '353650', 3547: '352470'},\n",
    " 'Município': {3677: 'Paulínia', 3547: 'Jaguariúna'},\n",
    " '1991': {3677: '0,49', 3547: '0,5785'},\n",
    " '2000': {3677: '0,5734', 3547: '0,5449'},\n",
    " '2010': {3677: 0.488, 3547: 0.502}}\n",
    "assert top10_municipios(path_pib, path_gini).iloc[[0,9]].to_dict() == test_data"
   ]
  }
 ],
 "metadata": {
  "kernelspec": {
   "display_name": "Python 3",
   "language": "python",
   "name": "python3"
  },
  "language_info": {
   "codemirror_mode": {
    "name": "ipython",
    "version": 3
   },
   "file_extension": ".py",
   "mimetype": "text/x-python",
   "name": "python",
   "nbconvert_exporter": "python",
   "pygments_lexer": "ipython3",
   "version": "3.6.10"
  }
 },
 "nbformat": 4,
 "nbformat_minor": 4
}
