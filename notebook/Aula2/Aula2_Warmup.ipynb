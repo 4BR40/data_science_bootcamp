{
  "nbformat": 4,
  "nbformat_minor": 0,
  "metadata": {
    "kernelspec": {
      "display_name": "Python 3",
      "language": "python",
      "name": "python3"
    },
    "language_info": {
      "codemirror_mode": {
        "name": "ipython",
        "version": 3
      },
      "file_extension": ".py",
      "mimetype": "text/x-python",
      "name": "python",
      "nbconvert_exporter": "python",
      "pygments_lexer": "ipython3",
      "version": "3.8.3"
    },
    "colab": {
      "name": "Aula2_Warmup.ipynb",
      "provenance": [],
      "collapsed_sections": [
        "qMUxKka7d-V9",
        "I0j6FNJhd-V_",
        "64RckF4pd-WA",
        "0ZAjw5ITd-WA",
        "MU1QdK5Kd-WB",
        "68Amjab_d-WC",
        "_tGe01p2d-WC",
        "EqFt81g-d-WE",
        "X8USNRvHd-WF",
        "MkBTVl8sd-WH",
        "JBxZIq4Wd-WH",
        "pBgT7OEPd-WI",
        "Ae3TsrpPd-WI",
        "iFKEvGnid-WI",
        "MiQz9Nkld-WJ",
        "TsDAvU9Id-WK",
        "_dkoIKKgd-WK"
      ]
    }
  },
  "cells": [
    {
      "cell_type": "markdown",
      "metadata": {
        "id": "xL-Xvnjjd-Vt"
      },
      "source": [
        "# Aula 2 - Warm-up de Python e Numpy"
      ]
    },
    {
      "cell_type": "markdown",
      "metadata": {
        "id": "9cF68MAGd-V2"
      },
      "source": [
        "### Treinando conceitos de Tupla"
      ]
    },
    {
      "cell_type": "markdown",
      "metadata": {
        "id": "rB-x39WYd-V3"
      },
      "source": [
        "#### W2.4 Crie uma tupla com os números inteiros entre 0 e 10. Crie a tupla manualmente, sem nenhum laço(loop)."
      ]
    },
    {
      "cell_type": "code",
      "metadata": {
        "scrolled": true,
        "id": "HJXHuoWqd-V4"
      },
      "source": [
        "# Faça aqui\n",
        "tp = (0, 1, 2, 3, 4, 5, 6, 7, 8, 9, 10)"
      ],
      "execution_count": 1,
      "outputs": []
    },
    {
      "cell_type": "code",
      "metadata": {
        "id": "J9eIKiPyd-V6",
        "colab": {
          "base_uri": "https://localhost:8080/"
        },
        "outputId": "2b96ea0e-c68a-40b3-b344-c0da40b588ed"
      },
      "source": [
        "# Faça uma iteração sobre a tupla da célula anterior e \n",
        "# imprima o valor de cada elemento elevado ao quadrado.\n",
        "for x in tp: print(x*x)"
      ],
      "execution_count": 2,
      "outputs": [
        {
          "output_type": "stream",
          "text": [
            "0\n",
            "1\n",
            "4\n",
            "9\n",
            "16\n",
            "25\n",
            "36\n",
            "49\n",
            "64\n",
            "81\n",
            "100\n"
          ],
          "name": "stdout"
        }
      ]
    },
    {
      "cell_type": "markdown",
      "metadata": {
        "id": "hjaU99R3d-V7"
      },
      "source": [
        "### Treinando conceitos de Set"
      ]
    },
    {
      "cell_type": "code",
      "metadata": {
        "scrolled": true,
        "id": "Kch-5YyWd-V7"
      },
      "source": [
        "# Considere os seguintes conjuntos\n",
        "c1 = {1, 2, 3, 4, \"a\", \"b\", \"c\"}\n",
        "c2 = {3, 4, 5, 6, \"a\", \"e\"}"
      ],
      "execution_count": null,
      "outputs": []
    },
    {
      "cell_type": "markdown",
      "metadata": {
        "id": "1jEcLlDad-V7"
      },
      "source": [
        "#### W2.5 Escreva um código que cria a união dos conjuntos c1 e c2"
      ]
    },
    {
      "cell_type": "code",
      "metadata": {
        "id": "VEKbeon_d-V8",
        "colab": {
          "base_uri": "https://localhost:8080/"
        },
        "outputId": "b6e483b0-72fa-4338-b6cb-25e3d78b4c5f"
      },
      "source": [
        "# Faça aqui\n",
        "un = c1 | c2\n",
        "print(un)\n"
      ],
      "execution_count": null,
      "outputs": [
        {
          "output_type": "stream",
          "text": [
            "{1, 2, 3, 4, 5, 'a', 6, 'c', 'b', 'e'}\n"
          ],
          "name": "stdout"
        }
      ]
    },
    {
      "cell_type": "markdown",
      "metadata": {
        "id": "_AnjNik5d-V8"
      },
      "source": [
        "#### W2.6 Escreva um código que cria a intersecção dos conjuntos c1 e c2"
      ]
    },
    {
      "cell_type": "code",
      "metadata": {
        "id": "ksgYjAsCd-V8",
        "colab": {
          "base_uri": "https://localhost:8080/"
        },
        "outputId": "12b36437-4c3b-4fa7-88f2-c1e5781b5932"
      },
      "source": [
        "# Faça aqui\n",
        "inter = c1 & c2\n",
        "print(inter)\n"
      ],
      "execution_count": null,
      "outputs": [
        {
          "output_type": "stream",
          "text": [
            "{3, 4, 'a'}\n"
          ],
          "name": "stdout"
        }
      ]
    },
    {
      "cell_type": "markdown",
      "metadata": {
        "id": "RtcfgQTld-V8"
      },
      "source": [
        "### Treinando conceitos de dicionário (dict) em python"
      ]
    },
    {
      "cell_type": "markdown",
      "metadata": {
        "id": "niOWMwktd-V9"
      },
      "source": [
        "#### W2.7 Criar um dicionário que represente o conteúdo da tabela abaixo"
      ]
    },
    {
      "cell_type": "markdown",
      "metadata": {
        "id": "wk0GHaqQd-V9"
      },
      "source": [
        "| Nome       | Endereço     | Telefone     |\n",
        "| :------------- | :----------: | -----------: |\n",
        "|  Jose da Silva | Rua 2, n. 39   | 119865563    |"
      ]
    },
    {
      "cell_type": "code",
      "metadata": {
        "id": "DX2V2F1Kd-V9"
      },
      "source": [
        "# Faça aqui\n",
        "dict1 = {'Nome': 'Jose da Silva', 'Endereço': 'Rua 2, n. 39', 'Telefone': 119865563 }"
      ],
      "execution_count": null,
      "outputs": []
    },
    {
      "cell_type": "markdown",
      "metadata": {
        "id": "qMUxKka7d-V9"
      },
      "source": [
        "#### W2.8 Jose da Silva mudou seu número de telefone para 1187662330. Altere este valor no dicionário que você acabou de criar"
      ]
    },
    {
      "cell_type": "code",
      "metadata": {
        "id": "E77k1W4td-V-",
        "colab": {
          "base_uri": "https://localhost:8080/"
        },
        "outputId": "bc94d56a-cb44-41df-acda-87aed252c5dc"
      },
      "source": [
        "# Faça aqui\n",
        "dict1.update({'Telefone':1187662330 })\n",
        "print( dict1)"
      ],
      "execution_count": null,
      "outputs": [
        {
          "output_type": "stream",
          "text": [
            "{'Nome': 'Jose da Silva', 'Endereço': 'Rua 2, n. 39', 'Telefone': 1187662330}\n"
          ],
          "name": "stdout"
        }
      ]
    },
    {
      "cell_type": "markdown",
      "metadata": {
        "id": "1tcu0PVmd-V-"
      },
      "source": [
        "#### W2.9 Crie um atributo CPF no dicionário da célula acima e adicione o CPF do Jose da Silva: 495.152.344-90"
      ]
    },
    {
      "cell_type": "code",
      "metadata": {
        "id": "DpybxlI8d-V-",
        "colab": {
          "base_uri": "https://localhost:8080/"
        },
        "outputId": "b0010b1e-2f4d-411a-8cb3-cc077884392e"
      },
      "source": [
        "# Faça aqui\n",
        "dict1['CPF'] = '495.152.344-90'\n",
        "print(dict1)"
      ],
      "execution_count": null,
      "outputs": [
        {
          "output_type": "stream",
          "text": [
            "{'Nome': 'Jose da Silva', 'Endereço': 'Rua 2, n. 39', 'Telefone': 1187662330, 'CPF': '495.152.344-90'}\n"
          ],
          "name": "stdout"
        }
      ]
    },
    {
      "cell_type": "markdown",
      "metadata": {
        "id": "9Y0zi9bbd-V-"
      },
      "source": [
        "#### W2.10 Remova o atributo Endereço desse dicionário"
      ]
    },
    {
      "cell_type": "code",
      "metadata": {
        "id": "_Sztz_YFd-V_",
        "colab": {
          "base_uri": "https://localhost:8080/"
        },
        "outputId": "7f804883-0067-4bb1-d76a-90de0b24872c"
      },
      "source": [
        "# Faça aqui\n",
        "del dict1['Endereço']\n",
        "print(dict1)"
      ],
      "execution_count": null,
      "outputs": [
        {
          "output_type": "stream",
          "text": [
            "{'Nome': 'Jose da Silva', 'Telefone': 1187662330, 'CPF': '495.152.344-90'}\n"
          ],
          "name": "stdout"
        }
      ]
    },
    {
      "cell_type": "markdown",
      "metadata": {
        "id": "ekPiyDQWd-V_"
      },
      "source": [
        "#### W2.11 Criar uma lista de dicionários que represente o conteúdo da tabela abaixo"
      ]
    },
    {
      "cell_type": "markdown",
      "metadata": {
        "id": "46ey2B2Zd-V_"
      },
      "source": [
        "| Nome       | Endereço     | Telefone     | CPF |\n",
        "| :------------- | :----------: | -----------: | -----------: |\n",
        "|  Jose da Silva | Rua 2, n. 39   | 119865563    | 495.152.344-90\n",
        "|  Roberto da Araujo | Av 2, n. 2010   | 389912353    | 755.223.432-10\n",
        "|  Maria Almeida | Rua Jau, n. 309   | 139845162    | 131.223.415-12\n",
        "|  Joaquim Pereira | Av Sete de Setembro, n. 5240   | 329912633    | 456.214.616-67"
      ]
    },
    {
      "cell_type": "code",
      "metadata": {
        "id": "bxUxRXXrd-V_"
      },
      "source": [
        "# Faça aqui\n"
      ],
      "execution_count": null,
      "outputs": []
    },
    {
      "cell_type": "markdown",
      "metadata": {
        "id": "I0j6FNJhd-V_"
      },
      "source": [
        "#### W2.12 Considerando a lista de dicionarios do exercicio anterior, remova o dicionário do Jose da Silva desta lista."
      ]
    },
    {
      "cell_type": "code",
      "metadata": {
        "id": "92xRh5N-d-WA"
      },
      "source": [
        "# Faça aqui\n"
      ],
      "execution_count": null,
      "outputs": []
    },
    {
      "cell_type": "markdown",
      "metadata": {
        "id": "64RckF4pd-WA"
      },
      "source": [
        "#### W2.13 Considerando a lista de dicionarios do exercicio anterior, usando um loop, remova todos os telefones desta lista de dicionários\n"
      ]
    },
    {
      "cell_type": "code",
      "metadata": {
        "id": "Ir7PSjFfd-WA"
      },
      "source": [
        "# Faça aqui\n"
      ],
      "execution_count": null,
      "outputs": []
    },
    {
      "cell_type": "markdown",
      "metadata": {
        "id": "G6oNJqKWd-WA"
      },
      "source": [
        "### Treinando a função zip"
      ]
    },
    {
      "cell_type": "markdown",
      "metadata": {
        "id": "0ZAjw5ITd-WA"
      },
      "source": [
        "#### W2.14 Crie um código que execute as instruções solicitadas abaixo"
      ]
    },
    {
      "cell_type": "code",
      "metadata": {
        "id": "flITf4_md-WB"
      },
      "source": [
        "# Considere as seguintes listas\n",
        "letras = [\"Jan\", \"Fev\", \"Mar\"]\n",
        "numeros = [1000, 2000, 3000]\n",
        "\n",
        "# Usando a função zip e um loop do tipo for, crie um dicionário cuja chave sejam \n",
        "# os elementos da lista letras e o valor os elementos da lista numeros\n",
        "# Resultado esperado: {\"Jan\": 1000, \"Fev\": 2000, \"Mar\": 3000}\n"
      ],
      "execution_count": null,
      "outputs": []
    },
    {
      "cell_type": "markdown",
      "metadata": {
        "id": "MlvREFlWd-WB"
      },
      "source": [
        "### Treinando instruções inline e list comprehension"
      ]
    },
    {
      "cell_type": "markdown",
      "metadata": {
        "id": "KQRAoA20d-WB"
      },
      "source": [
        "#### W2.15 Escreva uma instrução if else na forma inline que teste o tamanho de uma string e retorne True caso o seu tamanho seja maior que 5, e Falso caso contrário.\n",
        "#### Dica - Sintaxe: valor_se_verdadeiro if condicao else valor_se_falso"
      ]
    },
    {
      "cell_type": "code",
      "metadata": {
        "id": "uAkkiv8ud-WB"
      },
      "source": [
        "# Faça aqui\n",
        "\n"
      ],
      "execution_count": null,
      "outputs": []
    },
    {
      "cell_type": "markdown",
      "metadata": {
        "id": "MU1QdK5Kd-WB"
      },
      "source": [
        "#### W2.16 Escreva um list comprehension, ou seja, uma instrução de loop (for) na forma inline que gere a lista [1, 4, 9, 16, 25, 36, 49, 64,  81, 100]\n",
        "#### Dica - Sintaxe: [ OPERACAO_COM_X for X in SEQUENCIA ]"
      ]
    },
    {
      "cell_type": "code",
      "metadata": {
        "id": "sPY4uCWcd-WC"
      },
      "source": [
        "# Faça aqui\n"
      ],
      "execution_count": null,
      "outputs": []
    },
    {
      "cell_type": "markdown",
      "metadata": {
        "id": "68Amjab_d-WC"
      },
      "source": [
        "#### W2.17 Escreva um list comprehension, ou seja, uma instrução de loop (for) na forma inline que gere a lista [1, 3, 5, 7, 9, 11, 13, 15, 17, 19]\n",
        "#### Dica - Sintaxe: [ OPERACAO_COM_X for X in SEQUENCIA ]"
      ]
    },
    {
      "cell_type": "code",
      "metadata": {
        "id": "NUQqJrJ3d-WC"
      },
      "source": [
        "# Faça aqui\n"
      ],
      "execution_count": null,
      "outputs": []
    },
    {
      "cell_type": "markdown",
      "metadata": {
        "id": "_tGe01p2d-WC"
      },
      "source": [
        "#### W2.18 Escreva um dict comprehension, ou seja, uma instrução de loop (for) na forma inline que gere um dicionário. O dicionário deve conter palavras nas suas chaves e nos valores, os respectivos tamanhos (quantidade de letras) das suas chaves.\n",
        "#### Exemplo: {\"carro\": 5, \"moto\": 4, \"trem\": 4, \"aviao\": 5, \"bicicleta\": 9} "
      ]
    },
    {
      "cell_type": "code",
      "metadata": {
        "id": "Xh9CKllFd-WD"
      },
      "source": [
        "palavras = [\"carro\", \"moto\", \"trem\", \"aviao\", \"bicicleta\"]\n",
        "# Faça aqui\n"
      ],
      "execution_count": null,
      "outputs": []
    },
    {
      "cell_type": "markdown",
      "metadata": {
        "id": "0eEQ6i28d-WD"
      },
      "source": [
        "## NumPy Arrays\n"
      ]
    },
    {
      "cell_type": "code",
      "metadata": {
        "id": "buHZJ2m9d-WD"
      },
      "source": [
        "# Importe a biblioteca numpy\n",
        "import numpy as np"
      ],
      "execution_count": null,
      "outputs": []
    },
    {
      "cell_type": "markdown",
      "metadata": {
        "id": "uLYHvYMBd-WE"
      },
      "source": [
        "### Treinando a criação de arrays numpy"
      ]
    },
    {
      "cell_type": "markdown",
      "metadata": {
        "id": "EqFt81g-d-WE"
      },
      "source": [
        "#### W2.19 Execute as instruções da célula abaixo"
      ]
    },
    {
      "cell_type": "code",
      "metadata": {
        "id": "W0wwQE-Gd-WE"
      },
      "source": [
        "# 1) Crie um array unidimensional a partir da lista [6, 7.5, 8, 0, 1] e imprima o tipo do dado armazenado nele.\n",
        "\n",
        "# 2) Crie um array bidimensional a partir da lista [[1, 2, 3, 4], [5, 6, 7, 8]] e imprima o shape (forma) dele.\n",
        "\n",
        "# 3) Crie um array unidimensional de zeros com 10 elementos.\n"
      ],
      "execution_count": null,
      "outputs": []
    },
    {
      "cell_type": "markdown",
      "metadata": {
        "id": "saQ6Puwcd-WF"
      },
      "source": [
        "### Treinando conversão de tipos (cast)"
      ]
    },
    {
      "cell_type": "markdown",
      "metadata": {
        "id": "X8USNRvHd-WF"
      },
      "source": [
        "#### W2.20 Realize a conversão de tipos especificada na célula abaixo"
      ]
    },
    {
      "cell_type": "code",
      "metadata": {
        "id": "EuLZ4hKvd-WF"
      },
      "source": [
        "# Considere o seguinte array\n",
        "num_str = np.array(['1.25', '-9.6', '42'], dtype=np.string_)\n",
        "# 1) Converta os dados do array num_str para float\n",
        "\n",
        "# 2) Converta os dados do array num_str para int\n",
        "\n",
        "# 3) Imprima o tipo do dado do array que foi convertido para inteiro \n"
      ],
      "execution_count": null,
      "outputs": []
    },
    {
      "cell_type": "markdown",
      "metadata": {
        "id": "leKZrWg2d-WG"
      },
      "source": [
        "### Treinando operações vetorizadas em ndarrays\n",
        "#### W2.21 Sem utilizar laços (loops), execute as instruções da célula abaixo"
      ]
    },
    {
      "cell_type": "code",
      "metadata": {
        "id": "zdNRzCjBd-WG"
      },
      "source": [
        "# Considere o seguinte array\n",
        "arr1 = np.array([[1, 2, 3, 4], [5, 6, 7, 8]])\n",
        "arr2 = np.array([[9, 12, 13, 14], [15, 16, 17, 18]])\n",
        "\n",
        "# 1) Multiplique todos os elementos do array arr1 por 10\n",
        "\n",
        "# 2) Eleve ao quadrado todos os elementos do arr1\n",
        "\n",
        "# 3) Calcule a hipotenusa de triangulos cujos catetos estão definidos nos arrays arr1 e arr2.\n",
        "#    Ou seja, calcule a raiz quadrada da soma dos quadrados dos elementos de arr1 e arr2.\n",
        "\n"
      ],
      "execution_count": null,
      "outputs": []
    },
    {
      "cell_type": "markdown",
      "metadata": {
        "id": "KF8_kLNwd-WG"
      },
      "source": [
        "### Treinando a seleção de elementos (slicing) em arrays numpy"
      ]
    },
    {
      "cell_type": "markdown",
      "metadata": {
        "id": "MkBTVl8sd-WH"
      },
      "source": [
        "#### W2.22 Sem utilizar laços (loops), execute as instruções da célula abaixo"
      ]
    },
    {
      "cell_type": "code",
      "metadata": {
        "id": "KZ8ncrxSd-WH"
      },
      "source": [
        "# Considere o seguinte array\n",
        "arr3 = np.array([[1, 2, 3, 4, 10, 11, 12, 13], [5, 6, 7, 8, 10, 11, 12, 13],\n",
        "                [1, 2, 3, 4, 10, 11, 12, 13], [5, 6, 7, 8, 10, 11, 12, 13]])\n",
        "\n",
        "# 1) Selecione e imprima os elementos que estão nas colunas de índice 0 e 1 \n",
        "#    de todas as linhas desse array bidimensional\n",
        "\n",
        "# 2) Atribua o valor 1000 a todos os elementos que estão nas colunas de índice 0 e 1 \n",
        "#    de todas as linhas desse array bidimensional\n",
        "\n",
        "\n",
        "# 3) Selecione e imprima sos elementos que estão nas colunas de índice 1 até a penúltima coluna\n",
        "# de todos os elementos desse array bidimensional\n",
        "\n",
        "\n",
        "# 4) Atribua zero para todos os elementos que estão nas linhas ímpares do array arr3\n",
        "\n"
      ],
      "execution_count": null,
      "outputs": []
    },
    {
      "cell_type": "markdown",
      "metadata": {
        "id": "8Sd9FbOId-WH"
      },
      "source": [
        "### Treinando outras funções numpy"
      ]
    },
    {
      "cell_type": "markdown",
      "metadata": {
        "id": "JBxZIq4Wd-WH"
      },
      "source": [
        "#### W2.23 Usando a função np.sum, calcule a soma dos elementos de cada linha do array criado abaixo. "
      ]
    },
    {
      "cell_type": "code",
      "metadata": {
        "id": "08kMiYcVd-WH"
      },
      "source": [
        "arr2d = np.array([[1, 2, 3], [4, 5, 6], [7, 8, 9]])\n",
        "# Faça aqui\n"
      ],
      "execution_count": null,
      "outputs": []
    },
    {
      "cell_type": "markdown",
      "metadata": {
        "id": "pBgT7OEPd-WI"
      },
      "source": [
        "#### W2.24 Usando a função np.mean, calcule a média dos elementos de cada coluna do array criado abaixo. "
      ]
    },
    {
      "cell_type": "code",
      "metadata": {
        "id": "aq2mO0RFd-WI"
      },
      "source": [
        "arr2d = np.array([[1, 2, 3], [4, 5, 6], [7, 8, 9]])\n",
        "# Faça aqui\n"
      ],
      "execution_count": null,
      "outputs": []
    },
    {
      "cell_type": "markdown",
      "metadata": {
        "id": "Ae3TsrpPd-WI"
      },
      "source": [
        "#### W2.25 Usando a função np.any, mostre quais colunas do array criado abaixo possuem pelo menos um valor diferente de zero. "
      ]
    },
    {
      "cell_type": "code",
      "metadata": {
        "id": "q5C3whsLd-WI"
      },
      "source": [
        "np.array([[0, 0, 0], [0, -5, -6], [0, -8, -9]])\n",
        "# Faça aqui\n"
      ],
      "execution_count": null,
      "outputs": []
    },
    {
      "cell_type": "markdown",
      "metadata": {
        "id": "iFKEvGnid-WI"
      },
      "source": [
        "#### W2.26 Usando a função np.argmax, retorne o índice das colunas que contém o valor máximo de cada linha array criado abaixo. "
      ]
    },
    {
      "cell_type": "code",
      "metadata": {
        "id": "6UIZZKyPd-WJ"
      },
      "source": [
        "arr2d = np.array([[10, 2, 3], [4, 5, 6], [7, 8, 9]])\n",
        "# Faça aqui\n"
      ],
      "execution_count": null,
      "outputs": []
    },
    {
      "cell_type": "markdown",
      "metadata": {
        "id": "MiQz9Nkld-WJ"
      },
      "source": [
        "#### W2.27 Crie um array unidimensional de 120 elementos, cujos valores sejam sequenciais iniciando em 20 e terminando em 139.\n",
        "#### Dica: use a função np.arange(). Ela tem a mesma sintaxe (argumentos) da função range do python estudada em aula."
      ]
    },
    {
      "cell_type": "code",
      "metadata": {
        "id": "g7kPiBZqd-WJ"
      },
      "source": [
        "# Faça aqui\n"
      ],
      "execution_count": null,
      "outputs": []
    },
    {
      "cell_type": "markdown",
      "metadata": {
        "id": "TsDAvU9Id-WK"
      },
      "source": [
        "#### W2.28 Faltere a estrutura do array do exercício anterior. Transformando-o num array bidimensional de 12 linhas e 10 colunas.\n",
        "#### Dica: Use o método (função) ndarray.reshape(), passando as dimensões (linhas e colunas) como argumento."
      ]
    },
    {
      "cell_type": "code",
      "metadata": {
        "id": "fXWCG1sVd-WK"
      },
      "source": [
        "# Faça aqui\n"
      ],
      "execution_count": null,
      "outputs": []
    },
    {
      "cell_type": "markdown",
      "metadata": {
        "id": "_dkoIKKgd-WK"
      },
      "source": [
        "#### W2.29 Selecione os numeros pares do array definido abaixo\n",
        "#### Dica: pra testar se um número é par, use a seguinte expressão: n % 2 == 0. Neste caso, se n for par o resultado a expressão é True, pois o operador porcentagem (%) retorna o resto da divisão."
      ]
    },
    {
      "cell_type": "code",
      "metadata": {
        "id": "f0pKE78-d-WL"
      },
      "source": [
        "arr = np.arange(100)\n",
        "# Faça aqui\n"
      ],
      "execution_count": null,
      "outputs": []
    }
  ]
}